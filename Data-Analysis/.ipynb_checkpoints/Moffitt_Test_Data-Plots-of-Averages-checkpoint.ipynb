{
 "cells": [
  {
   "cell_type": "code",
   "execution_count": 1,
   "id": "e2bff1c2-dd08-42f2-9580-6695ffa72bfa",
   "metadata": {},
   "outputs": [
    {
     "name": "stdout",
     "output_type": "stream",
     "text": [
      "Requirement already satisfied: pandasql in c:\\users\\adamr\\anaconda3\\lib\\site-packages (0.7.3)\n",
      "Requirement already satisfied: sqlalchemy in c:\\users\\adamr\\anaconda3\\lib\\site-packages (from pandasql) (1.4.22)\n",
      "Requirement already satisfied: numpy in c:\\users\\adamr\\anaconda3\\lib\\site-packages (from pandasql) (1.20.3)\n",
      "Requirement already satisfied: pandas in c:\\users\\adamr\\anaconda3\\lib\\site-packages (from pandasql) (1.3.4)\n",
      "Requirement already satisfied: python-dateutil>=2.7.3 in c:\\users\\adamr\\anaconda3\\lib\\site-packages (from pandas->pandasql) (2.8.2)\n",
      "Requirement already satisfied: pytz>=2017.3 in c:\\users\\adamr\\anaconda3\\lib\\site-packages (from pandas->pandasql) (2021.3)\n",
      "Requirement already satisfied: six>=1.5 in c:\\users\\adamr\\anaconda3\\lib\\site-packages (from python-dateutil>=2.7.3->pandas->pandasql) (1.16.0)\n",
      "Requirement already satisfied: greenlet!=0.4.17 in c:\\users\\adamr\\anaconda3\\lib\\site-packages (from sqlalchemy->pandasql) (1.1.1)\n"
     ]
    }
   ],
   "source": [
    "!pip install pandasql"
   ]
  },
  {
   "cell_type": "code",
   "execution_count": 1,
   "id": "4784ad5f-6683-4932-8a02-ed0ec69f0084",
   "metadata": {},
   "outputs": [],
   "source": [
    "import numpy as np\n",
    "import matplotlib.pyplot as plt\n",
    "import math\n",
    "import pandas as pd\n",
    "from pandasql import sqldf"
   ]
  },
  {
   "cell_type": "code",
   "execution_count": 11,
   "id": "427338e7-778a-4a0b-b648-b0892c0d21f6",
   "metadata": {},
   "outputs": [],
   "source": [
    "age_os_month_DF = pd.read_csv(\"age-os_months-plot.csv\")"
   ]
  },
  {
   "cell_type": "code",
   "execution_count": 12,
   "id": "6e96af5c-65d4-464b-ac6d-dfce0d04ca66",
   "metadata": {},
   "outputs": [
    {
     "data": {
      "text/html": [
       "<div>\n",
       "<style scoped>\n",
       "    .dataframe tbody tr th:only-of-type {\n",
       "        vertical-align: middle;\n",
       "    }\n",
       "\n",
       "    .dataframe tbody tr th {\n",
       "        vertical-align: top;\n",
       "    }\n",
       "\n",
       "    .dataframe thead th {\n",
       "        text-align: right;\n",
       "    }\n",
       "</style>\n",
       "<table border=\"1\" class=\"dataframe\">\n",
       "  <thead>\n",
       "    <tr style=\"text-align: right;\">\n",
       "      <th></th>\n",
       "      <th>AGE_AT_DIAGNOSIS</th>\n",
       "      <th>AVG_OS_MONTHS</th>\n",
       "    </tr>\n",
       "  </thead>\n",
       "  <tbody>\n",
       "    <tr>\n",
       "      <th>0</th>\n",
       "      <td>13</td>\n",
       "      <td>3.670000</td>\n",
       "    </tr>\n",
       "    <tr>\n",
       "      <th>1</th>\n",
       "      <td>17</td>\n",
       "      <td>13.500000</td>\n",
       "    </tr>\n",
       "    <tr>\n",
       "      <th>2</th>\n",
       "      <td>20</td>\n",
       "      <td>36.965000</td>\n",
       "    </tr>\n",
       "    <tr>\n",
       "      <th>3</th>\n",
       "      <td>22</td>\n",
       "      <td>18.035000</td>\n",
       "    </tr>\n",
       "    <tr>\n",
       "      <th>4</th>\n",
       "      <td>24</td>\n",
       "      <td>46.856667</td>\n",
       "    </tr>\n",
       "    <tr>\n",
       "      <th>...</th>\n",
       "      <td>...</td>\n",
       "      <td>...</td>\n",
       "    </tr>\n",
       "    <tr>\n",
       "      <th>64</th>\n",
       "      <td>84</td>\n",
       "      <td>17.123333</td>\n",
       "    </tr>\n",
       "    <tr>\n",
       "      <th>65</th>\n",
       "      <td>85</td>\n",
       "      <td>NaN</td>\n",
       "    </tr>\n",
       "    <tr>\n",
       "      <th>66</th>\n",
       "      <td>87</td>\n",
       "      <td>33.330000</td>\n",
       "    </tr>\n",
       "    <tr>\n",
       "      <th>67</th>\n",
       "      <td>90</td>\n",
       "      <td>14.500000</td>\n",
       "    </tr>\n",
       "    <tr>\n",
       "      <th>68</th>\n",
       "      <td>93</td>\n",
       "      <td>25.700000</td>\n",
       "    </tr>\n",
       "  </tbody>\n",
       "</table>\n",
       "<p>69 rows × 2 columns</p>\n",
       "</div>"
      ],
      "text/plain": [
       "    AGE_AT_DIAGNOSIS  AVG_OS_MONTHS\n",
       "0                 13       3.670000\n",
       "1                 17      13.500000\n",
       "2                 20      36.965000\n",
       "3                 22      18.035000\n",
       "4                 24      46.856667\n",
       "..               ...            ...\n",
       "64                84      17.123333\n",
       "65                85            NaN\n",
       "66                87      33.330000\n",
       "67                90      14.500000\n",
       "68                93      25.700000\n",
       "\n",
       "[69 rows x 2 columns]"
      ]
     },
     "execution_count": 12,
     "metadata": {},
     "output_type": "execute_result"
    }
   ],
   "source": [
    "age_os_month_DF"
   ]
  },
  {
   "cell_type": "code",
   "execution_count": 14,
   "id": "f0054dee-db83-483e-a1fa-93dff8f12241",
   "metadata": {},
   "outputs": [],
   "source": [
    "from sklearn.linear_model import LinearRegression\n",
    "\n",
    "ageOSModel = LinearRegression(fit_intercept=True)"
   ]
  },
  {
   "cell_type": "code",
   "execution_count": 18,
   "id": "b0d636c2-2f59-4829-a8bc-07e4aff11bdf",
   "metadata": {},
   "outputs": [],
   "source": [
    "Xtrain = np.array(age_os_month_DF['AGE_AT_DIAGNOSIS'])[:, None]\n",
    "y = np.array(age_os_month_DF['AVG_OS_MONTHS'])"
   ]
  },
  {
   "cell_type": "code",
   "execution_count": 39,
   "id": "12e9dae4-790f-452a-a915-623e6981dd76",
   "metadata": {},
   "outputs": [
    {
     "data": {
      "text/plain": [
       "[<matplotlib.lines.Line2D at 0x2073ef84c40>]"
      ]
     },
     "execution_count": 39,
     "metadata": {},
     "output_type": "execute_result"
    },
    {
     "data": {
      "image/png": "[encoded data removed]",
      "text/plain": [
       "<Figure size 432x288 with 1 Axes>"
      ]
     },
     "metadata": {
      "needs_background": "light"
     },
     "output_type": "display_data"
    }
   ],
   "source": [
    "plt.plot(Xtrain, y)"
   ]
  },
  {
   "cell_type": "code",
   "execution_count": 27,
   "id": "773f0faa-1a8c-45ab-80e8-6eaf9544e898",
   "metadata": {},
   "outputs": [
    {
     "data": {
      "text/html": [
       "<div>\n",
       "<style scoped>\n",
       "    .dataframe tbody tr th:only-of-type {\n",
       "        vertical-align: middle;\n",
       "    }\n",
       "\n",
       "    .dataframe tbody tr th {\n",
       "        vertical-align: top;\n",
       "    }\n",
       "\n",
       "    .dataframe thead th {\n",
       "        text-align: right;\n",
       "    }\n",
       "</style>\n",
       "<table border=\"1\" class=\"dataframe\">\n",
       "  <thead>\n",
       "    <tr style=\"text-align: right;\">\n",
       "      <th></th>\n",
       "      <th>AGE_AT_DIAGNOSIS</th>\n",
       "      <th>VITAL_STATUS</th>\n",
       "      <th>AVG_OS_MONTHS</th>\n",
       "    </tr>\n",
       "  </thead>\n",
       "  <tbody>\n",
       "    <tr>\n",
       "      <th>0</th>\n",
       "      <td>13</td>\n",
       "      <td>Living</td>\n",
       "      <td>3.670</td>\n",
       "    </tr>\n",
       "    <tr>\n",
       "      <th>1</th>\n",
       "      <td>17</td>\n",
       "      <td>Deceased</td>\n",
       "      <td>13.500</td>\n",
       "    </tr>\n",
       "    <tr>\n",
       "      <th>2</th>\n",
       "      <td>20</td>\n",
       "      <td>Deceased</td>\n",
       "      <td>8.430</td>\n",
       "    </tr>\n",
       "    <tr>\n",
       "      <th>3</th>\n",
       "      <td>20</td>\n",
       "      <td>Living</td>\n",
       "      <td>65.500</td>\n",
       "    </tr>\n",
       "    <tr>\n",
       "      <th>4</th>\n",
       "      <td>22</td>\n",
       "      <td>Living</td>\n",
       "      <td>18.035</td>\n",
       "    </tr>\n",
       "    <tr>\n",
       "      <th>...</th>\n",
       "      <td>...</td>\n",
       "      <td>...</td>\n",
       "      <td>...</td>\n",
       "    </tr>\n",
       "    <tr>\n",
       "      <th>119</th>\n",
       "      <td>84</td>\n",
       "      <td>Living</td>\n",
       "      <td>21.135</td>\n",
       "    </tr>\n",
       "    <tr>\n",
       "      <th>120</th>\n",
       "      <td>85</td>\n",
       "      <td>Living</td>\n",
       "      <td>NaN</td>\n",
       "    </tr>\n",
       "    <tr>\n",
       "      <th>121</th>\n",
       "      <td>87</td>\n",
       "      <td>Living</td>\n",
       "      <td>33.330</td>\n",
       "    </tr>\n",
       "    <tr>\n",
       "      <th>122</th>\n",
       "      <td>90</td>\n",
       "      <td>Deceased</td>\n",
       "      <td>14.500</td>\n",
       "    </tr>\n",
       "    <tr>\n",
       "      <th>123</th>\n",
       "      <td>93</td>\n",
       "      <td>Deceased</td>\n",
       "      <td>25.700</td>\n",
       "    </tr>\n",
       "  </tbody>\n",
       "</table>\n",
       "<p>124 rows × 3 columns</p>\n",
       "</div>"
      ],
      "text/plain": [
       "     AGE_AT_DIAGNOSIS VITAL_STATUS  AVG_OS_MONTHS\n",
       "0                  13       Living          3.670\n",
       "1                  17     Deceased         13.500\n",
       "2                  20     Deceased          8.430\n",
       "3                  20       Living         65.500\n",
       "4                  22       Living         18.035\n",
       "..                ...          ...            ...\n",
       "119                84       Living         21.135\n",
       "120                85       Living            NaN\n",
       "121                87       Living         33.330\n",
       "122                90     Deceased         14.500\n",
       "123                93     Deceased         25.700\n",
       "\n",
       "[124 rows x 3 columns]"
      ]
     },
     "execution_count": 27,
     "metadata": {},
     "output_type": "execute_result"
    }
   ],
   "source": [
    "age_os_month_with_statusDF = pd.read_csv(\"age-os_months-with-life-status-plot.csv\")\n",
    "age_os_month_with_statusDF"
   ]
  },
  {
   "cell_type": "code",
   "execution_count": 33,
   "id": "2601952d-b00f-4cc0-9e11-1d6003202e2c",
   "metadata": {},
   "outputs": [],
   "source": [
    "age_os_month_with_status_livingDF = age_os_month_with_statusDF[age_os_month_with_statusDF['VITAL_STATUS'] == 'Living']\n",
    "age_os_month_with_status_deceasedDF = age_os_month_with_statusDF[age_os_month_with_statusDF['VITAL_STATUS'] == 'Deceased']"
   ]
  },
  {
   "cell_type": "code",
   "execution_count": null,
   "id": "8a40a442-0123-4076-b292-4d4de5e450ef",
   "metadata": {},
   "outputs": [],
   "source": []
  },
  {
   "cell_type": "code",
   "execution_count": 24,
   "id": "229e29e3-07cd-4a82-b18e-662474ac2822",
   "metadata": {},
   "outputs": [],
   "source": [
    "from sklearn.linear_model import LinearRegression\n",
    "\n",
    "ageOSwithStatusModel = LinearRegression(fit_intercept=True)"
   ]
  },
  {
   "cell_type": "code",
   "execution_count": 35,
   "id": "682c75a7-d71f-40f7-a148-611a51c1e48e",
   "metadata": {},
   "outputs": [],
   "source": [
    "Xtrain1 = np.array(age_os_month_with_status_livingDF['AGE_AT_DIAGNOSIS'])[:, None]\n",
    "y1 = np.array(age_os_month_with_status_livingDF['AVG_OS_MONTHS'])\n",
    "\n",
    "Xtrain2 = np.array(age_os_month_with_status_deceasedDF['AGE_AT_DIAGNOSIS'])[:, None]\n",
    "y2 = np.array(age_os_month_with_status_deceasedDF['AVG_OS_MONTHS'])"
   ]
  },
  {
   "cell_type": "code",
   "execution_count": 36,
   "id": "011a4956-ed74-420a-b6ab-5d7be9ce6804",
   "metadata": {},
   "outputs": [
    {
     "data": {
      "text/plain": [
       "[<matplotlib.lines.Line2D at 0x2073ee50340>]"
      ]
     },
     "execution_count": 36,
     "metadata": {},
     "output_type": "execute_result"
    },
    {
     "data": {
      "image/png": "[encoded data removed]",
      "text/plain": [
       "<Figure size 432x288 with 1 Axes>"
      ]
     },
     "metadata": {
      "needs_background": "light"
     },
     "output_type": "display_data"
    }
   ],
   "source": [
    "plt.plot(Xtrain1, y1, c = 'green', label = 'Living')\n",
    "plt.plot(Xtrain2, y2, c = 'red', label = 'Deceased')"
   ]
  },
  {
   "cell_type": "code",
   "execution_count": 37,
   "id": "0f56cfa8-52d0-481d-8c2d-f95b0930b79a",
   "metadata": {},
   "outputs": [
    {
     "data": {
      "text/plain": [
       "[<matplotlib.lines.Line2D at 0x2073eebe280>]"
      ]
     },
     "execution_count": 37,
     "metadata": {},
     "output_type": "execute_result"
    },
    {
     "data": {
      "image/png": "[encoded data removed]",
      "text/plain": [
       "<Figure size 432x288 with 1 Axes>"
      ]
     },
     "metadata": {
      "needs_background": "light"
     },
     "output_type": "display_data"
    }
   ],
   "source": [
    "plt.plot(Xtrain1, y1, c = 'green', label = 'Living')"
   ]
  },
  {
   "cell_type": "code",
   "execution_count": 38,
   "id": "50607e8c-483f-4365-9a14-3352f2355ea3",
   "metadata": {},
   "outputs": [
    {
     "data": {
      "text/plain": [
       "[<matplotlib.lines.Line2D at 0x2073ef272b0>]"
      ]
     },
     "execution_count": 38,
     "metadata": {},
     "output_type": "execute_result"
    },
    {
     "data": {
      "image/png": "[encoded data removed]",
      "text/plain": [
       "<Figure size 432x288 with 1 Axes>"
      ]
     },
     "metadata": {
      "needs_background": "light"
     },
     "output_type": "display_data"
    }
   ],
   "source": [
    "plt.plot(Xtrain2, y2, c = 'red', label = 'Deceased')"
   ]
  },
  {
   "cell_type": "code",
   "execution_count": 1,
   "id": "4a5ba332-f018-4676-a387-b91e3e647306",
   "metadata": {},
   "outputs": [
    {
     "ename": "NameError",
     "evalue": "name 'resultUnchanged' is not defined",
     "output_type": "error",
     "traceback": [
      "\u001b[1;31m---------------------------------------------------------------------------\u001b[0m",
      "\u001b[1;31mNameError\u001b[0m                                 Traceback (most recent call last)",
      "\u001b[1;32m~\\AppData\\Local\\Temp/ipykernel_36820/416941416.py\u001b[0m in \u001b[0;36m<module>\u001b[1;34m\u001b[0m\n\u001b[0;32m      1\u001b[0m \u001b[0mcurrentValues\u001b[0m \u001b[1;33m=\u001b[0m \u001b[1;33m[\u001b[0m\u001b[1;34m'SEX'\u001b[0m\u001b[1;33m,\u001b[0m \u001b[1;34m\"MSI_STATUS\"\u001b[0m\u001b[1;33m,\u001b[0m \u001b[1;34m'VITAL_STATUS'\u001b[0m\u001b[1;33m]\u001b[0m\u001b[1;33m\u001b[0m\u001b[1;33m\u001b[0m\u001b[0m\n\u001b[1;32m----> 2\u001b[1;33m \u001b[0mgrouped\u001b[0m \u001b[1;33m=\u001b[0m \u001b[0mresultUnchanged\u001b[0m\u001b[1;33m.\u001b[0m\u001b[0mgroupby\u001b[0m\u001b[1;33m(\u001b[0m\u001b[0mcurrentValues\u001b[0m\u001b[1;33m)\u001b[0m\u001b[1;33m\u001b[0m\u001b[1;33m\u001b[0m\u001b[0m\n\u001b[0m\u001b[0;32m      3\u001b[0m \u001b[1;33m\u001b[0m\u001b[0m\n\u001b[0;32m      4\u001b[0m \u001b[0mdata\u001b[0m \u001b[1;33m=\u001b[0m \u001b[1;33m[\u001b[0m\u001b[1;33m]\u001b[0m\u001b[1;33m\u001b[0m\u001b[1;33m\u001b[0m\u001b[0m\n\u001b[0;32m      5\u001b[0m \u001b[0mvalue\u001b[0m \u001b[1;33m=\u001b[0m \u001b[1;36m0\u001b[0m\u001b[1;33m\u001b[0m\u001b[1;33m\u001b[0m\u001b[0m\n",
      "\u001b[1;31mNameError\u001b[0m: name 'resultUnchanged' is not defined"
     ]
    }
   ],
   "source": [
    "currentValues = ['SEX', \"MSI_STATUS\", 'VITAL_STATUS']\n",
    "grouped = resultUnchanged.groupby(currentValues)\n",
    "\n",
    "data = []\n",
    "value = 0\n",
    "\n",
    "arrayForm = resultUnchanged[currentValues]\n",
    "display(arrayForm)\n",
    "\n",
    "allCombos = list(arrayForm.groupby(currentValues).groups)\n",
    "\n",
    "for i in allCombos:\n",
    "    #temporary = np.array_str(i)\n",
    "    #temporary = temporary[2:(len(temporary)-2)]\n",
    "    df = grouped.get_group(i)\n",
    "    #display(df)\n",
    "    value += 1\n",
    "    #df = df[['AGE_AT_DIAGNOSIS', 'OS_MONTHS', 'SEX', \"MSI_STATUS\", 'VITAL_STATUS']]\n",
    "    \n",
    "    fig = px.scatter(df, x=\"AGE_AT_DIAGNOSIS\", y=\"OS_MONTHS\", color=\"SEX\")\n",
    "    fig.write_html('data.html', auto_open=True)"
   ]
  },
  {
   "cell_type": "code",
   "execution_count": 2,
   "id": "4ea0e249-2749-4e6e-a357-d5a8fab85918",
   "metadata": {},
   "outputs": [],
   "source": [
    "import plotly.express as px\n",
    "fig = px.bar(x=[\"a\", \"b\", \"c\"], y=[1, 3, 2])\n",
    "fig.write_html('first_figure.html', auto_open=True)"
   ]
  },
  {
   "cell_type": "code",
   "execution_count": null,
   "id": "9b66b4cf-2dfe-470e-b6f4-c23c0d51a0ef",
   "metadata": {},
   "outputs": [],
   "source": [
    "currentValues = ['SEX', \"MSI_STATUS\", 'VITAL_STATUS']\n",
    "grouped = resultUnchanged.groupby(currentValues)\n",
    "\n",
    "data = []\n",
    "value = 0\n",
    "\n",
    "arrayForm = resultUnchanged[currentValues]\n",
    "display(arrayForm)\n",
    "\n",
    "allCombos = list(arrayForm.groupby(currentValues).groups)\n",
    "\n",
    "for i in allCombos:\n",
    "    #temporary = np.array_str(i)\n",
    "    #temporary = temporary[2:(len(temporary)-2)]\n",
    "    df = grouped.get_group(i)\n",
    "    #display(df)\n",
    "    value += 1\n",
    "    df = df['AGE_AT_DIAGNOSIS', 'OS_MONTHS', 'SEX', \"MSI_STATUS\", 'VITAL_STATUS']\n",
    "    \n",
    "    fig = px.scatter(df, x=\"AGE_AT_DIAGNOSIS\", y=\"OS_MONTHS\", color=\"SEX\")\n",
    "    fig.show()\n",
    "currentValues = ['SEX', \"MSI_STATUS\", 'VITAL_STATUS']"
   ]
  }
 ],
 "metadata": {
  "kernelspec": {
   "display_name": "Python 3 (ipykernel)",
   "language": "python",
   "name": "python3"
  },
  "language_info": {
   "codemirror_mode": {
    "name": "ipython",
    "version": 3
   },
   "file_extension": ".py",
   "mimetype": "text/x-python",
   "name": "python",
   "nbconvert_exporter": "python",
   "pygments_lexer": "ipython3",
   "version": "3.9.7"
  }
 },
 "nbformat": 4,
 "nbformat_minor": 5
}
