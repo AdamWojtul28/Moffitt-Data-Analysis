{
 "cells": [
  {
   "cell_type": "markdown",
   "id": "e2438f79-ff30-4645-a900-e77928648ede",
   "metadata": {
    "tags": []
   },
   "source": [
    "# Installation of Library"
   ]
  },
  {
   "cell_type": "code",
   "execution_count": 1,
   "id": "7319b583-6808-4cfa-b7e8-761d6b9e8bcb",
   "metadata": {},
   "outputs": [],
   "source": [
    "# Only necessary to run once (to install the software on your computer)"
   ]
  },
  {
   "cell_type": "code",
   "execution_count": null,
   "id": "fdb3b255-21ab-4498-96bc-249314005fe5",
   "metadata": {},
   "outputs": [],
   "source": [
    "!pip install --upgrade pip\n",
    "!pip install git+https://github.com/keras-team/keras-tuner.git\n",
    "!pip install autokeras"
   ]
  },
  {
   "cell_type": "markdown",
   "id": "15a8231e-6607-4a79-8b13-5564deb09b8b",
   "metadata": {},
   "source": [
    "# Importing of Relevant Libraries"
   ]
  },
  {
   "cell_type": "code",
   "execution_count": null,
   "id": "9807d60d-2671-4b4a-98ab-57f380536511",
   "metadata": {},
   "outputs": [],
   "source": [
    "# Imports necessary for Utilization of Dataframe/Visualization\n",
    "import numpy as np\n",
    "import seaborn as sns\n",
    "import matplotlib.pyplot as plt\n",
    "import math\n",
    "import pandas as pd\n",
    "from pandasql import sqldf\n",
    "import plotly.express as px\n",
    "\n",
    "# Keras (Neural Network) Necessary Imports\n",
    "from tensorflow.keras.models import Sequential\n",
    "from tensorflow.keras.layers import BatchNormalization\n",
    "from tensorflow.keras.layers import Conv2D\n",
    "from tensorflow.keras.layers import MaxPooling2D\n",
    "from tensorflow.keras.layers import Activation\n",
    "from tensorflow.keras.layers import Dropout\n",
    "from tensorflow.keras.layers import Dense\n",
    "from tensorflow.keras.layers import Flatten\n",
    "from tensorflow.keras.layers import Input\n",
    "from tensorflow.keras.models import Model\n",
    "from tensorflow.keras.optimizers import Adam\n",
    "\n",
    "# Results Necessary Inputs\n",
    "import operator\n",
    "import os\n",
    "\n",
    "# AutoKeras Necessary Inputs\n",
    "import tensorflow as tf\n",
    "import autokeras as ak\n",
    "from tensorflow.keras.models import load_model"
   ]
  },
  {
   "cell_type": "markdown",
   "id": "52a48e95-5d51-4cde-bcec-60fe739d9344",
   "metadata": {},
   "source": [
    "# Helper Function Definitions"
   ]
  },
  {
   "cell_type": "code",
   "execution_count": 2,
   "id": "58eb969b-663b-45d0-a48b-f54fd02047cd",
   "metadata": {},
   "outputs": [],
   "source": [
    "# Helper functions that will help assess effectiveness of the models that I used"
   ]
  },
  {
   "cell_type": "code",
   "execution_count": 290,
   "id": "0b7b5ffa-3d33-4908-824a-b3ccf981c11f",
   "metadata": {},
   "outputs": [],
   "source": [
    "def calculatePercentAccuracyModelNew(predictionArray, y_test):\n",
    "    totalComparisons = 0\n",
    "    correctComparisons = 0\n",
    "    \n",
    "    for i in range(len(predictionArray)):\n",
    "        totalComparisons += 1\n",
    "        if predictionArray[i] == y_test[i]:\n",
    "            correctComparisons += 1\n",
    "    \n",
    "    percentageCorrect = correctComparisons/totalComparisons\n",
    "    return percentageCorrect"
   ]
  },
  {
   "cell_type": "code",
   "execution_count": 111,
   "id": "784b362e-2614-4a95-bb08-194a3e62525b",
   "metadata": {},
   "outputs": [],
   "source": [
    "# Turns an array that has decimal values between 0 and 1\n",
    "# into either 0 or 1 and returns the rounded array\n",
    "def roundArrayNew(rawPredictionArray):\n",
    "    predictionsRounded = []\n",
    "    for i in rawPredictionArray:\n",
    "        currentValue = i[0]\n",
    "        if currentValue < 0.5:\n",
    "            predictionsRounded.append(math.floor(currentValue))\n",
    "        else:\n",
    "            predictionsRounded.append(math.ceil(currentValue))\n",
    "    return predictionsRounded"
   ]
  },
  {
   "cell_type": "markdown",
   "id": "db9e6ebd-d02b-44ba-b61a-659633705f4d",
   "metadata": {},
   "source": [
    "# Data Preparation"
   ]
  },
  {
   "cell_type": "code",
   "execution_count": null,
   "id": "a1cd96b8-aa8d-4800-9ac0-ff299c5af5b1",
   "metadata": {},
   "outputs": [],
   "source": [
    "# Note, this data currently will not work, but will work after an XValues and YValues dataframe is initialized\n",
    "X_train, X_test, y_train, y_test = train_test_split(XValues, YValues, test_size=0.2)"
   ]
  },
  {
   "cell_type": "markdown",
   "id": "002a3ae4-940c-4efb-9f19-13419b4b3472",
   "metadata": {},
   "source": [
    "# AutoKeras Code"
   ]
  },
  {
   "cell_type": "markdown",
   "id": "3b63a333-14de-4fc5-9ac6-4f47dfdeef9d",
   "metadata": {},
   "source": [
    "## Create and Export the Model"
   ]
  },
  {
   "cell_type": "code",
   "execution_count": null,
   "id": "26838bfd-b6df-447e-b630-e34571ab4064",
   "metadata": {},
   "outputs": [],
   "source": [
    "# Initialize the structured data classifier.\n",
    "classifierModel = ak.StructuredDataClassifier(\n",
    "    overwrite=True, max_trials=15\n",
    ")  # It tries 15 different models.\n",
    "# Feed the structured data classifier with training data.\n",
    "classifierModel.fit(X_train, y_train, epochs=10)\n",
    "\n",
    "# Predict with the best model.\n",
    "predictedYValues = classifierModel.predict(X_test)\n",
    "# Evaluate the best model with testing data.\n",
    "print(classifierModel.evaluate(X_test, y_test))"
   ]
  },
  {
   "cell_type": "code",
   "execution_count": null,
   "id": "b16db350-cbff-4f4a-b574-43e8201390e7",
   "metadata": {},
   "outputs": [],
   "source": [
    "model = classifierModel.export_model()\n",
    "model.summary()"
   ]
  },
  {
   "cell_type": "code",
   "execution_count": null,
   "id": "584fbe44-988e-4301-83c2-34f2661a1de4",
   "metadata": {},
   "outputs": [],
   "source": [
    "predictedValues = model.predict(X_test.astype(str))\n",
    "# Note: Tensorflow only allows the use of 1 datatype for input, either numerical (ideally float32) or categorical (str) "
   ]
  },
  {
   "cell_type": "code",
   "execution_count": null,
   "id": "d41972bc-e211-42c5-8839-9fb279ebba90",
   "metadata": {},
   "outputs": [],
   "source": [
    "print(calculatePercentAccuracyModelNew(roundArrayNew(predictedValues), np.array(y_test)))\n",
    "# determines actual effectiveness of the model as related to the dataset"
   ]
  },
  {
   "cell_type": "code",
   "execution_count": 413,
   "id": "e48bef38-8c0e-4582-8828-fbeb235a01c2",
   "metadata": {},
   "outputs": [],
   "source": [
    "# To study why the model reacts a certain way to the same input group, one can export the training + testing data to analyze specific\n",
    "# model decisions\n",
    "X_train.to_csv('X_train.csv',index=False)\n",
    "X_test.to_csv('X_test.csv',index=False)\n",
    "y_train.to_csv('y_train.csv',index=False)\n",
    "y_test.to_csv('y_test.csv',index=False)\n",
    "# X_trainR1, X_testR1, y_trainR1, y_testR1"
   ]
  },
  {
   "cell_type": "code",
   "execution_count": null,
   "id": "02b5ce75-48fe-44eb-ac6c-d9a1d47da10e",
   "metadata": {},
   "outputs": [],
   "source": [
    "try:\n",
    "    model.save(\"autokeras_model\", save_format=\"tf\")\n",
    "except Exception:\n",
    "    model.save(\"autokeras_model.h5\")"
   ]
  },
  {
   "cell_type": "markdown",
   "id": "d78f316e-d62c-4c1e-b235-fc5150c42e81",
   "metadata": {},
   "source": [
    "## Import Created Model"
   ]
  },
  {
   "cell_type": "code",
   "execution_count": 417,
   "id": "f39a6e32-9814-4970-a611-e825b2fa351b",
   "metadata": {},
   "outputs": [],
   "source": [
    "X_train = pd.read_csv(\"X_train.csv\", header = 0)\n",
    "X_test = pd.read_csv(\"X_test.csv\", header = 0)\n",
    "y_train = pd.read_csv(\"y_train.csv\", header = 0)\n",
    "y_test = pd.read_csv(\"y_test.csv\", header = 0)"
   ]
  },
  {
   "cell_type": "code",
   "execution_count": 425,
   "id": "27e135c7-ef94-4c26-a1e9-39ec2ccbec8c",
   "metadata": {},
   "outputs": [],
   "source": [
    "loaded_model = load_model(\"autokeras_model\", custom_objects=ak.CUSTOM_OBJECTS)"
   ]
  },
  {
   "cell_type": "code",
   "execution_count": 426,
   "id": "364a5005-8f78-43dd-82f4-1d5bbe93bf78",
   "metadata": {},
   "outputs": [
    {
     "name": "stdout",
     "output_type": "stream",
     "text": [
      "8/8 [==============================] - 0s 2ms/step\n"
     ]
    }
   ],
   "source": [
    "# what must be noted is that tensors can only be of one type; hence string seems like the most natural fit in this case\n",
    "predicted_y = loaded_model.predict(X_test.astype(str))"
   ]
  },
  {
   "cell_type": "code",
   "execution_count": 428,
   "id": "60a3caa1-21a0-452a-b8a5-cadb253f1f85",
   "metadata": {},
   "outputs": [
    {
     "name": "stdout",
     "output_type": "stream",
     "text": [
      "0.6960352422907489\n"
     ]
    }
   ],
   "source": [
    "print(calculatePercentAccuracyModelNew(roundArrayNew(predicted_y), np.array(y_test)))\n",
    "# Based on current dataset, the value is 0.8153846153846154"
   ]
  }
 ],
 "metadata": {
  "kernelspec": {
   "display_name": "Python 3 (ipykernel)",
   "language": "python",
   "name": "python3"
  },
  "language_info": {
   "codemirror_mode": {
    "name": "ipython",
    "version": 3
   },
   "file_extension": ".py",
   "mimetype": "text/x-python",
   "name": "python",
   "nbconvert_exporter": "python",
   "pygments_lexer": "ipython3",
   "version": "3.9.7"
  }
 },
 "nbformat": 4,
 "nbformat_minor": 5
}
