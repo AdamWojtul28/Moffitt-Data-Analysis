{
 "cells": [
  {
   "cell_type": "markdown",
   "id": "a1011258-cb0d-42d3-a871-5602432a8859",
   "metadata": {},
   "source": [
    "# Test Data Trend Analysis"
   ]
  },
  {
   "cell_type": "markdown",
   "id": "481346fd-5b08-4b89-a17c-efa29ec6285e",
   "metadata": {},
   "source": [
    "## Installation of Needed Libraries"
   ]
  },
  {
   "cell_type": "code",
   "execution_count": 1,
   "id": "e2bff1c2-dd08-42f2-9580-6695ffa72bfa",
   "metadata": {},
   "outputs": [
    {
     "name": "stdout",
     "output_type": "stream",
     "text": [
      "Requirement already satisfied: pandasql in c:\\users\\adamr\\anaconda3\\lib\\site-packages (0.7.3)\n",
      "Requirement already satisfied: numpy in c:\\users\\adamr\\anaconda3\\lib\\site-packages (from pandasql) (1.20.3)\n",
      "Requirement already satisfied: sqlalchemy in c:\\users\\adamr\\anaconda3\\lib\\site-packages (from pandasql) (1.4.22)\n",
      "Requirement already satisfied: pandas in c:\\users\\adamr\\anaconda3\\lib\\site-packages (from pandasql) (1.3.4)\n",
      "Requirement already satisfied: pytz>=2017.3 in c:\\users\\adamr\\anaconda3\\lib\\site-packages (from pandas->pandasql) (2021.3)\n",
      "Requirement already satisfied: python-dateutil>=2.7.3 in c:\\users\\adamr\\anaconda3\\lib\\site-packages (from pandas->pandasql) (2.8.2)\n",
      "Requirement already satisfied: six>=1.5 in c:\\users\\adamr\\anaconda3\\lib\\site-packages (from python-dateutil>=2.7.3->pandas->pandasql) (1.16.0)\n",
      "Requirement already satisfied: greenlet!=0.4.17 in c:\\users\\adamr\\anaconda3\\lib\\site-packages (from sqlalchemy->pandasql) (1.1.1)\n",
      "Requirement already satisfied: plotly==5.14.1 in c:\\users\\adamr\\anaconda3\\lib\\site-packages (5.14.1)\n",
      "Requirement already satisfied: tenacity>=6.2.0 in c:\\users\\adamr\\anaconda3\\lib\\site-packages (from plotly==5.14.1) (8.2.2)\n",
      "Requirement already satisfied: packaging in c:\\users\\adamr\\anaconda3\\lib\\site-packages (from plotly==5.14.1) (21.0)\n",
      "Requirement already satisfied: pyparsing>=2.0.2 in c:\\users\\adamr\\anaconda3\\lib\\site-packages (from packaging->plotly==5.14.1) (3.0.4)\n"
     ]
    }
   ],
   "source": [
    "!pip install pandasql\n",
    "!pip install plotly==5.14.1"
   ]
  },
  {
   "cell_type": "code",
   "execution_count": 2,
   "id": "4784ad5f-6683-4932-8a02-ed0ec69f0084",
   "metadata": {},
   "outputs": [],
   "source": [
    "import numpy as np\n",
    "import seaborn as sns\n",
    "import matplotlib.pyplot as plt\n",
    "import math\n",
    "import pandas as pd\n",
    "from pandasql import sqldf\n",
    "import plotly.express as px\n",
    "from sklearn.cluster import KMeans"
   ]
  },
  {
   "cell_type": "code",
   "execution_count": null,
   "id": "7f579651-b4f4-4ead-b8c9-4402d2db5cd2",
   "metadata": {},
   "outputs": [],
   "source": []
  },
  {
   "cell_type": "code",
   "execution_count": null,
   "id": "8dc463ef-d888-4691-8436-2999a925e851",
   "metadata": {},
   "outputs": [],
   "source": []
  },
  {
   "cell_type": "markdown",
   "id": "5a50613c-a92c-44ec-9172-1111e0f65cfa",
   "metadata": {},
   "source": [
    "## Patient Information Dataframes"
   ]
  },
  {
   "cell_type": "markdown",
   "id": "332495d9-18c1-48b9-8bcb-5f43bc6377e2",
   "metadata": {},
   "source": [
    "### Data Processing"
   ]
  },
  {
   "cell_type": "code",
   "execution_count": 3,
   "id": "94a358c1-67a9-40c7-902c-f4dde1c826d6",
   "metadata": {},
   "outputs": [],
   "source": [
    "#Patient Identifier\tAge at Diagnosis\tSex\tPatient's Vital Status\tOverall Survival Status\tOverall Survival (Months)\tOS Months (Additonal Data)\tPatient Tumor Grade\n",
    "#Identifier to uniquely specify a patient.\tAge at Diagnosis\tSex\tThe survival state of the person.\tOverall patient survival status.\tOverall survival in months since initial diagonosis.\tOS Months (Additonal Data)\tPatient Tumor Grade\n",
    "#STRING\tNUMBER\tSTRING\tSTRING\tSTRING\tNUMBER\tNUMBER\tSTRING\n",
    "#1\t1\t1\t1\t9\t1\t1\t1\n",
    "\n",
    "clinicalPatientDF = pd.read_csv(\"../Test-Data/data_clinical_patient.txt\",delimiter=\"\\t\", header = 4)"
   ]
  },
  {
   "cell_type": "code",
   "execution_count": 4,
   "id": "855041b4-dd81-4d9c-a132-915facd03148",
   "metadata": {},
   "outputs": [
    {
     "data": {
      "text/html": [
       "<div>\n",
       "<style scoped>\n",
       "    .dataframe tbody tr th:only-of-type {\n",
       "        vertical-align: middle;\n",
       "    }\n",
       "\n",
       "    .dataframe tbody tr th {\n",
       "        vertical-align: top;\n",
       "    }\n",
       "\n",
       "    .dataframe thead th {\n",
       "        text-align: right;\n",
       "    }\n",
       "</style>\n",
       "<table border=\"1\" class=\"dataframe\">\n",
       "  <thead>\n",
       "    <tr style=\"text-align: right;\">\n",
       "      <th></th>\n",
       "      <th>PATIENT_ID</th>\n",
       "      <th>AGE_AT_DIAGNOSIS</th>\n",
       "      <th>SEX</th>\n",
       "      <th>VITAL_STATUS</th>\n",
       "      <th>OS_STATUS</th>\n",
       "      <th>OS_MONTHS</th>\n",
       "      <th>OS_MONTHS_ADDITIONAL</th>\n",
       "      <th>PATIENT_GRADE</th>\n",
       "    </tr>\n",
       "  </thead>\n",
       "  <tbody>\n",
       "    <tr>\n",
       "      <th>0</th>\n",
       "      <td>P-0000119</td>\n",
       "      <td>67</td>\n",
       "      <td>Female</td>\n",
       "      <td>Deceased</td>\n",
       "      <td>1:DECEASED</td>\n",
       "      <td>27.37</td>\n",
       "      <td>NaN</td>\n",
       "      <td>Mod_Diff</td>\n",
       "    </tr>\n",
       "    <tr>\n",
       "      <th>1</th>\n",
       "      <td>P-0000241</td>\n",
       "      <td>49</td>\n",
       "      <td>Female</td>\n",
       "      <td>Deceased</td>\n",
       "      <td>1:DECEASED</td>\n",
       "      <td>24.00</td>\n",
       "      <td>NaN</td>\n",
       "      <td>Mod-Poorly-Diff</td>\n",
       "    </tr>\n",
       "    <tr>\n",
       "      <th>2</th>\n",
       "      <td>P-0000493</td>\n",
       "      <td>24</td>\n",
       "      <td>Male</td>\n",
       "      <td>Deceased</td>\n",
       "      <td>1:DECEASED</td>\n",
       "      <td>23.87</td>\n",
       "      <td>NaN</td>\n",
       "      <td>NaN</td>\n",
       "    </tr>\n",
       "    <tr>\n",
       "      <th>3</th>\n",
       "      <td>P-0000511</td>\n",
       "      <td>39</td>\n",
       "      <td>Female</td>\n",
       "      <td>Deceased</td>\n",
       "      <td>1:DECEASED</td>\n",
       "      <td>23.27</td>\n",
       "      <td>NaN</td>\n",
       "      <td>Poorly-Diff</td>\n",
       "    </tr>\n",
       "    <tr>\n",
       "      <th>4</th>\n",
       "      <td>P-0000520</td>\n",
       "      <td>64</td>\n",
       "      <td>Male</td>\n",
       "      <td>Living</td>\n",
       "      <td>0:LIVING</td>\n",
       "      <td>41.50</td>\n",
       "      <td>NaN</td>\n",
       "      <td>Mod-Poorly-Diff</td>\n",
       "    </tr>\n",
       "    <tr>\n",
       "      <th>...</th>\n",
       "      <td>...</td>\n",
       "      <td>...</td>\n",
       "      <td>...</td>\n",
       "      <td>...</td>\n",
       "      <td>...</td>\n",
       "      <td>...</td>\n",
       "      <td>...</td>\n",
       "      <td>...</td>\n",
       "    </tr>\n",
       "    <tr>\n",
       "      <th>1094</th>\n",
       "      <td>P-0014252</td>\n",
       "      <td>59</td>\n",
       "      <td>Male</td>\n",
       "      <td>Living</td>\n",
       "      <td>0:LIVING</td>\n",
       "      <td>55.37</td>\n",
       "      <td>NaN</td>\n",
       "      <td>Mod_Diff</td>\n",
       "    </tr>\n",
       "    <tr>\n",
       "      <th>1095</th>\n",
       "      <td>P-0014258</td>\n",
       "      <td>69</td>\n",
       "      <td>Male</td>\n",
       "      <td>Deceased</td>\n",
       "      <td>1:DECEASED</td>\n",
       "      <td>9.97</td>\n",
       "      <td>NaN</td>\n",
       "      <td>Mod-Poorly-Diff</td>\n",
       "    </tr>\n",
       "    <tr>\n",
       "      <th>1096</th>\n",
       "      <td>P-0014296</td>\n",
       "      <td>46</td>\n",
       "      <td>Female</td>\n",
       "      <td>Living</td>\n",
       "      <td>0:LIVING</td>\n",
       "      <td>12.07</td>\n",
       "      <td>NaN</td>\n",
       "      <td>NaN</td>\n",
       "    </tr>\n",
       "    <tr>\n",
       "      <th>1097</th>\n",
       "      <td>P-0014404</td>\n",
       "      <td>62</td>\n",
       "      <td>Female</td>\n",
       "      <td>Living</td>\n",
       "      <td>0:LIVING</td>\n",
       "      <td>NaN</td>\n",
       "      <td>28.23</td>\n",
       "      <td>Poorly-Diff</td>\n",
       "    </tr>\n",
       "    <tr>\n",
       "      <th>1098</th>\n",
       "      <td>P-0014415</td>\n",
       "      <td>49</td>\n",
       "      <td>Male</td>\n",
       "      <td>Living</td>\n",
       "      <td>0:LIVING</td>\n",
       "      <td>24.10</td>\n",
       "      <td>NaN</td>\n",
       "      <td>Mod_Diff</td>\n",
       "    </tr>\n",
       "  </tbody>\n",
       "</table>\n",
       "<p>1099 rows × 8 columns</p>\n",
       "</div>"
      ],
      "text/plain": [
       "     PATIENT_ID  AGE_AT_DIAGNOSIS     SEX VITAL_STATUS   OS_STATUS  OS_MONTHS  \\\n",
       "0     P-0000119                67  Female     Deceased  1:DECEASED      27.37   \n",
       "1     P-0000241                49  Female     Deceased  1:DECEASED      24.00   \n",
       "2     P-0000493                24    Male     Deceased  1:DECEASED      23.87   \n",
       "3     P-0000511                39  Female     Deceased  1:DECEASED      23.27   \n",
       "4     P-0000520                64    Male       Living    0:LIVING      41.50   \n",
       "...         ...               ...     ...          ...         ...        ...   \n",
       "1094  P-0014252                59    Male       Living    0:LIVING      55.37   \n",
       "1095  P-0014258                69    Male     Deceased  1:DECEASED       9.97   \n",
       "1096  P-0014296                46  Female       Living    0:LIVING      12.07   \n",
       "1097  P-0014404                62  Female       Living    0:LIVING        NaN   \n",
       "1098  P-0014415                49    Male       Living    0:LIVING      24.10   \n",
       "\n",
       "      OS_MONTHS_ADDITIONAL    PATIENT_GRADE  \n",
       "0                      NaN         Mod_Diff  \n",
       "1                      NaN  Mod-Poorly-Diff  \n",
       "2                      NaN              NaN  \n",
       "3                      NaN      Poorly-Diff  \n",
       "4                      NaN  Mod-Poorly-Diff  \n",
       "...                    ...              ...  \n",
       "1094                   NaN         Mod_Diff  \n",
       "1095                   NaN  Mod-Poorly-Diff  \n",
       "1096                   NaN              NaN  \n",
       "1097                 28.23      Poorly-Diff  \n",
       "1098                   NaN         Mod_Diff  \n",
       "\n",
       "[1099 rows x 8 columns]"
      ]
     },
     "execution_count": 4,
     "metadata": {},
     "output_type": "execute_result"
    }
   ],
   "source": [
    "clinicalPatientDF"
   ]
  },
  {
   "cell_type": "code",
   "execution_count": null,
   "id": "b93e5964-df1d-42d1-8ea6-d80591315a50",
   "metadata": {},
   "outputs": [],
   "source": []
  },
  {
   "cell_type": "code",
   "execution_count": 5,
   "id": "53c88f2d-5ccf-4b0e-9be1-013d934606bd",
   "metadata": {},
   "outputs": [],
   "source": [
    "#Patient Identifier\tSample Identifier\tChemo Exposure of sequenced specimen\tTumor Sample Histology\tMSI Status\tOncotree Code\tSample Type\tPrimary Tumor Site\tMetastatic Biopsy Site\tPrimary Tumor Location\tGene Panel\tStage At Diagnosis\tMolecular Subtype\tMSI Score\tmCRC Type\tSpecimen Type\tMetastasectomy\tMetastasectomy Site\tTIme to Metastasis Months\tTime from Met Dx to Sequencing\tFirst Site of Metastasis\tMetastases Site First: Liver\tMetastases Site First: Ln\tMetastases Site First: Lung\tMetastases Site First: Pelvis\tMetastases Site First: Brain\tMetastases Site First: Bone\tMetastases Site First: Peritoneum, omentum, abdomen\tMetastases Site First: Gynecological\tOther Metastasis Sites\tCancer Type\tCancer Type Detailed\tSomatic Status\tTMB (nonsynonymous)\n",
    "#Identifier to uniquely specify a patient.\tA unique sample identifier.\tChemo Exposure of sequenced specimen\tTumor Sample Histology\tMSI status.\tOncotree Code\tThe type of sample (i.e., normal, primary, met, recurrence).\tText term to describe the organ sub-division in an individual with cancer.\tMetastatic Biopsy Site\tPrimary Tumor Location\tGene panel.\tStage At Diagnosis\tMolecular subtype.\tMSI Score\tmCRC Type\tThe broad cancer phenotype and site information values for a sample to be processed.\tMetastasectomy\tMetastasectomy Site\tTIme to Metastasis Months\tTime from Met Dx to Sequencing\tFirst Site of Metastasis\tMetastases Site First: Liver\tMetastases Site First: Ln\tMetastases Site First: Lung\tMetastases Site First: Pelvis\tMetastases Site First: Brain\tMetastases Site First: Bone\tMetastases Site First: Peritoneum, omentum, abdomen\tMetastases Site First: Gynecological\tOther Metastasis Sites Description\tCancer Type\tCancer Type Detailed\tSomatic Status\tTMB (nonsynonymous)\n",
    "#STRING\tSTRING\tSTRING\tSTRING\tSTRING\tSTRING\tSTRING\tSTRING\tSTRING\tSTRING\tSTRING\tSTRING\tSTRING\tNUMBER\tSTRING\tSTRING\tSTRING\tSTRING\tNUMBER\tNUMBER\tSTRING\tSTRING\tSTRING\tSTRING\tSTRING\tSTRING\tSTRING\tSTRING\tSTRING\tSTRING\tSTRING\tSTRING\tSTRING\tNUMBER\n",
    "#1\t1\t1\t1\t1\t1\t9\t1\t1\t1\t1\t1\t1\t1\t1\t1\t1\t1\t1\t1\t1\t1\t1\t1\t1\t1\t1\t1\t1\t1\t1\t1\t1\t1\n",
    "\n",
    "clinicalSampleDF = pd.read_csv(\"../Test-Data/data_clinical_sample.txt\",delimiter=\"\\t\", header = 4)"
   ]
  },
  {
   "cell_type": "code",
   "execution_count": 6,
   "id": "67bd284c-cc13-4609-8d86-938b0e905770",
   "metadata": {},
   "outputs": [
    {
     "data": {
      "text/html": [
       "<div>\n",
       "<style scoped>\n",
       "    .dataframe tbody tr th:only-of-type {\n",
       "        vertical-align: middle;\n",
       "    }\n",
       "\n",
       "    .dataframe tbody tr th {\n",
       "        vertical-align: top;\n",
       "    }\n",
       "\n",
       "    .dataframe thead th {\n",
       "        text-align: right;\n",
       "    }\n",
       "</style>\n",
       "<table border=\"1\" class=\"dataframe\">\n",
       "  <thead>\n",
       "    <tr style=\"text-align: right;\">\n",
       "      <th></th>\n",
       "      <th>PATIENT_ID</th>\n",
       "      <th>SAMPLE_ID</th>\n",
       "      <th>CHEMO_EXP_SEQ_SPECIMEN</th>\n",
       "      <th>TUMOR_SAMPLE_HISTOLOGY</th>\n",
       "      <th>MSI_STATUS</th>\n",
       "      <th>ONCOTREE_CODE</th>\n",
       "      <th>SAMPLE_TYPE</th>\n",
       "      <th>PRIMARY_SITE</th>\n",
       "      <th>METASTATIC_BIOPSY_SITE</th>\n",
       "      <th>PRIMARY_TUMOR_LOCATION</th>\n",
       "      <th>...</th>\n",
       "      <th>METASTASES_SITE_FIRST_PELVIS</th>\n",
       "      <th>METASTASES_SITE_FIRST_BRAIN</th>\n",
       "      <th>METASTASES_SITE_FIRST_BONE</th>\n",
       "      <th>METASTASES_SITE_FIRST_PERITONEUM_OMENTUM_ABDOMEN</th>\n",
       "      <th>METASTASES_SITE_FIRST_GYN</th>\n",
       "      <th>OTHER_SITES_OF_METS</th>\n",
       "      <th>CANCER_TYPE</th>\n",
       "      <th>CANCER_TYPE_DETAILED</th>\n",
       "      <th>SOMATIC_STATUS</th>\n",
       "      <th>TMB_NONSYNONYMOUS</th>\n",
       "    </tr>\n",
       "  </thead>\n",
       "  <tbody>\n",
       "    <tr>\n",
       "      <th>0</th>\n",
       "      <td>P-0000119</td>\n",
       "      <td>P-0000119-T01-IM3</td>\n",
       "      <td>Yes</td>\n",
       "      <td>Conventional</td>\n",
       "      <td>NaN</td>\n",
       "      <td>COADREAD</td>\n",
       "      <td>Metastasis</td>\n",
       "      <td>Cecum</td>\n",
       "      <td>Ovary</td>\n",
       "      <td>Right</td>\n",
       "      <td>...</td>\n",
       "      <td>0</td>\n",
       "      <td>0</td>\n",
       "      <td>0</td>\n",
       "      <td>1</td>\n",
       "      <td>0</td>\n",
       "      <td>0</td>\n",
       "      <td>Colorectal Cancer</td>\n",
       "      <td>Colorectal Adenocarcinoma</td>\n",
       "      <td>Matched</td>\n",
       "      <td>9.982398</td>\n",
       "    </tr>\n",
       "    <tr>\n",
       "      <th>1</th>\n",
       "      <td>P-0000241</td>\n",
       "      <td>P-0000241-T01-IM3</td>\n",
       "      <td>Yes</td>\n",
       "      <td>Conventional</td>\n",
       "      <td>MSS</td>\n",
       "      <td>COADREAD</td>\n",
       "      <td>Metastasis</td>\n",
       "      <td>Ascending Colon</td>\n",
       "      <td>Peritoneum</td>\n",
       "      <td>Right</td>\n",
       "      <td>...</td>\n",
       "      <td>0</td>\n",
       "      <td>0</td>\n",
       "      <td>0</td>\n",
       "      <td>0</td>\n",
       "      <td>0</td>\n",
       "      <td>0</td>\n",
       "      <td>Colorectal Cancer</td>\n",
       "      <td>Colorectal Adenocarcinoma</td>\n",
       "      <td>Matched</td>\n",
       "      <td>8.873242</td>\n",
       "    </tr>\n",
       "    <tr>\n",
       "      <th>2</th>\n",
       "      <td>P-0000493</td>\n",
       "      <td>P-0000493-T01-IM3</td>\n",
       "      <td>Yes</td>\n",
       "      <td>NaN</td>\n",
       "      <td>NaN</td>\n",
       "      <td>COADREAD</td>\n",
       "      <td>Metastasis</td>\n",
       "      <td>Sigmoid Colon</td>\n",
       "      <td>Liver</td>\n",
       "      <td>Left</td>\n",
       "      <td>...</td>\n",
       "      <td>0</td>\n",
       "      <td>0</td>\n",
       "      <td>0</td>\n",
       "      <td>0</td>\n",
       "      <td>0</td>\n",
       "      <td>1</td>\n",
       "      <td>Colorectal Cancer</td>\n",
       "      <td>Colorectal Adenocarcinoma</td>\n",
       "      <td>Matched</td>\n",
       "      <td>4.436621</td>\n",
       "    </tr>\n",
       "    <tr>\n",
       "      <th>3</th>\n",
       "      <td>P-0000511</td>\n",
       "      <td>P-0000511-T01-IM3</td>\n",
       "      <td>Yes</td>\n",
       "      <td>PDC</td>\n",
       "      <td>MSS</td>\n",
       "      <td>COADREAD</td>\n",
       "      <td>Metastasis</td>\n",
       "      <td>Sigmoid Colon</td>\n",
       "      <td>Chest Wall</td>\n",
       "      <td>Left</td>\n",
       "      <td>...</td>\n",
       "      <td>0</td>\n",
       "      <td>0</td>\n",
       "      <td>0</td>\n",
       "      <td>1</td>\n",
       "      <td>1</td>\n",
       "      <td>0</td>\n",
       "      <td>Colorectal Cancer</td>\n",
       "      <td>Colorectal Adenocarcinoma</td>\n",
       "      <td>Matched</td>\n",
       "      <td>4.436621</td>\n",
       "    </tr>\n",
       "    <tr>\n",
       "      <th>4</th>\n",
       "      <td>P-0000520</td>\n",
       "      <td>P-0000520-T01-IM3</td>\n",
       "      <td>No</td>\n",
       "      <td>Conventional</td>\n",
       "      <td>MSS</td>\n",
       "      <td>COADREAD</td>\n",
       "      <td>Primary</td>\n",
       "      <td>Cecum</td>\n",
       "      <td>NaN</td>\n",
       "      <td>Right</td>\n",
       "      <td>...</td>\n",
       "      <td>0</td>\n",
       "      <td>0</td>\n",
       "      <td>0</td>\n",
       "      <td>1</td>\n",
       "      <td>0</td>\n",
       "      <td>0</td>\n",
       "      <td>Colorectal Cancer</td>\n",
       "      <td>Colorectal Adenocarcinoma</td>\n",
       "      <td>Matched</td>\n",
       "      <td>5.545777</td>\n",
       "    </tr>\n",
       "    <tr>\n",
       "      <th>...</th>\n",
       "      <td>...</td>\n",
       "      <td>...</td>\n",
       "      <td>...</td>\n",
       "      <td>...</td>\n",
       "      <td>...</td>\n",
       "      <td>...</td>\n",
       "      <td>...</td>\n",
       "      <td>...</td>\n",
       "      <td>...</td>\n",
       "      <td>...</td>\n",
       "      <td>...</td>\n",
       "      <td>...</td>\n",
       "      <td>...</td>\n",
       "      <td>...</td>\n",
       "      <td>...</td>\n",
       "      <td>...</td>\n",
       "      <td>...</td>\n",
       "      <td>...</td>\n",
       "      <td>...</td>\n",
       "      <td>...</td>\n",
       "      <td>...</td>\n",
       "    </tr>\n",
       "    <tr>\n",
       "      <th>1129</th>\n",
       "      <td>P-0014252</td>\n",
       "      <td>P-0014252-T01-IM6</td>\n",
       "      <td>Yes</td>\n",
       "      <td>Conventional</td>\n",
       "      <td>MSS</td>\n",
       "      <td>COADREAD</td>\n",
       "      <td>Metastasis</td>\n",
       "      <td>Cecum</td>\n",
       "      <td>Liver</td>\n",
       "      <td>Right</td>\n",
       "      <td>...</td>\n",
       "      <td>0</td>\n",
       "      <td>0</td>\n",
       "      <td>0</td>\n",
       "      <td>0</td>\n",
       "      <td>0</td>\n",
       "      <td>0</td>\n",
       "      <td>Colorectal Cancer</td>\n",
       "      <td>Colorectal Adenocarcinoma</td>\n",
       "      <td>Matched</td>\n",
       "      <td>3.458792</td>\n",
       "    </tr>\n",
       "    <tr>\n",
       "      <th>1130</th>\n",
       "      <td>P-0014258</td>\n",
       "      <td>P-0014258-T01-IM6</td>\n",
       "      <td>No</td>\n",
       "      <td>Conventional</td>\n",
       "      <td>NaN</td>\n",
       "      <td>COADREAD</td>\n",
       "      <td>Primary</td>\n",
       "      <td>Sigmoid Colon</td>\n",
       "      <td>NaN</td>\n",
       "      <td>Left</td>\n",
       "      <td>...</td>\n",
       "      <td>0</td>\n",
       "      <td>0</td>\n",
       "      <td>0</td>\n",
       "      <td>0</td>\n",
       "      <td>0</td>\n",
       "      <td>0</td>\n",
       "      <td>Colorectal Cancer</td>\n",
       "      <td>Colorectal Adenocarcinoma</td>\n",
       "      <td>Matched</td>\n",
       "      <td>77.822829</td>\n",
       "    </tr>\n",
       "    <tr>\n",
       "      <th>1131</th>\n",
       "      <td>P-0014296</td>\n",
       "      <td>P-0014296-T01-IM6</td>\n",
       "      <td>No</td>\n",
       "      <td>NaN</td>\n",
       "      <td>MSS</td>\n",
       "      <td>COADREAD</td>\n",
       "      <td>Metastasis</td>\n",
       "      <td>Sigmoid Colon</td>\n",
       "      <td>Skull base</td>\n",
       "      <td>Left</td>\n",
       "      <td>...</td>\n",
       "      <td>0</td>\n",
       "      <td>1</td>\n",
       "      <td>0</td>\n",
       "      <td>0</td>\n",
       "      <td>0</td>\n",
       "      <td>0</td>\n",
       "      <td>Colorectal Cancer</td>\n",
       "      <td>Colorectal Adenocarcinoma</td>\n",
       "      <td>Matched</td>\n",
       "      <td>8.646981</td>\n",
       "    </tr>\n",
       "    <tr>\n",
       "      <th>1132</th>\n",
       "      <td>P-0014404</td>\n",
       "      <td>P-0014404-T01-IM6</td>\n",
       "      <td>No</td>\n",
       "      <td>Signet_Ring_Cell</td>\n",
       "      <td>MSI</td>\n",
       "      <td>COADREAD</td>\n",
       "      <td>Primary</td>\n",
       "      <td>Rectosigmoid</td>\n",
       "      <td>NaN</td>\n",
       "      <td>Left</td>\n",
       "      <td>...</td>\n",
       "      <td>0</td>\n",
       "      <td>0</td>\n",
       "      <td>0</td>\n",
       "      <td>0</td>\n",
       "      <td>0</td>\n",
       "      <td>0</td>\n",
       "      <td>Colorectal Cancer</td>\n",
       "      <td>Colorectal Adenocarcinoma</td>\n",
       "      <td>Matched</td>\n",
       "      <td>19.888056</td>\n",
       "    </tr>\n",
       "    <tr>\n",
       "      <th>1133</th>\n",
       "      <td>P-0014415</td>\n",
       "      <td>P-0014415-T01-IM6</td>\n",
       "      <td>Yes</td>\n",
       "      <td>Conventional</td>\n",
       "      <td>MSS</td>\n",
       "      <td>COADREAD</td>\n",
       "      <td>Primary</td>\n",
       "      <td>Rectosigmoid</td>\n",
       "      <td>NaN</td>\n",
       "      <td>Left</td>\n",
       "      <td>...</td>\n",
       "      <td>0</td>\n",
       "      <td>0</td>\n",
       "      <td>0</td>\n",
       "      <td>0</td>\n",
       "      <td>0</td>\n",
       "      <td>0</td>\n",
       "      <td>Colorectal Cancer</td>\n",
       "      <td>Colorectal Adenocarcinoma</td>\n",
       "      <td>Matched</td>\n",
       "      <td>3.458792</td>\n",
       "    </tr>\n",
       "  </tbody>\n",
       "</table>\n",
       "<p>1134 rows × 34 columns</p>\n",
       "</div>"
      ],
      "text/plain": [
       "     PATIENT_ID          SAMPLE_ID CHEMO_EXP_SEQ_SPECIMEN  \\\n",
       "0     P-0000119  P-0000119-T01-IM3                    Yes   \n",
       "1     P-0000241  P-0000241-T01-IM3                    Yes   \n",
       "2     P-0000493  P-0000493-T01-IM3                    Yes   \n",
       "3     P-0000511  P-0000511-T01-IM3                    Yes   \n",
       "4     P-0000520  P-0000520-T01-IM3                     No   \n",
       "...         ...                ...                    ...   \n",
       "1129  P-0014252  P-0014252-T01-IM6                    Yes   \n",
       "1130  P-0014258  P-0014258-T01-IM6                     No   \n",
       "1131  P-0014296  P-0014296-T01-IM6                     No   \n",
       "1132  P-0014404  P-0014404-T01-IM6                     No   \n",
       "1133  P-0014415  P-0014415-T01-IM6                    Yes   \n",
       "\n",
       "     TUMOR_SAMPLE_HISTOLOGY MSI_STATUS ONCOTREE_CODE SAMPLE_TYPE  \\\n",
       "0              Conventional        NaN      COADREAD  Metastasis   \n",
       "1              Conventional        MSS      COADREAD  Metastasis   \n",
       "2                       NaN        NaN      COADREAD  Metastasis   \n",
       "3                       PDC        MSS      COADREAD  Metastasis   \n",
       "4              Conventional        MSS      COADREAD     Primary   \n",
       "...                     ...        ...           ...         ...   \n",
       "1129           Conventional        MSS      COADREAD  Metastasis   \n",
       "1130           Conventional        NaN      COADREAD     Primary   \n",
       "1131                    NaN        MSS      COADREAD  Metastasis   \n",
       "1132       Signet_Ring_Cell        MSI      COADREAD     Primary   \n",
       "1133           Conventional        MSS      COADREAD     Primary   \n",
       "\n",
       "         PRIMARY_SITE METASTATIC_BIOPSY_SITE PRIMARY_TUMOR_LOCATION  ...  \\\n",
       "0               Cecum                  Ovary                  Right  ...   \n",
       "1     Ascending Colon             Peritoneum                  Right  ...   \n",
       "2       Sigmoid Colon                  Liver                   Left  ...   \n",
       "3       Sigmoid Colon             Chest Wall                   Left  ...   \n",
       "4               Cecum                    NaN                  Right  ...   \n",
       "...               ...                    ...                    ...  ...   \n",
       "1129            Cecum                  Liver                  Right  ...   \n",
       "1130    Sigmoid Colon                    NaN                   Left  ...   \n",
       "1131    Sigmoid Colon             Skull base                   Left  ...   \n",
       "1132     Rectosigmoid                    NaN                   Left  ...   \n",
       "1133     Rectosigmoid                    NaN                   Left  ...   \n",
       "\n",
       "     METASTASES_SITE_FIRST_PELVIS METASTASES_SITE_FIRST_BRAIN  \\\n",
       "0                               0                           0   \n",
       "1                               0                           0   \n",
       "2                               0                           0   \n",
       "3                               0                           0   \n",
       "4                               0                           0   \n",
       "...                           ...                         ...   \n",
       "1129                            0                           0   \n",
       "1130                            0                           0   \n",
       "1131                            0                           1   \n",
       "1132                            0                           0   \n",
       "1133                            0                           0   \n",
       "\n",
       "     METASTASES_SITE_FIRST_BONE  \\\n",
       "0                             0   \n",
       "1                             0   \n",
       "2                             0   \n",
       "3                             0   \n",
       "4                             0   \n",
       "...                         ...   \n",
       "1129                          0   \n",
       "1130                          0   \n",
       "1131                          0   \n",
       "1132                          0   \n",
       "1133                          0   \n",
       "\n",
       "      METASTASES_SITE_FIRST_PERITONEUM_OMENTUM_ABDOMEN  \\\n",
       "0                                                    1   \n",
       "1                                                    0   \n",
       "2                                                    0   \n",
       "3                                                    1   \n",
       "4                                                    1   \n",
       "...                                                ...   \n",
       "1129                                                 0   \n",
       "1130                                                 0   \n",
       "1131                                                 0   \n",
       "1132                                                 0   \n",
       "1133                                                 0   \n",
       "\n",
       "     METASTASES_SITE_FIRST_GYN OTHER_SITES_OF_METS        CANCER_TYPE  \\\n",
       "0                            0                   0  Colorectal Cancer   \n",
       "1                            0                   0  Colorectal Cancer   \n",
       "2                            0                   1  Colorectal Cancer   \n",
       "3                            1                   0  Colorectal Cancer   \n",
       "4                            0                   0  Colorectal Cancer   \n",
       "...                        ...                 ...                ...   \n",
       "1129                         0                   0  Colorectal Cancer   \n",
       "1130                         0                   0  Colorectal Cancer   \n",
       "1131                         0                   0  Colorectal Cancer   \n",
       "1132                         0                   0  Colorectal Cancer   \n",
       "1133                         0                   0  Colorectal Cancer   \n",
       "\n",
       "           CANCER_TYPE_DETAILED  SOMATIC_STATUS  TMB_NONSYNONYMOUS  \n",
       "0     Colorectal Adenocarcinoma         Matched           9.982398  \n",
       "1     Colorectal Adenocarcinoma         Matched           8.873242  \n",
       "2     Colorectal Adenocarcinoma         Matched           4.436621  \n",
       "3     Colorectal Adenocarcinoma         Matched           4.436621  \n",
       "4     Colorectal Adenocarcinoma         Matched           5.545777  \n",
       "...                         ...             ...                ...  \n",
       "1129  Colorectal Adenocarcinoma         Matched           3.458792  \n",
       "1130  Colorectal Adenocarcinoma         Matched          77.822829  \n",
       "1131  Colorectal Adenocarcinoma         Matched           8.646981  \n",
       "1132  Colorectal Adenocarcinoma         Matched          19.888056  \n",
       "1133  Colorectal Adenocarcinoma         Matched           3.458792  \n",
       "\n",
       "[1134 rows x 34 columns]"
      ]
     },
     "execution_count": 6,
     "metadata": {},
     "output_type": "execute_result"
    }
   ],
   "source": [
    "clinicalSampleDF"
   ]
  },
  {
   "cell_type": "code",
   "execution_count": null,
   "id": "cee86db7-235c-48c9-828c-b135d523a39c",
   "metadata": {},
   "outputs": [],
   "source": []
  },
  {
   "cell_type": "code",
   "execution_count": 7,
   "id": "a1145a94-61fb-4087-b5e9-06e6f65d556c",
   "metadata": {},
   "outputs": [],
   "source": [
    "resultUnchanged = pd.merge(clinicalPatientDF, clinicalSampleDF, how=\"outer\", on=[\"PATIENT_ID\", \"PATIENT_ID\"])"
   ]
  },
  {
   "cell_type": "code",
   "execution_count": null,
   "id": "1fcbc5e0-a21f-4273-8e81-79bc499a8cdf",
   "metadata": {},
   "outputs": [],
   "source": []
  },
  {
   "cell_type": "code",
   "execution_count": 60,
   "id": "818db7c2-cced-4868-9492-54e4ca130f14",
   "metadata": {},
   "outputs": [],
   "source": [
    "#Patient Identifier\tSample Identifier\tChemo Exposure of sequenced specimen\tTumor Sample Histology\tMSI Status\tOncotree Code\tSample Type\tPrimary Tumor Site\tMetastatic Biopsy Site\tPrimary Tumor Location\tGene Panel\tStage At Diagnosis\tMolecular Subtype\tMSI Score\tmCRC Type\tSpecimen Type\tMetastasectomy\tMetastasectomy Site\tTIme to Metastasis Months\tTime from Met Dx to Sequencing\tFirst Site of Metastasis\tMetastases Site First: Liver\tMetastases Site First: Ln\tMetastases Site First: Lung\tMetastases Site First: Pelvis\tMetastases Site First: Brain\tMetastases Site First: Bone\tMetastases Site First: Peritoneum, omentum, abdomen\tMetastases Site First: Gynecological\tOther Metastasis Sites\tCancer Type\tCancer Type Detailed\tSomatic Status\tTMB (nonsynonymous)\n",
    "#Identifier to uniquely specify a patient.\tA unique sample identifier.\tChemo Exposure of sequenced specimen\tTumor Sample Histology\tMSI status.\tOncotree Code\tThe type of sample (i.e., normal, primary, met, recurrence).\tText term to describe the organ sub-division in an individual with cancer.\tMetastatic Biopsy Site\tPrimary Tumor Location\tGene panel.\tStage At Diagnosis\tMolecular subtype.\tMSI Score\tmCRC Type\tThe broad cancer phenotype and site information values for a sample to be processed.\tMetastasectomy\tMetastasectomy Site\tTIme to Metastasis Months\tTime from Met Dx to Sequencing\tFirst Site of Metastasis\tMetastases Site First: Liver\tMetastases Site First: Ln\tMetastases Site First: Lung\tMetastases Site First: Pelvis\tMetastases Site First: Brain\tMetastases Site First: Bone\tMetastases Site First: Peritoneum, omentum, abdomen\tMetastases Site First: Gynecological\tOther Metastasis Sites Description\tCancer Type\tCancer Type Detailed\tSomatic Status\tTMB (nonsynonymous)\n",
    "#STRING\tSTRING\tSTRING\tSTRING\tSTRING\tSTRING\tSTRING\tSTRING\tSTRING\tSTRING\tSTRING\tSTRING\tSTRING\tNUMBER\tSTRING\tSTRING\tSTRING\tSTRING\tNUMBER\tNUMBER\tSTRING\tSTRING\tSTRING\tSTRING\tSTRING\tSTRING\tSTRING\tSTRING\tSTRING\tSTRING\tSTRING\tSTRING\tSTRING\tNUMBER\n",
    "#1\t1\t1\t1\t1\t1\t9\t1\t1\t1\t1\t1\t1\t1\t1\t1\t1\t1\t1\t1\t1\t1\t1\t1\t1\t1\t1\t1\t1\t1\t1\t1\t1\t1\n",
    "\n",
    "dataCnaDF = pd.read_csv(\"../Test-Data/data_cna.txt\",delimiter=\"\\t\")"
   ]
  },
  {
   "cell_type": "code",
   "execution_count": 61,
   "id": "4576f844-da4c-48a0-8fc6-58acf401fa31",
   "metadata": {},
   "outputs": [],
   "source": [
    "dataCnaDF.to_excel(r'dataCnaDF.xlsx', index=False)\n",
    "dataCnaDF.to_csv(r'dataCnaDF.csv', index=False)"
   ]
  },
  {
   "cell_type": "code",
   "execution_count": 37,
   "id": "aa7fc98f-bb22-4be7-aa35-77a3c4bddb4b",
   "metadata": {},
   "outputs": [
    {
     "data": {
      "text/html": [
       "<div>\n",
       "<style scoped>\n",
       "    .dataframe tbody tr th:only-of-type {\n",
       "        vertical-align: middle;\n",
       "    }\n",
       "\n",
       "    .dataframe tbody tr th {\n",
       "        vertical-align: top;\n",
       "    }\n",
       "\n",
       "    .dataframe thead th {\n",
       "        text-align: right;\n",
       "    }\n",
       "</style>\n",
       "<table border=\"1\" class=\"dataframe\">\n",
       "  <thead>\n",
       "    <tr style=\"text-align: right;\">\n",
       "      <th></th>\n",
       "      <th>Hugo_Symbol</th>\n",
       "      <th>P-0006287-T01-IM5</th>\n",
       "      <th>P-0004652-T01-IM5</th>\n",
       "      <th>P-0002852-T01-IM3</th>\n",
       "      <th>P-0009139-T01-IM5</th>\n",
       "      <th>P-0006822-T01-IM5</th>\n",
       "      <th>P-0000682-T01-IM3</th>\n",
       "      <th>P-0011110-T01-IM5</th>\n",
       "      <th>P-0010207-T01-IM5</th>\n",
       "      <th>P-0003886-T01-IM5</th>\n",
       "      <th>...</th>\n",
       "      <th>P-0008226-T02-IM5</th>\n",
       "      <th>P-0004736-T01-IM5</th>\n",
       "      <th>P-0010425-T01-IM5</th>\n",
       "      <th>P-0012389-T01-IM5</th>\n",
       "      <th>P-0009842-T01-IM5</th>\n",
       "      <th>P-0010966-T01-IM5</th>\n",
       "      <th>P-0009433-T01-IM5</th>\n",
       "      <th>P-0006763-T01-IM5</th>\n",
       "      <th>P-0000635-T01-IM3</th>\n",
       "      <th>P-0001525-T01-IM3</th>\n",
       "    </tr>\n",
       "  </thead>\n",
       "  <tbody>\n",
       "    <tr>\n",
       "      <th>0</th>\n",
       "      <td>RB1</td>\n",
       "      <td>0</td>\n",
       "      <td>0</td>\n",
       "      <td>0</td>\n",
       "      <td>0</td>\n",
       "      <td>0</td>\n",
       "      <td>0</td>\n",
       "      <td>0</td>\n",
       "      <td>0</td>\n",
       "      <td>0</td>\n",
       "      <td>...</td>\n",
       "      <td>0</td>\n",
       "      <td>0</td>\n",
       "      <td>0</td>\n",
       "      <td>0</td>\n",
       "      <td>0</td>\n",
       "      <td>0</td>\n",
       "      <td>0</td>\n",
       "      <td>0</td>\n",
       "      <td>0</td>\n",
       "      <td>0.0</td>\n",
       "    </tr>\n",
       "    <tr>\n",
       "      <th>1</th>\n",
       "      <td>MDC1</td>\n",
       "      <td>0</td>\n",
       "      <td>0</td>\n",
       "      <td>0</td>\n",
       "      <td>0</td>\n",
       "      <td>0</td>\n",
       "      <td>0</td>\n",
       "      <td>0</td>\n",
       "      <td>0</td>\n",
       "      <td>0</td>\n",
       "      <td>...</td>\n",
       "      <td>0</td>\n",
       "      <td>0</td>\n",
       "      <td>0</td>\n",
       "      <td>0</td>\n",
       "      <td>0</td>\n",
       "      <td>0</td>\n",
       "      <td>0</td>\n",
       "      <td>0</td>\n",
       "      <td>0</td>\n",
       "      <td>0.0</td>\n",
       "    </tr>\n",
       "    <tr>\n",
       "      <th>2</th>\n",
       "      <td>ARAF</td>\n",
       "      <td>0</td>\n",
       "      <td>0</td>\n",
       "      <td>0</td>\n",
       "      <td>0</td>\n",
       "      <td>0</td>\n",
       "      <td>0</td>\n",
       "      <td>0</td>\n",
       "      <td>0</td>\n",
       "      <td>0</td>\n",
       "      <td>...</td>\n",
       "      <td>0</td>\n",
       "      <td>0</td>\n",
       "      <td>0</td>\n",
       "      <td>0</td>\n",
       "      <td>0</td>\n",
       "      <td>0</td>\n",
       "      <td>0</td>\n",
       "      <td>0</td>\n",
       "      <td>0</td>\n",
       "      <td>0.0</td>\n",
       "    </tr>\n",
       "    <tr>\n",
       "      <th>3</th>\n",
       "      <td>PREX2</td>\n",
       "      <td>0</td>\n",
       "      <td>0</td>\n",
       "      <td>0</td>\n",
       "      <td>0</td>\n",
       "      <td>0</td>\n",
       "      <td>0</td>\n",
       "      <td>0</td>\n",
       "      <td>0</td>\n",
       "      <td>0</td>\n",
       "      <td>...</td>\n",
       "      <td>0</td>\n",
       "      <td>0</td>\n",
       "      <td>0</td>\n",
       "      <td>0</td>\n",
       "      <td>0</td>\n",
       "      <td>0</td>\n",
       "      <td>0</td>\n",
       "      <td>0</td>\n",
       "      <td>0</td>\n",
       "      <td>0.0</td>\n",
       "    </tr>\n",
       "    <tr>\n",
       "      <th>4</th>\n",
       "      <td>SOX17</td>\n",
       "      <td>0</td>\n",
       "      <td>0</td>\n",
       "      <td>0</td>\n",
       "      <td>0</td>\n",
       "      <td>0</td>\n",
       "      <td>0</td>\n",
       "      <td>0</td>\n",
       "      <td>0</td>\n",
       "      <td>0</td>\n",
       "      <td>...</td>\n",
       "      <td>0</td>\n",
       "      <td>0</td>\n",
       "      <td>0</td>\n",
       "      <td>0</td>\n",
       "      <td>0</td>\n",
       "      <td>0</td>\n",
       "      <td>0</td>\n",
       "      <td>0</td>\n",
       "      <td>0</td>\n",
       "      <td>0.0</td>\n",
       "    </tr>\n",
       "    <tr>\n",
       "      <th>...</th>\n",
       "      <td>...</td>\n",
       "      <td>...</td>\n",
       "      <td>...</td>\n",
       "      <td>...</td>\n",
       "      <td>...</td>\n",
       "      <td>...</td>\n",
       "      <td>...</td>\n",
       "      <td>...</td>\n",
       "      <td>...</td>\n",
       "      <td>...</td>\n",
       "      <td>...</td>\n",
       "      <td>...</td>\n",
       "      <td>...</td>\n",
       "      <td>...</td>\n",
       "      <td>...</td>\n",
       "      <td>...</td>\n",
       "      <td>...</td>\n",
       "      <td>...</td>\n",
       "      <td>...</td>\n",
       "      <td>...</td>\n",
       "      <td>...</td>\n",
       "    </tr>\n",
       "    <tr>\n",
       "      <th>469</th>\n",
       "      <td>ERCC2</td>\n",
       "      <td>0</td>\n",
       "      <td>0</td>\n",
       "      <td>0</td>\n",
       "      <td>0</td>\n",
       "      <td>0</td>\n",
       "      <td>0</td>\n",
       "      <td>0</td>\n",
       "      <td>0</td>\n",
       "      <td>0</td>\n",
       "      <td>...</td>\n",
       "      <td>0</td>\n",
       "      <td>0</td>\n",
       "      <td>0</td>\n",
       "      <td>0</td>\n",
       "      <td>0</td>\n",
       "      <td>0</td>\n",
       "      <td>0</td>\n",
       "      <td>0</td>\n",
       "      <td>0</td>\n",
       "      <td>0.0</td>\n",
       "    </tr>\n",
       "    <tr>\n",
       "      <th>470</th>\n",
       "      <td>HIST3H3</td>\n",
       "      <td>0</td>\n",
       "      <td>0</td>\n",
       "      <td>0</td>\n",
       "      <td>0</td>\n",
       "      <td>0</td>\n",
       "      <td>0</td>\n",
       "      <td>0</td>\n",
       "      <td>0</td>\n",
       "      <td>0</td>\n",
       "      <td>...</td>\n",
       "      <td>0</td>\n",
       "      <td>0</td>\n",
       "      <td>0</td>\n",
       "      <td>0</td>\n",
       "      <td>0</td>\n",
       "      <td>0</td>\n",
       "      <td>0</td>\n",
       "      <td>0</td>\n",
       "      <td>0</td>\n",
       "      <td>0.0</td>\n",
       "    </tr>\n",
       "    <tr>\n",
       "      <th>471</th>\n",
       "      <td>ERCC5</td>\n",
       "      <td>0</td>\n",
       "      <td>0</td>\n",
       "      <td>0</td>\n",
       "      <td>0</td>\n",
       "      <td>0</td>\n",
       "      <td>0</td>\n",
       "      <td>0</td>\n",
       "      <td>0</td>\n",
       "      <td>0</td>\n",
       "      <td>...</td>\n",
       "      <td>0</td>\n",
       "      <td>0</td>\n",
       "      <td>0</td>\n",
       "      <td>0</td>\n",
       "      <td>0</td>\n",
       "      <td>0</td>\n",
       "      <td>0</td>\n",
       "      <td>0</td>\n",
       "      <td>0</td>\n",
       "      <td>0.0</td>\n",
       "    </tr>\n",
       "    <tr>\n",
       "      <th>472</th>\n",
       "      <td>KRAS</td>\n",
       "      <td>0</td>\n",
       "      <td>0</td>\n",
       "      <td>0</td>\n",
       "      <td>0</td>\n",
       "      <td>0</td>\n",
       "      <td>0</td>\n",
       "      <td>0</td>\n",
       "      <td>0</td>\n",
       "      <td>0</td>\n",
       "      <td>...</td>\n",
       "      <td>0</td>\n",
       "      <td>0</td>\n",
       "      <td>0</td>\n",
       "      <td>0</td>\n",
       "      <td>0</td>\n",
       "      <td>0</td>\n",
       "      <td>0</td>\n",
       "      <td>0</td>\n",
       "      <td>0</td>\n",
       "      <td>0.0</td>\n",
       "    </tr>\n",
       "    <tr>\n",
       "      <th>473</th>\n",
       "      <td>TEK</td>\n",
       "      <td>0</td>\n",
       "      <td>0</td>\n",
       "      <td>0</td>\n",
       "      <td>0</td>\n",
       "      <td>0</td>\n",
       "      <td>0</td>\n",
       "      <td>0</td>\n",
       "      <td>0</td>\n",
       "      <td>0</td>\n",
       "      <td>...</td>\n",
       "      <td>0</td>\n",
       "      <td>0</td>\n",
       "      <td>0</td>\n",
       "      <td>0</td>\n",
       "      <td>0</td>\n",
       "      <td>0</td>\n",
       "      <td>0</td>\n",
       "      <td>0</td>\n",
       "      <td>0</td>\n",
       "      <td>0.0</td>\n",
       "    </tr>\n",
       "  </tbody>\n",
       "</table>\n",
       "<p>474 rows × 1135 columns</p>\n",
       "</div>"
      ],
      "text/plain": [
       "    Hugo_Symbol  P-0006287-T01-IM5  P-0004652-T01-IM5  P-0002852-T01-IM3  \\\n",
       "0           RB1                  0                  0                  0   \n",
       "1          MDC1                  0                  0                  0   \n",
       "2          ARAF                  0                  0                  0   \n",
       "3         PREX2                  0                  0                  0   \n",
       "4         SOX17                  0                  0                  0   \n",
       "..          ...                ...                ...                ...   \n",
       "469       ERCC2                  0                  0                  0   \n",
       "470     HIST3H3                  0                  0                  0   \n",
       "471       ERCC5                  0                  0                  0   \n",
       "472        KRAS                  0                  0                  0   \n",
       "473         TEK                  0                  0                  0   \n",
       "\n",
       "     P-0009139-T01-IM5  P-0006822-T01-IM5  P-0000682-T01-IM3  \\\n",
       "0                    0                  0                  0   \n",
       "1                    0                  0                  0   \n",
       "2                    0                  0                  0   \n",
       "3                    0                  0                  0   \n",
       "4                    0                  0                  0   \n",
       "..                 ...                ...                ...   \n",
       "469                  0                  0                  0   \n",
       "470                  0                  0                  0   \n",
       "471                  0                  0                  0   \n",
       "472                  0                  0                  0   \n",
       "473                  0                  0                  0   \n",
       "\n",
       "     P-0011110-T01-IM5  P-0010207-T01-IM5  P-0003886-T01-IM5  ...  \\\n",
       "0                    0                  0                  0  ...   \n",
       "1                    0                  0                  0  ...   \n",
       "2                    0                  0                  0  ...   \n",
       "3                    0                  0                  0  ...   \n",
       "4                    0                  0                  0  ...   \n",
       "..                 ...                ...                ...  ...   \n",
       "469                  0                  0                  0  ...   \n",
       "470                  0                  0                  0  ...   \n",
       "471                  0                  0                  0  ...   \n",
       "472                  0                  0                  0  ...   \n",
       "473                  0                  0                  0  ...   \n",
       "\n",
       "     P-0008226-T02-IM5  P-0004736-T01-IM5  P-0010425-T01-IM5  \\\n",
       "0                    0                  0                  0   \n",
       "1                    0                  0                  0   \n",
       "2                    0                  0                  0   \n",
       "3                    0                  0                  0   \n",
       "4                    0                  0                  0   \n",
       "..                 ...                ...                ...   \n",
       "469                  0                  0                  0   \n",
       "470                  0                  0                  0   \n",
       "471                  0                  0                  0   \n",
       "472                  0                  0                  0   \n",
       "473                  0                  0                  0   \n",
       "\n",
       "     P-0012389-T01-IM5  P-0009842-T01-IM5  P-0010966-T01-IM5  \\\n",
       "0                    0                  0                  0   \n",
       "1                    0                  0                  0   \n",
       "2                    0                  0                  0   \n",
       "3                    0                  0                  0   \n",
       "4                    0                  0                  0   \n",
       "..                 ...                ...                ...   \n",
       "469                  0                  0                  0   \n",
       "470                  0                  0                  0   \n",
       "471                  0                  0                  0   \n",
       "472                  0                  0                  0   \n",
       "473                  0                  0                  0   \n",
       "\n",
       "     P-0009433-T01-IM5  P-0006763-T01-IM5  P-0000635-T01-IM3  \\\n",
       "0                    0                  0                  0   \n",
       "1                    0                  0                  0   \n",
       "2                    0                  0                  0   \n",
       "3                    0                  0                  0   \n",
       "4                    0                  0                  0   \n",
       "..                 ...                ...                ...   \n",
       "469                  0                  0                  0   \n",
       "470                  0                  0                  0   \n",
       "471                  0                  0                  0   \n",
       "472                  0                  0                  0   \n",
       "473                  0                  0                  0   \n",
       "\n",
       "     P-0001525-T01-IM3  \n",
       "0                  0.0  \n",
       "1                  0.0  \n",
       "2                  0.0  \n",
       "3                  0.0  \n",
       "4                  0.0  \n",
       "..                 ...  \n",
       "469                0.0  \n",
       "470                0.0  \n",
       "471                0.0  \n",
       "472                0.0  \n",
       "473                0.0  \n",
       "\n",
       "[474 rows x 1135 columns]"
      ]
     },
     "execution_count": 37,
     "metadata": {},
     "output_type": "execute_result"
    }
   ],
   "source": [
    "dataCnaDF"
   ]
  },
  {
   "cell_type": "code",
   "execution_count": 38,
   "id": "a1a42a07-2dda-4354-b3fb-1460e8d99f4c",
   "metadata": {},
   "outputs": [],
   "source": [
    "#Patient Identifier\tSample Identifier\tChemo Exposure of sequenced specimen\tTumor Sample Histology\tMSI Status\tOncotree Code\tSample Type\tPrimary Tumor Site\tMetastatic Biopsy Site\tPrimary Tumor Location\tGene Panel\tStage At Diagnosis\tMolecular Subtype\tMSI Score\tmCRC Type\tSpecimen Type\tMetastasectomy\tMetastasectomy Site\tTIme to Metastasis Months\tTime from Met Dx to Sequencing\tFirst Site of Metastasis\tMetastases Site First: Liver\tMetastases Site First: Ln\tMetastases Site First: Lung\tMetastases Site First: Pelvis\tMetastases Site First: Brain\tMetastases Site First: Bone\tMetastases Site First: Peritoneum, omentum, abdomen\tMetastases Site First: Gynecological\tOther Metastasis Sites\tCancer Type\tCancer Type Detailed\tSomatic Status\tTMB (nonsynonymous)\n",
    "#Identifier to uniquely specify a patient.\tA unique sample identifier.\tChemo Exposure of sequenced specimen\tTumor Sample Histology\tMSI status.\tOncotree Code\tThe type of sample (i.e., normal, primary, met, recurrence).\tText term to describe the organ sub-division in an individual with cancer.\tMetastatic Biopsy Site\tPrimary Tumor Location\tGene panel.\tStage At Diagnosis\tMolecular subtype.\tMSI Score\tmCRC Type\tThe broad cancer phenotype and site information values for a sample to be processed.\tMetastasectomy\tMetastasectomy Site\tTIme to Metastasis Months\tTime from Met Dx to Sequencing\tFirst Site of Metastasis\tMetastases Site First: Liver\tMetastases Site First: Ln\tMetastases Site First: Lung\tMetastases Site First: Pelvis\tMetastases Site First: Brain\tMetastases Site First: Bone\tMetastases Site First: Peritoneum, omentum, abdomen\tMetastases Site First: Gynecological\tOther Metastasis Sites Description\tCancer Type\tCancer Type Detailed\tSomatic Status\tTMB (nonsynonymous)\n",
    "#STRING\tSTRING\tSTRING\tSTRING\tSTRING\tSTRING\tSTRING\tSTRING\tSTRING\tSTRING\tSTRING\tSTRING\tSTRING\tNUMBER\tSTRING\tSTRING\tSTRING\tSTRING\tNUMBER\tNUMBER\tSTRING\tSTRING\tSTRING\tSTRING\tSTRING\tSTRING\tSTRING\tSTRING\tSTRING\tSTRING\tSTRING\tSTRING\tSTRING\tNUMBER\n",
    "#1\t1\t1\t1\t1\t1\t9\t1\t1\t1\t1\t1\t1\t1\t1\t1\t1\t1\t1\t1\t1\t1\t1\t1\t1\t1\t1\t1\t1\t1\t1\t1\t1\t1\n",
    "\n",
    "dataGenePanelMatrixDF = pd.read_csv(\"../Test-Data/data_gene_panel_matrix.txt\",delimiter=\"\\t\")"
   ]
  },
  {
   "cell_type": "code",
   "execution_count": 39,
   "id": "fd442ced-ce42-4ec4-8ea2-3a1e71eda7f7",
   "metadata": {},
   "outputs": [
    {
     "data": {
      "text/html": [
       "<div>\n",
       "<style scoped>\n",
       "    .dataframe tbody tr th:only-of-type {\n",
       "        vertical-align: middle;\n",
       "    }\n",
       "\n",
       "    .dataframe tbody tr th {\n",
       "        vertical-align: top;\n",
       "    }\n",
       "\n",
       "    .dataframe thead th {\n",
       "        text-align: right;\n",
       "    }\n",
       "</style>\n",
       "<table border=\"1\" class=\"dataframe\">\n",
       "  <thead>\n",
       "    <tr style=\"text-align: right;\">\n",
       "      <th></th>\n",
       "      <th>SAMPLE_ID</th>\n",
       "      <th>mutations</th>\n",
       "      <th>structural_variants</th>\n",
       "    </tr>\n",
       "  </thead>\n",
       "  <tbody>\n",
       "    <tr>\n",
       "      <th>0</th>\n",
       "      <td>P-0000119-T01-IM3</td>\n",
       "      <td>IMPACT341</td>\n",
       "      <td>IMPACT341</td>\n",
       "    </tr>\n",
       "    <tr>\n",
       "      <th>1</th>\n",
       "      <td>P-0000241-T01-IM3</td>\n",
       "      <td>IMPACT341</td>\n",
       "      <td>IMPACT341</td>\n",
       "    </tr>\n",
       "    <tr>\n",
       "      <th>2</th>\n",
       "      <td>P-0000493-T01-IM3</td>\n",
       "      <td>IMPACT341</td>\n",
       "      <td>IMPACT341</td>\n",
       "    </tr>\n",
       "    <tr>\n",
       "      <th>3</th>\n",
       "      <td>P-0000511-T01-IM3</td>\n",
       "      <td>IMPACT341</td>\n",
       "      <td>IMPACT341</td>\n",
       "    </tr>\n",
       "    <tr>\n",
       "      <th>4</th>\n",
       "      <td>P-0000520-T01-IM3</td>\n",
       "      <td>IMPACT341</td>\n",
       "      <td>IMPACT341</td>\n",
       "    </tr>\n",
       "    <tr>\n",
       "      <th>...</th>\n",
       "      <td>...</td>\n",
       "      <td>...</td>\n",
       "      <td>...</td>\n",
       "    </tr>\n",
       "    <tr>\n",
       "      <th>1129</th>\n",
       "      <td>P-0014252-T01-IM6</td>\n",
       "      <td>IMPACT468</td>\n",
       "      <td>IMPACT468</td>\n",
       "    </tr>\n",
       "    <tr>\n",
       "      <th>1130</th>\n",
       "      <td>P-0014258-T01-IM6</td>\n",
       "      <td>IMPACT468</td>\n",
       "      <td>IMPACT468</td>\n",
       "    </tr>\n",
       "    <tr>\n",
       "      <th>1131</th>\n",
       "      <td>P-0014296-T01-IM6</td>\n",
       "      <td>IMPACT468</td>\n",
       "      <td>IMPACT468</td>\n",
       "    </tr>\n",
       "    <tr>\n",
       "      <th>1132</th>\n",
       "      <td>P-0014404-T01-IM6</td>\n",
       "      <td>IMPACT468</td>\n",
       "      <td>IMPACT468</td>\n",
       "    </tr>\n",
       "    <tr>\n",
       "      <th>1133</th>\n",
       "      <td>P-0014415-T01-IM6</td>\n",
       "      <td>IMPACT468</td>\n",
       "      <td>IMPACT468</td>\n",
       "    </tr>\n",
       "  </tbody>\n",
       "</table>\n",
       "<p>1134 rows × 3 columns</p>\n",
       "</div>"
      ],
      "text/plain": [
       "              SAMPLE_ID  mutations structural_variants\n",
       "0     P-0000119-T01-IM3  IMPACT341           IMPACT341\n",
       "1     P-0000241-T01-IM3  IMPACT341           IMPACT341\n",
       "2     P-0000493-T01-IM3  IMPACT341           IMPACT341\n",
       "3     P-0000511-T01-IM3  IMPACT341           IMPACT341\n",
       "4     P-0000520-T01-IM3  IMPACT341           IMPACT341\n",
       "...                 ...        ...                 ...\n",
       "1129  P-0014252-T01-IM6  IMPACT468           IMPACT468\n",
       "1130  P-0014258-T01-IM6  IMPACT468           IMPACT468\n",
       "1131  P-0014296-T01-IM6  IMPACT468           IMPACT468\n",
       "1132  P-0014404-T01-IM6  IMPACT468           IMPACT468\n",
       "1133  P-0014415-T01-IM6  IMPACT468           IMPACT468\n",
       "\n",
       "[1134 rows x 3 columns]"
      ]
     },
     "execution_count": 39,
     "metadata": {},
     "output_type": "execute_result"
    }
   ],
   "source": [
    "dataGenePanelMatrixDF.to_excel(r'dataGenePanelMatrixDF.xlsx', index=False)\n",
    "dataGenePanelMatrixDF"
   ]
  },
  {
   "cell_type": "code",
   "execution_count": null,
   "id": "699f637e-9011-4399-ab73-17f5d37b12f1",
   "metadata": {},
   "outputs": [],
   "source": []
  },
  {
   "cell_type": "code",
   "execution_count": 41,
   "id": "8dd22172-a884-40c6-b3bf-b262882ad696",
   "metadata": {},
   "outputs": [],
   "source": [
    "mutationsDF = pd.read_csv(\"../Test-Data/data_mutations.txt\",delimiter=\"\\t\")"
   ]
  },
  {
   "cell_type": "code",
   "execution_count": 42,
   "id": "510a94b7-5643-460c-9814-fc63e348b619",
   "metadata": {},
   "outputs": [],
   "source": [
    "mutationsDF.to_excel(r'mutationsDF.xlsx', index=False)\n",
    "mutationsDF.to_csv(r'mutationsDF.csv', index=False)"
   ]
  },
  {
   "cell_type": "markdown",
   "id": "e99e3f13-f8d4-4a2e-bf1b-0519027f1017",
   "metadata": {},
   "source": [
    "#### Data Manipulation for Transformation"
   ]
  },
  {
   "cell_type": "code",
   "execution_count": 24,
   "id": "05b00cd1-7753-4c54-a7d9-65f69d6413d8",
   "metadata": {},
   "outputs": [],
   "source": [
    "# The below code was added to enable the processing of the data in MySQL, as the Table Import Wizard does not allow for cells with blank values to be imported \n",
    "# for any numerical data\n",
    "\n",
    "resultUnchanged = pd.merge(clinicalPatientDF, clinicalSampleDF, how=\"outer\", on=[\"PATIENT_ID\", \"PATIENT_ID\"])\n",
    "resultUnchanged[['MSI_STATUS']] = resultUnchanged[['MSI_STATUS']].fillna('Unknown')\n",
    "\n",
    "resultUnchanged[['TIME_FROM_MET_DX_SEQUENCING']] = resultUnchanged[['TIME_FROM_MET_DX_SEQUENCING']].fillna(value=-50000)\n",
    "result = pd.merge(clinicalPatientDF, clinicalSampleDF, how=\"outer\", on=[\"PATIENT_ID\", \"PATIENT_ID\"])\n",
    "result[['OS_MONTHS']] = result[['OS_MONTHS']].fillna(value=-50000)\n",
    "result[['TIME_FROM_MET_DX_SEQUENCING']] = result[['TIME_FROM_MET_DX_SEQUENCING']].fillna(value=-50000)"
   ]
  },
  {
   "cell_type": "code",
   "execution_count": null,
   "id": "72a89c8b-16e9-479f-a272-fc2864b49b51",
   "metadata": {},
   "outputs": [],
   "source": []
  },
  {
   "cell_type": "code",
   "execution_count": null,
   "id": "8a2e2778-2411-4fc6-849a-2de34c5672ad",
   "metadata": {},
   "outputs": [],
   "source": []
  },
  {
   "cell_type": "code",
   "execution_count": 45,
   "id": "de223aba-2bf5-4f68-985d-12fc370c8e7e",
   "metadata": {},
   "outputs": [],
   "source": [
    "svDFUnedited = pd.read_csv(\"../Test-Data/data_sv.txt\",delimiter=\"\\t\")\n",
    "svDF = pd.read_csv(\"../Test-Data/data_sv.txt\",delimiter=\"\\t\")\n",
    "svDF[['Site1_Position']] = svDF[['Site1_Position']].fillna(value=-1)\n",
    "svDF[['Site2_Position']] = svDF[['Site2_Position']].fillna(value=-1)\n",
    "\n",
    "svDF[['Normal_Read_Count']] = svDF[['Normal_Read_Count']].fillna(value=-1)\n",
    "svDF[['Normal_Variant_Count']] = svDF[['Normal_Variant_Count']].fillna(value=-1)\n",
    "svDF[['Normal_Paired_End_Read_Count']] = svDF[['Normal_Paired_End_Read_Count']].fillna(value=-1)\n",
    "svDF[['Normal_Split_Read_Count']] = svDF[['Normal_Split_Read_Count']].fillna(value=-1)\n",
    "svDF[['SV_Length']] = svDF[['SV_Length']].fillna(value=-1)\n",
    "svDF[['SV_VariantId']] = svDF[['SV_VariantId']].fillna(value=-1)\n",
    "svDF[['SV_Length']] = svDF[['SV_Length']].fillna(value=-1)\n",
    "svDF[['Tumor_Read_Count']] = svDF[['Tumor_Read_Count']].fillna(value=-1)\n",
    "svDF[['Tumor_Variant_Count']] = svDF[['Tumor_Variant_Count']].fillna(value=-1)"
   ]
  },
  {
   "cell_type": "code",
   "execution_count": 46,
   "id": "b374d394-f45c-48f5-ac5b-b99cbb7932a1",
   "metadata": {},
   "outputs": [],
   "source": [
    "svDF.to_excel(r'svDF.xlsx', index=False)"
   ]
  },
  {
   "cell_type": "code",
   "execution_count": 47,
   "id": "3f0f15c2-ced2-42cc-8d24-548e3b2bcae5",
   "metadata": {},
   "outputs": [],
   "source": [
    "#left_aligned_df = svDF.style.set_properties(**{'text-align': 'left'})\n",
    "#display(left_aligned_df)"
   ]
  },
  {
   "cell_type": "code",
   "execution_count": 48,
   "id": "7830b50f-0069-4ddd-83e2-070fca8f8432",
   "metadata": {},
   "outputs": [],
   "source": [
    "svDF.to_csv(r'svDF.csv', index=False)"
   ]
  },
  {
   "cell_type": "code",
   "execution_count": 53,
   "id": "0d334f3d-c0ee-4b96-a0b4-6648c2c33369",
   "metadata": {},
   "outputs": [],
   "source": [
    "usableCNAdf = pd.read_csv(\"dataCnaDFFlipped.csv\")"
   ]
  },
  {
   "cell_type": "code",
   "execution_count": 54,
   "id": "e7cf526b-7040-4274-96bc-690a24e13ff5",
   "metadata": {},
   "outputs": [
    {
     "data": {
      "text/html": [
       "<div>\n",
       "<style scoped>\n",
       "    .dataframe tbody tr th:only-of-type {\n",
       "        vertical-align: middle;\n",
       "    }\n",
       "\n",
       "    .dataframe tbody tr th {\n",
       "        vertical-align: top;\n",
       "    }\n",
       "\n",
       "    .dataframe thead th {\n",
       "        text-align: right;\n",
       "    }\n",
       "</style>\n",
       "<table border=\"1\" class=\"dataframe\">\n",
       "  <thead>\n",
       "    <tr style=\"text-align: right;\">\n",
       "      <th></th>\n",
       "      <th>Sample_Id</th>\n",
       "      <th>RB1</th>\n",
       "      <th>MDC1</th>\n",
       "      <th>ARAF</th>\n",
       "      <th>PREX2</th>\n",
       "      <th>SOX17</th>\n",
       "      <th>PPP4R2</th>\n",
       "      <th>MYC</th>\n",
       "      <th>AKT2</th>\n",
       "      <th>AKT3</th>\n",
       "      <th>...</th>\n",
       "      <th>TSHR</th>\n",
       "      <th>ERCC3</th>\n",
       "      <th>ERCC4</th>\n",
       "      <th>CARM1</th>\n",
       "      <th>RPS6KB2</th>\n",
       "      <th>ERCC2</th>\n",
       "      <th>HIST3H3</th>\n",
       "      <th>ERCC5</th>\n",
       "      <th>KRAS</th>\n",
       "      <th>TEK</th>\n",
       "    </tr>\n",
       "  </thead>\n",
       "  <tbody>\n",
       "    <tr>\n",
       "      <th>0</th>\n",
       "      <td>P-0006287-T01-IM5</td>\n",
       "      <td>0</td>\n",
       "      <td>0</td>\n",
       "      <td>0</td>\n",
       "      <td>0</td>\n",
       "      <td>0</td>\n",
       "      <td>0</td>\n",
       "      <td>0</td>\n",
       "      <td>0</td>\n",
       "      <td>0</td>\n",
       "      <td>...</td>\n",
       "      <td>0</td>\n",
       "      <td>0</td>\n",
       "      <td>0</td>\n",
       "      <td>0</td>\n",
       "      <td>0</td>\n",
       "      <td>0</td>\n",
       "      <td>0</td>\n",
       "      <td>0</td>\n",
       "      <td>0</td>\n",
       "      <td>0</td>\n",
       "    </tr>\n",
       "    <tr>\n",
       "      <th>1</th>\n",
       "      <td>P-0004652-T01-IM5</td>\n",
       "      <td>0</td>\n",
       "      <td>0</td>\n",
       "      <td>0</td>\n",
       "      <td>0</td>\n",
       "      <td>0</td>\n",
       "      <td>0</td>\n",
       "      <td>0</td>\n",
       "      <td>0</td>\n",
       "      <td>0</td>\n",
       "      <td>...</td>\n",
       "      <td>0</td>\n",
       "      <td>0</td>\n",
       "      <td>0</td>\n",
       "      <td>0</td>\n",
       "      <td>0</td>\n",
       "      <td>0</td>\n",
       "      <td>0</td>\n",
       "      <td>0</td>\n",
       "      <td>0</td>\n",
       "      <td>0</td>\n",
       "    </tr>\n",
       "    <tr>\n",
       "      <th>2</th>\n",
       "      <td>P-0002852-T01-IM3</td>\n",
       "      <td>0</td>\n",
       "      <td>0</td>\n",
       "      <td>0</td>\n",
       "      <td>0</td>\n",
       "      <td>0</td>\n",
       "      <td>0</td>\n",
       "      <td>0</td>\n",
       "      <td>0</td>\n",
       "      <td>0</td>\n",
       "      <td>...</td>\n",
       "      <td>0</td>\n",
       "      <td>0</td>\n",
       "      <td>0</td>\n",
       "      <td>0</td>\n",
       "      <td>0</td>\n",
       "      <td>0</td>\n",
       "      <td>0</td>\n",
       "      <td>0</td>\n",
       "      <td>0</td>\n",
       "      <td>0</td>\n",
       "    </tr>\n",
       "    <tr>\n",
       "      <th>3</th>\n",
       "      <td>P-0009139-T01-IM5</td>\n",
       "      <td>0</td>\n",
       "      <td>0</td>\n",
       "      <td>0</td>\n",
       "      <td>0</td>\n",
       "      <td>0</td>\n",
       "      <td>0</td>\n",
       "      <td>0</td>\n",
       "      <td>0</td>\n",
       "      <td>0</td>\n",
       "      <td>...</td>\n",
       "      <td>0</td>\n",
       "      <td>0</td>\n",
       "      <td>0</td>\n",
       "      <td>0</td>\n",
       "      <td>0</td>\n",
       "      <td>0</td>\n",
       "      <td>0</td>\n",
       "      <td>0</td>\n",
       "      <td>0</td>\n",
       "      <td>0</td>\n",
       "    </tr>\n",
       "    <tr>\n",
       "      <th>4</th>\n",
       "      <td>P-0006822-T01-IM5</td>\n",
       "      <td>0</td>\n",
       "      <td>0</td>\n",
       "      <td>0</td>\n",
       "      <td>0</td>\n",
       "      <td>0</td>\n",
       "      <td>0</td>\n",
       "      <td>0</td>\n",
       "      <td>0</td>\n",
       "      <td>0</td>\n",
       "      <td>...</td>\n",
       "      <td>0</td>\n",
       "      <td>0</td>\n",
       "      <td>0</td>\n",
       "      <td>0</td>\n",
       "      <td>0</td>\n",
       "      <td>0</td>\n",
       "      <td>0</td>\n",
       "      <td>0</td>\n",
       "      <td>0</td>\n",
       "      <td>0</td>\n",
       "    </tr>\n",
       "    <tr>\n",
       "      <th>...</th>\n",
       "      <td>...</td>\n",
       "      <td>...</td>\n",
       "      <td>...</td>\n",
       "      <td>...</td>\n",
       "      <td>...</td>\n",
       "      <td>...</td>\n",
       "      <td>...</td>\n",
       "      <td>...</td>\n",
       "      <td>...</td>\n",
       "      <td>...</td>\n",
       "      <td>...</td>\n",
       "      <td>...</td>\n",
       "      <td>...</td>\n",
       "      <td>...</td>\n",
       "      <td>...</td>\n",
       "      <td>...</td>\n",
       "      <td>...</td>\n",
       "      <td>...</td>\n",
       "      <td>...</td>\n",
       "      <td>...</td>\n",
       "      <td>...</td>\n",
       "    </tr>\n",
       "    <tr>\n",
       "      <th>1129</th>\n",
       "      <td>P-0010966-T01-IM5</td>\n",
       "      <td>0</td>\n",
       "      <td>0</td>\n",
       "      <td>0</td>\n",
       "      <td>0</td>\n",
       "      <td>0</td>\n",
       "      <td>0</td>\n",
       "      <td>0</td>\n",
       "      <td>0</td>\n",
       "      <td>0</td>\n",
       "      <td>...</td>\n",
       "      <td>0</td>\n",
       "      <td>0</td>\n",
       "      <td>0</td>\n",
       "      <td>0</td>\n",
       "      <td>0</td>\n",
       "      <td>0</td>\n",
       "      <td>0</td>\n",
       "      <td>0</td>\n",
       "      <td>0</td>\n",
       "      <td>0</td>\n",
       "    </tr>\n",
       "    <tr>\n",
       "      <th>1130</th>\n",
       "      <td>P-0009433-T01-IM5</td>\n",
       "      <td>0</td>\n",
       "      <td>0</td>\n",
       "      <td>0</td>\n",
       "      <td>0</td>\n",
       "      <td>0</td>\n",
       "      <td>0</td>\n",
       "      <td>0</td>\n",
       "      <td>0</td>\n",
       "      <td>0</td>\n",
       "      <td>...</td>\n",
       "      <td>0</td>\n",
       "      <td>0</td>\n",
       "      <td>0</td>\n",
       "      <td>0</td>\n",
       "      <td>0</td>\n",
       "      <td>0</td>\n",
       "      <td>0</td>\n",
       "      <td>0</td>\n",
       "      <td>0</td>\n",
       "      <td>0</td>\n",
       "    </tr>\n",
       "    <tr>\n",
       "      <th>1131</th>\n",
       "      <td>P-0006763-T01-IM5</td>\n",
       "      <td>0</td>\n",
       "      <td>0</td>\n",
       "      <td>0</td>\n",
       "      <td>0</td>\n",
       "      <td>0</td>\n",
       "      <td>0</td>\n",
       "      <td>0</td>\n",
       "      <td>0</td>\n",
       "      <td>0</td>\n",
       "      <td>...</td>\n",
       "      <td>0</td>\n",
       "      <td>0</td>\n",
       "      <td>0</td>\n",
       "      <td>0</td>\n",
       "      <td>0</td>\n",
       "      <td>0</td>\n",
       "      <td>0</td>\n",
       "      <td>0</td>\n",
       "      <td>0</td>\n",
       "      <td>0</td>\n",
       "    </tr>\n",
       "    <tr>\n",
       "      <th>1132</th>\n",
       "      <td>P-0000635-T01-IM3</td>\n",
       "      <td>0</td>\n",
       "      <td>0</td>\n",
       "      <td>0</td>\n",
       "      <td>0</td>\n",
       "      <td>0</td>\n",
       "      <td>0</td>\n",
       "      <td>0</td>\n",
       "      <td>0</td>\n",
       "      <td>0</td>\n",
       "      <td>...</td>\n",
       "      <td>0</td>\n",
       "      <td>0</td>\n",
       "      <td>0</td>\n",
       "      <td>0</td>\n",
       "      <td>0</td>\n",
       "      <td>0</td>\n",
       "      <td>0</td>\n",
       "      <td>0</td>\n",
       "      <td>0</td>\n",
       "      <td>0</td>\n",
       "    </tr>\n",
       "    <tr>\n",
       "      <th>1133</th>\n",
       "      <td>P-0001525-T01-IM3</td>\n",
       "      <td>0</td>\n",
       "      <td>0</td>\n",
       "      <td>0</td>\n",
       "      <td>0</td>\n",
       "      <td>0</td>\n",
       "      <td>0</td>\n",
       "      <td>0</td>\n",
       "      <td>0</td>\n",
       "      <td>0</td>\n",
       "      <td>...</td>\n",
       "      <td>0</td>\n",
       "      <td>0</td>\n",
       "      <td>0</td>\n",
       "      <td>0</td>\n",
       "      <td>0</td>\n",
       "      <td>0</td>\n",
       "      <td>0</td>\n",
       "      <td>0</td>\n",
       "      <td>0</td>\n",
       "      <td>0</td>\n",
       "    </tr>\n",
       "  </tbody>\n",
       "</table>\n",
       "<p>1134 rows × 475 columns</p>\n",
       "</div>"
      ],
      "text/plain": [
       "              Sample_Id  RB1  MDC1  ARAF  PREX2  SOX17  PPP4R2  MYC  AKT2  \\\n",
       "0     P-0006287-T01-IM5    0     0     0      0      0       0    0     0   \n",
       "1     P-0004652-T01-IM5    0     0     0      0      0       0    0     0   \n",
       "2     P-0002852-T01-IM3    0     0     0      0      0       0    0     0   \n",
       "3     P-0009139-T01-IM5    0     0     0      0      0       0    0     0   \n",
       "4     P-0006822-T01-IM5    0     0     0      0      0       0    0     0   \n",
       "...                 ...  ...   ...   ...    ...    ...     ...  ...   ...   \n",
       "1129  P-0010966-T01-IM5    0     0     0      0      0       0    0     0   \n",
       "1130  P-0009433-T01-IM5    0     0     0      0      0       0    0     0   \n",
       "1131  P-0006763-T01-IM5    0     0     0      0      0       0    0     0   \n",
       "1132  P-0000635-T01-IM3    0     0     0      0      0       0    0     0   \n",
       "1133  P-0001525-T01-IM3    0     0     0      0      0       0    0     0   \n",
       "\n",
       "      AKT3  ...  TSHR  ERCC3  ERCC4  CARM1  RPS6KB2  ERCC2  HIST3H3  ERCC5  \\\n",
       "0        0  ...     0      0      0      0        0      0        0      0   \n",
       "1        0  ...     0      0      0      0        0      0        0      0   \n",
       "2        0  ...     0      0      0      0        0      0        0      0   \n",
       "3        0  ...     0      0      0      0        0      0        0      0   \n",
       "4        0  ...     0      0      0      0        0      0        0      0   \n",
       "...    ...  ...   ...    ...    ...    ...      ...    ...      ...    ...   \n",
       "1129     0  ...     0      0      0      0        0      0        0      0   \n",
       "1130     0  ...     0      0      0      0        0      0        0      0   \n",
       "1131     0  ...     0      0      0      0        0      0        0      0   \n",
       "1132     0  ...     0      0      0      0        0      0        0      0   \n",
       "1133     0  ...     0      0      0      0        0      0        0      0   \n",
       "\n",
       "      KRAS  TEK  \n",
       "0        0    0  \n",
       "1        0    0  \n",
       "2        0    0  \n",
       "3        0    0  \n",
       "4        0    0  \n",
       "...    ...  ...  \n",
       "1129     0    0  \n",
       "1130     0    0  \n",
       "1131     0    0  \n",
       "1132     0    0  \n",
       "1133     0    0  \n",
       "\n",
       "[1134 rows x 475 columns]"
      ]
     },
     "execution_count": 54,
     "metadata": {},
     "output_type": "execute_result"
    }
   ],
   "source": [
    "usableCNAdf"
   ]
  },
  {
   "cell_type": "code",
   "execution_count": null,
   "id": "a2b64f47-e2d7-4656-8625-4cff4592afc9",
   "metadata": {},
   "outputs": [],
   "source": []
  },
  {
   "cell_type": "markdown",
   "id": "5bdf29da-de93-40ef-b5ac-e6c9ce0ecd59",
   "metadata": {},
   "source": [
    "### Data Visualization"
   ]
  },
  {
   "cell_type": "markdown",
   "id": "b25fea13-e590-4836-aaa0-abe06dcef9cc",
   "metadata": {},
   "source": [
    "### Functions"
   ]
  },
  {
   "cell_type": "code",
   "execution_count": 18,
   "id": "8fe76df0-20e9-43f2-97bc-9dea033ea5d8",
   "metadata": {},
   "outputs": [],
   "source": [
    "def display_and_visualize_cluster(numClusters):\n",
    "    kmeans = KMeans(n_clusters = numClusters)\n",
    "    kmeans.fit(X)\n",
    "    y_kmeans = kmeans.predict(X)\n",
    "    \n",
    "    # prints all of the points in the dataframe that are not empty\n",
    "    plt.scatter(X[:, 0], X[:, 1], c=y_kmeans, s=50, cmap='viridis')\n",
    "    \n",
    "    # prints the clusters on the plot\n",
    "    centers = kmeans.cluster_centers_\n",
    "    plt.scatter(centers[:, 0], centers[:, 1], c='black', s=200, alpha=0.5);\n",
    "    \n",
    "    \n",
    "    # the data is exported and tracked back to the original dataset so each datapoint in a cluster can be analyzed\n",
    "    Y = y_kmeans[:, np.newaxis]\n",
    "    # what first needs to be done is each datapoint in the cluster dataset (index maps to index of X value) \n",
    "    # needs to be connected with its corresponding X value, which can be done through a horizontal join \n",
    "    combinedArrays = np.hstack((X, Y))\n",
    "    lastColumnName = 'CLUSTER_NUMBER_' + str(numClusters)\n",
    "    combinedDF = pd.DataFrame(combinedArrays, columns = ['AGE_AT_DIAGNOSIS','OS_MONTHS', lastColumnName])\n",
    "    \n",
    "    # prevents the join function from creating more cells than necessary\n",
    "    noDups = combinedDF.drop_duplicates()\n",
    "    \n",
    "    \n",
    "    # since an outer join is completed, where duplicate rows would result in a table larger than earlier, we first eliminate duplicates to \n",
    "    # preserve the order and size of resultUnchanged \n",
    "    new_df = pd.merge(resultUnchanged, noDups,  how='left', left_on=['AGE_AT_DIAGNOSIS','OS_MONTHS'], right_on = ['AGE_AT_DIAGNOSIS','OS_MONTHS'])\n",
    "    \n",
    "    return new_df"
   ]
  },
  {
   "cell_type": "code",
   "execution_count": 27,
   "id": "9d49fed8-55fb-4e0f-afbb-41f28f9a2b2e",
   "metadata": {},
   "outputs": [],
   "source": [
    "def group_and_visualize_plots(currentValues):\n",
    "    grouped = resultUnchanged.groupby(currentValues)\n",
    "    \n",
    "    data = []\n",
    "    value = 0\n",
    "    \n",
    "    arrayForm = resultUnchanged[currentValues]\n",
    "    display(arrayForm)\n",
    "    \n",
    "    allCombos = list(arrayForm.groupby(currentValues).groups)\n",
    "    \n",
    "    for i in allCombos:\n",
    "        #temporary = np.array_str(i)\n",
    "        #temporary = temporary[2:(len(temporary)-2)]\n",
    "        df = grouped.get_group(i)\n",
    "        #display(df)\n",
    "        value += 1\n",
    "        #df = df[['AGE_AT_DIAGNOSIS', 'OS_MONTHS', 'SEX', \"MSI_STATUS\", 'VITAL_STATUS']]\n",
    "    \n",
    "        fig = px.scatter(df, x=\"AGE_AT_DIAGNOSIS\", y=\"OS_MONTHS\", color = df[currentValues].apply(tuple, axis=1), hover_data=[\"PATIENT_ID\", \"SAMPLE_ID\"])\n",
    "        website = 'data' + str(value) + '.html'\n",
    "        fig.show()"
   ]
  },
  {
   "cell_type": "markdown",
   "id": "f49506a6-f1a5-40d3-a994-9ce2578a2ac0",
   "metadata": {},
   "source": [
    "#### Primitive Version (Manually Splitting Data) Using Seaborn"
   ]
  },
  {
   "cell_type": "code",
   "execution_count": 31,
   "id": "61ad2f03-fd5b-498d-9f82-b6d8fdf60b10",
   "metadata": {},
   "outputs": [
    {
     "data": {
      "text/plain": [
       "<matplotlib.collections.PathCollection at 0x1a41fdc06d0>"
      ]
     },
     "execution_count": 31,
     "metadata": {},
     "output_type": "execute_result"
    },
    {
     "data": {
      "image/png": "[encoded data removed]",
      "text/plain": [
       "<Figure size 1440x1080 with 1 Axes>"
      ]
     },
     "metadata": {
      "needs_background": "light"
     },
     "output_type": "display_data"
    }
   ],
   "source": [
    "# Split the x and y value to be plotted\n",
    "xValues = np.array(resultUnchanged['AGE_AT_DIAGNOSIS'])[:, None]\n",
    "yValues = np.array(resultUnchanged['OS_MONTHS'])\n",
    "plt.figure(figsize=(20, 15))\n",
    "plt.scatter(xValues, yValues)"
   ]
  },
  {
   "cell_type": "code",
   "execution_count": 32,
   "id": "1fae64c0-8d30-462c-88c5-c4731ef2845e",
   "metadata": {},
   "outputs": [],
   "source": [
    "Males = resultUnchanged[resultUnchanged['SEX'] == 'Male']\n",
    "Females = resultUnchanged[resultUnchanged['SEX'] == 'Female']"
   ]
  },
  {
   "cell_type": "code",
   "execution_count": 33,
   "id": "a6ded5b3-c572-4a48-839f-6ab73dbb71e1",
   "metadata": {},
   "outputs": [
    {
     "data": {
      "text/plain": [
       "<matplotlib.collections.PathCollection at 0x1a41fe0e6a0>"
      ]
     },
     "execution_count": 33,
     "metadata": {},
     "output_type": "execute_result"
    },
    {
     "data": {
      "image/png": "[encoded data removed]",
      "text/plain": [
       "<Figure size 1440x1080 with 1 Axes>"
      ]
     },
     "metadata": {
      "needs_background": "light"
     },
     "output_type": "display_data"
    }
   ],
   "source": [
    "xValuesMales = np.array(Males['AGE_AT_DIAGNOSIS'])[:, None]\n",
    "yValuesMales = np.array(Males['OS_MONTHS'])\n",
    "\n",
    "xValuesFemales = np.array(Females['AGE_AT_DIAGNOSIS'])[:, None]\n",
    "yValuesFemales = np.array(Females['OS_MONTHS'])\n",
    "\n",
    "\n",
    "plt.figure(figsize=(20, 15))\n",
    "plt.scatter(xValuesMales, yValuesMales, label = 'Male', color = 'blue')\n",
    "plt.scatter(xValuesFemales, yValuesFemales, label = 'Female', color = 'red')"
   ]
  },
  {
   "cell_type": "code",
   "execution_count": 34,
   "id": "56d63931-c156-44fd-8806-4f590f712c4a",
   "metadata": {},
   "outputs": [],
   "source": []
  },
  {
   "cell_type": "markdown",
   "id": "771c3af0-80a1-4572-a413-a60ee41008d1",
   "metadata": {},
   "source": [
    "#### Advanced Visualization using Plotly"
   ]
  },
  {
   "cell_type": "code",
   "execution_count": 28,
   "id": "36499b64-ef1f-4f57-95f5-ee119cf656be",
   "metadata": {},
   "outputs": [
    {
     "data": {
      "text/html": [
       "<div>\n",
       "<style scoped>\n",
       "    .dataframe tbody tr th:only-of-type {\n",
       "        vertical-align: middle;\n",
       "    }\n",
       "\n",
       "    .dataframe tbody tr th {\n",
       "        vertical-align: top;\n",
       "    }\n",
       "\n",
       "    .dataframe thead th {\n",
       "        text-align: right;\n",
       "    }\n",
       "</style>\n",
       "<table border=\"1\" class=\"dataframe\">\n",
       "  <thead>\n",
       "    <tr style=\"text-align: right;\">\n",
       "      <th></th>\n",
       "      <th>SEX</th>\n",
       "      <th>MSI_STATUS</th>\n",
       "    </tr>\n",
       "  </thead>\n",
       "  <tbody>\n",
       "    <tr>\n",
       "      <th>0</th>\n",
       "      <td>Female</td>\n",
       "      <td>Unknown</td>\n",
       "    </tr>\n",
       "    <tr>\n",
       "      <th>1</th>\n",
       "      <td>Female</td>\n",
       "      <td>MSS</td>\n",
       "    </tr>\n",
       "    <tr>\n",
       "      <th>2</th>\n",
       "      <td>Male</td>\n",
       "      <td>Unknown</td>\n",
       "    </tr>\n",
       "    <tr>\n",
       "      <th>3</th>\n",
       "      <td>Female</td>\n",
       "      <td>MSS</td>\n",
       "    </tr>\n",
       "    <tr>\n",
       "      <th>4</th>\n",
       "      <td>Male</td>\n",
       "      <td>MSS</td>\n",
       "    </tr>\n",
       "    <tr>\n",
       "      <th>...</th>\n",
       "      <td>...</td>\n",
       "      <td>...</td>\n",
       "    </tr>\n",
       "    <tr>\n",
       "      <th>1129</th>\n",
       "      <td>Male</td>\n",
       "      <td>MSS</td>\n",
       "    </tr>\n",
       "    <tr>\n",
       "      <th>1130</th>\n",
       "      <td>Male</td>\n",
       "      <td>Unknown</td>\n",
       "    </tr>\n",
       "    <tr>\n",
       "      <th>1131</th>\n",
       "      <td>Female</td>\n",
       "      <td>MSS</td>\n",
       "    </tr>\n",
       "    <tr>\n",
       "      <th>1132</th>\n",
       "      <td>Female</td>\n",
       "      <td>MSI</td>\n",
       "    </tr>\n",
       "    <tr>\n",
       "      <th>1133</th>\n",
       "      <td>Male</td>\n",
       "      <td>MSS</td>\n",
       "    </tr>\n",
       "  </tbody>\n",
       "</table>\n",
       "<p>1134 rows × 2 columns</p>\n",
       "</div>"
      ],
      "text/plain": [
       "         SEX MSI_STATUS\n",
       "0     Female    Unknown\n",
       "1     Female        MSS\n",
       "2       Male    Unknown\n",
       "3     Female        MSS\n",
       "4       Male        MSS\n",
       "...      ...        ...\n",
       "1129    Male        MSS\n",
       "1130    Male    Unknown\n",
       "1131  Female        MSS\n",
       "1132  Female        MSI\n",
       "1133    Male        MSS\n",
       "\n",
       "[1134 rows x 2 columns]"
      ]
     },
     "metadata": {},
     "output_type": "display_data"
    },
    {
     "data": {
      "application/vnd.plotly.v1+json": {
       "config": {
        "plotlyServerURL": "https://plot.ly"
       },
       "data": [
        {
         "customdata": [
          [
           "P-0006835",
           "P-0006835-T01-IM5"
          ]
         ],
         "hovertemplate": "color=('Female', 'Inconclusive')<br>AGE_AT_DIAGNOSIS=%{x}<br>OS_MONTHS=%{y}<br>PATIENT_ID=%{customdata[0]}<br>SAMPLE_ID=%{customdata[1]}<extra></extra>",
         "legendgroup": "('Female', 'Inconclusive')",
         "marker": {
          "color": "#636efa",
          "symbol": "circle"
         },
         "mode": "markers",
         "name": "('Female', 'Inconclusive')",
         "orientation": "v",
         "showlegend": true,
         "type": "scatter",
         "x": [
          28
         ],
         "xaxis": "x",
         "y": [
          46.9
         ],
         "yaxis": "y"
        }
       ],
       "layout": {
        "autosize": true,
        "legend": {
         "title": {
          "text": "color"
         },
         "tracegroupgap": 0
        },
        "margin": {
         "t": 60
        },
        "template": {
         "data": {
          "bar": [
           {
            "error_x": {
             "color": "#2a3f5f"
            },
            "error_y": {
             "color": "#2a3f5f"
            },
            "marker": {
             "line": {
              "color": "#E5ECF6",
              "width": 0.5
             },
             "pattern": {
              "fillmode": "overlay",
              "size": 10,
              "solidity": 0.2
             }
            },
            "type": "bar"
           }
          ],
          "barpolar": [
           {
            "marker": {
             "line": {
              "color": "#E5ECF6",
              "width": 0.5
             },
             "pattern": {
              "fillmode": "overlay",
              "size": 10,
              "solidity": 0.2
             }
            },
            "type": "barpolar"
           }
          ],
          "carpet": [
           {
            "aaxis": {
             "endlinecolor": "#2a3f5f",
             "gridcolor": "white",
             "linecolor": "white",
             "minorgridcolor": "white",
             "startlinecolor": "#2a3f5f"
            },
            "baxis": {
             "endlinecolor": "#2a3f5f",
             "gridcolor": "white",
             "linecolor": "white",
             "minorgridcolor": "white",
             "startlinecolor": "#2a3f5f"
            },
            "type": "carpet"
           }
          ],
          "choropleth": [
           {
            "colorbar": {
             "outlinewidth": 0,
             "ticks": ""
            },
            "type": "choropleth"
           }
          ],
          "contour": [
           {
            "colorbar": {
             "outlinewidth": 0,
             "ticks": ""
            },
            "colorscale": [
             [
              0,
              "#0d0887"
             ],
             [
              0.1111111111111111,
              "#46039f"
             ],
             [
              0.2222222222222222,
              "#7201a8"
             ],
             [
              0.3333333333333333,
              "#9c179e"
             ],
             [
              0.4444444444444444,
              "#bd3786"
             ],
             [
              0.5555555555555556,
              "#d8576b"
             ],
             [
              0.6666666666666666,
              "#ed7953"
             ],
             [
              0.7777777777777778,
              "#fb9f3a"
             ],
             [
              0.8888888888888888,
              "#fdca26"
             ],
             [
              1,
              "#f0f921"
             ]
            ],
            "type": "contour"
           }
          ],
          "contourcarpet": [
           {
            "colorbar": {
             "outlinewidth": 0,
             "ticks": ""
            },
            "type": "contourcarpet"
           }
          ],
          "heatmap": [
           {
            "colorbar": {
             "outlinewidth": 0,
             "ticks": ""
            },
            "colorscale": [
             [
              0,
              "#0d0887"
             ],
             [
              0.1111111111111111,
              "#46039f"
             ],
             [
              0.2222222222222222,
              "#7201a8"
             ],
             [
              0.3333333333333333,
              "#9c179e"
             ],
             [
              0.4444444444444444,
              "#bd3786"
             ],
             [
              0.5555555555555556,
              "#d8576b"
             ],
             [
              0.6666666666666666,
              "#ed7953"
             ],
             [
              0.7777777777777778,
              "#fb9f3a"
             ],
             [
              0.8888888888888888,
              "#fdca26"
             ],
             [
              1,
              "#f0f921"
             ]
            ],
            "type": "heatmap"
           }
          ],
          "heatmapgl": [
           {
            "colorbar": {
             "outlinewidth": 0,
             "ticks": ""
            },
            "colorscale": [
             [
              0,
              "#0d0887"
             ],
             [
              0.1111111111111111,
              "#46039f"
             ],
             [
              0.2222222222222222,
              "#7201a8"
             ],
             [
              0.3333333333333333,
              "#9c179e"
             ],
             [
              0.4444444444444444,
              "#bd3786"
             ],
             [
              0.5555555555555556,
              "#d8576b"
             ],
             [
              0.6666666666666666,
              "#ed7953"
             ],
             [
              0.7777777777777778,
              "#fb9f3a"
             ],
             [
              0.8888888888888888,
              "#fdca26"
             ],
             [
              1,
              "#f0f921"
             ]
            ],
            "type": "heatmapgl"
           }
          ],
          "histogram": [
           {
            "marker": {
             "pattern": {
              "fillmode": "overlay",
              "size": 10,
              "solidity": 0.2
             }
            },
            "type": "histogram"
           }
          ],
          "histogram2d": [
           {
            "colorbar": {
             "outlinewidth": 0,
             "ticks": ""
            },
            "colorscale": [
             [
              0,
              "#0d0887"
             ],
             [
              0.1111111111111111,
              "#46039f"
             ],
             [
              0.2222222222222222,
              "#7201a8"
             ],
             [
              0.3333333333333333,
              "#9c179e"
             ],
             [
              0.4444444444444444,
              "#bd3786"
             ],
             [
              0.5555555555555556,
              "#d8576b"
             ],
             [
              0.6666666666666666,
              "#ed7953"
             ],
             [
              0.7777777777777778,
              "#fb9f3a"
             ],
             [
              0.8888888888888888,
              "#fdca26"
             ],
             [
              1,
              "#f0f921"
             ]
            ],
            "type": "histogram2d"
           }
          ],
          "histogram2dcontour": [
           {
            "colorbar": {
             "outlinewidth": 0,
             "ticks": ""
            },
            "colorscale": [
             [
              0,
              "#0d0887"
             ],
             [
              0.1111111111111111,
              "#46039f"
             ],
             [
              0.2222222222222222,
              "#7201a8"
             ],
             [
              0.3333333333333333,
              "#9c179e"
             ],
             [
              0.4444444444444444,
              "#bd3786"
             ],
             [
              0.5555555555555556,
              "#d8576b"
             ],
             [
              0.6666666666666666,
              "#ed7953"
             ],
             [
              0.7777777777777778,
              "#fb9f3a"
             ],
             [
              0.8888888888888888,
              "#fdca26"
             ],
             [
              1,
              "#f0f921"
             ]
            ],
            "type": "histogram2dcontour"
           }
          ],
          "mesh3d": [
           {
            "colorbar": {
             "outlinewidth": 0,
             "ticks": ""
            },
            "type": "mesh3d"
           }
          ],
          "parcoords": [
           {
            "line": {
             "colorbar": {
              "outlinewidth": 0,
              "ticks": ""
             }
            },
            "type": "parcoords"
           }
          ],
          "pie": [
           {
            "automargin": true,
            "type": "pie"
           }
          ],
          "scatter": [
           {
            "fillpattern": {
             "fillmode": "overlay",
             "size": 10,
             "solidity": 0.2
            },
            "type": "scatter"
           }
          ],
          "scatter3d": [
           {
            "line": {
             "colorbar": {
              "outlinewidth": 0,
              "ticks": ""
             }
            },
            "marker": {
             "colorbar": {
              "outlinewidth": 0,
              "ticks": ""
             }
            },
            "type": "scatter3d"
           }
          ],
          "scattercarpet": [
           {
            "marker": {
             "colorbar": {
              "outlinewidth": 0,
              "ticks": ""
             }
            },
            "type": "scattercarpet"
           }
          ],
          "scattergeo": [
           {
            "marker": {
             "colorbar": {
              "outlinewidth": 0,
              "ticks": ""
             }
            },
            "type": "scattergeo"
           }
          ],
          "scattergl": [
           {
            "marker": {
             "colorbar": {
              "outlinewidth": 0,
              "ticks": ""
             }
            },
            "type": "scattergl"
           }
          ],
          "scattermapbox": [
           {
            "marker": {
             "colorbar": {
              "outlinewidth": 0,
              "ticks": ""
             }
            },
            "type": "scattermapbox"
           }
          ],
          "scatterpolar": [
           {
            "marker": {
             "colorbar": {
              "outlinewidth": 0,
              "ticks": ""
             }
            },
            "type": "scatterpolar"
           }
          ],
          "scatterpolargl": [
           {
            "marker": {
             "colorbar": {
              "outlinewidth": 0,
              "ticks": ""
             }
            },
            "type": "scatterpolargl"
           }
          ],
          "scatterternary": [
           {
            "marker": {
             "colorbar": {
              "outlinewidth": 0,
              "ticks": ""
             }
            },
            "type": "scatterternary"
           }
          ],
          "surface": [
           {
            "colorbar": {
             "outlinewidth": 0,
             "ticks": ""
            },
            "colorscale": [
             [
              0,
              "#0d0887"
             ],
             [
              0.1111111111111111,
              "#46039f"
             ],
             [
              0.2222222222222222,
              "#7201a8"
             ],
             [
              0.3333333333333333,
              "#9c179e"
             ],
             [
              0.4444444444444444,
              "#bd3786"
             ],
             [
              0.5555555555555556,
              "#d8576b"
             ],
             [
              0.6666666666666666,
              "#ed7953"
             ],
             [
              0.7777777777777778,
              "#fb9f3a"
             ],
             [
              0.8888888888888888,
              "#fdca26"
             ],
             [
              1,
              "#f0f921"
             ]
            ],
            "type": "surface"
           }
          ],
          "table": [
           {
            "cells": {
             "fill": {
              "color": "#EBF0F8"
             },
             "line": {
              "color": "white"
             }
            },
            "header": {
             "fill": {
              "color": "#C8D4E3"
             },
             "line": {
              "color": "white"
             }
            },
            "type": "table"
           }
          ]
         },
         "layout": {
          "annotationdefaults": {
           "arrowcolor": "#2a3f5f",
           "arrowhead": 0,
           "arrowwidth": 1
          },
          "autotypenumbers": "strict",
          "coloraxis": {
           "colorbar": {
            "outlinewidth": 0,
            "ticks": ""
           }
          },
          "colorscale": {
           "diverging": [
            [
             0,
             "#8e0152"
            ],
            [
             0.1,
             "#c51b7d"
            ],
            [
             0.2,
             "#de77ae"
            ],
            [
             0.3,
             "#f1b6da"
            ],
            [
             0.4,
             "#fde0ef"
            ],
            [
             0.5,
             "#f7f7f7"
            ],
            [
             0.6,
             "#e6f5d0"
            ],
            [
             0.7,
             "#b8e186"
            ],
            [
             0.8,
             "#7fbc41"
            ],
            [
             0.9,
             "#4d9221"
            ],
            [
             1,
             "#276419"
            ]
           ],
           "sequential": [
            [
             0,
             "#0d0887"
            ],
            [
             0.1111111111111111,
             "#46039f"
            ],
            [
             0.2222222222222222,
             "#7201a8"
            ],
            [
             0.3333333333333333,
             "#9c179e"
            ],
            [
             0.4444444444444444,
             "#bd3786"
            ],
            [
             0.5555555555555556,
             "#d8576b"
            ],
            [
             0.6666666666666666,
             "#ed7953"
            ],
            [
             0.7777777777777778,
             "#fb9f3a"
            ],
            [
             0.8888888888888888,
             "#fdca26"
            ],
            [
             1,
             "#f0f921"
            ]
           ],
           "sequentialminus": [
            [
             0,
             "#0d0887"
            ],
            [
             0.1111111111111111,
             "#46039f"
            ],
            [
             0.2222222222222222,
             "#7201a8"
            ],
            [
             0.3333333333333333,
             "#9c179e"
            ],
            [
             0.4444444444444444,
             "#bd3786"
            ],
            [
             0.5555555555555556,
             "#d8576b"
            ],
            [
             0.6666666666666666,
             "#ed7953"
            ],
            [
             0.7777777777777778,
             "#fb9f3a"
            ],
            [
             0.8888888888888888,
             "#fdca26"
            ],
            [
             1,
             "#f0f921"
            ]
           ]
          },
          "colorway": [
           "#636efa",
           "#EF553B",
           "#00cc96",
           "#ab63fa",
           "#FFA15A",
           "#19d3f3",
           "#FF6692",
           "#B6E880",
           "#FF97FF",
           "#FECB52"
          ],
          "font": {
           "color": "#2a3f5f"
          },
          "geo": {
           "bgcolor": "white",
           "lakecolor": "white",
           "landcolor": "#E5ECF6",
           "showlakes": true,
           "showland": true,
           "subunitcolor": "white"
          },
          "hoverlabel": {
           "align": "left"
          },
          "hovermode": "closest",
          "mapbox": {
           "style": "light"
          },
          "paper_bgcolor": "white",
          "plot_bgcolor": "#E5ECF6",
          "polar": {
           "angularaxis": {
            "gridcolor": "white",
            "linecolor": "white",
            "ticks": ""
           },
           "bgcolor": "#E5ECF6",
           "radialaxis": {
            "gridcolor": "white",
            "linecolor": "white",
            "ticks": ""
           }
          },
          "scene": {
           "xaxis": {
            "backgroundcolor": "#E5ECF6",
            "gridcolor": "white",
            "gridwidth": 2,
            "linecolor": "white",
            "showbackground": true,
            "ticks": "",
            "zerolinecolor": "white"
           },
           "yaxis": {
            "backgroundcolor": "#E5ECF6",
            "gridcolor": "white",
            "gridwidth": 2,
            "linecolor": "white",
            "showbackground": true,
            "ticks": "",
            "zerolinecolor": "white"
           },
           "zaxis": {
            "backgroundcolor": "#E5ECF6",
            "gridcolor": "white",
            "gridwidth": 2,
            "linecolor": "white",
            "showbackground": true,
            "ticks": "",
            "zerolinecolor": "white"
           }
          },
          "shapedefaults": {
           "line": {
            "color": "#2a3f5f"
           }
          },
          "ternary": {
           "aaxis": {
            "gridcolor": "white",
            "linecolor": "white",
            "ticks": ""
           },
           "baxis": {
            "gridcolor": "white",
            "linecolor": "white",
            "ticks": ""
           },
           "bgcolor": "#E5ECF6",
           "caxis": {
            "gridcolor": "white",
            "linecolor": "white",
            "ticks": ""
           }
          },
          "title": {
           "x": 0.05
          },
          "xaxis": {
           "automargin": true,
           "gridcolor": "white",
           "linecolor": "white",
           "ticks": "",
           "title": {
            "standoff": 15
           },
           "zerolinecolor": "white",
           "zerolinewidth": 2
          },
          "yaxis": {
           "automargin": true,
           "gridcolor": "white",
           "linecolor": "white",
           "ticks": "",
           "title": {
            "standoff": 15
           },
           "zerolinecolor": "white",
           "zerolinewidth": 2
          }
         }
        },
        "xaxis": {
         "anchor": "y",
         "autorange": true,
         "domain": [
          0,
          1
         ],
         "range": [
          27,
          29
         ],
         "title": {
          "text": "AGE_AT_DIAGNOSIS"
         },
         "type": "linear"
        },
        "yaxis": {
         "anchor": "x",
         "autorange": true,
         "domain": [
          0,
          1
         ],
         "range": [
          45.9,
          47.9
         ],
         "title": {
          "text": "OS_MONTHS"
         },
         "type": "linear"
        }
       }
      },
      "image/png": "[encoded data removed]",
      "text/html": [
       "<div>                            <div id=\"2c74ab2b-ff23-4331-9927-f9ea5506aab0\" class=\"plotly-graph-div\" style=\"height:525px; width:100%;\"></div>            <script type=\"text/javascript\">                require([\"plotly\"], function(Plotly) {                    window.PLOTLYENV=window.PLOTLYENV || {};                                    if (document.getElementById(\"2c74ab2b-ff23-4331-9927-f9ea5506aab0\")) {                    Plotly.newPlot(                        \"2c74ab2b-ff23-4331-9927-f9ea5506aab0\",                        [{\"customdata\":[[\"P-0006835\",\"P-0006835-T01-IM5\"]],\"hovertemplate\":\"color=('Female', 'Inconclusive')<br>AGE_AT_DIAGNOSIS=%{x}<br>OS_MONTHS=%{y}<br>PATIENT_ID=%{customdata[0]}<br>SAMPLE_ID=%{customdata[1]}<extra></extra>\",\"legendgroup\":\"('Female', 'Inconclusive')\",\"marker\":{\"color\":\"#636efa\",\"symbol\":\"circle\"},\"mode\":\"markers\",\"name\":\"('Female', 'Inconclusive')\",\"orientation\":\"v\",\"showlegend\":true,\"x\":[28],\"xaxis\":\"x\",\"y\":[46.9],\"yaxis\":\"y\",\"type\":\"scatter\"}],                        {\"template\":{\"data\":{\"histogram2dcontour\":[{\"type\":\"histogram2dcontour\",\"colorbar\":{\"outlinewidth\":0,\"ticks\":\"\"},\"colorscale\":[[0.0,\"#0d0887\"],[0.1111111111111111,\"#46039f\"],[0.2222222222222222,\"#7201a8\"],[0.3333333333333333,\"#9c179e\"],[0.4444444444444444,\"#bd3786\"],[0.5555555555555556,\"#d8576b\"],[0.6666666666666666,\"#ed7953\"],[0.7777777777777778,\"#fb9f3a\"],[0.8888888888888888,\"#fdca26\"],[1.0,\"#f0f921\"]]}],\"choropleth\":[{\"type\":\"choropleth\",\"colorbar\":{\"outlinewidth\":0,\"ticks\":\"\"}}],\"histogram2d\":[{\"type\":\"histogram2d\",\"colorbar\":{\"outlinewidth\":0,\"ticks\":\"\"},\"colorscale\":[[0.0,\"#0d0887\"],[0.1111111111111111,\"#46039f\"],[0.2222222222222222,\"#7201a8\"],[0.3333333333333333,\"#9c179e\"],[0.4444444444444444,\"#bd3786\"],[0.5555555555555556,\"#d8576b\"],[0.6666666666666666,\"#ed7953\"],[0.7777777777777778,\"#fb9f3a\"],[0.8888888888888888,\"#fdca26\"],[1.0,\"#f0f921\"]]}],\"heatmap\":[{\"type\":\"heatmap\",\"colorbar\":{\"outlinewidth\":0,\"ticks\":\"\"},\"colorscale\":[[0.0,\"#0d0887\"],[0.1111111111111111,\"#46039f\"],[0.2222222222222222,\"#7201a8\"],[0.3333333333333333,\"#9c179e\"],[0.4444444444444444,\"#bd3786\"],[0.5555555555555556,\"#d8576b\"],[0.6666666666666666,\"#ed7953\"],[0.7777777777777778,\"#fb9f3a\"],[0.8888888888888888,\"#fdca26\"],[1.0,\"#f0f921\"]]}],\"heatmapgl\":[{\"type\":\"heatmapgl\",\"colorbar\":{\"outlinewidth\":0,\"ticks\":\"\"},\"colorscale\":[[0.0,\"#0d0887\"],[0.1111111111111111,\"#46039f\"],[0.2222222222222222,\"#7201a8\"],[0.3333333333333333,\"#9c179e\"],[0.4444444444444444,\"#bd3786\"],[0.5555555555555556,\"#d8576b\"],[0.6666666666666666,\"#ed7953\"],[0.7777777777777778,\"#fb9f3a\"],[0.8888888888888888,\"#fdca26\"],[1.0,\"#f0f921\"]]}],\"contourcarpet\":[{\"type\":\"contourcarpet\",\"colorbar\":{\"outlinewidth\":0,\"ticks\":\"\"}}],\"contour\":[{\"type\":\"contour\",\"colorbar\":{\"outlinewidth\":0,\"ticks\":\"\"},\"colorscale\":[[0.0,\"#0d0887\"],[0.1111111111111111,\"#46039f\"],[0.2222222222222222,\"#7201a8\"],[0.3333333333333333,\"#9c179e\"],[0.4444444444444444,\"#bd3786\"],[0.5555555555555556,\"#d8576b\"],[0.6666666666666666,\"#ed7953\"],[0.7777777777777778,\"#fb9f3a\"],[0.8888888888888888,\"#fdca26\"],[1.0,\"#f0f921\"]]}],\"surface\":[{\"type\":\"surface\",\"colorbar\":{\"outlinewidth\":0,\"ticks\":\"\"},\"colorscale\":[[0.0,\"#0d0887\"],[0.1111111111111111,\"#46039f\"],[0.2222222222222222,\"#7201a8\"],[0.3333333333333333,\"#9c179e\"],[0.4444444444444444,\"#bd3786\"],[0.5555555555555556,\"#d8576b\"],[0.6666666666666666,\"#ed7953\"],[0.7777777777777778,\"#fb9f3a\"],[0.8888888888888888,\"#fdca26\"],[1.0,\"#f0f921\"]]}],\"mesh3d\":[{\"type\":\"mesh3d\",\"colorbar\":{\"outlinewidth\":0,\"ticks\":\"\"}}],\"scatter\":[{\"fillpattern\":{\"fillmode\":\"overlay\",\"size\":10,\"solidity\":0.2},\"type\":\"scatter\"}],\"parcoords\":[{\"type\":\"parcoords\",\"line\":{\"colorbar\":{\"outlinewidth\":0,\"ticks\":\"\"}}}],\"scatterpolargl\":[{\"type\":\"scatterpolargl\",\"marker\":{\"colorbar\":{\"outlinewidth\":0,\"ticks\":\"\"}}}],\"bar\":[{\"error_x\":{\"color\":\"#2a3f5f\"},\"error_y\":{\"color\":\"#2a3f5f\"},\"marker\":{\"line\":{\"color\":\"#E5ECF6\",\"width\":0.5},\"pattern\":{\"fillmode\":\"overlay\",\"size\":10,\"solidity\":0.2}},\"type\":\"bar\"}],\"scattergeo\":[{\"type\":\"scattergeo\",\"marker\":{\"colorbar\":{\"outlinewidth\":0,\"ticks\":\"\"}}}],\"scatterpolar\":[{\"type\":\"scatterpolar\",\"marker\":{\"colorbar\":{\"outlinewidth\":0,\"ticks\":\"\"}}}],\"histogram\":[{\"marker\":{\"pattern\":{\"fillmode\":\"overlay\",\"size\":10,\"solidity\":0.2}},\"type\":\"histogram\"}],\"scattergl\":[{\"type\":\"scattergl\",\"marker\":{\"colorbar\":{\"outlinewidth\":0,\"ticks\":\"\"}}}],\"scatter3d\":[{\"type\":\"scatter3d\",\"line\":{\"colorbar\":{\"outlinewidth\":0,\"ticks\":\"\"}},\"marker\":{\"colorbar\":{\"outlinewidth\":0,\"ticks\":\"\"}}}],\"scattermapbox\":[{\"type\":\"scattermapbox\",\"marker\":{\"colorbar\":{\"outlinewidth\":0,\"ticks\":\"\"}}}],\"scatterternary\":[{\"type\":\"scatterternary\",\"marker\":{\"colorbar\":{\"outlinewidth\":0,\"ticks\":\"\"}}}],\"scattercarpet\":[{\"type\":\"scattercarpet\",\"marker\":{\"colorbar\":{\"outlinewidth\":0,\"ticks\":\"\"}}}],\"carpet\":[{\"aaxis\":{\"endlinecolor\":\"#2a3f5f\",\"gridcolor\":\"white\",\"linecolor\":\"white\",\"minorgridcolor\":\"white\",\"startlinecolor\":\"#2a3f5f\"},\"baxis\":{\"endlinecolor\":\"#2a3f5f\",\"gridcolor\":\"white\",\"linecolor\":\"white\",\"minorgridcolor\":\"white\",\"startlinecolor\":\"#2a3f5f\"},\"type\":\"carpet\"}],\"table\":[{\"cells\":{\"fill\":{\"color\":\"#EBF0F8\"},\"line\":{\"color\":\"white\"}},\"header\":{\"fill\":{\"color\":\"#C8D4E3\"},\"line\":{\"color\":\"white\"}},\"type\":\"table\"}],\"barpolar\":[{\"marker\":{\"line\":{\"color\":\"#E5ECF6\",\"width\":0.5},\"pattern\":{\"fillmode\":\"overlay\",\"size\":10,\"solidity\":0.2}},\"type\":\"barpolar\"}],\"pie\":[{\"automargin\":true,\"type\":\"pie\"}]},\"layout\":{\"autotypenumbers\":\"strict\",\"colorway\":[\"#636efa\",\"#EF553B\",\"#00cc96\",\"#ab63fa\",\"#FFA15A\",\"#19d3f3\",\"#FF6692\",\"#B6E880\",\"#FF97FF\",\"#FECB52\"],\"font\":{\"color\":\"#2a3f5f\"},\"hovermode\":\"closest\",\"hoverlabel\":{\"align\":\"left\"},\"paper_bgcolor\":\"white\",\"plot_bgcolor\":\"#E5ECF6\",\"polar\":{\"bgcolor\":\"#E5ECF6\",\"angularaxis\":{\"gridcolor\":\"white\",\"linecolor\":\"white\",\"ticks\":\"\"},\"radialaxis\":{\"gridcolor\":\"white\",\"linecolor\":\"white\",\"ticks\":\"\"}},\"ternary\":{\"bgcolor\":\"#E5ECF6\",\"aaxis\":{\"gridcolor\":\"white\",\"linecolor\":\"white\",\"ticks\":\"\"},\"baxis\":{\"gridcolor\":\"white\",\"linecolor\":\"white\",\"ticks\":\"\"},\"caxis\":{\"gridcolor\":\"white\",\"linecolor\":\"white\",\"ticks\":\"\"}},\"coloraxis\":{\"colorbar\":{\"outlinewidth\":0,\"ticks\":\"\"}},\"colorscale\":{\"sequential\":[[0.0,\"#0d0887\"],[0.1111111111111111,\"#46039f\"],[0.2222222222222222,\"#7201a8\"],[0.3333333333333333,\"#9c179e\"],[0.4444444444444444,\"#bd3786\"],[0.5555555555555556,\"#d8576b\"],[0.6666666666666666,\"#ed7953\"],[0.7777777777777778,\"#fb9f3a\"],[0.8888888888888888,\"#fdca26\"],[1.0,\"#f0f921\"]],\"sequentialminus\":[[0.0,\"#0d0887\"],[0.1111111111111111,\"#46039f\"],[0.2222222222222222,\"#7201a8\"],[0.3333333333333333,\"#9c179e\"],[0.4444444444444444,\"#bd3786\"],[0.5555555555555556,\"#d8576b\"],[0.6666666666666666,\"#ed7953\"],[0.7777777777777778,\"#fb9f3a\"],[0.8888888888888888,\"#fdca26\"],[1.0,\"#f0f921\"]],\"diverging\":[[0,\"#8e0152\"],[0.1,\"#c51b7d\"],[0.2,\"#de77ae\"],[0.3,\"#f1b6da\"],[0.4,\"#fde0ef\"],[0.5,\"#f7f7f7\"],[0.6,\"#e6f5d0\"],[0.7,\"#b8e186\"],[0.8,\"#7fbc41\"],[0.9,\"#4d9221\"],[1,\"#276419\"]]},\"xaxis\":{\"gridcolor\":\"white\",\"linecolor\":\"white\",\"ticks\":\"\",\"title\":{\"standoff\":15},\"zerolinecolor\":\"white\",\"automargin\":true,\"zerolinewidth\":2},\"yaxis\":{\"gridcolor\":\"white\",\"linecolor\":\"white\",\"ticks\":\"\",\"title\":{\"standoff\":15},\"zerolinecolor\":\"white\",\"automargin\":true,\"zerolinewidth\":2},\"scene\":{\"xaxis\":{\"backgroundcolor\":\"#E5ECF6\",\"gridcolor\":\"white\",\"linecolor\":\"white\",\"showbackground\":true,\"ticks\":\"\",\"zerolinecolor\":\"white\",\"gridwidth\":2},\"yaxis\":{\"backgroundcolor\":\"#E5ECF6\",\"gridcolor\":\"white\",\"linecolor\":\"white\",\"showbackground\":true,\"ticks\":\"\",\"zerolinecolor\":\"white\",\"gridwidth\":2},\"zaxis\":{\"backgroundcolor\":\"#E5ECF6\",\"gridcolor\":\"white\",\"linecolor\":\"white\",\"showbackground\":true,\"ticks\":\"\",\"zerolinecolor\":\"white\",\"gridwidth\":2}},\"shapedefaults\":{\"line\":{\"color\":\"#2a3f5f\"}},\"annotationdefaults\":{\"arrowcolor\":\"#2a3f5f\",\"arrowhead\":0,\"arrowwidth\":1},\"geo\":{\"bgcolor\":\"white\",\"landcolor\":\"#E5ECF6\",\"subunitcolor\":\"white\",\"showland\":true,\"showlakes\":true,\"lakecolor\":\"white\"},\"title\":{\"x\":0.05},\"mapbox\":{\"style\":\"light\"}}},\"xaxis\":{\"anchor\":\"y\",\"domain\":[0.0,1.0],\"title\":{\"text\":\"AGE_AT_DIAGNOSIS\"}},\"yaxis\":{\"anchor\":\"x\",\"domain\":[0.0,1.0],\"title\":{\"text\":\"OS_MONTHS\"}},\"legend\":{\"title\":{\"text\":\"color\"},\"tracegroupgap\":0},\"margin\":{\"t\":60}},                        {\"responsive\": true}                    ).then(function(){\n",
       "                            \n",
       "var gd = document.getElementById('2c74ab2b-ff23-4331-9927-f9ea5506aab0');\n",
       "var x = new MutationObserver(function (mutations, observer) {{\n",
       "        var display = window.getComputedStyle(gd).display;\n",
       "        if (!display || display === 'none') {{\n",
       "            console.log([gd, 'removed!']);\n",
       "            Plotly.purge(gd);\n",
       "            observer.disconnect();\n",
       "        }}\n",
       "}});\n",
       "\n",
       "// Listen for the removal of the full notebook cells\n",
       "var notebookContainer = gd.closest('#notebook-container');\n",
       "if (notebookContainer) {{\n",
       "    x.observe(notebookContainer, {childList: true});\n",
       "}}\n",
       "\n",
       "// Listen for the clearing of the current output cell\n",
       "var outputEl = gd.closest('.output');\n",
       "if (outputEl) {{\n",
       "    x.observe(outputEl, {childList: true});\n",
       "}}\n",
       "\n",
       "                        })                };                });            </script>        </div>"
      ]
     },
     "metadata": {},
     "output_type": "display_data"
    },
    {
     "data": {
      "application/vnd.plotly.v1+json": {
       "config": {
        "plotlyServerURL": "https://plot.ly"
       },
       "data": [
        {
         "customdata": [
          [
           "P-0000561",
           "P-0000561-T01-IM3"
          ],
          [
           "P-0000862",
           "P-0000862-T01-IM3"
          ],
          [
           "P-0001913",
           "P-0001913-T02-IM5"
          ],
          [
           "P-0002049",
           "P-0002049-T01-IM3"
          ],
          [
           "P-0002463",
           "P-0002463-T01-IM3"
          ],
          [
           "P-0002463",
           "P-0002463-T02-IM5"
          ],
          [
           "P-0002671",
           "P-0002671-T01-IM3"
          ],
          [
           "P-0004602",
           "P-0004602-T01-IM5"
          ],
          [
           "P-0005384",
           "P-0005384-T01-IM5"
          ],
          [
           "P-0005560",
           "P-0005560-T01-IM5"
          ],
          [
           "P-0006170",
           "P-0006170-T01-IM5"
          ],
          [
           "P-0006207",
           "P-0006207-T01-IM5"
          ],
          [
           "P-0006863",
           "P-0006863-T01-IM5"
          ],
          [
           "P-0007055",
           "P-0007055-T01-IM5"
          ],
          [
           "P-0007147",
           "P-0007147-T01-IM5"
          ],
          [
           "P-0007296",
           "P-0007296-T01-IM5"
          ],
          [
           "P-0007596",
           "P-0007596-T01-IM5"
          ],
          [
           "P-0007688",
           "P-0007688-T01-IM5"
          ],
          [
           "P-0007739",
           "P-0007739-T01-IM5"
          ],
          [
           "P-0007746",
           "P-0007746-T01-IM5"
          ],
          [
           "P-0007831",
           "P-0007831-T01-IM5"
          ],
          [
           "P-0007836",
           "P-0007836-T01-IM5"
          ],
          [
           "P-0007997",
           "P-0007997-T01-IM5"
          ],
          [
           "P-0008721",
           "P-0008721-T01-IM5"
          ],
          [
           "P-0008745",
           "P-0008745-T01-IM5"
          ],
          [
           "P-0008746",
           "P-0008746-T01-IM5"
          ],
          [
           "P-0009403",
           "P-0009403-T02-IM5"
          ],
          [
           "P-0009964",
           "P-0009964-T01-IM5"
          ],
          [
           "P-0009964",
           "P-0009964-T02-IM5"
          ],
          [
           "P-0010308",
           "P-0010308-T01-IM5"
          ],
          [
           "P-0010587",
           "P-0010587-T01-IM5"
          ],
          [
           "P-0010783",
           "P-0010783-T01-IM5"
          ],
          [
           "P-0011182",
           "P-0011182-T01-IM5"
          ],
          [
           "P-0011235",
           "P-0011235-T01-IM5"
          ],
          [
           "P-0011446",
           "P-0011446-T01-IM5"
          ],
          [
           "P-0012249",
           "P-0012249-T01-IM5"
          ],
          [
           "P-0013082",
           "P-0013082-T01-IM5"
          ],
          [
           "P-0013169",
           "P-0013169-T01-IM5"
          ],
          [
           "P-0013227",
           "P-0013227-T01-IM5"
          ],
          [
           "P-0013357",
           "P-0013357-T01-IM5"
          ],
          [
           "P-0013374",
           "P-0013374-T01-IM5"
          ],
          [
           "P-0013400",
           "P-0013400-T01-IM5"
          ],
          [
           "P-0013462",
           "P-0013462-T01-IM5"
          ],
          [
           "P-0013735",
           "P-0013735-T01-IM5"
          ],
          [
           "P-0014143",
           "P-0014143-T01-IM5"
          ],
          [
           "P-0014404",
           "P-0014404-T01-IM6"
          ]
         ],
         "hovertemplate": "color=('Female', 'MSI')<br>AGE_AT_DIAGNOSIS=%{x}<br>OS_MONTHS=%{y}<br>PATIENT_ID=%{customdata[0]}<br>SAMPLE_ID=%{customdata[1]}<extra></extra>",
         "legendgroup": "('Female', 'MSI')",
         "marker": {
          "color": "#636efa",
          "symbol": "circle"
         },
         "mode": "markers",
         "name": "('Female', 'MSI')",
         "orientation": "v",
         "showlegend": true,
         "type": "scatter",
         "x": [
          22,
          74,
          46,
          31,
          57,
          57,
          61,
          50,
          45,
          60,
          52,
          78,
          47,
          68,
          40,
          35,
          67,
          81,
          33,
          65,
          67,
          68,
          56,
          74,
          85,
          67,
          81,
          81,
          81,
          67,
          59,
          74,
          43,
          63,
          74,
          60,
          41,
          65,
          28,
          73,
          79,
          43,
          81,
          68,
          68,
          62
         ],
         "xaxis": "x",
         "y": [
          7.87,
          33,
          null,
          34.2,
          17.7,
          17.7,
          5.97,
          null,
          49.87,
          null,
          null,
          null,
          null,
          null,
          70.9,
          null,
          null,
          null,
          167.77,
          null,
          null,
          null,
          7.333333333,
          24.3,
          null,
          null,
          null,
          null,
          null,
          null,
          20.23333333,
          null,
          19.77,
          null,
          null,
          19.33333333,
          null,
          null,
          173.56666669999998,
          null,
          null,
          null,
          18.96666667,
          null,
          105.4333333,
          null
         ],
         "yaxis": "y"
        }
       ],
       "layout": {
        "autosize": true,
        "legend": {
         "title": {
          "text": "color"
         },
         "tracegroupgap": 0
        },
        "margin": {
         "t": 60
        },
        "template": {
         "data": {
          "bar": [
           {
            "error_x": {
             "color": "#2a3f5f"
            },
            "error_y": {
             "color": "#2a3f5f"
            },
            "marker": {
             "line": {
              "color": "#E5ECF6",
              "width": 0.5
             },
             "pattern": {
              "fillmode": "overlay",
              "size": 10,
              "solidity": 0.2
             }
            },
            "type": "bar"
           }
          ],
          "barpolar": [
           {
            "marker": {
             "line": {
              "color": "#E5ECF6",
              "width": 0.5
             },
             "pattern": {
              "fillmode": "overlay",
              "size": 10,
              "solidity": 0.2
             }
            },
            "type": "barpolar"
           }
          ],
          "carpet": [
           {
            "aaxis": {
             "endlinecolor": "#2a3f5f",
             "gridcolor": "white",
             "linecolor": "white",
             "minorgridcolor": "white",
             "startlinecolor": "#2a3f5f"
            },
            "baxis": {
             "endlinecolor": "#2a3f5f",
             "gridcolor": "white",
             "linecolor": "white",
             "minorgridcolor": "white",
             "startlinecolor": "#2a3f5f"
            },
            "type": "carpet"
           }
          ],
          "choropleth": [
           {
            "colorbar": {
             "outlinewidth": 0,
             "ticks": ""
            },
            "type": "choropleth"
           }
          ],
          "contour": [
           {
            "colorbar": {
             "outlinewidth": 0,
             "ticks": ""
            },
            "colorscale": [
             [
              0,
              "#0d0887"
             ],
             [
              0.1111111111111111,
              "#46039f"
             ],
             [
              0.2222222222222222,
              "#7201a8"
             ],
             [
              0.3333333333333333,
              "#9c179e"
             ],
             [
              0.4444444444444444,
              "#bd3786"
             ],
             [
              0.5555555555555556,
              "#d8576b"
             ],
             [
              0.6666666666666666,
              "#ed7953"
             ],
             [
              0.7777777777777778,
              "#fb9f3a"
             ],
             [
              0.8888888888888888,
              "#fdca26"
             ],
             [
              1,
              "#f0f921"
             ]
            ],
            "type": "contour"
           }
          ],
          "contourcarpet": [
           {
            "colorbar": {
             "outlinewidth": 0,
             "ticks": ""
            },
            "type": "contourcarpet"
           }
          ],
          "heatmap": [
           {
            "colorbar": {
             "outlinewidth": 0,
             "ticks": ""
            },
            "colorscale": [
             [
              0,
              "#0d0887"
             ],
             [
              0.1111111111111111,
              "#46039f"
             ],
             [
              0.2222222222222222,
              "#7201a8"
             ],
             [
              0.3333333333333333,
              "#9c179e"
             ],
             [
              0.4444444444444444,
              "#bd3786"
             ],
             [
              0.5555555555555556,
              "#d8576b"
             ],
             [
              0.6666666666666666,
              "#ed7953"
             ],
             [
              0.7777777777777778,
              "#fb9f3a"
             ],
             [
              0.8888888888888888,
              "#fdca26"
             ],
             [
              1,
              "#f0f921"
             ]
            ],
            "type": "heatmap"
           }
          ],
          "heatmapgl": [
           {
            "colorbar": {
             "outlinewidth": 0,
             "ticks": ""
            },
            "colorscale": [
             [
              0,
              "#0d0887"
             ],
             [
              0.1111111111111111,
              "#46039f"
             ],
             [
              0.2222222222222222,
              "#7201a8"
             ],
             [
              0.3333333333333333,
              "#9c179e"
             ],
             [
              0.4444444444444444,
              "#bd3786"
             ],
             [
              0.5555555555555556,
              "#d8576b"
             ],
             [
              0.6666666666666666,
              "#ed7953"
             ],
             [
              0.7777777777777778,
              "#fb9f3a"
             ],
             [
              0.8888888888888888,
              "#fdca26"
             ],
             [
              1,
              "#f0f921"
             ]
            ],
            "type": "heatmapgl"
           }
          ],
          "histogram": [
           {
            "marker": {
             "pattern": {
              "fillmode": "overlay",
              "size": 10,
              "solidity": 0.2
             }
            },
            "type": "histogram"
           }
          ],
          "histogram2d": [
           {
            "colorbar": {
             "outlinewidth": 0,
             "ticks": ""
            },
            "colorscale": [
             [
              0,
              "#0d0887"
             ],
             [
              0.1111111111111111,
              "#46039f"
             ],
             [
              0.2222222222222222,
              "#7201a8"
             ],
             [
              0.3333333333333333,
              "#9c179e"
             ],
             [
              0.4444444444444444,
              "#bd3786"
             ],
             [
              0.5555555555555556,
              "#d8576b"
             ],
             [
              0.6666666666666666,
              "#ed7953"
             ],
             [
              0.7777777777777778,
              "#fb9f3a"
             ],
             [
              0.8888888888888888,
              "#fdca26"
             ],
             [
              1,
              "#f0f921"
             ]
            ],
            "type": "histogram2d"
           }
          ],
          "histogram2dcontour": [
           {
            "colorbar": {
             "outlinewidth": 0,
             "ticks": ""
            },
            "colorscale": [
             [
              0,
              "#0d0887"
             ],
             [
              0.1111111111111111,
              "#46039f"
             ],
             [
              0.2222222222222222,
              "#7201a8"
             ],
             [
              0.3333333333333333,
              "#9c179e"
             ],
             [
              0.4444444444444444,
              "#bd3786"
             ],
             [
              0.5555555555555556,
              "#d8576b"
             ],
             [
              0.6666666666666666,
              "#ed7953"
             ],
             [
              0.7777777777777778,
              "#fb9f3a"
             ],
             [
              0.8888888888888888,
              "#fdca26"
             ],
             [
              1,
              "#f0f921"
             ]
            ],
            "type": "histogram2dcontour"
           }
          ],
          "mesh3d": [
           {
            "colorbar": {
             "outlinewidth": 0,
             "ticks": ""
            },
            "type": "mesh3d"
           }
          ],
          "parcoords": [
           {
            "line": {
             "colorbar": {
              "outlinewidth": 0,
              "ticks": ""
             }
            },
            "type": "parcoords"
           }
          ],
          "pie": [
           {
            "automargin": true,
            "type": "pie"
           }
          ],
          "scatter": [
           {
            "fillpattern": {
             "fillmode": "overlay",
             "size": 10,
             "solidity": 0.2
            },
            "type": "scatter"
           }
          ],
          "scatter3d": [
           {
            "line": {
             "colorbar": {
              "outlinewidth": 0,
              "ticks": ""
             }
            },
            "marker": {
             "colorbar": {
              "outlinewidth": 0,
              "ticks": ""
             }
            },
            "type": "scatter3d"
           }
          ],
          "scattercarpet": [
           {
            "marker": {
             "colorbar": {
              "outlinewidth": 0,
              "ticks": ""
             }
            },
            "type": "scattercarpet"
           }
          ],
          "scattergeo": [
           {
            "marker": {
             "colorbar": {
              "outlinewidth": 0,
              "ticks": ""
             }
            },
            "type": "scattergeo"
           }
          ],
          "scattergl": [
           {
            "marker": {
             "colorbar": {
              "outlinewidth": 0,
              "ticks": ""
             }
            },
            "type": "scattergl"
           }
          ],
          "scattermapbox": [
           {
            "marker": {
             "colorbar": {
              "outlinewidth": 0,
              "ticks": ""
             }
            },
            "type": "scattermapbox"
           }
          ],
          "scatterpolar": [
           {
            "marker": {
             "colorbar": {
              "outlinewidth": 0,
              "ticks": ""
             }
            },
            "type": "scatterpolar"
           }
          ],
          "scatterpolargl": [
           {
            "marker": {
             "colorbar": {
              "outlinewidth": 0,
              "ticks": ""
             }
            },
            "type": "scatterpolargl"
           }
          ],
          "scatterternary": [
           {
            "marker": {
             "colorbar": {
              "outlinewidth": 0,
              "ticks": ""
             }
            },
            "type": "scatterternary"
           }
          ],
          "surface": [
           {
            "colorbar": {
             "outlinewidth": 0,
             "ticks": ""
            },
            "colorscale": [
             [
              0,
              "#0d0887"
             ],
             [
              0.1111111111111111,
              "#46039f"
             ],
             [
              0.2222222222222222,
              "#7201a8"
             ],
             [
              0.3333333333333333,
              "#9c179e"
             ],
             [
              0.4444444444444444,
              "#bd3786"
             ],
             [
              0.5555555555555556,
              "#d8576b"
             ],
             [
              0.6666666666666666,
              "#ed7953"
             ],
             [
              0.7777777777777778,
              "#fb9f3a"
             ],
             [
              0.8888888888888888,
              "#fdca26"
             ],
             [
              1,
              "#f0f921"
             ]
            ],
            "type": "surface"
           }
          ],
          "table": [
           {
            "cells": {
             "fill": {
              "color": "#EBF0F8"
             },
             "line": {
              "color": "white"
             }
            },
            "header": {
             "fill": {
              "color": "#C8D4E3"
             },
             "line": {
              "color": "white"
             }
            },
            "type": "table"
           }
          ]
         },
         "layout": {
          "annotationdefaults": {
           "arrowcolor": "#2a3f5f",
           "arrowhead": 0,
           "arrowwidth": 1
          },
          "autotypenumbers": "strict",
          "coloraxis": {
           "colorbar": {
            "outlinewidth": 0,
            "ticks": ""
           }
          },
          "colorscale": {
           "diverging": [
            [
             0,
             "#8e0152"
            ],
            [
             0.1,
             "#c51b7d"
            ],
            [
             0.2,
             "#de77ae"
            ],
            [
             0.3,
             "#f1b6da"
            ],
            [
             0.4,
             "#fde0ef"
            ],
            [
             0.5,
             "#f7f7f7"
            ],
            [
             0.6,
             "#e6f5d0"
            ],
            [
             0.7,
             "#b8e186"
            ],
            [
             0.8,
             "#7fbc41"
            ],
            [
             0.9,
             "#4d9221"
            ],
            [
             1,
             "#276419"
            ]
           ],
           "sequential": [
            [
             0,
             "#0d0887"
            ],
            [
             0.1111111111111111,
             "#46039f"
            ],
            [
             0.2222222222222222,
             "#7201a8"
            ],
            [
             0.3333333333333333,
             "#9c179e"
            ],
            [
             0.4444444444444444,
             "#bd3786"
            ],
            [
             0.5555555555555556,
             "#d8576b"
            ],
            [
             0.6666666666666666,
             "#ed7953"
            ],
            [
             0.7777777777777778,
             "#fb9f3a"
            ],
            [
             0.8888888888888888,
             "#fdca26"
            ],
            [
             1,
             "#f0f921"
            ]
           ],
           "sequentialminus": [
            [
             0,
             "#0d0887"
            ],
            [
             0.1111111111111111,
             "#46039f"
            ],
            [
             0.2222222222222222,
             "#7201a8"
            ],
            [
             0.3333333333333333,
             "#9c179e"
            ],
            [
             0.4444444444444444,
             "#bd3786"
            ],
            [
             0.5555555555555556,
             "#d8576b"
            ],
            [
             0.6666666666666666,
             "#ed7953"
            ],
            [
             0.7777777777777778,
             "#fb9f3a"
            ],
            [
             0.8888888888888888,
             "#fdca26"
            ],
            [
             1,
             "#f0f921"
            ]
           ]
          },
          "colorway": [
           "#636efa",
           "#EF553B",
           "#00cc96",
           "#ab63fa",
           "#FFA15A",
           "#19d3f3",
           "#FF6692",
           "#B6E880",
           "#FF97FF",
           "#FECB52"
          ],
          "font": {
           "color": "#2a3f5f"
          },
          "geo": {
           "bgcolor": "white",
           "lakecolor": "white",
           "landcolor": "#E5ECF6",
           "showlakes": true,
           "showland": true,
           "subunitcolor": "white"
          },
          "hoverlabel": {
           "align": "left"
          },
          "hovermode": "closest",
          "mapbox": {
           "style": "light"
          },
          "paper_bgcolor": "white",
          "plot_bgcolor": "#E5ECF6",
          "polar": {
           "angularaxis": {
            "gridcolor": "white",
            "linecolor": "white",
            "ticks": ""
           },
           "bgcolor": "#E5ECF6",
           "radialaxis": {
            "gridcolor": "white",
            "linecolor": "white",
            "ticks": ""
           }
          },
          "scene": {
           "xaxis": {
            "backgroundcolor": "#E5ECF6",
            "gridcolor": "white",
            "gridwidth": 2,
            "linecolor": "white",
            "showbackground": true,
            "ticks": "",
            "zerolinecolor": "white"
           },
           "yaxis": {
            "backgroundcolor": "#E5ECF6",
            "gridcolor": "white",
            "gridwidth": 2,
            "linecolor": "white",
            "showbackground": true,
            "ticks": "",
            "zerolinecolor": "white"
           },
           "zaxis": {
            "backgroundcolor": "#E5ECF6",
            "gridcolor": "white",
            "gridwidth": 2,
            "linecolor": "white",
            "showbackground": true,
            "ticks": "",
            "zerolinecolor": "white"
           }
          },
          "shapedefaults": {
           "line": {
            "color": "#2a3f5f"
           }
          },
          "ternary": {
           "aaxis": {
            "gridcolor": "white",
            "linecolor": "white",
            "ticks": ""
           },
           "baxis": {
            "gridcolor": "white",
            "linecolor": "white",
            "ticks": ""
           },
           "bgcolor": "#E5ECF6",
           "caxis": {
            "gridcolor": "white",
            "linecolor": "white",
            "ticks": ""
           }
          },
          "title": {
           "x": 0.05
          },
          "xaxis": {
           "automargin": true,
           "gridcolor": "white",
           "linecolor": "white",
           "ticks": "",
           "title": {
            "standoff": 15
           },
           "zerolinecolor": "white",
           "zerolinewidth": 2
          },
          "yaxis": {
           "automargin": true,
           "gridcolor": "white",
           "linecolor": "white",
           "ticks": "",
           "title": {
            "standoff": 15
           },
           "zerolinecolor": "white",
           "zerolinewidth": 2
          }
         }
        },
        "xaxis": {
         "anchor": "y",
         "autorange": true,
         "domain": [
          0,
          1
         ],
         "range": [
          18.14717741935484,
          88.85282258064517
         ],
         "title": {
          "text": "AGE_AT_DIAGNOSIS"
         },
         "type": "linear"
        },
        "yaxis": {
         "anchor": "x",
         "autorange": true,
         "domain": [
          0,
          1
         ],
         "range": [
          -7.006644796981628,
          186.5433114969816
         ],
         "title": {
          "text": "OS_MONTHS"
         },
         "type": "linear"
        }
       }
      },
      "image/png": "[encoded data removed]",
      "text/html": [
       "<div>                            <div id=\"231c84dc-6d5b-4d91-a007-9c5581d2fec4\" class=\"plotly-graph-div\" style=\"height:525px; width:100%;\"></div>            <script type=\"text/javascript\">                require([\"plotly\"], function(Plotly) {                    window.PLOTLYENV=window.PLOTLYENV || {};                                    if (document.getElementById(\"231c84dc-6d5b-4d91-a007-9c5581d2fec4\")) {                    Plotly.newPlot(                        \"231c84dc-6d5b-4d91-a007-9c5581d2fec4\",                        [{\"customdata\":[[\"P-0000561\",\"P-0000561-T01-IM3\"],[\"P-0000862\",\"P-0000862-T01-IM3\"],[\"P-0001913\",\"P-0001913-T02-IM5\"],[\"P-0002049\",\"P-0002049-T01-IM3\"],[\"P-0002463\",\"P-0002463-T01-IM3\"],[\"P-0002463\",\"P-0002463-T02-IM5\"],[\"P-0002671\",\"P-0002671-T01-IM3\"],[\"P-0004602\",\"P-0004602-T01-IM5\"],[\"P-0005384\",\"P-0005384-T01-IM5\"],[\"P-0005560\",\"P-0005560-T01-IM5\"],[\"P-0006170\",\"P-0006170-T01-IM5\"],[\"P-0006207\",\"P-0006207-T01-IM5\"],[\"P-0006863\",\"P-0006863-T01-IM5\"],[\"P-0007055\",\"P-0007055-T01-IM5\"],[\"P-0007147\",\"P-0007147-T01-IM5\"],[\"P-0007296\",\"P-0007296-T01-IM5\"],[\"P-0007596\",\"P-0007596-T01-IM5\"],[\"P-0007688\",\"P-0007688-T01-IM5\"],[\"P-0007739\",\"P-0007739-T01-IM5\"],[\"P-0007746\",\"P-0007746-T01-IM5\"],[\"P-0007831\",\"P-0007831-T01-IM5\"],[\"P-0007836\",\"P-0007836-T01-IM5\"],[\"P-0007997\",\"P-0007997-T01-IM5\"],[\"P-0008721\",\"P-0008721-T01-IM5\"],[\"P-0008745\",\"P-0008745-T01-IM5\"],[\"P-0008746\",\"P-0008746-T01-IM5\"],[\"P-0009403\",\"P-0009403-T02-IM5\"],[\"P-0009964\",\"P-0009964-T01-IM5\"],[\"P-0009964\",\"P-0009964-T02-IM5\"],[\"P-0010308\",\"P-0010308-T01-IM5\"],[\"P-0010587\",\"P-0010587-T01-IM5\"],[\"P-0010783\",\"P-0010783-T01-IM5\"],[\"P-0011182\",\"P-0011182-T01-IM5\"],[\"P-0011235\",\"P-0011235-T01-IM5\"],[\"P-0011446\",\"P-0011446-T01-IM5\"],[\"P-0012249\",\"P-0012249-T01-IM5\"],[\"P-0013082\",\"P-0013082-T01-IM5\"],[\"P-0013169\",\"P-0013169-T01-IM5\"],[\"P-0013227\",\"P-0013227-T01-IM5\"],[\"P-0013357\",\"P-0013357-T01-IM5\"],[\"P-0013374\",\"P-0013374-T01-IM5\"],[\"P-0013400\",\"P-0013400-T01-IM5\"],[\"P-0013462\",\"P-0013462-T01-IM5\"],[\"P-0013735\",\"P-0013735-T01-IM5\"],[\"P-0014143\",\"P-0014143-T01-IM5\"],[\"P-0014404\",\"P-0014404-T01-IM6\"]],\"hovertemplate\":\"color=('Female', 'MSI')<br>AGE_AT_DIAGNOSIS=%{x}<br>OS_MONTHS=%{y}<br>PATIENT_ID=%{customdata[0]}<br>SAMPLE_ID=%{customdata[1]}<extra></extra>\",\"legendgroup\":\"('Female', 'MSI')\",\"marker\":{\"color\":\"#636efa\",\"symbol\":\"circle\"},\"mode\":\"markers\",\"name\":\"('Female', 'MSI')\",\"orientation\":\"v\",\"showlegend\":true,\"x\":[22,74,46,31,57,57,61,50,45,60,52,78,47,68,40,35,67,81,33,65,67,68,56,74,85,67,81,81,81,67,59,74,43,63,74,60,41,65,28,73,79,43,81,68,68,62],\"xaxis\":\"x\",\"y\":[7.87,33.0,null,34.2,17.7,17.7,5.97,null,49.87,null,null,null,null,null,70.9,null,null,null,167.77,null,null,null,7.333333333,24.3,null,null,null,null,null,null,20.23333333,null,19.77,null,null,19.33333333,null,null,173.56666669999998,null,null,null,18.96666667,null,105.4333333,null],\"yaxis\":\"y\",\"type\":\"scatter\"}],                        {\"template\":{\"data\":{\"histogram2dcontour\":[{\"type\":\"histogram2dcontour\",\"colorbar\":{\"outlinewidth\":0,\"ticks\":\"\"},\"colorscale\":[[0.0,\"#0d0887\"],[0.1111111111111111,\"#46039f\"],[0.2222222222222222,\"#7201a8\"],[0.3333333333333333,\"#9c179e\"],[0.4444444444444444,\"#bd3786\"],[0.5555555555555556,\"#d8576b\"],[0.6666666666666666,\"#ed7953\"],[0.7777777777777778,\"#fb9f3a\"],[0.8888888888888888,\"#fdca26\"],[1.0,\"#f0f921\"]]}],\"choropleth\":[{\"type\":\"choropleth\",\"colorbar\":{\"outlinewidth\":0,\"ticks\":\"\"}}],\"histogram2d\":[{\"type\":\"histogram2d\",\"colorbar\":{\"outlinewidth\":0,\"ticks\":\"\"},\"colorscale\":[[0.0,\"#0d0887\"],[0.1111111111111111,\"#46039f\"],[0.2222222222222222,\"#7201a8\"],[0.3333333333333333,\"#9c179e\"],[0.4444444444444444,\"#bd3786\"],[0.5555555555555556,\"#d8576b\"],[0.6666666666666666,\"#ed7953\"],[0.7777777777777778,\"#fb9f3a\"],[0.8888888888888888,\"#fdca26\"],[1.0,\"#f0f921\"]]}],\"heatmap\":[{\"type\":\"heatmap\",\"colorbar\":{\"outlinewidth\":0,\"ticks\":\"\"},\"colorscale\":[[0.0,\"#0d0887\"],[0.1111111111111111,\"#46039f\"],[0.2222222222222222,\"#7201a8\"],[0.3333333333333333,\"#9c179e\"],[0.4444444444444444,\"#bd3786\"],[0.5555555555555556,\"#d8576b\"],[0.6666666666666666,\"#ed7953\"],[0.7777777777777778,\"#fb9f3a\"],[0.8888888888888888,\"#fdca26\"],[1.0,\"#f0f921\"]]}],\"heatmapgl\":[{\"type\":\"heatmapgl\",\"colorbar\":{\"outlinewidth\":0,\"ticks\":\"\"},\"colorscale\":[[0.0,\"#0d0887\"],[0.1111111111111111,\"#46039f\"],[0.2222222222222222,\"#7201a8\"],[0.3333333333333333,\"#9c179e\"],[0.4444444444444444,\"#bd3786\"],[0.5555555555555556,\"#d8576b\"],[0.6666666666666666,\"#ed7953\"],[0.7777777777777778,\"#fb9f3a\"],[0.8888888888888888,\"#fdca26\"],[1.0,\"#f0f921\"]]}],\"contourcarpet\":[{\"type\":\"contourcarpet\",\"colorbar\":{\"outlinewidth\":0,\"ticks\":\"\"}}],\"contour\":[{\"type\":\"contour\",\"colorbar\":{\"outlinewidth\":0,\"ticks\":\"\"},\"colorscale\":[[0.0,\"#0d0887\"],[0.1111111111111111,\"#46039f\"],[0.2222222222222222,\"#7201a8\"],[0.3333333333333333,\"#9c179e\"],[0.4444444444444444,\"#bd3786\"],[0.5555555555555556,\"#d8576b\"],[0.6666666666666666,\"#ed7953\"],[0.7777777777777778,\"#fb9f3a\"],[0.8888888888888888,\"#fdca26\"],[1.0,\"#f0f921\"]]}],\"surface\":[{\"type\":\"surface\",\"colorbar\":{\"outlinewidth\":0,\"ticks\":\"\"},\"colorscale\":[[0.0,\"#0d0887\"],[0.1111111111111111,\"#46039f\"],[0.2222222222222222,\"#7201a8\"],[0.3333333333333333,\"#9c179e\"],[0.4444444444444444,\"#bd3786\"],[0.5555555555555556,\"#d8576b\"],[0.6666666666666666,\"#ed7953\"],[0.7777777777777778,\"#fb9f3a\"],[0.8888888888888888,\"#fdca26\"],[1.0,\"#f0f921\"]]}],\"mesh3d\":[{\"type\":\"mesh3d\",\"colorbar\":{\"outlinewidth\":0,\"ticks\":\"\"}}],\"scatter\":[{\"fillpattern\":{\"fillmode\":\"overlay\",\"size\":10,\"solidity\":0.2},\"type\":\"scatter\"}],\"parcoords\":[{\"type\":\"parcoords\",\"line\":{\"colorbar\":{\"outlinewidth\":0,\"ticks\":\"\"}}}],\"scatterpolargl\":[{\"type\":\"scatterpolargl\",\"marker\":{\"colorbar\":{\"outlinewidth\":0,\"ticks\":\"\"}}}],\"bar\":[{\"error_x\":{\"color\":\"#2a3f5f\"},\"error_y\":{\"color\":\"#2a3f5f\"},\"marker\":{\"line\":{\"color\":\"#E5ECF6\",\"width\":0.5},\"pattern\":{\"fillmode\":\"overlay\",\"size\":10,\"solidity\":0.2}},\"type\":\"bar\"}],\"scattergeo\":[{\"type\":\"scattergeo\",\"marker\":{\"colorbar\":{\"outlinewidth\":0,\"ticks\":\"\"}}}],\"scatterpolar\":[{\"type\":\"scatterpolar\",\"marker\":{\"colorbar\":{\"outlinewidth\":0,\"ticks\":\"\"}}}],\"histogram\":[{\"marker\":{\"pattern\":{\"fillmode\":\"overlay\",\"size\":10,\"solidity\":0.2}},\"type\":\"histogram\"}],\"scattergl\":[{\"type\":\"scattergl\",\"marker\":{\"colorbar\":{\"outlinewidth\":0,\"ticks\":\"\"}}}],\"scatter3d\":[{\"type\":\"scatter3d\",\"line\":{\"colorbar\":{\"outlinewidth\":0,\"ticks\":\"\"}},\"marker\":{\"colorbar\":{\"outlinewidth\":0,\"ticks\":\"\"}}}],\"scattermapbox\":[{\"type\":\"scattermapbox\",\"marker\":{\"colorbar\":{\"outlinewidth\":0,\"ticks\":\"\"}}}],\"scatterternary\":[{\"type\":\"scatterternary\",\"marker\":{\"colorbar\":{\"outlinewidth\":0,\"ticks\":\"\"}}}],\"scattercarpet\":[{\"type\":\"scattercarpet\",\"marker\":{\"colorbar\":{\"outlinewidth\":0,\"ticks\":\"\"}}}],\"carpet\":[{\"aaxis\":{\"endlinecolor\":\"#2a3f5f\",\"gridcolor\":\"white\",\"linecolor\":\"white\",\"minorgridcolor\":\"white\",\"startlinecolor\":\"#2a3f5f\"},\"baxis\":{\"endlinecolor\":\"#2a3f5f\",\"gridcolor\":\"white\",\"linecolor\":\"white\",\"minorgridcolor\":\"white\",\"startlinecolor\":\"#2a3f5f\"},\"type\":\"carpet\"}],\"table\":[{\"cells\":{\"fill\":{\"color\":\"#EBF0F8\"},\"line\":{\"color\":\"white\"}},\"header\":{\"fill\":{\"color\":\"#C8D4E3\"},\"line\":{\"color\":\"white\"}},\"type\":\"table\"}],\"barpolar\":[{\"marker\":{\"line\":{\"color\":\"#E5ECF6\",\"width\":0.5},\"pattern\":{\"fillmode\":\"overlay\",\"size\":10,\"solidity\":0.2}},\"type\":\"barpolar\"}],\"pie\":[{\"automargin\":true,\"type\":\"pie\"}]},\"layout\":{\"autotypenumbers\":\"strict\",\"colorway\":[\"#636efa\",\"#EF553B\",\"#00cc96\",\"#ab63fa\",\"#FFA15A\",\"#19d3f3\",\"#FF6692\",\"#B6E880\",\"#FF97FF\",\"#FECB52\"],\"font\":{\"color\":\"#2a3f5f\"},\"hovermode\":\"closest\",\"hoverlabel\":{\"align\":\"left\"},\"paper_bgcolor\":\"white\",\"plot_bgcolor\":\"#E5ECF6\",\"polar\":{\"bgcolor\":\"#E5ECF6\",\"angularaxis\":{\"gridcolor\":\"white\",\"linecolor\":\"white\",\"ticks\":\"\"},\"radialaxis\":{\"gridcolor\":\"white\",\"linecolor\":\"white\",\"ticks\":\"\"}},\"ternary\":{\"bgcolor\":\"#E5ECF6\",\"aaxis\":{\"gridcolor\":\"white\",\"linecolor\":\"white\",\"ticks\":\"\"},\"baxis\":{\"gridcolor\":\"white\",\"linecolor\":\"white\",\"ticks\":\"\"},\"caxis\":{\"gridcolor\":\"white\",\"linecolor\":\"white\",\"ticks\":\"\"}},\"coloraxis\":{\"colorbar\":{\"outlinewidth\":0,\"ticks\":\"\"}},\"colorscale\":{\"sequential\":[[0.0,\"#0d0887\"],[0.1111111111111111,\"#46039f\"],[0.2222222222222222,\"#7201a8\"],[0.3333333333333333,\"#9c179e\"],[0.4444444444444444,\"#bd3786\"],[0.5555555555555556,\"#d8576b\"],[0.6666666666666666,\"#ed7953\"],[0.7777777777777778,\"#fb9f3a\"],[0.8888888888888888,\"#fdca26\"],[1.0,\"#f0f921\"]],\"sequentialminus\":[[0.0,\"#0d0887\"],[0.1111111111111111,\"#46039f\"],[0.2222222222222222,\"#7201a8\"],[0.3333333333333333,\"#9c179e\"],[0.4444444444444444,\"#bd3786\"],[0.5555555555555556,\"#d8576b\"],[0.6666666666666666,\"#ed7953\"],[0.7777777777777778,\"#fb9f3a\"],[0.8888888888888888,\"#fdca26\"],[1.0,\"#f0f921\"]],\"diverging\":[[0,\"#8e0152\"],[0.1,\"#c51b7d\"],[0.2,\"#de77ae\"],[0.3,\"#f1b6da\"],[0.4,\"#fde0ef\"],[0.5,\"#f7f7f7\"],[0.6,\"#e6f5d0\"],[0.7,\"#b8e186\"],[0.8,\"#7fbc41\"],[0.9,\"#4d9221\"],[1,\"#276419\"]]},\"xaxis\":{\"gridcolor\":\"white\",\"linecolor\":\"white\",\"ticks\":\"\",\"title\":{\"standoff\":15},\"zerolinecolor\":\"white\",\"automargin\":true,\"zerolinewidth\":2},\"yaxis\":{\"gridcolor\":\"white\",\"linecolor\":\"white\",\"ticks\":\"\",\"title\":{\"standoff\":15},\"zerolinecolor\":\"white\",\"automargin\":true,\"zerolinewidth\":2},\"scene\":{\"xaxis\":{\"backgroundcolor\":\"#E5ECF6\",\"gridcolor\":\"white\",\"linecolor\":\"white\",\"showbackground\":true,\"ticks\":\"\",\"zerolinecolor\":\"white\",\"gridwidth\":2},\"yaxis\":{\"backgroundcolor\":\"#E5ECF6\",\"gridcolor\":\"white\",\"linecolor\":\"white\",\"showbackground\":true,\"ticks\":\"\",\"zerolinecolor\":\"white\",\"gridwidth\":2},\"zaxis\":{\"backgroundcolor\":\"#E5ECF6\",\"gridcolor\":\"white\",\"linecolor\":\"white\",\"showbackground\":true,\"ticks\":\"\",\"zerolinecolor\":\"white\",\"gridwidth\":2}},\"shapedefaults\":{\"line\":{\"color\":\"#2a3f5f\"}},\"annotationdefaults\":{\"arrowcolor\":\"#2a3f5f\",\"arrowhead\":0,\"arrowwidth\":1},\"geo\":{\"bgcolor\":\"white\",\"landcolor\":\"#E5ECF6\",\"subunitcolor\":\"white\",\"showland\":true,\"showlakes\":true,\"lakecolor\":\"white\"},\"title\":{\"x\":0.05},\"mapbox\":{\"style\":\"light\"}}},\"xaxis\":{\"anchor\":\"y\",\"domain\":[0.0,1.0],\"title\":{\"text\":\"AGE_AT_DIAGNOSIS\"}},\"yaxis\":{\"anchor\":\"x\",\"domain\":[0.0,1.0],\"title\":{\"text\":\"OS_MONTHS\"}},\"legend\":{\"title\":{\"text\":\"color\"},\"tracegroupgap\":0},\"margin\":{\"t\":60}},                        {\"responsive\": true}                    ).then(function(){\n",
       "                            \n",
       "var gd = document.getElementById('231c84dc-6d5b-4d91-a007-9c5581d2fec4');\n",
       "var x = new MutationObserver(function (mutations, observer) {{\n",
       "        var display = window.getComputedStyle(gd).display;\n",
       "        if (!display || display === 'none') {{\n",
       "            console.log([gd, 'removed!']);\n",
       "            Plotly.purge(gd);\n",
       "            observer.disconnect();\n",
       "        }}\n",
       "}});\n",
       "\n",
       "// Listen for the removal of the full notebook cells\n",
       "var notebookContainer = gd.closest('#notebook-container');\n",
       "if (notebookContainer) {{\n",
       "    x.observe(notebookContainer, {childList: true});\n",
       "}}\n",
       "\n",
       "// Listen for the clearing of the current output cell\n",
       "var outputEl = gd.closest('.output');\n",
       "if (outputEl) {{\n",
       "    x.observe(outputEl, {childList: true});\n",
       "}}\n",
       "\n",
       "                        })                };                });            </script>        </div>"
      ]
     },
     "metadata": {},
     "output_type": "display_data"
    },
    {
     "data": {
      "application/vnd.plotly.v1+json": {
       "config": {
        "plotlyServerURL": "https://plot.ly"
       },
       "data": [
        {
         "customdata": [
          [
           "P-0000241",
           "P-0000241-T01-IM3"
          ],
          [
           "P-0000511",
           "P-0000511-T01-IM3"
          ],
          [
           "P-0000562",
           "P-0000562-T01-IM3"
          ],
          [
           "P-0000616",
           "P-0000616-T01-IM3"
          ],
          [
           "P-0000616",
           "P-0000616-T02-IM3"
          ],
          [
           "P-0000625",
           "P-0000625-T01-IM3"
          ],
          [
           "P-0000687",
           "P-0000687-T01-IM3"
          ],
          [
           "P-0000714",
           "P-0000714-T01-IM3"
          ],
          [
           "P-0000721",
           "P-0000721-T01-IM3"
          ],
          [
           "P-0000737",
           "P-0000737-T01-IM3"
          ],
          [
           "P-0000754",
           "P-0000754-T01-IM3"
          ],
          [
           "P-0000763",
           "P-0000763-T01-IM3"
          ],
          [
           "P-0000772",
           "P-0000772-T01-IM3"
          ],
          [
           "P-0000777",
           "P-0000777-T01-IM3"
          ],
          [
           "P-0000798",
           "P-0000798-T01-IM3"
          ],
          [
           "P-0000827",
           "P-0000827-T01-IM3"
          ],
          [
           "P-0000860",
           "P-0000860-T01-IM3"
          ],
          [
           "P-0000868",
           "P-0000868-T01-IM3"
          ],
          [
           "P-0000874",
           "P-0000874-T01-IM3"
          ],
          [
           "P-0000885",
           "P-0000885-T01-IM3"
          ],
          [
           "P-0000933",
           "P-0000933-T01-IM3"
          ],
          [
           "P-0000982",
           "P-0000982-T01-IM3"
          ],
          [
           "P-0000982",
           "P-0000982-T02-IM5"
          ],
          [
           "P-0000994",
           "P-0000994-T01-IM3"
          ],
          [
           "P-0001054",
           "P-0001054-T01-IM3"
          ],
          [
           "P-0001054",
           "P-0001054-T02-IM3"
          ],
          [
           "P-0001104",
           "P-0001104-T01-IM3"
          ],
          [
           "P-0001104",
           "P-0001104-T02-IM3"
          ],
          [
           "P-0001104",
           "P-0001104-T03-IM3"
          ],
          [
           "P-0001104",
           "P-0001104-T05-IM3"
          ],
          [
           "P-0001150",
           "P-0001150-T01-IM3"
          ],
          [
           "P-0001151",
           "P-0001151-T01-IM3"
          ],
          [
           "P-0001287",
           "P-0001287-T01-IM3"
          ],
          [
           "P-0001295",
           "P-0001295-T01-IM3"
          ],
          [
           "P-0001302",
           "P-0001302-T01-IM3"
          ],
          [
           "P-0001318",
           "P-0001318-T01-IM3"
          ],
          [
           "P-0001394",
           "P-0001394-T02-IM5"
          ],
          [
           "P-0001424",
           "P-0001424-T01-IM3"
          ],
          [
           "P-0001424",
           "P-0001424-T02-IM3"
          ],
          [
           "P-0001427",
           "P-0001427-T01-IM3"
          ],
          [
           "P-0001469",
           "P-0001469-T01-IM3"
          ],
          [
           "P-0001500",
           "P-0001500-T02-IM5"
          ],
          [
           "P-0001500",
           "P-0001500-T03-IM5"
          ],
          [
           "P-0001500",
           "P-0001500-T04-IM5"
          ],
          [
           "P-0001554",
           "P-0001554-T01-IM3"
          ],
          [
           "P-0001673",
           "P-0001673-T01-IM3"
          ],
          [
           "P-0001676",
           "P-0001676-T01-IM3"
          ],
          [
           "P-0001693",
           "P-0001693-T02-IM3"
          ],
          [
           "P-0001702",
           "P-0001702-T01-IM3"
          ],
          [
           "P-0001732",
           "P-0001732-T01-IM3"
          ],
          [
           "P-0001754",
           "P-0001754-T01-IM3"
          ],
          [
           "P-0001761",
           "P-0001761-T01-IM3"
          ],
          [
           "P-0001767",
           "P-0001767-T01-IM3"
          ],
          [
           "P-0001771",
           "P-0001771-T01-IM3"
          ],
          [
           "P-0001913",
           "P-0001913-T01-IM3"
          ],
          [
           "P-0001940",
           "P-0001940-T01-IM3"
          ],
          [
           "P-0001961",
           "P-0001961-T02-IM5"
          ],
          [
           "P-0001961",
           "P-0001961-T03-IM5"
          ],
          [
           "P-0002025",
           "P-0002025-T01-IM3"
          ],
          [
           "P-0002035",
           "P-0002035-T01-IM3"
          ],
          [
           "P-0002048",
           "P-0002048-T01-IM3"
          ],
          [
           "P-0002068",
           "P-0002068-T01-IM3"
          ],
          [
           "P-0002095",
           "P-0002095-T01-IM3"
          ],
          [
           "P-0002291",
           "P-0002291-T01-IM3"
          ],
          [
           "P-0002321",
           "P-0002321-T01-IM3"
          ],
          [
           "P-0002407",
           "P-0002407-T01-IM3"
          ],
          [
           "P-0002487",
           "P-0002487-T01-IM3"
          ],
          [
           "P-0002653",
           "P-0002653-T01-IM3"
          ],
          [
           "P-0002752",
           "P-0002752-T01-IM3"
          ],
          [
           "P-0002769",
           "P-0002769-T01-IM3"
          ],
          [
           "P-0002791",
           "P-0002791-T01-IM3"
          ],
          [
           "P-0002814",
           "P-0002814-T01-IM3"
          ],
          [
           "P-0002852",
           "P-0002852-T01-IM3"
          ],
          [
           "P-0002855",
           "P-0002855-T01-IM3"
          ],
          [
           "P-0003110",
           "P-0003110-T01-IM5"
          ],
          [
           "P-0003211",
           "P-0003211-T01-IM5"
          ],
          [
           "P-0003285",
           "P-0003285-T01-IM5"
          ],
          [
           "P-0003298",
           "P-0003298-T01-IM5"
          ],
          [
           "P-0003308",
           "P-0003308-T01-IM5"
          ],
          [
           "P-0003348",
           "P-0003348-T01-IM5"
          ],
          [
           "P-0003474",
           "P-0003474-T01-IM5"
          ],
          [
           "P-0003475",
           "P-0003475-T01-IM5"
          ],
          [
           "P-0003510",
           "P-0003510-T01-IM5"
          ],
          [
           "P-0003513",
           "P-0003513-T01-IM5"
          ],
          [
           "P-0003518",
           "P-0003518-T01-IM5"
          ],
          [
           "P-0003717",
           "P-0003717-T01-IM5"
          ],
          [
           "P-0003774",
           "P-0003774-T01-IM5"
          ],
          [
           "P-0003780",
           "P-0003780-T01-IM5"
          ],
          [
           "P-0003886",
           "P-0003886-T01-IM5"
          ],
          [
           "P-0003901",
           "P-0003901-T01-IM5"
          ],
          [
           "P-0004159",
           "P-0004159-T01-IM5"
          ],
          [
           "P-0004172",
           "P-0004172-T01-IM5"
          ],
          [
           "P-0004249",
           "P-0004249-T01-IM5"
          ],
          [
           "P-0004251",
           "P-0004251-T01-IM5"
          ],
          [
           "P-0004323",
           "P-0004323-T01-IM5"
          ],
          [
           "P-0004363",
           "P-0004363-T01-IM5"
          ],
          [
           "P-0004403",
           "P-0004403-T01-IM5"
          ],
          [
           "P-0004431",
           "P-0004431-T01-IM5"
          ],
          [
           "P-0004454",
           "P-0004454-T01-IM5"
          ],
          [
           "P-0004511",
           "P-0004511-T01-IM5"
          ],
          [
           "P-0004549",
           "P-0004549-T01-IM5"
          ],
          [
           "P-0004629",
           "P-0004629-T01-IM5"
          ],
          [
           "P-0004673",
           "P-0004673-T01-IM5"
          ],
          [
           "P-0004692",
           "P-0004692-T01-IM5"
          ],
          [
           "P-0004716",
           "P-0004716-T02-IM5"
          ],
          [
           "P-0004786",
           "P-0004786-T01-IM5"
          ],
          [
           "P-0004795",
           "P-0004795-T01-IM5"
          ],
          [
           "P-0004862",
           "P-0004862-T01-IM5"
          ],
          [
           "P-0004872",
           "P-0004872-T01-IM5"
          ],
          [
           "P-0004886",
           "P-0004886-T01-IM5"
          ],
          [
           "P-0004897",
           "P-0004897-T01-IM5"
          ],
          [
           "P-0005029",
           "P-0005029-T01-IM5"
          ],
          [
           "P-0005124",
           "P-0005124-T01-IM5"
          ],
          [
           "P-0005164",
           "P-0005164-T01-IM5"
          ],
          [
           "P-0005327",
           "P-0005327-T01-IM5"
          ],
          [
           "P-0005446",
           "P-0005446-T01-IM5"
          ],
          [
           "P-0005528",
           "P-0005528-T01-IM5"
          ],
          [
           "P-0005623",
           "P-0005623-T02-IM5"
          ],
          [
           "P-0005670",
           "P-0005670-T01-IM5"
          ],
          [
           "P-0005730",
           "P-0005730-T02-IM5"
          ],
          [
           "P-0005742",
           "P-0005742-T01-IM5"
          ],
          [
           "P-0005858",
           "P-0005858-T01-IM5"
          ],
          [
           "P-0005888",
           "P-0005888-T01-IM5"
          ],
          [
           "P-0005996",
           "P-0005996-T01-IM5"
          ],
          [
           "P-0006000",
           "P-0006000-T02-IM5"
          ],
          [
           "P-0006075",
           "P-0006075-T01-IM5"
          ],
          [
           "P-0006093",
           "P-0006093-T01-IM5"
          ],
          [
           "P-0006135",
           "P-0006135-T01-IM5"
          ],
          [
           "P-0006136",
           "P-0006136-T01-IM5"
          ],
          [
           "P-0006219",
           "P-0006219-T01-IM5"
          ],
          [
           "P-0006230",
           "P-0006230-T01-IM5"
          ],
          [
           "P-0006261",
           "P-0006261-T01-IM5"
          ],
          [
           "P-0006345",
           "P-0006345-T01-IM5"
          ],
          [
           "P-0006359",
           "P-0006359-T01-IM5"
          ],
          [
           "P-0006390",
           "P-0006390-T01-IM5"
          ],
          [
           "P-0006394",
           "P-0006394-T01-IM5"
          ],
          [
           "P-0006405",
           "P-0006405-T01-IM5"
          ],
          [
           "P-0006444",
           "P-0006444-T02-IM5"
          ],
          [
           "P-0006548",
           "P-0006548-T01-IM5"
          ],
          [
           "P-0006559",
           "P-0006559-T01-IM5"
          ],
          [
           "P-0006608",
           "P-0006608-T01-IM5"
          ],
          [
           "P-0006612",
           "P-0006612-T01-IM5"
          ],
          [
           "P-0006680",
           "P-0006680-T01-IM5"
          ],
          [
           "P-0006687",
           "P-0006687-T01-IM5"
          ],
          [
           "P-0006704",
           "P-0006704-T01-IM5"
          ],
          [
           "P-0006717",
           "P-0006717-T01-IM5"
          ],
          [
           "P-0006721",
           "P-0006721-T01-IM5"
          ],
          [
           "P-0006726",
           "P-0006726-T01-IM5"
          ],
          [
           "P-0006729",
           "P-0006729-T01-IM5"
          ],
          [
           "P-0006730",
           "P-0006730-T01-IM5"
          ],
          [
           "P-0006740",
           "P-0006740-T01-IM5"
          ],
          [
           "P-0006743",
           "P-0006743-T01-IM5"
          ],
          [
           "P-0006761",
           "P-0006761-T01-IM5"
          ],
          [
           "P-0006778",
           "P-0006778-T01-IM5"
          ],
          [
           "P-0006813",
           "P-0006813-T01-IM5"
          ],
          [
           "P-0006853",
           "P-0006853-T01-IM5"
          ],
          [
           "P-0006860",
           "P-0006860-T01-IM5"
          ],
          [
           "P-0006864",
           "P-0006864-T01-IM5"
          ],
          [
           "P-0006888",
           "P-0006888-T01-IM5"
          ],
          [
           "P-0006889",
           "P-0006889-T01-IM5"
          ],
          [
           "P-0006968",
           "P-0006968-T01-IM5"
          ],
          [
           "P-0007069",
           "P-0007069-T01-IM5"
          ],
          [
           "P-0007080",
           "P-0007080-T02-IM5"
          ],
          [
           "P-0007097",
           "P-0007097-T01-IM5"
          ],
          [
           "P-0007136",
           "P-0007136-T01-IM5"
          ],
          [
           "P-0007168",
           "P-0007168-T01-IM5"
          ],
          [
           "P-0007203",
           "P-0007203-T01-IM5"
          ],
          [
           "P-0007207",
           "P-0007207-T01-IM5"
          ],
          [
           "P-0007315",
           "P-0007315-T01-IM5"
          ],
          [
           "P-0007365",
           "P-0007365-T01-IM5"
          ],
          [
           "P-0007381",
           "P-0007381-T01-IM5"
          ],
          [
           "P-0007389",
           "P-0007389-T01-IM5"
          ],
          [
           "P-0007414",
           "P-0007414-T01-IM5"
          ],
          [
           "P-0007486",
           "P-0007486-T01-IM5"
          ],
          [
           "P-0007488",
           "P-0007488-T01-IM5"
          ],
          [
           "P-0007490",
           "P-0007490-T01-IM5"
          ],
          [
           "P-0007511",
           "P-0007511-T01-IM5"
          ],
          [
           "P-0007550",
           "P-0007550-T01-IM5"
          ],
          [
           "P-0007554",
           "P-0007554-T01-IM5"
          ],
          [
           "P-0007600",
           "P-0007600-T01-IM5"
          ],
          [
           "P-0007631",
           "P-0007631-T01-IM5"
          ],
          [
           "P-0007669",
           "P-0007669-T01-IM5"
          ],
          [
           "P-0007691",
           "P-0007691-T01-IM5"
          ],
          [
           "P-0007698",
           "P-0007698-T01-IM5"
          ],
          [
           "P-0007740",
           "P-0007740-T01-IM5"
          ],
          [
           "P-0007869",
           "P-0007869-T01-IM5"
          ],
          [
           "P-0007883",
           "P-0007883-T01-IM5"
          ],
          [
           "P-0007912",
           "P-0007912-T01-IM5"
          ],
          [
           "P-0008068",
           "P-0008068-T01-IM5"
          ],
          [
           "P-0008075",
           "P-0008075-T01-IM5"
          ],
          [
           "P-0008141",
           "P-0008141-T01-IM5"
          ],
          [
           "P-0008159",
           "P-0008159-T01-IM5"
          ],
          [
           "P-0008259",
           "P-0008259-T01-IM5"
          ],
          [
           "P-0008267",
           "P-0008267-T01-IM5"
          ],
          [
           "P-0008483",
           "P-0008483-T01-IM5"
          ],
          [
           "P-0008521",
           "P-0008521-T01-IM5"
          ],
          [
           "P-0008565",
           "P-0008565-T01-IM5"
          ],
          [
           "P-0008579",
           "P-0008579-T01-IM5"
          ],
          [
           "P-0008582",
           "P-0008582-T01-IM5"
          ],
          [
           "P-0008583",
           "P-0008583-T01-IM5"
          ],
          [
           "P-0008590",
           "P-0008590-T01-IM5"
          ],
          [
           "P-0008594",
           "P-0008594-T01-IM5"
          ],
          [
           "P-0008600",
           "P-0008600-T01-IM5"
          ],
          [
           "P-0008651",
           "P-0008651-T01-IM5"
          ],
          [
           "P-0008652",
           "P-0008652-T01-IM5"
          ],
          [
           "P-0008683",
           "P-0008683-T01-IM5"
          ],
          [
           "P-0008747",
           "P-0008747-T01-IM5"
          ],
          [
           "P-0008782",
           "P-0008782-T01-IM5"
          ],
          [
           "P-0008841",
           "P-0008841-T01-IM5"
          ],
          [
           "P-0008868",
           "P-0008868-T01-IM5"
          ],
          [
           "P-0009053",
           "P-0009053-T01-IM5"
          ],
          [
           "P-0009058",
           "P-0009058-T01-IM5"
          ],
          [
           "P-0009059",
           "P-0009059-T01-IM5"
          ],
          [
           "P-0009145",
           "P-0009145-T01-IM5"
          ],
          [
           "P-0009145",
           "P-0009145-T02-IM5"
          ],
          [
           "P-0009170",
           "P-0009170-T01-IM5"
          ],
          [
           "P-0009192",
           "P-0009192-T01-IM5"
          ],
          [
           "P-0009200",
           "P-0009200-T01-IM5"
          ],
          [
           "P-0009305",
           "P-0009305-T01-IM5"
          ],
          [
           "P-0009341",
           "P-0009341-T01-IM5"
          ],
          [
           "P-0009355",
           "P-0009355-T01-IM5"
          ],
          [
           "P-0009363",
           "P-0009363-T01-IM5"
          ],
          [
           "P-0009433",
           "P-0009433-T01-IM5"
          ],
          [
           "P-0009488",
           "P-0009488-T01-IM5"
          ],
          [
           "P-0009617",
           "P-0009617-T01-IM5"
          ],
          [
           "P-0009703",
           "P-0009703-T01-IM5"
          ],
          [
           "P-0009716",
           "P-0009716-T01-IM5"
          ],
          [
           "P-0009751",
           "P-0009751-T01-IM5"
          ],
          [
           "P-0009757",
           "P-0009757-T01-IM5"
          ],
          [
           "P-0009826",
           "P-0009826-T01-IM5"
          ],
          [
           "P-0009838",
           "P-0009838-T01-IM5"
          ],
          [
           "P-0009842",
           "P-0009842-T01-IM5"
          ],
          [
           "P-0009850",
           "P-0009850-T01-IM5"
          ],
          [
           "P-0009851",
           "P-0009851-T01-IM5"
          ],
          [
           "P-0009863",
           "P-0009863-T01-IM5"
          ],
          [
           "P-0009902",
           "P-0009902-T01-IM5"
          ],
          [
           "P-0009949",
           "P-0009949-T01-IM5"
          ],
          [
           "P-0009954",
           "P-0009954-T01-IM5"
          ],
          [
           "P-0010022",
           "P-0010022-T01-IM5"
          ],
          [
           "P-0010044",
           "P-0010044-T01-IM5"
          ],
          [
           "P-0010049",
           "P-0010049-T01-IM5"
          ],
          [
           "P-0010062",
           "P-0010062-T01-IM5"
          ],
          [
           "P-0010112",
           "P-0010112-T01-IM5"
          ],
          [
           "P-0010125",
           "P-0010125-T01-IM5"
          ],
          [
           "P-0010134",
           "P-0010134-T01-IM5"
          ],
          [
           "P-0010138",
           "P-0010138-T01-IM5"
          ],
          [
           "P-0010146",
           "P-0010146-T01-IM5"
          ],
          [
           "P-0010147",
           "P-0010147-T01-IM5"
          ],
          [
           "P-0010203",
           "P-0010203-T01-IM5"
          ],
          [
           "P-0010238",
           "P-0010238-T01-IM5"
          ],
          [
           "P-0010352",
           "P-0010352-T01-IM5"
          ],
          [
           "P-0010363",
           "P-0010363-T01-IM5"
          ],
          [
           "P-0010364",
           "P-0010364-T01-IM5"
          ],
          [
           "P-0010365",
           "P-0010365-T01-IM5"
          ],
          [
           "P-0010406",
           "P-0010406-T01-IM5"
          ],
          [
           "P-0010497",
           "P-0010497-T01-IM5"
          ],
          [
           "P-0010513",
           "P-0010513-T01-IM5"
          ],
          [
           "P-0010627",
           "P-0010627-T01-IM5"
          ],
          [
           "P-0010680",
           "P-0010680-T01-IM5"
          ],
          [
           "P-0010742",
           "P-0010742-T01-IM5"
          ],
          [
           "P-0010832",
           "P-0010832-T01-IM5"
          ],
          [
           "P-0010861",
           "P-0010861-T01-IM5"
          ],
          [
           "P-0011084",
           "P-0011084-T02-IM5"
          ],
          [
           "P-0011108",
           "P-0011108-T01-IM5"
          ],
          [
           "P-0011109",
           "P-0011109-T01-IM5"
          ],
          [
           "P-0011120",
           "P-0011120-T01-IM5"
          ],
          [
           "P-0011124",
           "P-0011124-T01-IM5"
          ],
          [
           "P-0011131",
           "P-0011131-T01-IM5"
          ],
          [
           "P-0011144",
           "P-0011144-T01-IM5"
          ],
          [
           "P-0011195",
           "P-0011195-T01-IM5"
          ],
          [
           "P-0011264",
           "P-0011264-T01-IM5"
          ],
          [
           "P-0011287",
           "P-0011287-T01-IM5"
          ],
          [
           "P-0011288",
           "P-0011288-T01-IM5"
          ],
          [
           "P-0011374",
           "P-0011374-T01-IM5"
          ],
          [
           "P-0011455",
           "P-0011455-T01-IM5"
          ],
          [
           "P-0011510",
           "P-0011510-T01-IM5"
          ],
          [
           "P-0011520",
           "P-0011520-T01-IM5"
          ],
          [
           "P-0011533",
           "P-0011533-T01-IM5"
          ],
          [
           "P-0011545",
           "P-0011545-T01-IM5"
          ],
          [
           "P-0012033",
           "P-0012033-T01-IM5"
          ],
          [
           "P-0012110",
           "P-0012110-T01-IM5"
          ],
          [
           "P-0012135",
           "P-0012135-T01-IM5"
          ],
          [
           "P-0012233",
           "P-0012233-T01-IM5"
          ],
          [
           "P-0012366",
           "P-0012366-T01-IM5"
          ],
          [
           "P-0012383",
           "P-0012383-T01-IM5"
          ],
          [
           "P-0012399",
           "P-0012399-T01-IM5"
          ],
          [
           "P-0012406",
           "P-0012406-T01-IM5"
          ],
          [
           "P-0012418",
           "P-0012418-T01-IM5"
          ],
          [
           "P-0012418",
           "P-0012418-T02-IM5"
          ],
          [
           "P-0012426",
           "P-0012426-T01-IM5"
          ],
          [
           "P-0012625",
           "P-0012625-T01-IM5"
          ],
          [
           "P-0012695",
           "P-0012695-T01-IM5"
          ],
          [
           "P-0012708",
           "P-0012708-T01-IM5"
          ],
          [
           "P-0012722",
           "P-0012722-T01-IM5"
          ],
          [
           "P-0012723",
           "P-0012723-T01-IM5"
          ],
          [
           "P-0012728",
           "P-0012728-T01-IM5"
          ],
          [
           "P-0012742",
           "P-0012742-T01-IM5"
          ],
          [
           "P-0012779",
           "P-0012779-T01-IM5"
          ],
          [
           "P-0012810",
           "P-0012810-T01-IM5"
          ],
          [
           "P-0012877",
           "P-0012877-T01-IM5"
          ],
          [
           "P-0012912",
           "P-0012912-T01-IM5"
          ],
          [
           "P-0013055",
           "P-0013055-T01-IM5"
          ],
          [
           "P-0013121",
           "P-0013121-T02-IM5"
          ],
          [
           "P-0013121",
           "P-0013121-T03-IM5"
          ],
          [
           "P-0013146",
           "P-0013146-T01-IM5"
          ],
          [
           "P-0013186",
           "P-0013186-T01-IM5"
          ],
          [
           "P-0013300",
           "P-0013300-T01-IM5"
          ],
          [
           "P-0013375",
           "P-0013375-T01-IM5"
          ],
          [
           "P-0013441",
           "P-0013441-T01-IM5"
          ],
          [
           "P-0013461",
           "P-0013461-T01-IM5"
          ],
          [
           "P-0013551",
           "P-0013551-T01-IM5"
          ],
          [
           "P-0013704",
           "P-0013704-T01-IM5"
          ],
          [
           "P-0013820",
           "P-0013820-T01-IM5"
          ],
          [
           "P-0013822",
           "P-0013822-T02-IM6"
          ],
          [
           "P-0013881",
           "P-0013881-T01-IM5"
          ],
          [
           "P-0013897",
           "P-0013897-T01-IM5"
          ],
          [
           "P-0013941",
           "P-0013941-T01-IM5"
          ],
          [
           "P-0013981",
           "P-0013981-T01-IM5"
          ],
          [
           "P-0014010",
           "P-0014010-T01-IM5"
          ],
          [
           "P-0014021",
           "P-0014021-T01-IM5"
          ],
          [
           "P-0014026",
           "P-0014026-T01-IM5"
          ],
          [
           "P-0014066",
           "P-0014066-T01-IM5"
          ],
          [
           "P-0014119",
           "P-0014119-T01-IM5"
          ],
          [
           "P-0014133",
           "P-0014133-T01-IM5"
          ],
          [
           "P-0014168",
           "P-0014168-T01-IM5"
          ],
          [
           "P-0014296",
           "P-0014296-T01-IM6"
          ]
         ],
         "hovertemplate": "color=('Female', 'MSS')<br>AGE_AT_DIAGNOSIS=%{x}<br>OS_MONTHS=%{y}<br>PATIENT_ID=%{customdata[0]}<br>SAMPLE_ID=%{customdata[1]}<extra></extra>",
         "legendgroup": "('Female', 'MSS')",
         "marker": {
          "color": "#636efa",
          "symbol": "circle"
         },
         "mode": "markers",
         "name": "('Female', 'MSS')",
         "orientation": "v",
         "showlegend": true,
         "type": "scatter",
         "x": [
          49,
          39,
          43,
          58,
          58,
          68,
          46,
          38,
          58,
          47,
          46,
          45,
          38,
          40,
          47,
          48,
          49,
          49,
          59,
          51,
          39,
          57,
          57,
          48,
          34,
          34,
          75,
          75,
          75,
          75,
          51,
          66,
          65,
          42,
          34,
          49,
          45,
          37,
          37,
          65,
          63,
          53,
          53,
          53,
          51,
          56,
          44,
          51,
          48,
          63,
          72,
          58,
          46,
          40,
          46,
          75,
          64,
          64,
          78,
          37,
          38,
          52,
          44,
          42,
          56,
          45,
          45,
          17,
          53,
          49,
          78,
          54,
          65,
          44,
          40,
          57,
          33,
          66,
          46,
          38,
          43,
          61,
          83,
          51,
          39,
          43,
          44,
          47,
          73,
          49,
          32,
          48,
          48,
          50,
          68,
          34,
          68,
          62,
          76,
          54,
          51,
          53,
          73,
          42,
          67,
          65,
          63,
          49,
          49,
          48,
          51,
          32,
          52,
          52,
          29,
          56,
          45,
          31,
          47,
          36,
          66,
          29,
          38,
          40,
          41,
          41,
          46,
          43,
          75,
          61,
          40,
          51,
          72,
          60,
          50,
          47,
          49,
          46,
          44,
          68,
          47,
          70,
          80,
          53,
          44,
          64,
          46,
          48,
          53,
          56,
          65,
          31,
          46,
          68,
          58,
          62,
          64,
          51,
          46,
          61,
          76,
          47,
          54,
          45,
          41,
          67,
          49,
          70,
          53,
          45,
          43,
          51,
          47,
          49,
          43,
          54,
          50,
          46,
          57,
          50,
          43,
          38,
          44,
          57,
          40,
          49,
          42,
          43,
          43,
          29,
          50,
          57,
          54,
          40,
          54,
          63,
          59,
          74,
          56,
          43,
          55,
          54,
          50,
          52,
          48,
          66,
          69,
          62,
          67,
          70,
          69,
          51,
          39,
          55,
          55,
          52,
          48,
          64,
          48,
          40,
          60,
          61,
          47,
          46,
          52,
          71,
          65,
          37,
          63,
          57,
          38,
          60,
          51,
          43,
          49,
          46,
          52,
          53,
          57,
          58,
          48,
          45,
          34,
          68,
          57,
          43,
          44,
          53,
          33,
          47,
          53,
          64,
          49,
          32,
          46,
          29,
          51,
          61,
          58,
          47,
          25,
          38,
          58,
          69,
          71,
          64,
          54,
          42,
          25,
          33,
          61,
          44,
          69,
          31,
          55,
          57,
          33,
          64,
          73,
          53,
          35,
          33,
          61,
          60,
          62,
          58,
          29,
          58,
          58,
          50,
          62,
          51,
          50,
          60,
          55,
          61,
          65,
          58,
          44,
          75,
          63,
          49,
          52,
          52,
          57,
          36,
          43,
          61,
          61,
          68,
          66,
          71,
          60,
          74,
          53,
          63,
          51,
          80,
          32,
          58,
          50,
          50,
          47,
          53,
          45,
          46
         ],
         "xaxis": "x",
         "y": [
          24,
          23.27,
          37.33,
          19.43,
          19.43,
          16.77,
          43.07,
          13.67,
          23.3,
          69.8,
          23.03,
          38.73,
          61.03,
          96.87,
          72.17,
          26.2,
          104.07,
          123.43,
          36.7,
          49.9,
          31.17,
          10.6,
          10.6,
          30.27,
          36.77,
          36.77,
          31.6,
          31.6,
          31.6,
          31.6,
          45.8,
          25.43,
          21.97,
          69.97,
          42.83,
          37.97,
          6.4,
          14.27,
          14.27,
          16.9,
          17.57,
          36.47,
          36.47,
          36.47,
          55.43,
          null,
          11.33,
          18.73,
          32.07,
          27.7,
          35.57,
          33.6,
          35.87,
          45.57,
          null,
          27.67,
          57.73,
          57.73,
          16.33,
          8.5,
          21.9,
          41.4,
          40.2,
          42.6,
          9.3,
          0.93,
          1.67,
          13.5,
          34.57,
          49.93,
          19.17,
          121.13,
          24.7,
          26.37,
          78.9,
          31.33,
          34.93,
          15.43,
          30.67,
          105.2,
          18.2,
          34.33,
          30.9,
          74.5,
          41.9,
          28.2,
          7.13,
          15.4,
          30.6,
          22.1,
          55.47,
          15.93,
          19.43,
          11.5,
          29.67,
          24.67,
          31.07,
          null,
          26.27,
          33.43,
          7.7,
          50.27,
          21.37,
          30.83,
          21.2,
          38.67,
          8.97,
          0.57,
          44.17,
          47.33,
          13.1,
          19.9,
          17,
          32.6,
          28.7,
          23.87,
          30.23,
          27.93,
          6.03,
          46.87,
          24.73,
          26.47,
          12.9,
          11.7,
          26.4,
          26.63,
          34.83,
          7.07,
          23.7,
          27.67,
          32.33,
          99.8,
          22.8,
          null,
          31,
          8.9,
          35.23,
          16.7,
          10.27,
          0.67,
          64.6,
          null,
          null,
          27.07,
          29.43,
          33.3,
          47.47,
          31.5,
          33.73,
          7.97,
          43.7,
          40.1,
          84.6,
          25.17,
          26,
          30.7,
          15.5,
          24.43,
          34.37,
          34.97,
          14.67,
          27.97,
          86.73,
          40.6,
          125.9,
          35,
          11.77,
          23.67,
          56.97,
          91.47,
          36.3,
          63.23,
          23.77,
          51.17,
          60.33,
          41.3,
          22.2,
          22.03,
          66.57,
          33.77,
          79.37,
          101.83,
          27.87,
          27.47,
          116.97,
          45.67,
          73.53,
          82.57,
          88.7,
          51.3,
          21.03,
          9.73,
          21.53,
          25.2,
          24.23,
          15.73,
          43.43,
          8.47,
          23.97,
          26.3,
          65.4,
          33.97,
          66.37,
          24.83,
          15.4,
          25.9,
          10.5,
          4.47,
          21.57,
          22.67,
          12.6,
          47.77,
          10.57,
          19.87,
          19.87,
          3.77,
          20.13,
          1.87,
          20.83,
          19.7,
          18.73,
          23,
          21.83,
          17.63,
          23.47,
          9.27,
          9.63,
          17.6,
          18,
          38.1,
          null,
          46.33,
          36.17,
          null,
          4.9,
          63,
          19.77,
          20.27,
          null,
          26.1,
          null,
          27.63,
          null,
          2.1,
          17.53,
          35.6,
          17.47,
          15.53,
          22.4,
          72.73,
          26.2,
          28.73,
          47.73,
          18.47,
          22,
          15.5,
          69.97,
          11.83,
          31.57,
          41.73,
          19.97,
          null,
          21.57,
          17.53,
          0,
          19.67,
          33.77,
          1.33,
          15,
          58.63,
          6.63,
          8.93,
          34.47,
          24.57,
          50.4,
          null,
          24.4,
          120,
          17.5,
          24.23,
          8.37,
          26.33,
          14.13,
          16.67,
          23.9,
          16,
          51.03,
          17.4,
          17.4,
          58.7,
          15.47,
          31.57,
          26.1,
          17.2,
          5.03,
          16.27,
          16.53,
          5,
          2.6,
          null,
          10.57,
          2.27,
          33.53,
          33.53,
          15.47,
          6.17,
          7.97,
          12.8,
          34.47,
          14.37,
          4.1,
          9.5,
          14.93,
          0.7,
          17.3,
          142.9,
          19.23,
          1.8,
          64.7,
          0,
          7.53,
          23.83,
          14.97,
          25.83,
          16.6,
          12.07
         ],
         "yaxis": "y"
        }
       ],
       "layout": {
        "autosize": true,
        "legend": {
         "title": {
          "text": "color"
         },
         "tracegroupgap": 0
        },
        "margin": {
         "t": 60
        },
        "template": {
         "data": {
          "bar": [
           {
            "error_x": {
             "color": "#2a3f5f"
            },
            "error_y": {
             "color": "#2a3f5f"
            },
            "marker": {
             "line": {
              "color": "#E5ECF6",
              "width": 0.5
             },
             "pattern": {
              "fillmode": "overlay",
              "size": 10,
              "solidity": 0.2
             }
            },
            "type": "bar"
           }
          ],
          "barpolar": [
           {
            "marker": {
             "line": {
              "color": "#E5ECF6",
              "width": 0.5
             },
             "pattern": {
              "fillmode": "overlay",
              "size": 10,
              "solidity": 0.2
             }
            },
            "type": "barpolar"
           }
          ],
          "carpet": [
           {
            "aaxis": {
             "endlinecolor": "#2a3f5f",
             "gridcolor": "white",
             "linecolor": "white",
             "minorgridcolor": "white",
             "startlinecolor": "#2a3f5f"
            },
            "baxis": {
             "endlinecolor": "#2a3f5f",
             "gridcolor": "white",
             "linecolor": "white",
             "minorgridcolor": "white",
             "startlinecolor": "#2a3f5f"
            },
            "type": "carpet"
           }
          ],
          "choropleth": [
           {
            "colorbar": {
             "outlinewidth": 0,
             "ticks": ""
            },
            "type": "choropleth"
           }
          ],
          "contour": [
           {
            "colorbar": {
             "outlinewidth": 0,
             "ticks": ""
            },
            "colorscale": [
             [
              0,
              "#0d0887"
             ],
             [
              0.1111111111111111,
              "#46039f"
             ],
             [
              0.2222222222222222,
              "#7201a8"
             ],
             [
              0.3333333333333333,
              "#9c179e"
             ],
             [
              0.4444444444444444,
              "#bd3786"
             ],
             [
              0.5555555555555556,
              "#d8576b"
             ],
             [
              0.6666666666666666,
              "#ed7953"
             ],
             [
              0.7777777777777778,
              "#fb9f3a"
             ],
             [
              0.8888888888888888,
              "#fdca26"
             ],
             [
              1,
              "#f0f921"
             ]
            ],
            "type": "contour"
           }
          ],
          "contourcarpet": [
           {
            "colorbar": {
             "outlinewidth": 0,
             "ticks": ""
            },
            "type": "contourcarpet"
           }
          ],
          "heatmap": [
           {
            "colorbar": {
             "outlinewidth": 0,
             "ticks": ""
            },
            "colorscale": [
             [
              0,
              "#0d0887"
             ],
             [
              0.1111111111111111,
              "#46039f"
             ],
             [
              0.2222222222222222,
              "#7201a8"
             ],
             [
              0.3333333333333333,
              "#9c179e"
             ],
             [
              0.4444444444444444,
              "#bd3786"
             ],
             [
              0.5555555555555556,
              "#d8576b"
             ],
             [
              0.6666666666666666,
              "#ed7953"
             ],
             [
              0.7777777777777778,
              "#fb9f3a"
             ],
             [
              0.8888888888888888,
              "#fdca26"
             ],
             [
              1,
              "#f0f921"
             ]
            ],
            "type": "heatmap"
           }
          ],
          "heatmapgl": [
           {
            "colorbar": {
             "outlinewidth": 0,
             "ticks": ""
            },
            "colorscale": [
             [
              0,
              "#0d0887"
             ],
             [
              0.1111111111111111,
              "#46039f"
             ],
             [
              0.2222222222222222,
              "#7201a8"
             ],
             [
              0.3333333333333333,
              "#9c179e"
             ],
             [
              0.4444444444444444,
              "#bd3786"
             ],
             [
              0.5555555555555556,
              "#d8576b"
             ],
             [
              0.6666666666666666,
              "#ed7953"
             ],
             [
              0.7777777777777778,
              "#fb9f3a"
             ],
             [
              0.8888888888888888,
              "#fdca26"
             ],
             [
              1,
              "#f0f921"
             ]
            ],
            "type": "heatmapgl"
           }
          ],
          "histogram": [
           {
            "marker": {
             "pattern": {
              "fillmode": "overlay",
              "size": 10,
              "solidity": 0.2
             }
            },
            "type": "histogram"
           }
          ],
          "histogram2d": [
           {
            "colorbar": {
             "outlinewidth": 0,
             "ticks": ""
            },
            "colorscale": [
             [
              0,
              "#0d0887"
             ],
             [
              0.1111111111111111,
              "#46039f"
             ],
             [
              0.2222222222222222,
              "#7201a8"
             ],
             [
              0.3333333333333333,
              "#9c179e"
             ],
             [
              0.4444444444444444,
              "#bd3786"
             ],
             [
              0.5555555555555556,
              "#d8576b"
             ],
             [
              0.6666666666666666,
              "#ed7953"
             ],
             [
              0.7777777777777778,
              "#fb9f3a"
             ],
             [
              0.8888888888888888,
              "#fdca26"
             ],
             [
              1,
              "#f0f921"
             ]
            ],
            "type": "histogram2d"
           }
          ],
          "histogram2dcontour": [
           {
            "colorbar": {
             "outlinewidth": 0,
             "ticks": ""
            },
            "colorscale": [
             [
              0,
              "#0d0887"
             ],
             [
              0.1111111111111111,
              "#46039f"
             ],
             [
              0.2222222222222222,
              "#7201a8"
             ],
             [
              0.3333333333333333,
              "#9c179e"
             ],
             [
              0.4444444444444444,
              "#bd3786"
             ],
             [
              0.5555555555555556,
              "#d8576b"
             ],
             [
              0.6666666666666666,
              "#ed7953"
             ],
             [
              0.7777777777777778,
              "#fb9f3a"
             ],
             [
              0.8888888888888888,
              "#fdca26"
             ],
             [
              1,
              "#f0f921"
             ]
            ],
            "type": "histogram2dcontour"
           }
          ],
          "mesh3d": [
           {
            "colorbar": {
             "outlinewidth": 0,
             "ticks": ""
            },
            "type": "mesh3d"
           }
          ],
          "parcoords": [
           {
            "line": {
             "colorbar": {
              "outlinewidth": 0,
              "ticks": ""
             }
            },
            "type": "parcoords"
           }
          ],
          "pie": [
           {
            "automargin": true,
            "type": "pie"
           }
          ],
          "scatter": [
           {
            "fillpattern": {
             "fillmode": "overlay",
             "size": 10,
             "solidity": 0.2
            },
            "type": "scatter"
           }
          ],
          "scatter3d": [
           {
            "line": {
             "colorbar": {
              "outlinewidth": 0,
              "ticks": ""
             }
            },
            "marker": {
             "colorbar": {
              "outlinewidth": 0,
              "ticks": ""
             }
            },
            "type": "scatter3d"
           }
          ],
          "scattercarpet": [
           {
            "marker": {
             "colorbar": {
              "outlinewidth": 0,
              "ticks": ""
             }
            },
            "type": "scattercarpet"
           }
          ],
          "scattergeo": [
           {
            "marker": {
             "colorbar": {
              "outlinewidth": 0,
              "ticks": ""
             }
            },
            "type": "scattergeo"
           }
          ],
          "scattergl": [
           {
            "marker": {
             "colorbar": {
              "outlinewidth": 0,
              "ticks": ""
             }
            },
            "type": "scattergl"
           }
          ],
          "scattermapbox": [
           {
            "marker": {
             "colorbar": {
              "outlinewidth": 0,
              "ticks": ""
             }
            },
            "type": "scattermapbox"
           }
          ],
          "scatterpolar": [
           {
            "marker": {
             "colorbar": {
              "outlinewidth": 0,
              "ticks": ""
             }
            },
            "type": "scatterpolar"
           }
          ],
          "scatterpolargl": [
           {
            "marker": {
             "colorbar": {
              "outlinewidth": 0,
              "ticks": ""
             }
            },
            "type": "scatterpolargl"
           }
          ],
          "scatterternary": [
           {
            "marker": {
             "colorbar": {
              "outlinewidth": 0,
              "ticks": ""
             }
            },
            "type": "scatterternary"
           }
          ],
          "surface": [
           {
            "colorbar": {
             "outlinewidth": 0,
             "ticks": ""
            },
            "colorscale": [
             [
              0,
              "#0d0887"
             ],
             [
              0.1111111111111111,
              "#46039f"
             ],
             [
              0.2222222222222222,
              "#7201a8"
             ],
             [
              0.3333333333333333,
              "#9c179e"
             ],
             [
              0.4444444444444444,
              "#bd3786"
             ],
             [
              0.5555555555555556,
              "#d8576b"
             ],
             [
              0.6666666666666666,
              "#ed7953"
             ],
             [
              0.7777777777777778,
              "#fb9f3a"
             ],
             [
              0.8888888888888888,
              "#fdca26"
             ],
             [
              1,
              "#f0f921"
             ]
            ],
            "type": "surface"
           }
          ],
          "table": [
           {
            "cells": {
             "fill": {
              "color": "#EBF0F8"
             },
             "line": {
              "color": "white"
             }
            },
            "header": {
             "fill": {
              "color": "#C8D4E3"
             },
             "line": {
              "color": "white"
             }
            },
            "type": "table"
           }
          ]
         },
         "layout": {
          "annotationdefaults": {
           "arrowcolor": "#2a3f5f",
           "arrowhead": 0,
           "arrowwidth": 1
          },
          "autotypenumbers": "strict",
          "coloraxis": {
           "colorbar": {
            "outlinewidth": 0,
            "ticks": ""
           }
          },
          "colorscale": {
           "diverging": [
            [
             0,
             "#8e0152"
            ],
            [
             0.1,
             "#c51b7d"
            ],
            [
             0.2,
             "#de77ae"
            ],
            [
             0.3,
             "#f1b6da"
            ],
            [
             0.4,
             "#fde0ef"
            ],
            [
             0.5,
             "#f7f7f7"
            ],
            [
             0.6,
             "#e6f5d0"
            ],
            [
             0.7,
             "#b8e186"
            ],
            [
             0.8,
             "#7fbc41"
            ],
            [
             0.9,
             "#4d9221"
            ],
            [
             1,
             "#276419"
            ]
           ],
           "sequential": [
            [
             0,
             "#0d0887"
            ],
            [
             0.1111111111111111,
             "#46039f"
            ],
            [
             0.2222222222222222,
             "#7201a8"
            ],
            [
             0.3333333333333333,
             "#9c179e"
            ],
            [
             0.4444444444444444,
             "#bd3786"
            ],
            [
             0.5555555555555556,
             "#d8576b"
            ],
            [
             0.6666666666666666,
             "#ed7953"
            ],
            [
             0.7777777777777778,
             "#fb9f3a"
            ],
            [
             0.8888888888888888,
             "#fdca26"
            ],
            [
             1,
             "#f0f921"
            ]
           ],
           "sequentialminus": [
            [
             0,
             "#0d0887"
            ],
            [
             0.1111111111111111,
             "#46039f"
            ],
            [
             0.2222222222222222,
             "#7201a8"
            ],
            [
             0.3333333333333333,
             "#9c179e"
            ],
            [
             0.4444444444444444,
             "#bd3786"
            ],
            [
             0.5555555555555556,
             "#d8576b"
            ],
            [
             0.6666666666666666,
             "#ed7953"
            ],
            [
             0.7777777777777778,
             "#fb9f3a"
            ],
            [
             0.8888888888888888,
             "#fdca26"
            ],
            [
             1,
             "#f0f921"
            ]
           ]
          },
          "colorway": [
           "#636efa",
           "#EF553B",
           "#00cc96",
           "#ab63fa",
           "#FFA15A",
           "#19d3f3",
           "#FF6692",
           "#B6E880",
           "#FF97FF",
           "#FECB52"
          ],
          "font": {
           "color": "#2a3f5f"
          },
          "geo": {
           "bgcolor": "white",
           "lakecolor": "white",
           "landcolor": "#E5ECF6",
           "showlakes": true,
           "showland": true,
           "subunitcolor": "white"
          },
          "hoverlabel": {
           "align": "left"
          },
          "hovermode": "closest",
          "mapbox": {
           "style": "light"
          },
          "paper_bgcolor": "white",
          "plot_bgcolor": "#E5ECF6",
          "polar": {
           "angularaxis": {
            "gridcolor": "white",
            "linecolor": "white",
            "ticks": ""
           },
           "bgcolor": "#E5ECF6",
           "radialaxis": {
            "gridcolor": "white",
            "linecolor": "white",
            "ticks": ""
           }
          },
          "scene": {
           "xaxis": {
            "backgroundcolor": "#E5ECF6",
            "gridcolor": "white",
            "gridwidth": 2,
            "linecolor": "white",
            "showbackground": true,
            "ticks": "",
            "zerolinecolor": "white"
           },
           "yaxis": {
            "backgroundcolor": "#E5ECF6",
            "gridcolor": "white",
            "gridwidth": 2,
            "linecolor": "white",
            "showbackground": true,
            "ticks": "",
            "zerolinecolor": "white"
           },
           "zaxis": {
            "backgroundcolor": "#E5ECF6",
            "gridcolor": "white",
            "gridwidth": 2,
            "linecolor": "white",
            "showbackground": true,
            "ticks": "",
            "zerolinecolor": "white"
           }
          },
          "shapedefaults": {
           "line": {
            "color": "#2a3f5f"
           }
          },
          "ternary": {
           "aaxis": {
            "gridcolor": "white",
            "linecolor": "white",
            "ticks": ""
           },
           "baxis": {
            "gridcolor": "white",
            "linecolor": "white",
            "ticks": ""
           },
           "bgcolor": "#E5ECF6",
           "caxis": {
            "gridcolor": "white",
            "linecolor": "white",
            "ticks": ""
           }
          },
          "title": {
           "x": 0.05
          },
          "xaxis": {
           "automargin": true,
           "gridcolor": "white",
           "linecolor": "white",
           "ticks": "",
           "title": {
            "standoff": 15
           },
           "zerolinecolor": "white",
           "zerolinewidth": 2
          },
          "yaxis": {
           "automargin": true,
           "gridcolor": "white",
           "linecolor": "white",
           "ticks": "",
           "title": {
            "standoff": 15
           },
           "zerolinecolor": "white",
           "zerolinewidth": 2
          }
         }
        },
        "xaxis": {
         "anchor": "y",
         "autorange": true,
         "domain": [
          0,
          1
         ],
         "range": [
          12.962363415621205,
          87.03763658437879
         ],
         "title": {
          "text": "AGE_AT_DIAGNOSIS"
         },
         "type": "linear"
        },
        "yaxis": {
         "anchor": "x",
         "autorange": true,
         "domain": [
          0,
          1
         ],
         "range": [
          -11.064435695538059,
          153.96443569553807
         ],
         "title": {
          "text": "OS_MONTHS"
         },
         "type": "linear"
        }
       }
      },
      "image/png": "[encoded data removed]",
      "text/html": [
       "<div>                            <div id=\"9f5bf39d-7224-4573-962b-7a938421a409\" class=\"plotly-graph-div\" style=\"height:525px; width:100%;\"></div>            <script type=\"text/javascript\">                require([\"plotly\"], function(Plotly) {                    window.PLOTLYENV=window.PLOTLYENV || {};                                    if (document.getElementById(\"9f5bf39d-7224-4573-962b-7a938421a409\")) {                    Plotly.newPlot(                        \"9f5bf39d-7224-4573-962b-7a938421a409\",                        [{\"customdata\":[[\"P-0000241\",\"P-0000241-T01-IM3\"],[\"P-0000511\",\"P-0000511-T01-IM3\"],[\"P-0000562\",\"P-0000562-T01-IM3\"],[\"P-0000616\",\"P-0000616-T01-IM3\"],[\"P-0000616\",\"P-0000616-T02-IM3\"],[\"P-0000625\",\"P-0000625-T01-IM3\"],[\"P-0000687\",\"P-0000687-T01-IM3\"],[\"P-0000714\",\"P-0000714-T01-IM3\"],[\"P-0000721\",\"P-0000721-T01-IM3\"],[\"P-0000737\",\"P-0000737-T01-IM3\"],[\"P-0000754\",\"P-0000754-T01-IM3\"],[\"P-0000763\",\"P-0000763-T01-IM3\"],[\"P-0000772\",\"P-0000772-T01-IM3\"],[\"P-0000777\",\"P-0000777-T01-IM3\"],[\"P-0000798\",\"P-0000798-T01-IM3\"],[\"P-0000827\",\"P-0000827-T01-IM3\"],[\"P-0000860\",\"P-0000860-T01-IM3\"],[\"P-0000868\",\"P-0000868-T01-IM3\"],[\"P-0000874\",\"P-0000874-T01-IM3\"],[\"P-0000885\",\"P-0000885-T01-IM3\"],[\"P-0000933\",\"P-0000933-T01-IM3\"],[\"P-0000982\",\"P-0000982-T01-IM3\"],[\"P-0000982\",\"P-0000982-T02-IM5\"],[\"P-0000994\",\"P-0000994-T01-IM3\"],[\"P-0001054\",\"P-0001054-T01-IM3\"],[\"P-0001054\",\"P-0001054-T02-IM3\"],[\"P-0001104\",\"P-0001104-T01-IM3\"],[\"P-0001104\",\"P-0001104-T02-IM3\"],[\"P-0001104\",\"P-0001104-T03-IM3\"],[\"P-0001104\",\"P-0001104-T05-IM3\"],[\"P-0001150\",\"P-0001150-T01-IM3\"],[\"P-0001151\",\"P-0001151-T01-IM3\"],[\"P-0001287\",\"P-0001287-T01-IM3\"],[\"P-0001295\",\"P-0001295-T01-IM3\"],[\"P-0001302\",\"P-0001302-T01-IM3\"],[\"P-0001318\",\"P-0001318-T01-IM3\"],[\"P-0001394\",\"P-0001394-T02-IM5\"],[\"P-0001424\",\"P-0001424-T01-IM3\"],[\"P-0001424\",\"P-0001424-T02-IM3\"],[\"P-0001427\",\"P-0001427-T01-IM3\"],[\"P-0001469\",\"P-0001469-T01-IM3\"],[\"P-0001500\",\"P-0001500-T02-IM5\"],[\"P-0001500\",\"P-0001500-T03-IM5\"],[\"P-0001500\",\"P-0001500-T04-IM5\"],[\"P-0001554\",\"P-0001554-T01-IM3\"],[\"P-0001673\",\"P-0001673-T01-IM3\"],[\"P-0001676\",\"P-0001676-T01-IM3\"],[\"P-0001693\",\"P-0001693-T02-IM3\"],[\"P-0001702\",\"P-0001702-T01-IM3\"],[\"P-0001732\",\"P-0001732-T01-IM3\"],[\"P-0001754\",\"P-0001754-T01-IM3\"],[\"P-0001761\",\"P-0001761-T01-IM3\"],[\"P-0001767\",\"P-0001767-T01-IM3\"],[\"P-0001771\",\"P-0001771-T01-IM3\"],[\"P-0001913\",\"P-0001913-T01-IM3\"],[\"P-0001940\",\"P-0001940-T01-IM3\"],[\"P-0001961\",\"P-0001961-T02-IM5\"],[\"P-0001961\",\"P-0001961-T03-IM5\"],[\"P-0002025\",\"P-0002025-T01-IM3\"],[\"P-0002035\",\"P-0002035-T01-IM3\"],[\"P-0002048\",\"P-0002048-T01-IM3\"],[\"P-0002068\",\"P-0002068-T01-IM3\"],[\"P-0002095\",\"P-0002095-T01-IM3\"],[\"P-0002291\",\"P-0002291-T01-IM3\"],[\"P-0002321\",\"P-0002321-T01-IM3\"],[\"P-0002407\",\"P-0002407-T01-IM3\"],[\"P-0002487\",\"P-0002487-T01-IM3\"],[\"P-0002653\",\"P-0002653-T01-IM3\"],[\"P-0002752\",\"P-0002752-T01-IM3\"],[\"P-0002769\",\"P-0002769-T01-IM3\"],[\"P-0002791\",\"P-0002791-T01-IM3\"],[\"P-0002814\",\"P-0002814-T01-IM3\"],[\"P-0002852\",\"P-0002852-T01-IM3\"],[\"P-0002855\",\"P-0002855-T01-IM3\"],[\"P-0003110\",\"P-0003110-T01-IM5\"],[\"P-0003211\",\"P-0003211-T01-IM5\"],[\"P-0003285\",\"P-0003285-T01-IM5\"],[\"P-0003298\",\"P-0003298-T01-IM5\"],[\"P-0003308\",\"P-0003308-T01-IM5\"],[\"P-0003348\",\"P-0003348-T01-IM5\"],[\"P-0003474\",\"P-0003474-T01-IM5\"],[\"P-0003475\",\"P-0003475-T01-IM5\"],[\"P-0003510\",\"P-0003510-T01-IM5\"],[\"P-0003513\",\"P-0003513-T01-IM5\"],[\"P-0003518\",\"P-0003518-T01-IM5\"],[\"P-0003717\",\"P-0003717-T01-IM5\"],[\"P-0003774\",\"P-0003774-T01-IM5\"],[\"P-0003780\",\"P-0003780-T01-IM5\"],[\"P-0003886\",\"P-0003886-T01-IM5\"],[\"P-0003901\",\"P-0003901-T01-IM5\"],[\"P-0004159\",\"P-0004159-T01-IM5\"],[\"P-0004172\",\"P-0004172-T01-IM5\"],[\"P-0004249\",\"P-0004249-T01-IM5\"],[\"P-0004251\",\"P-0004251-T01-IM5\"],[\"P-0004323\",\"P-0004323-T01-IM5\"],[\"P-0004363\",\"P-0004363-T01-IM5\"],[\"P-0004403\",\"P-0004403-T01-IM5\"],[\"P-0004431\",\"P-0004431-T01-IM5\"],[\"P-0004454\",\"P-0004454-T01-IM5\"],[\"P-0004511\",\"P-0004511-T01-IM5\"],[\"P-0004549\",\"P-0004549-T01-IM5\"],[\"P-0004629\",\"P-0004629-T01-IM5\"],[\"P-0004673\",\"P-0004673-T01-IM5\"],[\"P-0004692\",\"P-0004692-T01-IM5\"],[\"P-0004716\",\"P-0004716-T02-IM5\"],[\"P-0004786\",\"P-0004786-T01-IM5\"],[\"P-0004795\",\"P-0004795-T01-IM5\"],[\"P-0004862\",\"P-0004862-T01-IM5\"],[\"P-0004872\",\"P-0004872-T01-IM5\"],[\"P-0004886\",\"P-0004886-T01-IM5\"],[\"P-0004897\",\"P-0004897-T01-IM5\"],[\"P-0005029\",\"P-0005029-T01-IM5\"],[\"P-0005124\",\"P-0005124-T01-IM5\"],[\"P-0005164\",\"P-0005164-T01-IM5\"],[\"P-0005327\",\"P-0005327-T01-IM5\"],[\"P-0005446\",\"P-0005446-T01-IM5\"],[\"P-0005528\",\"P-0005528-T01-IM5\"],[\"P-0005623\",\"P-0005623-T02-IM5\"],[\"P-0005670\",\"P-0005670-T01-IM5\"],[\"P-0005730\",\"P-0005730-T02-IM5\"],[\"P-0005742\",\"P-0005742-T01-IM5\"],[\"P-0005858\",\"P-0005858-T01-IM5\"],[\"P-0005888\",\"P-0005888-T01-IM5\"],[\"P-0005996\",\"P-0005996-T01-IM5\"],[\"P-0006000\",\"P-0006000-T02-IM5\"],[\"P-0006075\",\"P-0006075-T01-IM5\"],[\"P-0006093\",\"P-0006093-T01-IM5\"],[\"P-0006135\",\"P-0006135-T01-IM5\"],[\"P-0006136\",\"P-0006136-T01-IM5\"],[\"P-0006219\",\"P-0006219-T01-IM5\"],[\"P-0006230\",\"P-0006230-T01-IM5\"],[\"P-0006261\",\"P-0006261-T01-IM5\"],[\"P-0006345\",\"P-0006345-T01-IM5\"],[\"P-0006359\",\"P-0006359-T01-IM5\"],[\"P-0006390\",\"P-0006390-T01-IM5\"],[\"P-0006394\",\"P-0006394-T01-IM5\"],[\"P-0006405\",\"P-0006405-T01-IM5\"],[\"P-0006444\",\"P-0006444-T02-IM5\"],[\"P-0006548\",\"P-0006548-T01-IM5\"],[\"P-0006559\",\"P-0006559-T01-IM5\"],[\"P-0006608\",\"P-0006608-T01-IM5\"],[\"P-0006612\",\"P-0006612-T01-IM5\"],[\"P-0006680\",\"P-0006680-T01-IM5\"],[\"P-0006687\",\"P-0006687-T01-IM5\"],[\"P-0006704\",\"P-0006704-T01-IM5\"],[\"P-0006717\",\"P-0006717-T01-IM5\"],[\"P-0006721\",\"P-0006721-T01-IM5\"],[\"P-0006726\",\"P-0006726-T01-IM5\"],[\"P-0006729\",\"P-0006729-T01-IM5\"],[\"P-0006730\",\"P-0006730-T01-IM5\"],[\"P-0006740\",\"P-0006740-T01-IM5\"],[\"P-0006743\",\"P-0006743-T01-IM5\"],[\"P-0006761\",\"P-0006761-T01-IM5\"],[\"P-0006778\",\"P-0006778-T01-IM5\"],[\"P-0006813\",\"P-0006813-T01-IM5\"],[\"P-0006853\",\"P-0006853-T01-IM5\"],[\"P-0006860\",\"P-0006860-T01-IM5\"],[\"P-0006864\",\"P-0006864-T01-IM5\"],[\"P-0006888\",\"P-0006888-T01-IM5\"],[\"P-0006889\",\"P-0006889-T01-IM5\"],[\"P-0006968\",\"P-0006968-T01-IM5\"],[\"P-0007069\",\"P-0007069-T01-IM5\"],[\"P-0007080\",\"P-0007080-T02-IM5\"],[\"P-0007097\",\"P-0007097-T01-IM5\"],[\"P-0007136\",\"P-0007136-T01-IM5\"],[\"P-0007168\",\"P-0007168-T01-IM5\"],[\"P-0007203\",\"P-0007203-T01-IM5\"],[\"P-0007207\",\"P-0007207-T01-IM5\"],[\"P-0007315\",\"P-0007315-T01-IM5\"],[\"P-0007365\",\"P-0007365-T01-IM5\"],[\"P-0007381\",\"P-0007381-T01-IM5\"],[\"P-0007389\",\"P-0007389-T01-IM5\"],[\"P-0007414\",\"P-0007414-T01-IM5\"],[\"P-0007486\",\"P-0007486-T01-IM5\"],[\"P-0007488\",\"P-0007488-T01-IM5\"],[\"P-0007490\",\"P-0007490-T01-IM5\"],[\"P-0007511\",\"P-0007511-T01-IM5\"],[\"P-0007550\",\"P-0007550-T01-IM5\"],[\"P-0007554\",\"P-0007554-T01-IM5\"],[\"P-0007600\",\"P-0007600-T01-IM5\"],[\"P-0007631\",\"P-0007631-T01-IM5\"],[\"P-0007669\",\"P-0007669-T01-IM5\"],[\"P-0007691\",\"P-0007691-T01-IM5\"],[\"P-0007698\",\"P-0007698-T01-IM5\"],[\"P-0007740\",\"P-0007740-T01-IM5\"],[\"P-0007869\",\"P-0007869-T01-IM5\"],[\"P-0007883\",\"P-0007883-T01-IM5\"],[\"P-0007912\",\"P-0007912-T01-IM5\"],[\"P-0008068\",\"P-0008068-T01-IM5\"],[\"P-0008075\",\"P-0008075-T01-IM5\"],[\"P-0008141\",\"P-0008141-T01-IM5\"],[\"P-0008159\",\"P-0008159-T01-IM5\"],[\"P-0008259\",\"P-0008259-T01-IM5\"],[\"P-0008267\",\"P-0008267-T01-IM5\"],[\"P-0008483\",\"P-0008483-T01-IM5\"],[\"P-0008521\",\"P-0008521-T01-IM5\"],[\"P-0008565\",\"P-0008565-T01-IM5\"],[\"P-0008579\",\"P-0008579-T01-IM5\"],[\"P-0008582\",\"P-0008582-T01-IM5\"],[\"P-0008583\",\"P-0008583-T01-IM5\"],[\"P-0008590\",\"P-0008590-T01-IM5\"],[\"P-0008594\",\"P-0008594-T01-IM5\"],[\"P-0008600\",\"P-0008600-T01-IM5\"],[\"P-0008651\",\"P-0008651-T01-IM5\"],[\"P-0008652\",\"P-0008652-T01-IM5\"],[\"P-0008683\",\"P-0008683-T01-IM5\"],[\"P-0008747\",\"P-0008747-T01-IM5\"],[\"P-0008782\",\"P-0008782-T01-IM5\"],[\"P-0008841\",\"P-0008841-T01-IM5\"],[\"P-0008868\",\"P-0008868-T01-IM5\"],[\"P-0009053\",\"P-0009053-T01-IM5\"],[\"P-0009058\",\"P-0009058-T01-IM5\"],[\"P-0009059\",\"P-0009059-T01-IM5\"],[\"P-0009145\",\"P-0009145-T01-IM5\"],[\"P-0009145\",\"P-0009145-T02-IM5\"],[\"P-0009170\",\"P-0009170-T01-IM5\"],[\"P-0009192\",\"P-0009192-T01-IM5\"],[\"P-0009200\",\"P-0009200-T01-IM5\"],[\"P-0009305\",\"P-0009305-T01-IM5\"],[\"P-0009341\",\"P-0009341-T01-IM5\"],[\"P-0009355\",\"P-0009355-T01-IM5\"],[\"P-0009363\",\"P-0009363-T01-IM5\"],[\"P-0009433\",\"P-0009433-T01-IM5\"],[\"P-0009488\",\"P-0009488-T01-IM5\"],[\"P-0009617\",\"P-0009617-T01-IM5\"],[\"P-0009703\",\"P-0009703-T01-IM5\"],[\"P-0009716\",\"P-0009716-T01-IM5\"],[\"P-0009751\",\"P-0009751-T01-IM5\"],[\"P-0009757\",\"P-0009757-T01-IM5\"],[\"P-0009826\",\"P-0009826-T01-IM5\"],[\"P-0009838\",\"P-0009838-T01-IM5\"],[\"P-0009842\",\"P-0009842-T01-IM5\"],[\"P-0009850\",\"P-0009850-T01-IM5\"],[\"P-0009851\",\"P-0009851-T01-IM5\"],[\"P-0009863\",\"P-0009863-T01-IM5\"],[\"P-0009902\",\"P-0009902-T01-IM5\"],[\"P-0009949\",\"P-0009949-T01-IM5\"],[\"P-0009954\",\"P-0009954-T01-IM5\"],[\"P-0010022\",\"P-0010022-T01-IM5\"],[\"P-0010044\",\"P-0010044-T01-IM5\"],[\"P-0010049\",\"P-0010049-T01-IM5\"],[\"P-0010062\",\"P-0010062-T01-IM5\"],[\"P-0010112\",\"P-0010112-T01-IM5\"],[\"P-0010125\",\"P-0010125-T01-IM5\"],[\"P-0010134\",\"P-0010134-T01-IM5\"],[\"P-0010138\",\"P-0010138-T01-IM5\"],[\"P-0010146\",\"P-0010146-T01-IM5\"],[\"P-0010147\",\"P-0010147-T01-IM5\"],[\"P-0010203\",\"P-0010203-T01-IM5\"],[\"P-0010238\",\"P-0010238-T01-IM5\"],[\"P-0010352\",\"P-0010352-T01-IM5\"],[\"P-0010363\",\"P-0010363-T01-IM5\"],[\"P-0010364\",\"P-0010364-T01-IM5\"],[\"P-0010365\",\"P-0010365-T01-IM5\"],[\"P-0010406\",\"P-0010406-T01-IM5\"],[\"P-0010497\",\"P-0010497-T01-IM5\"],[\"P-0010513\",\"P-0010513-T01-IM5\"],[\"P-0010627\",\"P-0010627-T01-IM5\"],[\"P-0010680\",\"P-0010680-T01-IM5\"],[\"P-0010742\",\"P-0010742-T01-IM5\"],[\"P-0010832\",\"P-0010832-T01-IM5\"],[\"P-0010861\",\"P-0010861-T01-IM5\"],[\"P-0011084\",\"P-0011084-T02-IM5\"],[\"P-0011108\",\"P-0011108-T01-IM5\"],[\"P-0011109\",\"P-0011109-T01-IM5\"],[\"P-0011120\",\"P-0011120-T01-IM5\"],[\"P-0011124\",\"P-0011124-T01-IM5\"],[\"P-0011131\",\"P-0011131-T01-IM5\"],[\"P-0011144\",\"P-0011144-T01-IM5\"],[\"P-0011195\",\"P-0011195-T01-IM5\"],[\"P-0011264\",\"P-0011264-T01-IM5\"],[\"P-0011287\",\"P-0011287-T01-IM5\"],[\"P-0011288\",\"P-0011288-T01-IM5\"],[\"P-0011374\",\"P-0011374-T01-IM5\"],[\"P-0011455\",\"P-0011455-T01-IM5\"],[\"P-0011510\",\"P-0011510-T01-IM5\"],[\"P-0011520\",\"P-0011520-T01-IM5\"],[\"P-0011533\",\"P-0011533-T01-IM5\"],[\"P-0011545\",\"P-0011545-T01-IM5\"],[\"P-0012033\",\"P-0012033-T01-IM5\"],[\"P-0012110\",\"P-0012110-T01-IM5\"],[\"P-0012135\",\"P-0012135-T01-IM5\"],[\"P-0012233\",\"P-0012233-T01-IM5\"],[\"P-0012366\",\"P-0012366-T01-IM5\"],[\"P-0012383\",\"P-0012383-T01-IM5\"],[\"P-0012399\",\"P-0012399-T01-IM5\"],[\"P-0012406\",\"P-0012406-T01-IM5\"],[\"P-0012418\",\"P-0012418-T01-IM5\"],[\"P-0012418\",\"P-0012418-T02-IM5\"],[\"P-0012426\",\"P-0012426-T01-IM5\"],[\"P-0012625\",\"P-0012625-T01-IM5\"],[\"P-0012695\",\"P-0012695-T01-IM5\"],[\"P-0012708\",\"P-0012708-T01-IM5\"],[\"P-0012722\",\"P-0012722-T01-IM5\"],[\"P-0012723\",\"P-0012723-T01-IM5\"],[\"P-0012728\",\"P-0012728-T01-IM5\"],[\"P-0012742\",\"P-0012742-T01-IM5\"],[\"P-0012779\",\"P-0012779-T01-IM5\"],[\"P-0012810\",\"P-0012810-T01-IM5\"],[\"P-0012877\",\"P-0012877-T01-IM5\"],[\"P-0012912\",\"P-0012912-T01-IM5\"],[\"P-0013055\",\"P-0013055-T01-IM5\"],[\"P-0013121\",\"P-0013121-T02-IM5\"],[\"P-0013121\",\"P-0013121-T03-IM5\"],[\"P-0013146\",\"P-0013146-T01-IM5\"],[\"P-0013186\",\"P-0013186-T01-IM5\"],[\"P-0013300\",\"P-0013300-T01-IM5\"],[\"P-0013375\",\"P-0013375-T01-IM5\"],[\"P-0013441\",\"P-0013441-T01-IM5\"],[\"P-0013461\",\"P-0013461-T01-IM5\"],[\"P-0013551\",\"P-0013551-T01-IM5\"],[\"P-0013704\",\"P-0013704-T01-IM5\"],[\"P-0013820\",\"P-0013820-T01-IM5\"],[\"P-0013822\",\"P-0013822-T02-IM6\"],[\"P-0013881\",\"P-0013881-T01-IM5\"],[\"P-0013897\",\"P-0013897-T01-IM5\"],[\"P-0013941\",\"P-0013941-T01-IM5\"],[\"P-0013981\",\"P-0013981-T01-IM5\"],[\"P-0014010\",\"P-0014010-T01-IM5\"],[\"P-0014021\",\"P-0014021-T01-IM5\"],[\"P-0014026\",\"P-0014026-T01-IM5\"],[\"P-0014066\",\"P-0014066-T01-IM5\"],[\"P-0014119\",\"P-0014119-T01-IM5\"],[\"P-0014133\",\"P-0014133-T01-IM5\"],[\"P-0014168\",\"P-0014168-T01-IM5\"],[\"P-0014296\",\"P-0014296-T01-IM6\"]],\"hovertemplate\":\"color=('Female', 'MSS')<br>AGE_AT_DIAGNOSIS=%{x}<br>OS_MONTHS=%{y}<br>PATIENT_ID=%{customdata[0]}<br>SAMPLE_ID=%{customdata[1]}<extra></extra>\",\"legendgroup\":\"('Female', 'MSS')\",\"marker\":{\"color\":\"#636efa\",\"symbol\":\"circle\"},\"mode\":\"markers\",\"name\":\"('Female', 'MSS')\",\"orientation\":\"v\",\"showlegend\":true,\"x\":[49,39,43,58,58,68,46,38,58,47,46,45,38,40,47,48,49,49,59,51,39,57,57,48,34,34,75,75,75,75,51,66,65,42,34,49,45,37,37,65,63,53,53,53,51,56,44,51,48,63,72,58,46,40,46,75,64,64,78,37,38,52,44,42,56,45,45,17,53,49,78,54,65,44,40,57,33,66,46,38,43,61,83,51,39,43,44,47,73,49,32,48,48,50,68,34,68,62,76,54,51,53,73,42,67,65,63,49,49,48,51,32,52,52,29,56,45,31,47,36,66,29,38,40,41,41,46,43,75,61,40,51,72,60,50,47,49,46,44,68,47,70,80,53,44,64,46,48,53,56,65,31,46,68,58,62,64,51,46,61,76,47,54,45,41,67,49,70,53,45,43,51,47,49,43,54,50,46,57,50,43,38,44,57,40,49,42,43,43,29,50,57,54,40,54,63,59,74,56,43,55,54,50,52,48,66,69,62,67,70,69,51,39,55,55,52,48,64,48,40,60,61,47,46,52,71,65,37,63,57,38,60,51,43,49,46,52,53,57,58,48,45,34,68,57,43,44,53,33,47,53,64,49,32,46,29,51,61,58,47,25,38,58,69,71,64,54,42,25,33,61,44,69,31,55,57,33,64,73,53,35,33,61,60,62,58,29,58,58,50,62,51,50,60,55,61,65,58,44,75,63,49,52,52,57,36,43,61,61,68,66,71,60,74,53,63,51,80,32,58,50,50,47,53,45,46],\"xaxis\":\"x\",\"y\":[24.0,23.27,37.33,19.43,19.43,16.77,43.07,13.67,23.3,69.8,23.03,38.73,61.03,96.87,72.17,26.2,104.07,123.43,36.7,49.9,31.17,10.6,10.6,30.27,36.77,36.77,31.6,31.6,31.6,31.6,45.8,25.43,21.97,69.97,42.83,37.97,6.4,14.27,14.27,16.9,17.57,36.47,36.47,36.47,55.43,null,11.33,18.73,32.07,27.7,35.57,33.6,35.87,45.57,null,27.67,57.73,57.73,16.33,8.5,21.9,41.4,40.2,42.6,9.3,0.93,1.67,13.5,34.57,49.93,19.17,121.13,24.7,26.37,78.9,31.33,34.93,15.43,30.67,105.2,18.2,34.33,30.9,74.5,41.9,28.2,7.13,15.4,30.6,22.1,55.47,15.93,19.43,11.5,29.67,24.67,31.07,null,26.27,33.43,7.7,50.27,21.37,30.83,21.2,38.67,8.97,0.57,44.17,47.33,13.1,19.9,17.0,32.6,28.7,23.87,30.23,27.93,6.03,46.87,24.73,26.47,12.9,11.7,26.4,26.63,34.83,7.07,23.7,27.67,32.33,99.8,22.8,null,31.0,8.9,35.23,16.7,10.27,0.67,64.6,null,null,27.07,29.43,33.3,47.47,31.5,33.73,7.97,43.7,40.1,84.6,25.17,26.0,30.7,15.5,24.43,34.37,34.97,14.67,27.97,86.73,40.6,125.9,35.0,11.77,23.67,56.97,91.47,36.3,63.23,23.77,51.17,60.33,41.3,22.2,22.03,66.57,33.77,79.37,101.83,27.87,27.47,116.97,45.67,73.53,82.57,88.7,51.3,21.03,9.73,21.53,25.2,24.23,15.73,43.43,8.47,23.97,26.3,65.4,33.97,66.37,24.83,15.4,25.9,10.5,4.47,21.57,22.67,12.6,47.77,10.57,19.87,19.87,3.77,20.13,1.87,20.83,19.7,18.73,23.0,21.83,17.63,23.47,9.27,9.63,17.6,18.0,38.1,null,46.33,36.17,null,4.9,63.0,19.77,20.27,null,26.1,null,27.63,null,2.1,17.53,35.6,17.47,15.53,22.4,72.73,26.2,28.73,47.73,18.47,22.0,15.5,69.97,11.83,31.57,41.73,19.97,null,21.57,17.53,0.0,19.67,33.77,1.33,15.0,58.63,6.63,8.93,34.47,24.57,50.4,null,24.4,120.0,17.5,24.23,8.37,26.33,14.13,16.67,23.9,16.0,51.03,17.4,17.4,58.7,15.47,31.57,26.1,17.2,5.03,16.27,16.53,5.0,2.6,null,10.57,2.27,33.53,33.53,15.47,6.17,7.97,12.8,34.47,14.37,4.1,9.5,14.93,0.7,17.3,142.9,19.23,1.8,64.7,0.0,7.53,23.83,14.97,25.83,16.6,12.07],\"yaxis\":\"y\",\"type\":\"scatter\"}],                        {\"template\":{\"data\":{\"histogram2dcontour\":[{\"type\":\"histogram2dcontour\",\"colorbar\":{\"outlinewidth\":0,\"ticks\":\"\"},\"colorscale\":[[0.0,\"#0d0887\"],[0.1111111111111111,\"#46039f\"],[0.2222222222222222,\"#7201a8\"],[0.3333333333333333,\"#9c179e\"],[0.4444444444444444,\"#bd3786\"],[0.5555555555555556,\"#d8576b\"],[0.6666666666666666,\"#ed7953\"],[0.7777777777777778,\"#fb9f3a\"],[0.8888888888888888,\"#fdca26\"],[1.0,\"#f0f921\"]]}],\"choropleth\":[{\"type\":\"choropleth\",\"colorbar\":{\"outlinewidth\":0,\"ticks\":\"\"}}],\"histogram2d\":[{\"type\":\"histogram2d\",\"colorbar\":{\"outlinewidth\":0,\"ticks\":\"\"},\"colorscale\":[[0.0,\"#0d0887\"],[0.1111111111111111,\"#46039f\"],[0.2222222222222222,\"#7201a8\"],[0.3333333333333333,\"#9c179e\"],[0.4444444444444444,\"#bd3786\"],[0.5555555555555556,\"#d8576b\"],[0.6666666666666666,\"#ed7953\"],[0.7777777777777778,\"#fb9f3a\"],[0.8888888888888888,\"#fdca26\"],[1.0,\"#f0f921\"]]}],\"heatmap\":[{\"type\":\"heatmap\",\"colorbar\":{\"outlinewidth\":0,\"ticks\":\"\"},\"colorscale\":[[0.0,\"#0d0887\"],[0.1111111111111111,\"#46039f\"],[0.2222222222222222,\"#7201a8\"],[0.3333333333333333,\"#9c179e\"],[0.4444444444444444,\"#bd3786\"],[0.5555555555555556,\"#d8576b\"],[0.6666666666666666,\"#ed7953\"],[0.7777777777777778,\"#fb9f3a\"],[0.8888888888888888,\"#fdca26\"],[1.0,\"#f0f921\"]]}],\"heatmapgl\":[{\"type\":\"heatmapgl\",\"colorbar\":{\"outlinewidth\":0,\"ticks\":\"\"},\"colorscale\":[[0.0,\"#0d0887\"],[0.1111111111111111,\"#46039f\"],[0.2222222222222222,\"#7201a8\"],[0.3333333333333333,\"#9c179e\"],[0.4444444444444444,\"#bd3786\"],[0.5555555555555556,\"#d8576b\"],[0.6666666666666666,\"#ed7953\"],[0.7777777777777778,\"#fb9f3a\"],[0.8888888888888888,\"#fdca26\"],[1.0,\"#f0f921\"]]}],\"contourcarpet\":[{\"type\":\"contourcarpet\",\"colorbar\":{\"outlinewidth\":0,\"ticks\":\"\"}}],\"contour\":[{\"type\":\"contour\",\"colorbar\":{\"outlinewidth\":0,\"ticks\":\"\"},\"colorscale\":[[0.0,\"#0d0887\"],[0.1111111111111111,\"#46039f\"],[0.2222222222222222,\"#7201a8\"],[0.3333333333333333,\"#9c179e\"],[0.4444444444444444,\"#bd3786\"],[0.5555555555555556,\"#d8576b\"],[0.6666666666666666,\"#ed7953\"],[0.7777777777777778,\"#fb9f3a\"],[0.8888888888888888,\"#fdca26\"],[1.0,\"#f0f921\"]]}],\"surface\":[{\"type\":\"surface\",\"colorbar\":{\"outlinewidth\":0,\"ticks\":\"\"},\"colorscale\":[[0.0,\"#0d0887\"],[0.1111111111111111,\"#46039f\"],[0.2222222222222222,\"#7201a8\"],[0.3333333333333333,\"#9c179e\"],[0.4444444444444444,\"#bd3786\"],[0.5555555555555556,\"#d8576b\"],[0.6666666666666666,\"#ed7953\"],[0.7777777777777778,\"#fb9f3a\"],[0.8888888888888888,\"#fdca26\"],[1.0,\"#f0f921\"]]}],\"mesh3d\":[{\"type\":\"mesh3d\",\"colorbar\":{\"outlinewidth\":0,\"ticks\":\"\"}}],\"scatter\":[{\"fillpattern\":{\"fillmode\":\"overlay\",\"size\":10,\"solidity\":0.2},\"type\":\"scatter\"}],\"parcoords\":[{\"type\":\"parcoords\",\"line\":{\"colorbar\":{\"outlinewidth\":0,\"ticks\":\"\"}}}],\"scatterpolargl\":[{\"type\":\"scatterpolargl\",\"marker\":{\"colorbar\":{\"outlinewidth\":0,\"ticks\":\"\"}}}],\"bar\":[{\"error_x\":{\"color\":\"#2a3f5f\"},\"error_y\":{\"color\":\"#2a3f5f\"},\"marker\":{\"line\":{\"color\":\"#E5ECF6\",\"width\":0.5},\"pattern\":{\"fillmode\":\"overlay\",\"size\":10,\"solidity\":0.2}},\"type\":\"bar\"}],\"scattergeo\":[{\"type\":\"scattergeo\",\"marker\":{\"colorbar\":{\"outlinewidth\":0,\"ticks\":\"\"}}}],\"scatterpolar\":[{\"type\":\"scatterpolar\",\"marker\":{\"colorbar\":{\"outlinewidth\":0,\"ticks\":\"\"}}}],\"histogram\":[{\"marker\":{\"pattern\":{\"fillmode\":\"overlay\",\"size\":10,\"solidity\":0.2}},\"type\":\"histogram\"}],\"scattergl\":[{\"type\":\"scattergl\",\"marker\":{\"colorbar\":{\"outlinewidth\":0,\"ticks\":\"\"}}}],\"scatter3d\":[{\"type\":\"scatter3d\",\"line\":{\"colorbar\":{\"outlinewidth\":0,\"ticks\":\"\"}},\"marker\":{\"colorbar\":{\"outlinewidth\":0,\"ticks\":\"\"}}}],\"scattermapbox\":[{\"type\":\"scattermapbox\",\"marker\":{\"colorbar\":{\"outlinewidth\":0,\"ticks\":\"\"}}}],\"scatterternary\":[{\"type\":\"scatterternary\",\"marker\":{\"colorbar\":{\"outlinewidth\":0,\"ticks\":\"\"}}}],\"scattercarpet\":[{\"type\":\"scattercarpet\",\"marker\":{\"colorbar\":{\"outlinewidth\":0,\"ticks\":\"\"}}}],\"carpet\":[{\"aaxis\":{\"endlinecolor\":\"#2a3f5f\",\"gridcolor\":\"white\",\"linecolor\":\"white\",\"minorgridcolor\":\"white\",\"startlinecolor\":\"#2a3f5f\"},\"baxis\":{\"endlinecolor\":\"#2a3f5f\",\"gridcolor\":\"white\",\"linecolor\":\"white\",\"minorgridcolor\":\"white\",\"startlinecolor\":\"#2a3f5f\"},\"type\":\"carpet\"}],\"table\":[{\"cells\":{\"fill\":{\"color\":\"#EBF0F8\"},\"line\":{\"color\":\"white\"}},\"header\":{\"fill\":{\"color\":\"#C8D4E3\"},\"line\":{\"color\":\"white\"}},\"type\":\"table\"}],\"barpolar\":[{\"marker\":{\"line\":{\"color\":\"#E5ECF6\",\"width\":0.5},\"pattern\":{\"fillmode\":\"overlay\",\"size\":10,\"solidity\":0.2}},\"type\":\"barpolar\"}],\"pie\":[{\"automargin\":true,\"type\":\"pie\"}]},\"layout\":{\"autotypenumbers\":\"strict\",\"colorway\":[\"#636efa\",\"#EF553B\",\"#00cc96\",\"#ab63fa\",\"#FFA15A\",\"#19d3f3\",\"#FF6692\",\"#B6E880\",\"#FF97FF\",\"#FECB52\"],\"font\":{\"color\":\"#2a3f5f\"},\"hovermode\":\"closest\",\"hoverlabel\":{\"align\":\"left\"},\"paper_bgcolor\":\"white\",\"plot_bgcolor\":\"#E5ECF6\",\"polar\":{\"bgcolor\":\"#E5ECF6\",\"angularaxis\":{\"gridcolor\":\"white\",\"linecolor\":\"white\",\"ticks\":\"\"},\"radialaxis\":{\"gridcolor\":\"white\",\"linecolor\":\"white\",\"ticks\":\"\"}},\"ternary\":{\"bgcolor\":\"#E5ECF6\",\"aaxis\":{\"gridcolor\":\"white\",\"linecolor\":\"white\",\"ticks\":\"\"},\"baxis\":{\"gridcolor\":\"white\",\"linecolor\":\"white\",\"ticks\":\"\"},\"caxis\":{\"gridcolor\":\"white\",\"linecolor\":\"white\",\"ticks\":\"\"}},\"coloraxis\":{\"colorbar\":{\"outlinewidth\":0,\"ticks\":\"\"}},\"colorscale\":{\"sequential\":[[0.0,\"#0d0887\"],[0.1111111111111111,\"#46039f\"],[0.2222222222222222,\"#7201a8\"],[0.3333333333333333,\"#9c179e\"],[0.4444444444444444,\"#bd3786\"],[0.5555555555555556,\"#d8576b\"],[0.6666666666666666,\"#ed7953\"],[0.7777777777777778,\"#fb9f3a\"],[0.8888888888888888,\"#fdca26\"],[1.0,\"#f0f921\"]],\"sequentialminus\":[[0.0,\"#0d0887\"],[0.1111111111111111,\"#46039f\"],[0.2222222222222222,\"#7201a8\"],[0.3333333333333333,\"#9c179e\"],[0.4444444444444444,\"#bd3786\"],[0.5555555555555556,\"#d8576b\"],[0.6666666666666666,\"#ed7953\"],[0.7777777777777778,\"#fb9f3a\"],[0.8888888888888888,\"#fdca26\"],[1.0,\"#f0f921\"]],\"diverging\":[[0,\"#8e0152\"],[0.1,\"#c51b7d\"],[0.2,\"#de77ae\"],[0.3,\"#f1b6da\"],[0.4,\"#fde0ef\"],[0.5,\"#f7f7f7\"],[0.6,\"#e6f5d0\"],[0.7,\"#b8e186\"],[0.8,\"#7fbc41\"],[0.9,\"#4d9221\"],[1,\"#276419\"]]},\"xaxis\":{\"gridcolor\":\"white\",\"linecolor\":\"white\",\"ticks\":\"\",\"title\":{\"standoff\":15},\"zerolinecolor\":\"white\",\"automargin\":true,\"zerolinewidth\":2},\"yaxis\":{\"gridcolor\":\"white\",\"linecolor\":\"white\",\"ticks\":\"\",\"title\":{\"standoff\":15},\"zerolinecolor\":\"white\",\"automargin\":true,\"zerolinewidth\":2},\"scene\":{\"xaxis\":{\"backgroundcolor\":\"#E5ECF6\",\"gridcolor\":\"white\",\"linecolor\":\"white\",\"showbackground\":true,\"ticks\":\"\",\"zerolinecolor\":\"white\",\"gridwidth\":2},\"yaxis\":{\"backgroundcolor\":\"#E5ECF6\",\"gridcolor\":\"white\",\"linecolor\":\"white\",\"showbackground\":true,\"ticks\":\"\",\"zerolinecolor\":\"white\",\"gridwidth\":2},\"zaxis\":{\"backgroundcolor\":\"#E5ECF6\",\"gridcolor\":\"white\",\"linecolor\":\"white\",\"showbackground\":true,\"ticks\":\"\",\"zerolinecolor\":\"white\",\"gridwidth\":2}},\"shapedefaults\":{\"line\":{\"color\":\"#2a3f5f\"}},\"annotationdefaults\":{\"arrowcolor\":\"#2a3f5f\",\"arrowhead\":0,\"arrowwidth\":1},\"geo\":{\"bgcolor\":\"white\",\"landcolor\":\"#E5ECF6\",\"subunitcolor\":\"white\",\"showland\":true,\"showlakes\":true,\"lakecolor\":\"white\"},\"title\":{\"x\":0.05},\"mapbox\":{\"style\":\"light\"}}},\"xaxis\":{\"anchor\":\"y\",\"domain\":[0.0,1.0],\"title\":{\"text\":\"AGE_AT_DIAGNOSIS\"}},\"yaxis\":{\"anchor\":\"x\",\"domain\":[0.0,1.0],\"title\":{\"text\":\"OS_MONTHS\"}},\"legend\":{\"title\":{\"text\":\"color\"},\"tracegroupgap\":0},\"margin\":{\"t\":60}},                        {\"responsive\": true}                    ).then(function(){\n",
       "                            \n",
       "var gd = document.getElementById('9f5bf39d-7224-4573-962b-7a938421a409');\n",
       "var x = new MutationObserver(function (mutations, observer) {{\n",
       "        var display = window.getComputedStyle(gd).display;\n",
       "        if (!display || display === 'none') {{\n",
       "            console.log([gd, 'removed!']);\n",
       "            Plotly.purge(gd);\n",
       "            observer.disconnect();\n",
       "        }}\n",
       "}});\n",
       "\n",
       "// Listen for the removal of the full notebook cells\n",
       "var notebookContainer = gd.closest('#notebook-container');\n",
       "if (notebookContainer) {{\n",
       "    x.observe(notebookContainer, {childList: true});\n",
       "}}\n",
       "\n",
       "// Listen for the clearing of the current output cell\n",
       "var outputEl = gd.closest('.output');\n",
       "if (outputEl) {{\n",
       "    x.observe(outputEl, {childList: true});\n",
       "}}\n",
       "\n",
       "                        })                };                });            </script>        </div>"
      ]
     },
     "metadata": {},
     "output_type": "display_data"
    },
    {
     "data": {
      "application/vnd.plotly.v1+json": {
       "config": {
        "plotlyServerURL": "https://plot.ly"
       },
       "data": [
        {
         "customdata": [
          [
           "P-0000119",
           "P-0000119-T01-IM3"
          ],
          [
           "P-0000526",
           "P-0000526-T01-IM3"
          ],
          [
           "P-0000674",
           "P-0000674-T01-IM3"
          ],
          [
           "P-0000736",
           "P-0000736-T01-IM3"
          ],
          [
           "P-0000744",
           "P-0000744-T01-IM3"
          ],
          [
           "P-0000745",
           "P-0000745-T01-IM3"
          ],
          [
           "P-0000757",
           "P-0000757-T01-IM3"
          ],
          [
           "P-0000788",
           "P-0000788-T01-IM3"
          ],
          [
           "P-0000802",
           "P-0000802-T01-IM3"
          ],
          [
           "P-0000843",
           "P-0000843-T01-IM3"
          ],
          [
           "P-0000940",
           "P-0000940-T01-IM3"
          ],
          [
           "P-0000979",
           "P-0000979-T01-IM3"
          ],
          [
           "P-0001289",
           "P-0001289-T01-IM3"
          ],
          [
           "P-0001346",
           "P-0001346-T01-IM3"
          ],
          [
           "P-0001459",
           "P-0001459-T01-IM3"
          ],
          [
           "P-0001470",
           "P-0001470-T01-IM3"
          ],
          [
           "P-0001472",
           "P-0001472-T01-IM3"
          ],
          [
           "P-0001577",
           "P-0001577-T01-IM3"
          ],
          [
           "P-0001734",
           "P-0001734-T01-IM3"
          ],
          [
           "P-0001984",
           "P-0001984-T01-IM3"
          ],
          [
           "P-0002154",
           "P-0002154-T01-IM3"
          ],
          [
           "P-0002235",
           "P-0002235-T01-IM3"
          ],
          [
           "P-0002268",
           "P-0002268-T01-IM3"
          ],
          [
           "P-0002327",
           "P-0002327-T01-IM3"
          ],
          [
           "P-0002339",
           "P-0002339-T01-IM3"
          ],
          [
           "P-0002343",
           "P-0002343-T01-IM3"
          ],
          [
           "P-0002455",
           "P-0002455-T01-IM3"
          ],
          [
           "P-0002475",
           "P-0002475-T01-IM3"
          ],
          [
           "P-0002565",
           "P-0002565-T01-IM3"
          ],
          [
           "P-0002702",
           "P-0002702-T01-IM3"
          ],
          [
           "P-0002878",
           "P-0002878-T01-IM3"
          ],
          [
           "P-0003035",
           "P-0003035-T01-IM5"
          ],
          [
           "P-0003154",
           "P-0003154-T01-IM5"
          ],
          [
           "P-0003210",
           "P-0003210-T01-IM5"
          ],
          [
           "P-0003258",
           "P-0003258-T01-IM5"
          ],
          [
           "P-0003483",
           "P-0003483-T01-IM5"
          ],
          [
           "P-0003611",
           "P-0003611-T01-IM5"
          ],
          [
           "P-0004010",
           "P-0004010-T01-IM3"
          ],
          [
           "P-0004402",
           "P-0004402-T01-IM5"
          ],
          [
           "P-0004494",
           "P-0004494-T01-IM5"
          ],
          [
           "P-0004608",
           "P-0004608-T01-IM5"
          ],
          [
           "P-0004736",
           "P-0004736-T01-IM5"
          ],
          [
           "P-0004823",
           "P-0004823-T01-IM5"
          ],
          [
           "P-0005016",
           "P-0005016-T01-IM5"
          ],
          [
           "P-0005025",
           "P-0005025-T01-IM5"
          ],
          [
           "P-0005137",
           "P-0005137-T02-IM5"
          ],
          [
           "P-0005237",
           "P-0005237-T01-IM5"
          ],
          [
           "P-0005307",
           "P-0005307-T01-IM5"
          ],
          [
           "P-0005522",
           "P-0005522-T01-IM5"
          ],
          [
           "P-0005622",
           "P-0005622-T03-IM5"
          ],
          [
           "P-0005739",
           "P-0005739-T02-IM5"
          ],
          [
           "P-0005853",
           "P-0005853-T01-IM5"
          ],
          [
           "P-0005865",
           "P-0005865-T01-IM5"
          ],
          [
           "P-0005910",
           "P-0005910-T01-IM5"
          ],
          [
           "P-0005941",
           "P-0005941-T01-IM5"
          ],
          [
           "P-0006050",
           "P-0006050-T01-IM5"
          ],
          [
           "P-0006287",
           "P-0006287-T01-IM5"
          ],
          [
           "P-0006316",
           "P-0006316-T01-IM5"
          ],
          [
           "P-0006434",
           "P-0006434-T01-IM5"
          ],
          [
           "P-0006512",
           "P-0006512-T01-IM5"
          ],
          [
           "P-0006575",
           "P-0006575-T01-IM5"
          ],
          [
           "P-0006636",
           "P-0006636-T01-IM5"
          ],
          [
           "P-0006708",
           "P-0006708-T01-IM5"
          ],
          [
           "P-0006711",
           "P-0006711-T01-IM5"
          ],
          [
           "P-0006764",
           "P-0006764-T01-IM5"
          ],
          [
           "P-0006766",
           "P-0006766-T01-IM5"
          ],
          [
           "P-0006794",
           "P-0006794-T01-IM5"
          ],
          [
           "P-0006816",
           "P-0006816-T01-IM5"
          ],
          [
           "P-0006861",
           "P-0006861-T01-IM5"
          ],
          [
           "P-0006867",
           "P-0006867-T01-IM5"
          ],
          [
           "P-0006887",
           "P-0006887-T01-IM5"
          ],
          [
           "P-0006890",
           "P-0006890-T01-IM5"
          ],
          [
           "P-0006906",
           "P-0006906-T01-IM5"
          ],
          [
           "P-0006933",
           "P-0006933-T01-IM5"
          ],
          [
           "P-0006967",
           "P-0006967-T01-IM5"
          ],
          [
           "P-0006978",
           "P-0006978-T01-IM5"
          ],
          [
           "P-0006999",
           "P-0006999-T02-IM5"
          ],
          [
           "P-0007035",
           "P-0007035-T01-IM5"
          ],
          [
           "P-0007036",
           "P-0007036-T01-IM5"
          ],
          [
           "P-0007039",
           "P-0007039-T01-IM5"
          ],
          [
           "P-0007085",
           "P-0007085-T02-IM5"
          ],
          [
           "P-0007115",
           "P-0007115-T01-IM5"
          ],
          [
           "P-0007128",
           "P-0007128-T01-IM5"
          ],
          [
           "P-0007133",
           "P-0007133-T01-IM5"
          ],
          [
           "P-0007171",
           "P-0007171-T01-IM5"
          ],
          [
           "P-0007175",
           "P-0007175-T01-IM5"
          ],
          [
           "P-0007177",
           "P-0007177-T01-IM5"
          ],
          [
           "P-0007218",
           "P-0007218-T01-IM5"
          ],
          [
           "P-0007222",
           "P-0007222-T01-IM5"
          ],
          [
           "P-0007287",
           "P-0007287-T01-IM5"
          ],
          [
           "P-0007342",
           "P-0007342-T01-IM5"
          ],
          [
           "P-0007361",
           "P-0007361-T01-IM5"
          ],
          [
           "P-0007489",
           "P-0007489-T01-IM5"
          ],
          [
           "P-0007584",
           "P-0007584-T01-IM5"
          ],
          [
           "P-0007588",
           "P-0007588-T01-IM5"
          ],
          [
           "P-0007591",
           "P-0007591-T01-IM5"
          ],
          [
           "P-0007593",
           "P-0007593-T01-IM5"
          ],
          [
           "P-0007632",
           "P-0007632-T01-IM5"
          ],
          [
           "P-0007657",
           "P-0007657-T01-IM5"
          ],
          [
           "P-0007676",
           "P-0007676-T01-IM5"
          ],
          [
           "P-0007771",
           "P-0007771-T01-IM5"
          ],
          [
           "P-0007996",
           "P-0007996-T01-IM5"
          ],
          [
           "P-0007999",
           "P-0007999-T01-IM5"
          ],
          [
           "P-0008095",
           "P-0008095-T01-IM5"
          ],
          [
           "P-0008343",
           "P-0008343-T01-IM5"
          ],
          [
           "P-0008350",
           "P-0008350-T02-IM5"
          ],
          [
           "P-0008467",
           "P-0008467-T01-IM5"
          ],
          [
           "P-0008529",
           "P-0008529-T01-IM5"
          ],
          [
           "P-0008540",
           "P-0008540-T01-IM5"
          ],
          [
           "P-0008588",
           "P-0008588-T01-IM5"
          ],
          [
           "P-0008662",
           "P-0008662-T01-IM5"
          ],
          [
           "P-0008727",
           "P-0008727-T01-IM5"
          ],
          [
           "P-0008735",
           "P-0008735-T01-IM5"
          ],
          [
           "P-0009016",
           "P-0009016-T01-IM5"
          ],
          [
           "P-0009294",
           "P-0009294-T01-IM5"
          ],
          [
           "P-0009464",
           "P-0009464-T01-IM5"
          ],
          [
           "P-0009760",
           "P-0009760-T01-IM5"
          ],
          [
           "P-0009905",
           "P-0009905-T01-IM5"
          ],
          [
           "P-0010007",
           "P-0010007-T01-IM5"
          ],
          [
           "P-0010018",
           "P-0010018-T01-IM5"
          ],
          [
           "P-0010020",
           "P-0010020-T01-IM5"
          ],
          [
           "P-0010074",
           "P-0010074-T01-IM5"
          ],
          [
           "P-0010141",
           "P-0010141-T01-IM5"
          ],
          [
           "P-0010350",
           "P-0010350-T01-IM5"
          ],
          [
           "P-0010428",
           "P-0010428-T01-IM5"
          ],
          [
           "P-0010512",
           "P-0010512-T01-IM5"
          ],
          [
           "P-0010665",
           "P-0010665-T01-IM5"
          ],
          [
           "P-0010749",
           "P-0010749-T01-IM5"
          ],
          [
           "P-0010751",
           "P-0010751-T01-IM5"
          ],
          [
           "P-0010932",
           "P-0010932-T01-IM5"
          ],
          [
           "P-0010960",
           "P-0010960-T01-IM5"
          ],
          [
           "P-0011039",
           "P-0011039-T01-IM5"
          ],
          [
           "P-0011291",
           "P-0011291-T01-IM5"
          ],
          [
           "P-0011380",
           "P-0011380-T01-IM5"
          ],
          [
           "P-0011484",
           "P-0011484-T01-IM5"
          ],
          [
           "P-0012147",
           "P-0012147-T01-IM5"
          ],
          [
           "P-0012266",
           "P-0012266-T01-IM5"
          ],
          [
           "P-0012415",
           "P-0012415-T01-IM5"
          ],
          [
           "P-0012747",
           "P-0012747-T01-IM5"
          ],
          [
           "P-0012847",
           "P-0012847-T01-IM5"
          ],
          [
           "P-0013354",
           "P-0013354-T01-IM5"
          ],
          [
           "P-0013772",
           "P-0013772-T01-IM5"
          ],
          [
           "P-0013784",
           "P-0013784-T01-IM5"
          ],
          [
           "P-0013856",
           "P-0013856-T01-IM5"
          ],
          [
           "P-0014116",
           "P-0014116-T01-IM5"
          ]
         ],
         "hovertemplate": "color=('Female', 'Unknown')<br>AGE_AT_DIAGNOSIS=%{x}<br>OS_MONTHS=%{y}<br>PATIENT_ID=%{customdata[0]}<br>SAMPLE_ID=%{customdata[1]}<extra></extra>",
         "legendgroup": "('Female', 'Unknown')",
         "marker": {
          "color": "#636efa",
          "symbol": "circle"
         },
         "mode": "markers",
         "name": "('Female', 'Unknown')",
         "orientation": "v",
         "showlegend": true,
         "type": "scatter",
         "x": [
          67,
          24,
          65,
          66,
          61,
          72,
          67,
          65,
          54,
          55,
          62,
          55,
          62,
          58,
          41,
          55,
          69,
          74,
          59,
          48,
          50,
          80,
          74,
          60,
          76,
          68,
          68,
          68,
          52,
          63,
          62,
          93,
          48,
          56,
          34,
          53,
          67,
          63,
          66,
          71,
          56,
          51,
          66,
          68,
          66,
          77,
          53,
          53,
          64,
          43,
          70,
          59,
          66,
          76,
          65,
          66,
          55,
          60,
          67,
          62,
          49,
          75,
          33,
          66,
          57,
          46,
          63,
          55,
          83,
          43,
          69,
          73,
          75,
          51,
          46,
          54,
          57,
          67,
          57,
          44,
          72,
          43,
          70,
          58,
          48,
          47,
          64,
          55,
          68,
          63,
          33,
          76,
          39,
          64,
          46,
          66,
          71,
          68,
          42,
          54,
          48,
          51,
          65,
          74,
          59,
          59,
          43,
          50,
          75,
          68,
          67,
          59,
          61,
          39,
          62,
          57,
          40,
          60,
          56,
          66,
          54,
          49,
          57,
          58,
          65,
          50,
          48,
          70,
          62,
          56,
          69,
          68,
          76,
          56,
          41,
          55,
          72,
          55,
          57,
          62,
          50,
          44,
          84,
          50,
          52
         ],
         "xaxis": "x",
         "y": [
          27.37,
          85.97,
          22.27,
          48.5,
          64.27,
          49.67,
          13.53,
          15.8,
          164.4,
          180.17,
          84.53,
          14.77,
          61.13,
          8.83,
          34.63,
          27.93,
          34.67,
          45.13,
          10,
          97.6,
          38.17,
          32.9,
          37.63,
          13.37,
          11.7,
          37.3,
          5.47,
          26.47,
          96.07,
          71.93,
          32.93,
          25.7,
          16.9,
          30.4,
          28.8,
          5.87,
          14.43,
          28.43,
          19.03,
          31.33,
          13.93,
          37.3,
          26.77,
          29.93,
          5.73,
          31.33,
          137.33,
          37.2,
          106.47,
          36.27,
          38.87,
          8.5,
          12.63,
          3,
          92.77,
          26.47,
          72.47,
          11.13,
          31.57,
          27.4,
          160.9,
          11.53,
          31.33,
          47.27,
          59.73,
          48.53,
          76.5,
          20.4,
          34.53,
          null,
          15.23,
          17.03,
          71.1,
          70.67,
          24.67,
          73.77,
          187.1,
          64.83,
          91.4,
          48.77,
          47.3,
          9.63,
          117.83,
          113.47,
          23.33,
          81.07,
          75.17,
          292.93,
          192.3,
          66.87,
          16.2,
          116.33,
          175.33,
          116.97,
          65.5,
          78.73,
          164.63,
          67.83,
          49.57,
          162.7,
          132,
          60.37,
          7.7,
          138.03,
          124,
          22.6,
          16.6,
          28.6,
          117.53,
          31.97,
          null,
          132.97,
          79.5,
          15.27,
          63.77,
          49,
          19.7,
          10.27,
          19.33,
          66.13,
          231.87,
          142,
          69.73,
          14.2,
          16.53,
          19.27,
          142.33,
          17.13,
          88.73,
          40.57,
          14.33,
          9.6,
          42,
          14.97,
          125.33,
          83.27,
          null,
          14.07,
          16.33,
          13.13,
          31.9,
          13.3,
          11.7,
          64.2,
          9.83
         ],
         "yaxis": "y"
        }
       ],
       "layout": {
        "autosize": true,
        "legend": {
         "title": {
          "text": "color"
         },
         "tracegroupgap": 0
        },
        "margin": {
         "t": 60
        },
        "template": {
         "data": {
          "bar": [
           {
            "error_x": {
             "color": "#2a3f5f"
            },
            "error_y": {
             "color": "#2a3f5f"
            },
            "marker": {
             "line": {
              "color": "#E5ECF6",
              "width": 0.5
             },
             "pattern": {
              "fillmode": "overlay",
              "size": 10,
              "solidity": 0.2
             }
            },
            "type": "bar"
           }
          ],
          "barpolar": [
           {
            "marker": {
             "line": {
              "color": "#E5ECF6",
              "width": 0.5
             },
             "pattern": {
              "fillmode": "overlay",
              "size": 10,
              "solidity": 0.2
             }
            },
            "type": "barpolar"
           }
          ],
          "carpet": [
           {
            "aaxis": {
             "endlinecolor": "#2a3f5f",
             "gridcolor": "white",
             "linecolor": "white",
             "minorgridcolor": "white",
             "startlinecolor": "#2a3f5f"
            },
            "baxis": {
             "endlinecolor": "#2a3f5f",
             "gridcolor": "white",
             "linecolor": "white",
             "minorgridcolor": "white",
             "startlinecolor": "#2a3f5f"
            },
            "type": "carpet"
           }
          ],
          "choropleth": [
           {
            "colorbar": {
             "outlinewidth": 0,
             "ticks": ""
            },
            "type": "choropleth"
           }
          ],
          "contour": [
           {
            "colorbar": {
             "outlinewidth": 0,
             "ticks": ""
            },
            "colorscale": [
             [
              0,
              "#0d0887"
             ],
             [
              0.1111111111111111,
              "#46039f"
             ],
             [
              0.2222222222222222,
              "#7201a8"
             ],
             [
              0.3333333333333333,
              "#9c179e"
             ],
             [
              0.4444444444444444,
              "#bd3786"
             ],
             [
              0.5555555555555556,
              "#d8576b"
             ],
             [
              0.6666666666666666,
              "#ed7953"
             ],
             [
              0.7777777777777778,
              "#fb9f3a"
             ],
             [
              0.8888888888888888,
              "#fdca26"
             ],
             [
              1,
              "#f0f921"
             ]
            ],
            "type": "contour"
           }
          ],
          "contourcarpet": [
           {
            "colorbar": {
             "outlinewidth": 0,
             "ticks": ""
            },
            "type": "contourcarpet"
           }
          ],
          "heatmap": [
           {
            "colorbar": {
             "outlinewidth": 0,
             "ticks": ""
            },
            "colorscale": [
             [
              0,
              "#0d0887"
             ],
             [
              0.1111111111111111,
              "#46039f"
             ],
             [
              0.2222222222222222,
              "#7201a8"
             ],
             [
              0.3333333333333333,
              "#9c179e"
             ],
             [
              0.4444444444444444,
              "#bd3786"
             ],
             [
              0.5555555555555556,
              "#d8576b"
             ],
             [
              0.6666666666666666,
              "#ed7953"
             ],
             [
              0.7777777777777778,
              "#fb9f3a"
             ],
             [
              0.8888888888888888,
              "#fdca26"
             ],
             [
              1,
              "#f0f921"
             ]
            ],
            "type": "heatmap"
           }
          ],
          "heatmapgl": [
           {
            "colorbar": {
             "outlinewidth": 0,
             "ticks": ""
            },
            "colorscale": [
             [
              0,
              "#0d0887"
             ],
             [
              0.1111111111111111,
              "#46039f"
             ],
             [
              0.2222222222222222,
              "#7201a8"
             ],
             [
              0.3333333333333333,
              "#9c179e"
             ],
             [
              0.4444444444444444,
              "#bd3786"
             ],
             [
              0.5555555555555556,
              "#d8576b"
             ],
             [
              0.6666666666666666,
              "#ed7953"
             ],
             [
              0.7777777777777778,
              "#fb9f3a"
             ],
             [
              0.8888888888888888,
              "#fdca26"
             ],
             [
              1,
              "#f0f921"
             ]
            ],
            "type": "heatmapgl"
           }
          ],
          "histogram": [
           {
            "marker": {
             "pattern": {
              "fillmode": "overlay",
              "size": 10,
              "solidity": 0.2
             }
            },
            "type": "histogram"
           }
          ],
          "histogram2d": [
           {
            "colorbar": {
             "outlinewidth": 0,
             "ticks": ""
            },
            "colorscale": [
             [
              0,
              "#0d0887"
             ],
             [
              0.1111111111111111,
              "#46039f"
             ],
             [
              0.2222222222222222,
              "#7201a8"
             ],
             [
              0.3333333333333333,
              "#9c179e"
             ],
             [
              0.4444444444444444,
              "#bd3786"
             ],
             [
              0.5555555555555556,
              "#d8576b"
             ],
             [
              0.6666666666666666,
              "#ed7953"
             ],
             [
              0.7777777777777778,
              "#fb9f3a"
             ],
             [
              0.8888888888888888,
              "#fdca26"
             ],
             [
              1,
              "#f0f921"
             ]
            ],
            "type": "histogram2d"
           }
          ],
          "histogram2dcontour": [
           {
            "colorbar": {
             "outlinewidth": 0,
             "ticks": ""
            },
            "colorscale": [
             [
              0,
              "#0d0887"
             ],
             [
              0.1111111111111111,
              "#46039f"
             ],
             [
              0.2222222222222222,
              "#7201a8"
             ],
             [
              0.3333333333333333,
              "#9c179e"
             ],
             [
              0.4444444444444444,
              "#bd3786"
             ],
             [
              0.5555555555555556,
              "#d8576b"
             ],
             [
              0.6666666666666666,
              "#ed7953"
             ],
             [
              0.7777777777777778,
              "#fb9f3a"
             ],
             [
              0.8888888888888888,
              "#fdca26"
             ],
             [
              1,
              "#f0f921"
             ]
            ],
            "type": "histogram2dcontour"
           }
          ],
          "mesh3d": [
           {
            "colorbar": {
             "outlinewidth": 0,
             "ticks": ""
            },
            "type": "mesh3d"
           }
          ],
          "parcoords": [
           {
            "line": {
             "colorbar": {
              "outlinewidth": 0,
              "ticks": ""
             }
            },
            "type": "parcoords"
           }
          ],
          "pie": [
           {
            "automargin": true,
            "type": "pie"
           }
          ],
          "scatter": [
           {
            "fillpattern": {
             "fillmode": "overlay",
             "size": 10,
             "solidity": 0.2
            },
            "type": "scatter"
           }
          ],
          "scatter3d": [
           {
            "line": {
             "colorbar": {
              "outlinewidth": 0,
              "ticks": ""
             }
            },
            "marker": {
             "colorbar": {
              "outlinewidth": 0,
              "ticks": ""
             }
            },
            "type": "scatter3d"
           }
          ],
          "scattercarpet": [
           {
            "marker": {
             "colorbar": {
              "outlinewidth": 0,
              "ticks": ""
             }
            },
            "type": "scattercarpet"
           }
          ],
          "scattergeo": [
           {
            "marker": {
             "colorbar": {
              "outlinewidth": 0,
              "ticks": ""
             }
            },
            "type": "scattergeo"
           }
          ],
          "scattergl": [
           {
            "marker": {
             "colorbar": {
              "outlinewidth": 0,
              "ticks": ""
             }
            },
            "type": "scattergl"
           }
          ],
          "scattermapbox": [
           {
            "marker": {
             "colorbar": {
              "outlinewidth": 0,
              "ticks": ""
             }
            },
            "type": "scattermapbox"
           }
          ],
          "scatterpolar": [
           {
            "marker": {
             "colorbar": {
              "outlinewidth": 0,
              "ticks": ""
             }
            },
            "type": "scatterpolar"
           }
          ],
          "scatterpolargl": [
           {
            "marker": {
             "colorbar": {
              "outlinewidth": 0,
              "ticks": ""
             }
            },
            "type": "scatterpolargl"
           }
          ],
          "scatterternary": [
           {
            "marker": {
             "colorbar": {
              "outlinewidth": 0,
              "ticks": ""
             }
            },
            "type": "scatterternary"
           }
          ],
          "surface": [
           {
            "colorbar": {
             "outlinewidth": 0,
             "ticks": ""
            },
            "colorscale": [
             [
              0,
              "#0d0887"
             ],
             [
              0.1111111111111111,
              "#46039f"
             ],
             [
              0.2222222222222222,
              "#7201a8"
             ],
             [
              0.3333333333333333,
              "#9c179e"
             ],
             [
              0.4444444444444444,
              "#bd3786"
             ],
             [
              0.5555555555555556,
              "#d8576b"
             ],
             [
              0.6666666666666666,
              "#ed7953"
             ],
             [
              0.7777777777777778,
              "#fb9f3a"
             ],
             [
              0.8888888888888888,
              "#fdca26"
             ],
             [
              1,
              "#f0f921"
             ]
            ],
            "type": "surface"
           }
          ],
          "table": [
           {
            "cells": {
             "fill": {
              "color": "#EBF0F8"
             },
             "line": {
              "color": "white"
             }
            },
            "header": {
             "fill": {
              "color": "#C8D4E3"
             },
             "line": {
              "color": "white"
             }
            },
            "type": "table"
           }
          ]
         },
         "layout": {
          "annotationdefaults": {
           "arrowcolor": "#2a3f5f",
           "arrowhead": 0,
           "arrowwidth": 1
          },
          "autotypenumbers": "strict",
          "coloraxis": {
           "colorbar": {
            "outlinewidth": 0,
            "ticks": ""
           }
          },
          "colorscale": {
           "diverging": [
            [
             0,
             "#8e0152"
            ],
            [
             0.1,
             "#c51b7d"
            ],
            [
             0.2,
             "#de77ae"
            ],
            [
             0.3,
             "#f1b6da"
            ],
            [
             0.4,
             "#fde0ef"
            ],
            [
             0.5,
             "#f7f7f7"
            ],
            [
             0.6,
             "#e6f5d0"
            ],
            [
             0.7,
             "#b8e186"
            ],
            [
             0.8,
             "#7fbc41"
            ],
            [
             0.9,
             "#4d9221"
            ],
            [
             1,
             "#276419"
            ]
           ],
           "sequential": [
            [
             0,
             "#0d0887"
            ],
            [
             0.1111111111111111,
             "#46039f"
            ],
            [
             0.2222222222222222,
             "#7201a8"
            ],
            [
             0.3333333333333333,
             "#9c179e"
            ],
            [
             0.4444444444444444,
             "#bd3786"
            ],
            [
             0.5555555555555556,
             "#d8576b"
            ],
            [
             0.6666666666666666,
             "#ed7953"
            ],
            [
             0.7777777777777778,
             "#fb9f3a"
            ],
            [
             0.8888888888888888,
             "#fdca26"
            ],
            [
             1,
             "#f0f921"
            ]
           ],
           "sequentialminus": [
            [
             0,
             "#0d0887"
            ],
            [
             0.1111111111111111,
             "#46039f"
            ],
            [
             0.2222222222222222,
             "#7201a8"
            ],
            [
             0.3333333333333333,
             "#9c179e"
            ],
            [
             0.4444444444444444,
             "#bd3786"
            ],
            [
             0.5555555555555556,
             "#d8576b"
            ],
            [
             0.6666666666666666,
             "#ed7953"
            ],
            [
             0.7777777777777778,
             "#fb9f3a"
            ],
            [
             0.8888888888888888,
             "#fdca26"
            ],
            [
             1,
             "#f0f921"
            ]
           ]
          },
          "colorway": [
           "#636efa",
           "#EF553B",
           "#00cc96",
           "#ab63fa",
           "#FFA15A",
           "#19d3f3",
           "#FF6692",
           "#B6E880",
           "#FF97FF",
           "#FECB52"
          ],
          "font": {
           "color": "#2a3f5f"
          },
          "geo": {
           "bgcolor": "white",
           "lakecolor": "white",
           "landcolor": "#E5ECF6",
           "showlakes": true,
           "showland": true,
           "subunitcolor": "white"
          },
          "hoverlabel": {
           "align": "left"
          },
          "hovermode": "closest",
          "mapbox": {
           "style": "light"
          },
          "paper_bgcolor": "white",
          "plot_bgcolor": "#E5ECF6",
          "polar": {
           "angularaxis": {
            "gridcolor": "white",
            "linecolor": "white",
            "ticks": ""
           },
           "bgcolor": "#E5ECF6",
           "radialaxis": {
            "gridcolor": "white",
            "linecolor": "white",
            "ticks": ""
           }
          },
          "scene": {
           "xaxis": {
            "backgroundcolor": "#E5ECF6",
            "gridcolor": "white",
            "gridwidth": 2,
            "linecolor": "white",
            "showbackground": true,
            "ticks": "",
            "zerolinecolor": "white"
           },
           "yaxis": {
            "backgroundcolor": "#E5ECF6",
            "gridcolor": "white",
            "gridwidth": 2,
            "linecolor": "white",
            "showbackground": true,
            "ticks": "",
            "zerolinecolor": "white"
           },
           "zaxis": {
            "backgroundcolor": "#E5ECF6",
            "gridcolor": "white",
            "gridwidth": 2,
            "linecolor": "white",
            "showbackground": true,
            "ticks": "",
            "zerolinecolor": "white"
           }
          },
          "shapedefaults": {
           "line": {
            "color": "#2a3f5f"
           }
          },
          "ternary": {
           "aaxis": {
            "gridcolor": "white",
            "linecolor": "white",
            "ticks": ""
           },
           "baxis": {
            "gridcolor": "white",
            "linecolor": "white",
            "ticks": ""
           },
           "bgcolor": "#E5ECF6",
           "caxis": {
            "gridcolor": "white",
            "linecolor": "white",
            "ticks": ""
           }
          },
          "title": {
           "x": 0.05
          },
          "xaxis": {
           "automargin": true,
           "gridcolor": "white",
           "linecolor": "white",
           "ticks": "",
           "title": {
            "standoff": 15
           },
           "zerolinecolor": "white",
           "zerolinewidth": 2
          },
          "yaxis": {
           "automargin": true,
           "gridcolor": "white",
           "linecolor": "white",
           "ticks": "",
           "title": {
            "standoff": 15
           },
           "zerolinecolor": "white",
           "zerolinewidth": 2
          }
         }
        },
        "xaxis": {
         "anchor": "y",
         "autorange": true,
         "domain": [
          0,
          1
         ],
         "range": [
          19.76468120805369,
          97.23531879194631
         ],
         "title": {
          "text": "AGE_AT_DIAGNOSIS"
         },
         "type": "linear"
        },
        "yaxis": {
         "anchor": "x",
         "autorange": true,
         "domain": [
          0,
          1
         ],
         "range": [
          -19.448648293963256,
          315.37864829396324
         ],
         "title": {
          "text": "OS_MONTHS"
         },
         "type": "linear"
        }
       }
      },
      "image/png": "[encoded data removed]",
      "text/html": [
       "<div>                            <div id=\"258c4a1f-f5c1-4796-a41c-b9fb37e74c63\" class=\"plotly-graph-div\" style=\"height:525px; width:100%;\"></div>            <script type=\"text/javascript\">                require([\"plotly\"], function(Plotly) {                    window.PLOTLYENV=window.PLOTLYENV || {};                                    if (document.getElementById(\"258c4a1f-f5c1-4796-a41c-b9fb37e74c63\")) {                    Plotly.newPlot(                        \"258c4a1f-f5c1-4796-a41c-b9fb37e74c63\",                        [{\"customdata\":[[\"P-0000119\",\"P-0000119-T01-IM3\"],[\"P-0000526\",\"P-0000526-T01-IM3\"],[\"P-0000674\",\"P-0000674-T01-IM3\"],[\"P-0000736\",\"P-0000736-T01-IM3\"],[\"P-0000744\",\"P-0000744-T01-IM3\"],[\"P-0000745\",\"P-0000745-T01-IM3\"],[\"P-0000757\",\"P-0000757-T01-IM3\"],[\"P-0000788\",\"P-0000788-T01-IM3\"],[\"P-0000802\",\"P-0000802-T01-IM3\"],[\"P-0000843\",\"P-0000843-T01-IM3\"],[\"P-0000940\",\"P-0000940-T01-IM3\"],[\"P-0000979\",\"P-0000979-T01-IM3\"],[\"P-0001289\",\"P-0001289-T01-IM3\"],[\"P-0001346\",\"P-0001346-T01-IM3\"],[\"P-0001459\",\"P-0001459-T01-IM3\"],[\"P-0001470\",\"P-0001470-T01-IM3\"],[\"P-0001472\",\"P-0001472-T01-IM3\"],[\"P-0001577\",\"P-0001577-T01-IM3\"],[\"P-0001734\",\"P-0001734-T01-IM3\"],[\"P-0001984\",\"P-0001984-T01-IM3\"],[\"P-0002154\",\"P-0002154-T01-IM3\"],[\"P-0002235\",\"P-0002235-T01-IM3\"],[\"P-0002268\",\"P-0002268-T01-IM3\"],[\"P-0002327\",\"P-0002327-T01-IM3\"],[\"P-0002339\",\"P-0002339-T01-IM3\"],[\"P-0002343\",\"P-0002343-T01-IM3\"],[\"P-0002455\",\"P-0002455-T01-IM3\"],[\"P-0002475\",\"P-0002475-T01-IM3\"],[\"P-0002565\",\"P-0002565-T01-IM3\"],[\"P-0002702\",\"P-0002702-T01-IM3\"],[\"P-0002878\",\"P-0002878-T01-IM3\"],[\"P-0003035\",\"P-0003035-T01-IM5\"],[\"P-0003154\",\"P-0003154-T01-IM5\"],[\"P-0003210\",\"P-0003210-T01-IM5\"],[\"P-0003258\",\"P-0003258-T01-IM5\"],[\"P-0003483\",\"P-0003483-T01-IM5\"],[\"P-0003611\",\"P-0003611-T01-IM5\"],[\"P-0004010\",\"P-0004010-T01-IM3\"],[\"P-0004402\",\"P-0004402-T01-IM5\"],[\"P-0004494\",\"P-0004494-T01-IM5\"],[\"P-0004608\",\"P-0004608-T01-IM5\"],[\"P-0004736\",\"P-0004736-T01-IM5\"],[\"P-0004823\",\"P-0004823-T01-IM5\"],[\"P-0005016\",\"P-0005016-T01-IM5\"],[\"P-0005025\",\"P-0005025-T01-IM5\"],[\"P-0005137\",\"P-0005137-T02-IM5\"],[\"P-0005237\",\"P-0005237-T01-IM5\"],[\"P-0005307\",\"P-0005307-T01-IM5\"],[\"P-0005522\",\"P-0005522-T01-IM5\"],[\"P-0005622\",\"P-0005622-T03-IM5\"],[\"P-0005739\",\"P-0005739-T02-IM5\"],[\"P-0005853\",\"P-0005853-T01-IM5\"],[\"P-0005865\",\"P-0005865-T01-IM5\"],[\"P-0005910\",\"P-0005910-T01-IM5\"],[\"P-0005941\",\"P-0005941-T01-IM5\"],[\"P-0006050\",\"P-0006050-T01-IM5\"],[\"P-0006287\",\"P-0006287-T01-IM5\"],[\"P-0006316\",\"P-0006316-T01-IM5\"],[\"P-0006434\",\"P-0006434-T01-IM5\"],[\"P-0006512\",\"P-0006512-T01-IM5\"],[\"P-0006575\",\"P-0006575-T01-IM5\"],[\"P-0006636\",\"P-0006636-T01-IM5\"],[\"P-0006708\",\"P-0006708-T01-IM5\"],[\"P-0006711\",\"P-0006711-T01-IM5\"],[\"P-0006764\",\"P-0006764-T01-IM5\"],[\"P-0006766\",\"P-0006766-T01-IM5\"],[\"P-0006794\",\"P-0006794-T01-IM5\"],[\"P-0006816\",\"P-0006816-T01-IM5\"],[\"P-0006861\",\"P-0006861-T01-IM5\"],[\"P-0006867\",\"P-0006867-T01-IM5\"],[\"P-0006887\",\"P-0006887-T01-IM5\"],[\"P-0006890\",\"P-0006890-T01-IM5\"],[\"P-0006906\",\"P-0006906-T01-IM5\"],[\"P-0006933\",\"P-0006933-T01-IM5\"],[\"P-0006967\",\"P-0006967-T01-IM5\"],[\"P-0006978\",\"P-0006978-T01-IM5\"],[\"P-0006999\",\"P-0006999-T02-IM5\"],[\"P-0007035\",\"P-0007035-T01-IM5\"],[\"P-0007036\",\"P-0007036-T01-IM5\"],[\"P-0007039\",\"P-0007039-T01-IM5\"],[\"P-0007085\",\"P-0007085-T02-IM5\"],[\"P-0007115\",\"P-0007115-T01-IM5\"],[\"P-0007128\",\"P-0007128-T01-IM5\"],[\"P-0007133\",\"P-0007133-T01-IM5\"],[\"P-0007171\",\"P-0007171-T01-IM5\"],[\"P-0007175\",\"P-0007175-T01-IM5\"],[\"P-0007177\",\"P-0007177-T01-IM5\"],[\"P-0007218\",\"P-0007218-T01-IM5\"],[\"P-0007222\",\"P-0007222-T01-IM5\"],[\"P-0007287\",\"P-0007287-T01-IM5\"],[\"P-0007342\",\"P-0007342-T01-IM5\"],[\"P-0007361\",\"P-0007361-T01-IM5\"],[\"P-0007489\",\"P-0007489-T01-IM5\"],[\"P-0007584\",\"P-0007584-T01-IM5\"],[\"P-0007588\",\"P-0007588-T01-IM5\"],[\"P-0007591\",\"P-0007591-T01-IM5\"],[\"P-0007593\",\"P-0007593-T01-IM5\"],[\"P-0007632\",\"P-0007632-T01-IM5\"],[\"P-0007657\",\"P-0007657-T01-IM5\"],[\"P-0007676\",\"P-0007676-T01-IM5\"],[\"P-0007771\",\"P-0007771-T01-IM5\"],[\"P-0007996\",\"P-0007996-T01-IM5\"],[\"P-0007999\",\"P-0007999-T01-IM5\"],[\"P-0008095\",\"P-0008095-T01-IM5\"],[\"P-0008343\",\"P-0008343-T01-IM5\"],[\"P-0008350\",\"P-0008350-T02-IM5\"],[\"P-0008467\",\"P-0008467-T01-IM5\"],[\"P-0008529\",\"P-0008529-T01-IM5\"],[\"P-0008540\",\"P-0008540-T01-IM5\"],[\"P-0008588\",\"P-0008588-T01-IM5\"],[\"P-0008662\",\"P-0008662-T01-IM5\"],[\"P-0008727\",\"P-0008727-T01-IM5\"],[\"P-0008735\",\"P-0008735-T01-IM5\"],[\"P-0009016\",\"P-0009016-T01-IM5\"],[\"P-0009294\",\"P-0009294-T01-IM5\"],[\"P-0009464\",\"P-0009464-T01-IM5\"],[\"P-0009760\",\"P-0009760-T01-IM5\"],[\"P-0009905\",\"P-0009905-T01-IM5\"],[\"P-0010007\",\"P-0010007-T01-IM5\"],[\"P-0010018\",\"P-0010018-T01-IM5\"],[\"P-0010020\",\"P-0010020-T01-IM5\"],[\"P-0010074\",\"P-0010074-T01-IM5\"],[\"P-0010141\",\"P-0010141-T01-IM5\"],[\"P-0010350\",\"P-0010350-T01-IM5\"],[\"P-0010428\",\"P-0010428-T01-IM5\"],[\"P-0010512\",\"P-0010512-T01-IM5\"],[\"P-0010665\",\"P-0010665-T01-IM5\"],[\"P-0010749\",\"P-0010749-T01-IM5\"],[\"P-0010751\",\"P-0010751-T01-IM5\"],[\"P-0010932\",\"P-0010932-T01-IM5\"],[\"P-0010960\",\"P-0010960-T01-IM5\"],[\"P-0011039\",\"P-0011039-T01-IM5\"],[\"P-0011291\",\"P-0011291-T01-IM5\"],[\"P-0011380\",\"P-0011380-T01-IM5\"],[\"P-0011484\",\"P-0011484-T01-IM5\"],[\"P-0012147\",\"P-0012147-T01-IM5\"],[\"P-0012266\",\"P-0012266-T01-IM5\"],[\"P-0012415\",\"P-0012415-T01-IM5\"],[\"P-0012747\",\"P-0012747-T01-IM5\"],[\"P-0012847\",\"P-0012847-T01-IM5\"],[\"P-0013354\",\"P-0013354-T01-IM5\"],[\"P-0013772\",\"P-0013772-T01-IM5\"],[\"P-0013784\",\"P-0013784-T01-IM5\"],[\"P-0013856\",\"P-0013856-T01-IM5\"],[\"P-0014116\",\"P-0014116-T01-IM5\"]],\"hovertemplate\":\"color=('Female', 'Unknown')<br>AGE_AT_DIAGNOSIS=%{x}<br>OS_MONTHS=%{y}<br>PATIENT_ID=%{customdata[0]}<br>SAMPLE_ID=%{customdata[1]}<extra></extra>\",\"legendgroup\":\"('Female', 'Unknown')\",\"marker\":{\"color\":\"#636efa\",\"symbol\":\"circle\"},\"mode\":\"markers\",\"name\":\"('Female', 'Unknown')\",\"orientation\":\"v\",\"showlegend\":true,\"x\":[67,24,65,66,61,72,67,65,54,55,62,55,62,58,41,55,69,74,59,48,50,80,74,60,76,68,68,68,52,63,62,93,48,56,34,53,67,63,66,71,56,51,66,68,66,77,53,53,64,43,70,59,66,76,65,66,55,60,67,62,49,75,33,66,57,46,63,55,83,43,69,73,75,51,46,54,57,67,57,44,72,43,70,58,48,47,64,55,68,63,33,76,39,64,46,66,71,68,42,54,48,51,65,74,59,59,43,50,75,68,67,59,61,39,62,57,40,60,56,66,54,49,57,58,65,50,48,70,62,56,69,68,76,56,41,55,72,55,57,62,50,44,84,50,52],\"xaxis\":\"x\",\"y\":[27.37,85.97,22.27,48.5,64.27,49.67,13.53,15.8,164.4,180.17,84.53,14.77,61.13,8.83,34.63,27.93,34.67,45.13,10.0,97.6,38.17,32.9,37.63,13.37,11.7,37.3,5.47,26.47,96.07,71.93,32.93,25.7,16.9,30.4,28.8,5.87,14.43,28.43,19.03,31.33,13.93,37.3,26.77,29.93,5.73,31.33,137.33,37.2,106.47,36.27,38.87,8.5,12.63,3.0,92.77,26.47,72.47,11.13,31.57,27.4,160.9,11.53,31.33,47.27,59.73,48.53,76.5,20.4,34.53,null,15.23,17.03,71.1,70.67,24.67,73.77,187.1,64.83,91.4,48.77,47.3,9.63,117.83,113.47,23.33,81.07,75.17,292.93,192.3,66.87,16.2,116.33,175.33,116.97,65.5,78.73,164.63,67.83,49.57,162.7,132.0,60.37,7.7,138.03,124.0,22.6,16.6,28.6,117.53,31.97,null,132.97,79.5,15.27,63.77,49.0,19.7,10.27,19.33,66.13,231.87,142.0,69.73,14.2,16.53,19.27,142.33,17.13,88.73,40.57,14.33,9.6,42.0,14.97,125.33,83.27,null,14.07,16.33,13.13,31.9,13.3,11.7,64.2,9.83],\"yaxis\":\"y\",\"type\":\"scatter\"}],                        {\"template\":{\"data\":{\"histogram2dcontour\":[{\"type\":\"histogram2dcontour\",\"colorbar\":{\"outlinewidth\":0,\"ticks\":\"\"},\"colorscale\":[[0.0,\"#0d0887\"],[0.1111111111111111,\"#46039f\"],[0.2222222222222222,\"#7201a8\"],[0.3333333333333333,\"#9c179e\"],[0.4444444444444444,\"#bd3786\"],[0.5555555555555556,\"#d8576b\"],[0.6666666666666666,\"#ed7953\"],[0.7777777777777778,\"#fb9f3a\"],[0.8888888888888888,\"#fdca26\"],[1.0,\"#f0f921\"]]}],\"choropleth\":[{\"type\":\"choropleth\",\"colorbar\":{\"outlinewidth\":0,\"ticks\":\"\"}}],\"histogram2d\":[{\"type\":\"histogram2d\",\"colorbar\":{\"outlinewidth\":0,\"ticks\":\"\"},\"colorscale\":[[0.0,\"#0d0887\"],[0.1111111111111111,\"#46039f\"],[0.2222222222222222,\"#7201a8\"],[0.3333333333333333,\"#9c179e\"],[0.4444444444444444,\"#bd3786\"],[0.5555555555555556,\"#d8576b\"],[0.6666666666666666,\"#ed7953\"],[0.7777777777777778,\"#fb9f3a\"],[0.8888888888888888,\"#fdca26\"],[1.0,\"#f0f921\"]]}],\"heatmap\":[{\"type\":\"heatmap\",\"colorbar\":{\"outlinewidth\":0,\"ticks\":\"\"},\"colorscale\":[[0.0,\"#0d0887\"],[0.1111111111111111,\"#46039f\"],[0.2222222222222222,\"#7201a8\"],[0.3333333333333333,\"#9c179e\"],[0.4444444444444444,\"#bd3786\"],[0.5555555555555556,\"#d8576b\"],[0.6666666666666666,\"#ed7953\"],[0.7777777777777778,\"#fb9f3a\"],[0.8888888888888888,\"#fdca26\"],[1.0,\"#f0f921\"]]}],\"heatmapgl\":[{\"type\":\"heatmapgl\",\"colorbar\":{\"outlinewidth\":0,\"ticks\":\"\"},\"colorscale\":[[0.0,\"#0d0887\"],[0.1111111111111111,\"#46039f\"],[0.2222222222222222,\"#7201a8\"],[0.3333333333333333,\"#9c179e\"],[0.4444444444444444,\"#bd3786\"],[0.5555555555555556,\"#d8576b\"],[0.6666666666666666,\"#ed7953\"],[0.7777777777777778,\"#fb9f3a\"],[0.8888888888888888,\"#fdca26\"],[1.0,\"#f0f921\"]]}],\"contourcarpet\":[{\"type\":\"contourcarpet\",\"colorbar\":{\"outlinewidth\":0,\"ticks\":\"\"}}],\"contour\":[{\"type\":\"contour\",\"colorbar\":{\"outlinewidth\":0,\"ticks\":\"\"},\"colorscale\":[[0.0,\"#0d0887\"],[0.1111111111111111,\"#46039f\"],[0.2222222222222222,\"#7201a8\"],[0.3333333333333333,\"#9c179e\"],[0.4444444444444444,\"#bd3786\"],[0.5555555555555556,\"#d8576b\"],[0.6666666666666666,\"#ed7953\"],[0.7777777777777778,\"#fb9f3a\"],[0.8888888888888888,\"#fdca26\"],[1.0,\"#f0f921\"]]}],\"surface\":[{\"type\":\"surface\",\"colorbar\":{\"outlinewidth\":0,\"ticks\":\"\"},\"colorscale\":[[0.0,\"#0d0887\"],[0.1111111111111111,\"#46039f\"],[0.2222222222222222,\"#7201a8\"],[0.3333333333333333,\"#9c179e\"],[0.4444444444444444,\"#bd3786\"],[0.5555555555555556,\"#d8576b\"],[0.6666666666666666,\"#ed7953\"],[0.7777777777777778,\"#fb9f3a\"],[0.8888888888888888,\"#fdca26\"],[1.0,\"#f0f921\"]]}],\"mesh3d\":[{\"type\":\"mesh3d\",\"colorbar\":{\"outlinewidth\":0,\"ticks\":\"\"}}],\"scatter\":[{\"fillpattern\":{\"fillmode\":\"overlay\",\"size\":10,\"solidity\":0.2},\"type\":\"scatter\"}],\"parcoords\":[{\"type\":\"parcoords\",\"line\":{\"colorbar\":{\"outlinewidth\":0,\"ticks\":\"\"}}}],\"scatterpolargl\":[{\"type\":\"scatterpolargl\",\"marker\":{\"colorbar\":{\"outlinewidth\":0,\"ticks\":\"\"}}}],\"bar\":[{\"error_x\":{\"color\":\"#2a3f5f\"},\"error_y\":{\"color\":\"#2a3f5f\"},\"marker\":{\"line\":{\"color\":\"#E5ECF6\",\"width\":0.5},\"pattern\":{\"fillmode\":\"overlay\",\"size\":10,\"solidity\":0.2}},\"type\":\"bar\"}],\"scattergeo\":[{\"type\":\"scattergeo\",\"marker\":{\"colorbar\":{\"outlinewidth\":0,\"ticks\":\"\"}}}],\"scatterpolar\":[{\"type\":\"scatterpolar\",\"marker\":{\"colorbar\":{\"outlinewidth\":0,\"ticks\":\"\"}}}],\"histogram\":[{\"marker\":{\"pattern\":{\"fillmode\":\"overlay\",\"size\":10,\"solidity\":0.2}},\"type\":\"histogram\"}],\"scattergl\":[{\"type\":\"scattergl\",\"marker\":{\"colorbar\":{\"outlinewidth\":0,\"ticks\":\"\"}}}],\"scatter3d\":[{\"type\":\"scatter3d\",\"line\":{\"colorbar\":{\"outlinewidth\":0,\"ticks\":\"\"}},\"marker\":{\"colorbar\":{\"outlinewidth\":0,\"ticks\":\"\"}}}],\"scattermapbox\":[{\"type\":\"scattermapbox\",\"marker\":{\"colorbar\":{\"outlinewidth\":0,\"ticks\":\"\"}}}],\"scatterternary\":[{\"type\":\"scatterternary\",\"marker\":{\"colorbar\":{\"outlinewidth\":0,\"ticks\":\"\"}}}],\"scattercarpet\":[{\"type\":\"scattercarpet\",\"marker\":{\"colorbar\":{\"outlinewidth\":0,\"ticks\":\"\"}}}],\"carpet\":[{\"aaxis\":{\"endlinecolor\":\"#2a3f5f\",\"gridcolor\":\"white\",\"linecolor\":\"white\",\"minorgridcolor\":\"white\",\"startlinecolor\":\"#2a3f5f\"},\"baxis\":{\"endlinecolor\":\"#2a3f5f\",\"gridcolor\":\"white\",\"linecolor\":\"white\",\"minorgridcolor\":\"white\",\"startlinecolor\":\"#2a3f5f\"},\"type\":\"carpet\"}],\"table\":[{\"cells\":{\"fill\":{\"color\":\"#EBF0F8\"},\"line\":{\"color\":\"white\"}},\"header\":{\"fill\":{\"color\":\"#C8D4E3\"},\"line\":{\"color\":\"white\"}},\"type\":\"table\"}],\"barpolar\":[{\"marker\":{\"line\":{\"color\":\"#E5ECF6\",\"width\":0.5},\"pattern\":{\"fillmode\":\"overlay\",\"size\":10,\"solidity\":0.2}},\"type\":\"barpolar\"}],\"pie\":[{\"automargin\":true,\"type\":\"pie\"}]},\"layout\":{\"autotypenumbers\":\"strict\",\"colorway\":[\"#636efa\",\"#EF553B\",\"#00cc96\",\"#ab63fa\",\"#FFA15A\",\"#19d3f3\",\"#FF6692\",\"#B6E880\",\"#FF97FF\",\"#FECB52\"],\"font\":{\"color\":\"#2a3f5f\"},\"hovermode\":\"closest\",\"hoverlabel\":{\"align\":\"left\"},\"paper_bgcolor\":\"white\",\"plot_bgcolor\":\"#E5ECF6\",\"polar\":{\"bgcolor\":\"#E5ECF6\",\"angularaxis\":{\"gridcolor\":\"white\",\"linecolor\":\"white\",\"ticks\":\"\"},\"radialaxis\":{\"gridcolor\":\"white\",\"linecolor\":\"white\",\"ticks\":\"\"}},\"ternary\":{\"bgcolor\":\"#E5ECF6\",\"aaxis\":{\"gridcolor\":\"white\",\"linecolor\":\"white\",\"ticks\":\"\"},\"baxis\":{\"gridcolor\":\"white\",\"linecolor\":\"white\",\"ticks\":\"\"},\"caxis\":{\"gridcolor\":\"white\",\"linecolor\":\"white\",\"ticks\":\"\"}},\"coloraxis\":{\"colorbar\":{\"outlinewidth\":0,\"ticks\":\"\"}},\"colorscale\":{\"sequential\":[[0.0,\"#0d0887\"],[0.1111111111111111,\"#46039f\"],[0.2222222222222222,\"#7201a8\"],[0.3333333333333333,\"#9c179e\"],[0.4444444444444444,\"#bd3786\"],[0.5555555555555556,\"#d8576b\"],[0.6666666666666666,\"#ed7953\"],[0.7777777777777778,\"#fb9f3a\"],[0.8888888888888888,\"#fdca26\"],[1.0,\"#f0f921\"]],\"sequentialminus\":[[0.0,\"#0d0887\"],[0.1111111111111111,\"#46039f\"],[0.2222222222222222,\"#7201a8\"],[0.3333333333333333,\"#9c179e\"],[0.4444444444444444,\"#bd3786\"],[0.5555555555555556,\"#d8576b\"],[0.6666666666666666,\"#ed7953\"],[0.7777777777777778,\"#fb9f3a\"],[0.8888888888888888,\"#fdca26\"],[1.0,\"#f0f921\"]],\"diverging\":[[0,\"#8e0152\"],[0.1,\"#c51b7d\"],[0.2,\"#de77ae\"],[0.3,\"#f1b6da\"],[0.4,\"#fde0ef\"],[0.5,\"#f7f7f7\"],[0.6,\"#e6f5d0\"],[0.7,\"#b8e186\"],[0.8,\"#7fbc41\"],[0.9,\"#4d9221\"],[1,\"#276419\"]]},\"xaxis\":{\"gridcolor\":\"white\",\"linecolor\":\"white\",\"ticks\":\"\",\"title\":{\"standoff\":15},\"zerolinecolor\":\"white\",\"automargin\":true,\"zerolinewidth\":2},\"yaxis\":{\"gridcolor\":\"white\",\"linecolor\":\"white\",\"ticks\":\"\",\"title\":{\"standoff\":15},\"zerolinecolor\":\"white\",\"automargin\":true,\"zerolinewidth\":2},\"scene\":{\"xaxis\":{\"backgroundcolor\":\"#E5ECF6\",\"gridcolor\":\"white\",\"linecolor\":\"white\",\"showbackground\":true,\"ticks\":\"\",\"zerolinecolor\":\"white\",\"gridwidth\":2},\"yaxis\":{\"backgroundcolor\":\"#E5ECF6\",\"gridcolor\":\"white\",\"linecolor\":\"white\",\"showbackground\":true,\"ticks\":\"\",\"zerolinecolor\":\"white\",\"gridwidth\":2},\"zaxis\":{\"backgroundcolor\":\"#E5ECF6\",\"gridcolor\":\"white\",\"linecolor\":\"white\",\"showbackground\":true,\"ticks\":\"\",\"zerolinecolor\":\"white\",\"gridwidth\":2}},\"shapedefaults\":{\"line\":{\"color\":\"#2a3f5f\"}},\"annotationdefaults\":{\"arrowcolor\":\"#2a3f5f\",\"arrowhead\":0,\"arrowwidth\":1},\"geo\":{\"bgcolor\":\"white\",\"landcolor\":\"#E5ECF6\",\"subunitcolor\":\"white\",\"showland\":true,\"showlakes\":true,\"lakecolor\":\"white\"},\"title\":{\"x\":0.05},\"mapbox\":{\"style\":\"light\"}}},\"xaxis\":{\"anchor\":\"y\",\"domain\":[0.0,1.0],\"title\":{\"text\":\"AGE_AT_DIAGNOSIS\"}},\"yaxis\":{\"anchor\":\"x\",\"domain\":[0.0,1.0],\"title\":{\"text\":\"OS_MONTHS\"}},\"legend\":{\"title\":{\"text\":\"color\"},\"tracegroupgap\":0},\"margin\":{\"t\":60}},                        {\"responsive\": true}                    ).then(function(){\n",
       "                            \n",
       "var gd = document.getElementById('258c4a1f-f5c1-4796-a41c-b9fb37e74c63');\n",
       "var x = new MutationObserver(function (mutations, observer) {{\n",
       "        var display = window.getComputedStyle(gd).display;\n",
       "        if (!display || display === 'none') {{\n",
       "            console.log([gd, 'removed!']);\n",
       "            Plotly.purge(gd);\n",
       "            observer.disconnect();\n",
       "        }}\n",
       "}});\n",
       "\n",
       "// Listen for the removal of the full notebook cells\n",
       "var notebookContainer = gd.closest('#notebook-container');\n",
       "if (notebookContainer) {{\n",
       "    x.observe(notebookContainer, {childList: true});\n",
       "}}\n",
       "\n",
       "// Listen for the clearing of the current output cell\n",
       "var outputEl = gd.closest('.output');\n",
       "if (outputEl) {{\n",
       "    x.observe(outputEl, {childList: true});\n",
       "}}\n",
       "\n",
       "                        })                };                });            </script>        </div>"
      ]
     },
     "metadata": {},
     "output_type": "display_data"
    },
    {
     "data": {
      "application/vnd.plotly.v1+json": {
       "config": {
        "plotlyServerURL": "https://plot.ly"
       },
       "data": [
        {
         "customdata": [
          [
           "P-0001020",
           "P-0001020-T01-IM3"
          ],
          [
           "P-0001237",
           "P-0001237-T01-IM3"
          ],
          [
           "P-0001494",
           "P-0001494-T01-IM3"
          ],
          [
           "P-0001649",
           "P-0001649-T01-IM3"
          ],
          [
           "P-0001685",
           "P-0001685-T01-IM3"
          ],
          [
           "P-0001685",
           "P-0001685-T02-IM3"
          ],
          [
           "P-0003209",
           "P-0003209-T01-IM5"
          ],
          [
           "P-0003397",
           "P-0003397-T01-IM5"
          ],
          [
           "P-0003796",
           "P-0003796-T01-IM5"
          ],
          [
           "P-0004011",
           "P-0004011-T01-IM5"
          ],
          [
           "P-0004051",
           "P-0004051-T01-IM5"
          ],
          [
           "P-0004083",
           "P-0004083-T01-IM5"
          ],
          [
           "P-0004362",
           "P-0004362-T01-IM5"
          ],
          [
           "P-0004738",
           "P-0004738-T01-IM5"
          ],
          [
           "P-0004754",
           "P-0004754-T01-IM5"
          ],
          [
           "P-0004783",
           "P-0004783-T01-IM5"
          ],
          [
           "P-0004954",
           "P-0004954-T01-IM5"
          ],
          [
           "P-0005151",
           "P-0005151-T01-IM5"
          ],
          [
           "P-0005197",
           "P-0005197-T01-IM5"
          ],
          [
           "P-0005230",
           "P-0005230-T01-IM5"
          ],
          [
           "P-0005326",
           "P-0005326-T01-IM5"
          ],
          [
           "P-0005443",
           "P-0005443-T01-IM5"
          ],
          [
           "P-0005455",
           "P-0005455-T01-IM5"
          ],
          [
           "P-0005529",
           "P-0005529-T01-IM5"
          ],
          [
           "P-0005548",
           "P-0005548-T01-IM5"
          ],
          [
           "P-0005591",
           "P-0005591-T01-IM5"
          ],
          [
           "P-0005823",
           "P-0005823-T01-IM5"
          ],
          [
           "P-0005987",
           "P-0005987-T01-IM5"
          ],
          [
           "P-0006365",
           "P-0006365-T01-IM5"
          ],
          [
           "P-0006649",
           "P-0006649-T01-IM5"
          ],
          [
           "P-0006753",
           "P-0006753-T01-IM5"
          ],
          [
           "P-0006960",
           "P-0006960-T01-IM5"
          ],
          [
           "P-0007843",
           "P-0007843-T01-IM5"
          ],
          [
           "P-0007882",
           "P-0007882-T01-IM5"
          ],
          [
           "P-0007931",
           "P-0007931-T01-IM5"
          ],
          [
           "P-0008180",
           "P-0008180-T01-IM5"
          ],
          [
           "P-0008226",
           "P-0008226-T02-IM5"
          ],
          [
           "P-0008317",
           "P-0008317-T01-IM5"
          ],
          [
           "P-0008729",
           "P-0008729-T01-IM5"
          ],
          [
           "P-0009157",
           "P-0009157-T01-IM5"
          ],
          [
           "P-0009830",
           "P-0009830-T01-IM5"
          ],
          [
           "P-0010167",
           "P-0010167-T01-IM5"
          ],
          [
           "P-0010275",
           "P-0010275-T01-IM5"
          ],
          [
           "P-0010499",
           "P-0010499-T01-IM5"
          ],
          [
           "P-0010504",
           "P-0010504-T01-IM5"
          ],
          [
           "P-0010581",
           "P-0010581-T01-IM5"
          ],
          [
           "P-0010798",
           "P-0010798-T01-IM5"
          ],
          [
           "P-0010929",
           "P-0010929-T01-IM5"
          ],
          [
           "P-0011068",
           "P-0011068-T01-IM5"
          ],
          [
           "P-0011071",
           "P-0011071-T01-IM5"
          ],
          [
           "P-0011226",
           "P-0011226-T01-IM5"
          ],
          [
           "P-0011239",
           "P-0011239-T02-IM5"
          ],
          [
           "P-0011324",
           "P-0011324-T01-IM5"
          ],
          [
           "P-0012115",
           "P-0012115-T01-IM5"
          ],
          [
           "P-0012313",
           "P-0012313-T01-IM5"
          ],
          [
           "P-0013010",
           "P-0013010-T01-IM5"
          ],
          [
           "P-0013492",
           "P-0013492-T01-IM5"
          ],
          [
           "P-0013787",
           "P-0013787-T01-IM5"
          ],
          [
           "P-0013876",
           "P-0013876-T01-IM5"
          ]
         ],
         "hovertemplate": "color=('Male', 'MSI')<br>AGE_AT_DIAGNOSIS=%{x}<br>OS_MONTHS=%{y}<br>PATIENT_ID=%{customdata[0]}<br>SAMPLE_ID=%{customdata[1]}<extra></extra>",
         "legendgroup": "('Male', 'MSI')",
         "marker": {
          "color": "#636efa",
          "symbol": "circle"
         },
         "mode": "markers",
         "name": "('Male', 'MSI')",
         "orientation": "v",
         "showlegend": true,
         "type": "scatter",
         "x": [
          63,
          46,
          63,
          74,
          41,
          41,
          76,
          42,
          38,
          55,
          66,
          54,
          33,
          59,
          64,
          41,
          70,
          33,
          61,
          64,
          32,
          52,
          53,
          80,
          53,
          63,
          65,
          44,
          30,
          69,
          64,
          60,
          31,
          79,
          42,
          63,
          27,
          33,
          78,
          51,
          20,
          50,
          29,
          63,
          45,
          71,
          70,
          74,
          56,
          58,
          48,
          81,
          61,
          48,
          82,
          64,
          56,
          40,
          36
         ],
         "xaxis": "x",
         "y": [
          4.8,
          115.7,
          18.4,
          3.87,
          null,
          null,
          33.23,
          74.83,
          null,
          90.43,
          30.5,
          null,
          35.43,
          null,
          67.17,
          18.9,
          null,
          58.07,
          null,
          null,
          null,
          null,
          null,
          8.23,
          null,
          null,
          24.13,
          null,
          null,
          32,
          35.4,
          null,
          null,
          null,
          75.27,
          null,
          null,
          23.6,
          null,
          null,
          65.5,
          null,
          21.77,
          8.6,
          null,
          49.06666667,
          null,
          null,
          36.1,
          6,
          8.466666667,
          null,
          null,
          17.4,
          null,
          null,
          null,
          null,
          null
         ],
         "yaxis": "y"
        }
       ],
       "layout": {
        "autosize": true,
        "legend": {
         "title": {
          "text": "color"
         },
         "tracegroupgap": 0
        },
        "margin": {
         "t": 60
        },
        "template": {
         "data": {
          "bar": [
           {
            "error_x": {
             "color": "#2a3f5f"
            },
            "error_y": {
             "color": "#2a3f5f"
            },
            "marker": {
             "line": {
              "color": "#E5ECF6",
              "width": 0.5
             },
             "pattern": {
              "fillmode": "overlay",
              "size": 10,
              "solidity": 0.2
             }
            },
            "type": "bar"
           }
          ],
          "barpolar": [
           {
            "marker": {
             "line": {
              "color": "#E5ECF6",
              "width": 0.5
             },
             "pattern": {
              "fillmode": "overlay",
              "size": 10,
              "solidity": 0.2
             }
            },
            "type": "barpolar"
           }
          ],
          "carpet": [
           {
            "aaxis": {
             "endlinecolor": "#2a3f5f",
             "gridcolor": "white",
             "linecolor": "white",
             "minorgridcolor": "white",
             "startlinecolor": "#2a3f5f"
            },
            "baxis": {
             "endlinecolor": "#2a3f5f",
             "gridcolor": "white",
             "linecolor": "white",
             "minorgridcolor": "white",
             "startlinecolor": "#2a3f5f"
            },
            "type": "carpet"
           }
          ],
          "choropleth": [
           {
            "colorbar": {
             "outlinewidth": 0,
             "ticks": ""
            },
            "type": "choropleth"
           }
          ],
          "contour": [
           {
            "colorbar": {
             "outlinewidth": 0,
             "ticks": ""
            },
            "colorscale": [
             [
              0,
              "#0d0887"
             ],
             [
              0.1111111111111111,
              "#46039f"
             ],
             [
              0.2222222222222222,
              "#7201a8"
             ],
             [
              0.3333333333333333,
              "#9c179e"
             ],
             [
              0.4444444444444444,
              "#bd3786"
             ],
             [
              0.5555555555555556,
              "#d8576b"
             ],
             [
              0.6666666666666666,
              "#ed7953"
             ],
             [
              0.7777777777777778,
              "#fb9f3a"
             ],
             [
              0.8888888888888888,
              "#fdca26"
             ],
             [
              1,
              "#f0f921"
             ]
            ],
            "type": "contour"
           }
          ],
          "contourcarpet": [
           {
            "colorbar": {
             "outlinewidth": 0,
             "ticks": ""
            },
            "type": "contourcarpet"
           }
          ],
          "heatmap": [
           {
            "colorbar": {
             "outlinewidth": 0,
             "ticks": ""
            },
            "colorscale": [
             [
              0,
              "#0d0887"
             ],
             [
              0.1111111111111111,
              "#46039f"
             ],
             [
              0.2222222222222222,
              "#7201a8"
             ],
             [
              0.3333333333333333,
              "#9c179e"
             ],
             [
              0.4444444444444444,
              "#bd3786"
             ],
             [
              0.5555555555555556,
              "#d8576b"
             ],
             [
              0.6666666666666666,
              "#ed7953"
             ],
             [
              0.7777777777777778,
              "#fb9f3a"
             ],
             [
              0.8888888888888888,
              "#fdca26"
             ],
             [
              1,
              "#f0f921"
             ]
            ],
            "type": "heatmap"
           }
          ],
          "heatmapgl": [
           {
            "colorbar": {
             "outlinewidth": 0,
             "ticks": ""
            },
            "colorscale": [
             [
              0,
              "#0d0887"
             ],
             [
              0.1111111111111111,
              "#46039f"
             ],
             [
              0.2222222222222222,
              "#7201a8"
             ],
             [
              0.3333333333333333,
              "#9c179e"
             ],
             [
              0.4444444444444444,
              "#bd3786"
             ],
             [
              0.5555555555555556,
              "#d8576b"
             ],
             [
              0.6666666666666666,
              "#ed7953"
             ],
             [
              0.7777777777777778,
              "#fb9f3a"
             ],
             [
              0.8888888888888888,
              "#fdca26"
             ],
             [
              1,
              "#f0f921"
             ]
            ],
            "type": "heatmapgl"
           }
          ],
          "histogram": [
           {
            "marker": {
             "pattern": {
              "fillmode": "overlay",
              "size": 10,
              "solidity": 0.2
             }
            },
            "type": "histogram"
           }
          ],
          "histogram2d": [
           {
            "colorbar": {
             "outlinewidth": 0,
             "ticks": ""
            },
            "colorscale": [
             [
              0,
              "#0d0887"
             ],
             [
              0.1111111111111111,
              "#46039f"
             ],
             [
              0.2222222222222222,
              "#7201a8"
             ],
             [
              0.3333333333333333,
              "#9c179e"
             ],
             [
              0.4444444444444444,
              "#bd3786"
             ],
             [
              0.5555555555555556,
              "#d8576b"
             ],
             [
              0.6666666666666666,
              "#ed7953"
             ],
             [
              0.7777777777777778,
              "#fb9f3a"
             ],
             [
              0.8888888888888888,
              "#fdca26"
             ],
             [
              1,
              "#f0f921"
             ]
            ],
            "type": "histogram2d"
           }
          ],
          "histogram2dcontour": [
           {
            "colorbar": {
             "outlinewidth": 0,
             "ticks": ""
            },
            "colorscale": [
             [
              0,
              "#0d0887"
             ],
             [
              0.1111111111111111,
              "#46039f"
             ],
             [
              0.2222222222222222,
              "#7201a8"
             ],
             [
              0.3333333333333333,
              "#9c179e"
             ],
             [
              0.4444444444444444,
              "#bd3786"
             ],
             [
              0.5555555555555556,
              "#d8576b"
             ],
             [
              0.6666666666666666,
              "#ed7953"
             ],
             [
              0.7777777777777778,
              "#fb9f3a"
             ],
             [
              0.8888888888888888,
              "#fdca26"
             ],
             [
              1,
              "#f0f921"
             ]
            ],
            "type": "histogram2dcontour"
           }
          ],
          "mesh3d": [
           {
            "colorbar": {
             "outlinewidth": 0,
             "ticks": ""
            },
            "type": "mesh3d"
           }
          ],
          "parcoords": [
           {
            "line": {
             "colorbar": {
              "outlinewidth": 0,
              "ticks": ""
             }
            },
            "type": "parcoords"
           }
          ],
          "pie": [
           {
            "automargin": true,
            "type": "pie"
           }
          ],
          "scatter": [
           {
            "fillpattern": {
             "fillmode": "overlay",
             "size": 10,
             "solidity": 0.2
            },
            "type": "scatter"
           }
          ],
          "scatter3d": [
           {
            "line": {
             "colorbar": {
              "outlinewidth": 0,
              "ticks": ""
             }
            },
            "marker": {
             "colorbar": {
              "outlinewidth": 0,
              "ticks": ""
             }
            },
            "type": "scatter3d"
           }
          ],
          "scattercarpet": [
           {
            "marker": {
             "colorbar": {
              "outlinewidth": 0,
              "ticks": ""
             }
            },
            "type": "scattercarpet"
           }
          ],
          "scattergeo": [
           {
            "marker": {
             "colorbar": {
              "outlinewidth": 0,
              "ticks": ""
             }
            },
            "type": "scattergeo"
           }
          ],
          "scattergl": [
           {
            "marker": {
             "colorbar": {
              "outlinewidth": 0,
              "ticks": ""
             }
            },
            "type": "scattergl"
           }
          ],
          "scattermapbox": [
           {
            "marker": {
             "colorbar": {
              "outlinewidth": 0,
              "ticks": ""
             }
            },
            "type": "scattermapbox"
           }
          ],
          "scatterpolar": [
           {
            "marker": {
             "colorbar": {
              "outlinewidth": 0,
              "ticks": ""
             }
            },
            "type": "scatterpolar"
           }
          ],
          "scatterpolargl": [
           {
            "marker": {
             "colorbar": {
              "outlinewidth": 0,
              "ticks": ""
             }
            },
            "type": "scatterpolargl"
           }
          ],
          "scatterternary": [
           {
            "marker": {
             "colorbar": {
              "outlinewidth": 0,
              "ticks": ""
             }
            },
            "type": "scatterternary"
           }
          ],
          "surface": [
           {
            "colorbar": {
             "outlinewidth": 0,
             "ticks": ""
            },
            "colorscale": [
             [
              0,
              "#0d0887"
             ],
             [
              0.1111111111111111,
              "#46039f"
             ],
             [
              0.2222222222222222,
              "#7201a8"
             ],
             [
              0.3333333333333333,
              "#9c179e"
             ],
             [
              0.4444444444444444,
              "#bd3786"
             ],
             [
              0.5555555555555556,
              "#d8576b"
             ],
             [
              0.6666666666666666,
              "#ed7953"
             ],
             [
              0.7777777777777778,
              "#fb9f3a"
             ],
             [
              0.8888888888888888,
              "#fdca26"
             ],
             [
              1,
              "#f0f921"
             ]
            ],
            "type": "surface"
           }
          ],
          "table": [
           {
            "cells": {
             "fill": {
              "color": "#EBF0F8"
             },
             "line": {
              "color": "white"
             }
            },
            "header": {
             "fill": {
              "color": "#C8D4E3"
             },
             "line": {
              "color": "white"
             }
            },
            "type": "table"
           }
          ]
         },
         "layout": {
          "annotationdefaults": {
           "arrowcolor": "#2a3f5f",
           "arrowhead": 0,
           "arrowwidth": 1
          },
          "autotypenumbers": "strict",
          "coloraxis": {
           "colorbar": {
            "outlinewidth": 0,
            "ticks": ""
           }
          },
          "colorscale": {
           "diverging": [
            [
             0,
             "#8e0152"
            ],
            [
             0.1,
             "#c51b7d"
            ],
            [
             0.2,
             "#de77ae"
            ],
            [
             0.3,
             "#f1b6da"
            ],
            [
             0.4,
             "#fde0ef"
            ],
            [
             0.5,
             "#f7f7f7"
            ],
            [
             0.6,
             "#e6f5d0"
            ],
            [
             0.7,
             "#b8e186"
            ],
            [
             0.8,
             "#7fbc41"
            ],
            [
             0.9,
             "#4d9221"
            ],
            [
             1,
             "#276419"
            ]
           ],
           "sequential": [
            [
             0,
             "#0d0887"
            ],
            [
             0.1111111111111111,
             "#46039f"
            ],
            [
             0.2222222222222222,
             "#7201a8"
            ],
            [
             0.3333333333333333,
             "#9c179e"
            ],
            [
             0.4444444444444444,
             "#bd3786"
            ],
            [
             0.5555555555555556,
             "#d8576b"
            ],
            [
             0.6666666666666666,
             "#ed7953"
            ],
            [
             0.7777777777777778,
             "#fb9f3a"
            ],
            [
             0.8888888888888888,
             "#fdca26"
            ],
            [
             1,
             "#f0f921"
            ]
           ],
           "sequentialminus": [
            [
             0,
             "#0d0887"
            ],
            [
             0.1111111111111111,
             "#46039f"
            ],
            [
             0.2222222222222222,
             "#7201a8"
            ],
            [
             0.3333333333333333,
             "#9c179e"
            ],
            [
             0.4444444444444444,
             "#bd3786"
            ],
            [
             0.5555555555555556,
             "#d8576b"
            ],
            [
             0.6666666666666666,
             "#ed7953"
            ],
            [
             0.7777777777777778,
             "#fb9f3a"
            ],
            [
             0.8888888888888888,
             "#fdca26"
            ],
            [
             1,
             "#f0f921"
            ]
           ]
          },
          "colorway": [
           "#636efa",
           "#EF553B",
           "#00cc96",
           "#ab63fa",
           "#FFA15A",
           "#19d3f3",
           "#FF6692",
           "#B6E880",
           "#FF97FF",
           "#FECB52"
          ],
          "font": {
           "color": "#2a3f5f"
          },
          "geo": {
           "bgcolor": "white",
           "lakecolor": "white",
           "landcolor": "#E5ECF6",
           "showlakes": true,
           "showland": true,
           "subunitcolor": "white"
          },
          "hoverlabel": {
           "align": "left"
          },
          "hovermode": "closest",
          "mapbox": {
           "style": "light"
          },
          "paper_bgcolor": "white",
          "plot_bgcolor": "#E5ECF6",
          "polar": {
           "angularaxis": {
            "gridcolor": "white",
            "linecolor": "white",
            "ticks": ""
           },
           "bgcolor": "#E5ECF6",
           "radialaxis": {
            "gridcolor": "white",
            "linecolor": "white",
            "ticks": ""
           }
          },
          "scene": {
           "xaxis": {
            "backgroundcolor": "#E5ECF6",
            "gridcolor": "white",
            "gridwidth": 2,
            "linecolor": "white",
            "showbackground": true,
            "ticks": "",
            "zerolinecolor": "white"
           },
           "yaxis": {
            "backgroundcolor": "#E5ECF6",
            "gridcolor": "white",
            "gridwidth": 2,
            "linecolor": "white",
            "showbackground": true,
            "ticks": "",
            "zerolinecolor": "white"
           },
           "zaxis": {
            "backgroundcolor": "#E5ECF6",
            "gridcolor": "white",
            "gridwidth": 2,
            "linecolor": "white",
            "showbackground": true,
            "ticks": "",
            "zerolinecolor": "white"
           }
          },
          "shapedefaults": {
           "line": {
            "color": "#2a3f5f"
           }
          },
          "ternary": {
           "aaxis": {
            "gridcolor": "white",
            "linecolor": "white",
            "ticks": ""
           },
           "baxis": {
            "gridcolor": "white",
            "linecolor": "white",
            "ticks": ""
           },
           "bgcolor": "#E5ECF6",
           "caxis": {
            "gridcolor": "white",
            "linecolor": "white",
            "ticks": ""
           }
          },
          "title": {
           "x": 0.05
          },
          "xaxis": {
           "automargin": true,
           "gridcolor": "white",
           "linecolor": "white",
           "ticks": "",
           "title": {
            "standoff": 15
           },
           "zerolinecolor": "white",
           "zerolinewidth": 2
          },
          "yaxis": {
           "automargin": true,
           "gridcolor": "white",
           "linecolor": "white",
           "ticks": "",
           "title": {
            "standoff": 15
           },
           "zerolinecolor": "white",
           "zerolinewidth": 2
          }
         }
        },
        "xaxis": {
         "anchor": "y",
         "autorange": true,
         "domain": [
          0,
          1
         ],
         "range": [
          16.214521452145213,
          85.78547854785478
         ],
         "title": {
          "text": "AGE_AT_DIAGNOSIS"
         },
         "type": "linear"
        },
        "yaxis": {
         "anchor": "x",
         "autorange": true,
         "domain": [
          0,
          1
         ],
         "range": [
          -4.788753280839894,
          124.35875328083989
         ],
         "title": {
          "text": "OS_MONTHS"
         },
         "type": "linear"
        }
       }
      },
      "image/png": "[encoded data removed]",
      "text/html": [
       "<div>                            <div id=\"b72014e4-43cf-491d-a4cf-867d10c73f4e\" class=\"plotly-graph-div\" style=\"height:525px; width:100%;\"></div>            <script type=\"text/javascript\">                require([\"plotly\"], function(Plotly) {                    window.PLOTLYENV=window.PLOTLYENV || {};                                    if (document.getElementById(\"b72014e4-43cf-491d-a4cf-867d10c73f4e\")) {                    Plotly.newPlot(                        \"b72014e4-43cf-491d-a4cf-867d10c73f4e\",                        [{\"customdata\":[[\"P-0001020\",\"P-0001020-T01-IM3\"],[\"P-0001237\",\"P-0001237-T01-IM3\"],[\"P-0001494\",\"P-0001494-T01-IM3\"],[\"P-0001649\",\"P-0001649-T01-IM3\"],[\"P-0001685\",\"P-0001685-T01-IM3\"],[\"P-0001685\",\"P-0001685-T02-IM3\"],[\"P-0003209\",\"P-0003209-T01-IM5\"],[\"P-0003397\",\"P-0003397-T01-IM5\"],[\"P-0003796\",\"P-0003796-T01-IM5\"],[\"P-0004011\",\"P-0004011-T01-IM5\"],[\"P-0004051\",\"P-0004051-T01-IM5\"],[\"P-0004083\",\"P-0004083-T01-IM5\"],[\"P-0004362\",\"P-0004362-T01-IM5\"],[\"P-0004738\",\"P-0004738-T01-IM5\"],[\"P-0004754\",\"P-0004754-T01-IM5\"],[\"P-0004783\",\"P-0004783-T01-IM5\"],[\"P-0004954\",\"P-0004954-T01-IM5\"],[\"P-0005151\",\"P-0005151-T01-IM5\"],[\"P-0005197\",\"P-0005197-T01-IM5\"],[\"P-0005230\",\"P-0005230-T01-IM5\"],[\"P-0005326\",\"P-0005326-T01-IM5\"],[\"P-0005443\",\"P-0005443-T01-IM5\"],[\"P-0005455\",\"P-0005455-T01-IM5\"],[\"P-0005529\",\"P-0005529-T01-IM5\"],[\"P-0005548\",\"P-0005548-T01-IM5\"],[\"P-0005591\",\"P-0005591-T01-IM5\"],[\"P-0005823\",\"P-0005823-T01-IM5\"],[\"P-0005987\",\"P-0005987-T01-IM5\"],[\"P-0006365\",\"P-0006365-T01-IM5\"],[\"P-0006649\",\"P-0006649-T01-IM5\"],[\"P-0006753\",\"P-0006753-T01-IM5\"],[\"P-0006960\",\"P-0006960-T01-IM5\"],[\"P-0007843\",\"P-0007843-T01-IM5\"],[\"P-0007882\",\"P-0007882-T01-IM5\"],[\"P-0007931\",\"P-0007931-T01-IM5\"],[\"P-0008180\",\"P-0008180-T01-IM5\"],[\"P-0008226\",\"P-0008226-T02-IM5\"],[\"P-0008317\",\"P-0008317-T01-IM5\"],[\"P-0008729\",\"P-0008729-T01-IM5\"],[\"P-0009157\",\"P-0009157-T01-IM5\"],[\"P-0009830\",\"P-0009830-T01-IM5\"],[\"P-0010167\",\"P-0010167-T01-IM5\"],[\"P-0010275\",\"P-0010275-T01-IM5\"],[\"P-0010499\",\"P-0010499-T01-IM5\"],[\"P-0010504\",\"P-0010504-T01-IM5\"],[\"P-0010581\",\"P-0010581-T01-IM5\"],[\"P-0010798\",\"P-0010798-T01-IM5\"],[\"P-0010929\",\"P-0010929-T01-IM5\"],[\"P-0011068\",\"P-0011068-T01-IM5\"],[\"P-0011071\",\"P-0011071-T01-IM5\"],[\"P-0011226\",\"P-0011226-T01-IM5\"],[\"P-0011239\",\"P-0011239-T02-IM5\"],[\"P-0011324\",\"P-0011324-T01-IM5\"],[\"P-0012115\",\"P-0012115-T01-IM5\"],[\"P-0012313\",\"P-0012313-T01-IM5\"],[\"P-0013010\",\"P-0013010-T01-IM5\"],[\"P-0013492\",\"P-0013492-T01-IM5\"],[\"P-0013787\",\"P-0013787-T01-IM5\"],[\"P-0013876\",\"P-0013876-T01-IM5\"]],\"hovertemplate\":\"color=('Male', 'MSI')<br>AGE_AT_DIAGNOSIS=%{x}<br>OS_MONTHS=%{y}<br>PATIENT_ID=%{customdata[0]}<br>SAMPLE_ID=%{customdata[1]}<extra></extra>\",\"legendgroup\":\"('Male', 'MSI')\",\"marker\":{\"color\":\"#636efa\",\"symbol\":\"circle\"},\"mode\":\"markers\",\"name\":\"('Male', 'MSI')\",\"orientation\":\"v\",\"showlegend\":true,\"x\":[63,46,63,74,41,41,76,42,38,55,66,54,33,59,64,41,70,33,61,64,32,52,53,80,53,63,65,44,30,69,64,60,31,79,42,63,27,33,78,51,20,50,29,63,45,71,70,74,56,58,48,81,61,48,82,64,56,40,36],\"xaxis\":\"x\",\"y\":[4.8,115.7,18.4,3.87,null,null,33.23,74.83,null,90.43,30.5,null,35.43,null,67.17,18.9,null,58.07,null,null,null,null,null,8.23,null,null,24.13,null,null,32.0,35.4,null,null,null,75.27,null,null,23.6,null,null,65.5,null,21.77,8.6,null,49.06666667,null,null,36.1,6.0,8.466666667,null,null,17.4,null,null,null,null,null],\"yaxis\":\"y\",\"type\":\"scatter\"}],                        {\"template\":{\"data\":{\"histogram2dcontour\":[{\"type\":\"histogram2dcontour\",\"colorbar\":{\"outlinewidth\":0,\"ticks\":\"\"},\"colorscale\":[[0.0,\"#0d0887\"],[0.1111111111111111,\"#46039f\"],[0.2222222222222222,\"#7201a8\"],[0.3333333333333333,\"#9c179e\"],[0.4444444444444444,\"#bd3786\"],[0.5555555555555556,\"#d8576b\"],[0.6666666666666666,\"#ed7953\"],[0.7777777777777778,\"#fb9f3a\"],[0.8888888888888888,\"#fdca26\"],[1.0,\"#f0f921\"]]}],\"choropleth\":[{\"type\":\"choropleth\",\"colorbar\":{\"outlinewidth\":0,\"ticks\":\"\"}}],\"histogram2d\":[{\"type\":\"histogram2d\",\"colorbar\":{\"outlinewidth\":0,\"ticks\":\"\"},\"colorscale\":[[0.0,\"#0d0887\"],[0.1111111111111111,\"#46039f\"],[0.2222222222222222,\"#7201a8\"],[0.3333333333333333,\"#9c179e\"],[0.4444444444444444,\"#bd3786\"],[0.5555555555555556,\"#d8576b\"],[0.6666666666666666,\"#ed7953\"],[0.7777777777777778,\"#fb9f3a\"],[0.8888888888888888,\"#fdca26\"],[1.0,\"#f0f921\"]]}],\"heatmap\":[{\"type\":\"heatmap\",\"colorbar\":{\"outlinewidth\":0,\"ticks\":\"\"},\"colorscale\":[[0.0,\"#0d0887\"],[0.1111111111111111,\"#46039f\"],[0.2222222222222222,\"#7201a8\"],[0.3333333333333333,\"#9c179e\"],[0.4444444444444444,\"#bd3786\"],[0.5555555555555556,\"#d8576b\"],[0.6666666666666666,\"#ed7953\"],[0.7777777777777778,\"#fb9f3a\"],[0.8888888888888888,\"#fdca26\"],[1.0,\"#f0f921\"]]}],\"heatmapgl\":[{\"type\":\"heatmapgl\",\"colorbar\":{\"outlinewidth\":0,\"ticks\":\"\"},\"colorscale\":[[0.0,\"#0d0887\"],[0.1111111111111111,\"#46039f\"],[0.2222222222222222,\"#7201a8\"],[0.3333333333333333,\"#9c179e\"],[0.4444444444444444,\"#bd3786\"],[0.5555555555555556,\"#d8576b\"],[0.6666666666666666,\"#ed7953\"],[0.7777777777777778,\"#fb9f3a\"],[0.8888888888888888,\"#fdca26\"],[1.0,\"#f0f921\"]]}],\"contourcarpet\":[{\"type\":\"contourcarpet\",\"colorbar\":{\"outlinewidth\":0,\"ticks\":\"\"}}],\"contour\":[{\"type\":\"contour\",\"colorbar\":{\"outlinewidth\":0,\"ticks\":\"\"},\"colorscale\":[[0.0,\"#0d0887\"],[0.1111111111111111,\"#46039f\"],[0.2222222222222222,\"#7201a8\"],[0.3333333333333333,\"#9c179e\"],[0.4444444444444444,\"#bd3786\"],[0.5555555555555556,\"#d8576b\"],[0.6666666666666666,\"#ed7953\"],[0.7777777777777778,\"#fb9f3a\"],[0.8888888888888888,\"#fdca26\"],[1.0,\"#f0f921\"]]}],\"surface\":[{\"type\":\"surface\",\"colorbar\":{\"outlinewidth\":0,\"ticks\":\"\"},\"colorscale\":[[0.0,\"#0d0887\"],[0.1111111111111111,\"#46039f\"],[0.2222222222222222,\"#7201a8\"],[0.3333333333333333,\"#9c179e\"],[0.4444444444444444,\"#bd3786\"],[0.5555555555555556,\"#d8576b\"],[0.6666666666666666,\"#ed7953\"],[0.7777777777777778,\"#fb9f3a\"],[0.8888888888888888,\"#fdca26\"],[1.0,\"#f0f921\"]]}],\"mesh3d\":[{\"type\":\"mesh3d\",\"colorbar\":{\"outlinewidth\":0,\"ticks\":\"\"}}],\"scatter\":[{\"fillpattern\":{\"fillmode\":\"overlay\",\"size\":10,\"solidity\":0.2},\"type\":\"scatter\"}],\"parcoords\":[{\"type\":\"parcoords\",\"line\":{\"colorbar\":{\"outlinewidth\":0,\"ticks\":\"\"}}}],\"scatterpolargl\":[{\"type\":\"scatterpolargl\",\"marker\":{\"colorbar\":{\"outlinewidth\":0,\"ticks\":\"\"}}}],\"bar\":[{\"error_x\":{\"color\":\"#2a3f5f\"},\"error_y\":{\"color\":\"#2a3f5f\"},\"marker\":{\"line\":{\"color\":\"#E5ECF6\",\"width\":0.5},\"pattern\":{\"fillmode\":\"overlay\",\"size\":10,\"solidity\":0.2}},\"type\":\"bar\"}],\"scattergeo\":[{\"type\":\"scattergeo\",\"marker\":{\"colorbar\":{\"outlinewidth\":0,\"ticks\":\"\"}}}],\"scatterpolar\":[{\"type\":\"scatterpolar\",\"marker\":{\"colorbar\":{\"outlinewidth\":0,\"ticks\":\"\"}}}],\"histogram\":[{\"marker\":{\"pattern\":{\"fillmode\":\"overlay\",\"size\":10,\"solidity\":0.2}},\"type\":\"histogram\"}],\"scattergl\":[{\"type\":\"scattergl\",\"marker\":{\"colorbar\":{\"outlinewidth\":0,\"ticks\":\"\"}}}],\"scatter3d\":[{\"type\":\"scatter3d\",\"line\":{\"colorbar\":{\"outlinewidth\":0,\"ticks\":\"\"}},\"marker\":{\"colorbar\":{\"outlinewidth\":0,\"ticks\":\"\"}}}],\"scattermapbox\":[{\"type\":\"scattermapbox\",\"marker\":{\"colorbar\":{\"outlinewidth\":0,\"ticks\":\"\"}}}],\"scatterternary\":[{\"type\":\"scatterternary\",\"marker\":{\"colorbar\":{\"outlinewidth\":0,\"ticks\":\"\"}}}],\"scattercarpet\":[{\"type\":\"scattercarpet\",\"marker\":{\"colorbar\":{\"outlinewidth\":0,\"ticks\":\"\"}}}],\"carpet\":[{\"aaxis\":{\"endlinecolor\":\"#2a3f5f\",\"gridcolor\":\"white\",\"linecolor\":\"white\",\"minorgridcolor\":\"white\",\"startlinecolor\":\"#2a3f5f\"},\"baxis\":{\"endlinecolor\":\"#2a3f5f\",\"gridcolor\":\"white\",\"linecolor\":\"white\",\"minorgridcolor\":\"white\",\"startlinecolor\":\"#2a3f5f\"},\"type\":\"carpet\"}],\"table\":[{\"cells\":{\"fill\":{\"color\":\"#EBF0F8\"},\"line\":{\"color\":\"white\"}},\"header\":{\"fill\":{\"color\":\"#C8D4E3\"},\"line\":{\"color\":\"white\"}},\"type\":\"table\"}],\"barpolar\":[{\"marker\":{\"line\":{\"color\":\"#E5ECF6\",\"width\":0.5},\"pattern\":{\"fillmode\":\"overlay\",\"size\":10,\"solidity\":0.2}},\"type\":\"barpolar\"}],\"pie\":[{\"automargin\":true,\"type\":\"pie\"}]},\"layout\":{\"autotypenumbers\":\"strict\",\"colorway\":[\"#636efa\",\"#EF553B\",\"#00cc96\",\"#ab63fa\",\"#FFA15A\",\"#19d3f3\",\"#FF6692\",\"#B6E880\",\"#FF97FF\",\"#FECB52\"],\"font\":{\"color\":\"#2a3f5f\"},\"hovermode\":\"closest\",\"hoverlabel\":{\"align\":\"left\"},\"paper_bgcolor\":\"white\",\"plot_bgcolor\":\"#E5ECF6\",\"polar\":{\"bgcolor\":\"#E5ECF6\",\"angularaxis\":{\"gridcolor\":\"white\",\"linecolor\":\"white\",\"ticks\":\"\"},\"radialaxis\":{\"gridcolor\":\"white\",\"linecolor\":\"white\",\"ticks\":\"\"}},\"ternary\":{\"bgcolor\":\"#E5ECF6\",\"aaxis\":{\"gridcolor\":\"white\",\"linecolor\":\"white\",\"ticks\":\"\"},\"baxis\":{\"gridcolor\":\"white\",\"linecolor\":\"white\",\"ticks\":\"\"},\"caxis\":{\"gridcolor\":\"white\",\"linecolor\":\"white\",\"ticks\":\"\"}},\"coloraxis\":{\"colorbar\":{\"outlinewidth\":0,\"ticks\":\"\"}},\"colorscale\":{\"sequential\":[[0.0,\"#0d0887\"],[0.1111111111111111,\"#46039f\"],[0.2222222222222222,\"#7201a8\"],[0.3333333333333333,\"#9c179e\"],[0.4444444444444444,\"#bd3786\"],[0.5555555555555556,\"#d8576b\"],[0.6666666666666666,\"#ed7953\"],[0.7777777777777778,\"#fb9f3a\"],[0.8888888888888888,\"#fdca26\"],[1.0,\"#f0f921\"]],\"sequentialminus\":[[0.0,\"#0d0887\"],[0.1111111111111111,\"#46039f\"],[0.2222222222222222,\"#7201a8\"],[0.3333333333333333,\"#9c179e\"],[0.4444444444444444,\"#bd3786\"],[0.5555555555555556,\"#d8576b\"],[0.6666666666666666,\"#ed7953\"],[0.7777777777777778,\"#fb9f3a\"],[0.8888888888888888,\"#fdca26\"],[1.0,\"#f0f921\"]],\"diverging\":[[0,\"#8e0152\"],[0.1,\"#c51b7d\"],[0.2,\"#de77ae\"],[0.3,\"#f1b6da\"],[0.4,\"#fde0ef\"],[0.5,\"#f7f7f7\"],[0.6,\"#e6f5d0\"],[0.7,\"#b8e186\"],[0.8,\"#7fbc41\"],[0.9,\"#4d9221\"],[1,\"#276419\"]]},\"xaxis\":{\"gridcolor\":\"white\",\"linecolor\":\"white\",\"ticks\":\"\",\"title\":{\"standoff\":15},\"zerolinecolor\":\"white\",\"automargin\":true,\"zerolinewidth\":2},\"yaxis\":{\"gridcolor\":\"white\",\"linecolor\":\"white\",\"ticks\":\"\",\"title\":{\"standoff\":15},\"zerolinecolor\":\"white\",\"automargin\":true,\"zerolinewidth\":2},\"scene\":{\"xaxis\":{\"backgroundcolor\":\"#E5ECF6\",\"gridcolor\":\"white\",\"linecolor\":\"white\",\"showbackground\":true,\"ticks\":\"\",\"zerolinecolor\":\"white\",\"gridwidth\":2},\"yaxis\":{\"backgroundcolor\":\"#E5ECF6\",\"gridcolor\":\"white\",\"linecolor\":\"white\",\"showbackground\":true,\"ticks\":\"\",\"zerolinecolor\":\"white\",\"gridwidth\":2},\"zaxis\":{\"backgroundcolor\":\"#E5ECF6\",\"gridcolor\":\"white\",\"linecolor\":\"white\",\"showbackground\":true,\"ticks\":\"\",\"zerolinecolor\":\"white\",\"gridwidth\":2}},\"shapedefaults\":{\"line\":{\"color\":\"#2a3f5f\"}},\"annotationdefaults\":{\"arrowcolor\":\"#2a3f5f\",\"arrowhead\":0,\"arrowwidth\":1},\"geo\":{\"bgcolor\":\"white\",\"landcolor\":\"#E5ECF6\",\"subunitcolor\":\"white\",\"showland\":true,\"showlakes\":true,\"lakecolor\":\"white\"},\"title\":{\"x\":0.05},\"mapbox\":{\"style\":\"light\"}}},\"xaxis\":{\"anchor\":\"y\",\"domain\":[0.0,1.0],\"title\":{\"text\":\"AGE_AT_DIAGNOSIS\"}},\"yaxis\":{\"anchor\":\"x\",\"domain\":[0.0,1.0],\"title\":{\"text\":\"OS_MONTHS\"}},\"legend\":{\"title\":{\"text\":\"color\"},\"tracegroupgap\":0},\"margin\":{\"t\":60}},                        {\"responsive\": true}                    ).then(function(){\n",
       "                            \n",
       "var gd = document.getElementById('b72014e4-43cf-491d-a4cf-867d10c73f4e');\n",
       "var x = new MutationObserver(function (mutations, observer) {{\n",
       "        var display = window.getComputedStyle(gd).display;\n",
       "        if (!display || display === 'none') {{\n",
       "            console.log([gd, 'removed!']);\n",
       "            Plotly.purge(gd);\n",
       "            observer.disconnect();\n",
       "        }}\n",
       "}});\n",
       "\n",
       "// Listen for the removal of the full notebook cells\n",
       "var notebookContainer = gd.closest('#notebook-container');\n",
       "if (notebookContainer) {{\n",
       "    x.observe(notebookContainer, {childList: true});\n",
       "}}\n",
       "\n",
       "// Listen for the clearing of the current output cell\n",
       "var outputEl = gd.closest('.output');\n",
       "if (outputEl) {{\n",
       "    x.observe(outputEl, {childList: true});\n",
       "}}\n",
       "\n",
       "                        })                };                });            </script>        </div>"
      ]
     },
     "metadata": {},
     "output_type": "display_data"
    },
    {
     "data": {
      "application/vnd.plotly.v1+json": {
       "config": {
        "plotlyServerURL": "https://plot.ly"
       },
       "data": [
        {
         "customdata": [
          [
           "P-0000520",
           "P-0000520-T01-IM3"
          ],
          [
           "P-0000635",
           "P-0000635-T01-IM3"
          ],
          [
           "P-0000675",
           "P-0000675-T02-IM3"
          ],
          [
           "P-0000699",
           "P-0000699-T01-IM3"
          ],
          [
           "P-0000738",
           "P-0000738-T01-IM3"
          ],
          [
           "P-0000742",
           "P-0000742-T01-IM3"
          ],
          [
           "P-0000762",
           "P-0000762-T01-IM3"
          ],
          [
           "P-0000769",
           "P-0000769-T01-IM3"
          ],
          [
           "P-0000854",
           "P-0000854-T01-IM3"
          ],
          [
           "P-0000911",
           "P-0000911-T01-IM3"
          ],
          [
           "P-0000988",
           "P-0000988-T01-IM3"
          ],
          [
           "P-0000997",
           "P-0000997-T01-IM3"
          ],
          [
           "P-0000997",
           "P-0000997-T02-IM3"
          ],
          [
           "P-0001017",
           "P-0001017-T01-IM3"
          ],
          [
           "P-0001170",
           "P-0001170-T01-IM3"
          ],
          [
           "P-0001200",
           "P-0001200-T01-IM3"
          ],
          [
           "P-0001215",
           "P-0001215-T01-IM3"
          ],
          [
           "P-0001316",
           "P-0001316-T01-IM3"
          ],
          [
           "P-0001317",
           "P-0001317-T01-IM3"
          ],
          [
           "P-0001347",
           "P-0001347-T02-IM5"
          ],
          [
           "P-0001391",
           "P-0001391-T01-IM3"
          ],
          [
           "P-0001499",
           "P-0001499-T01-IM3"
          ],
          [
           "P-0001525",
           "P-0001525-T01-IM3"
          ],
          [
           "P-0001531",
           "P-0001531-T01-IM3"
          ],
          [
           "P-0001534",
           "P-0001534-T01-IM3"
          ],
          [
           "P-0001640",
           "P-0001640-T01-IM3"
          ],
          [
           "P-0001640",
           "P-0001640-T02-IM5"
          ],
          [
           "P-0001647",
           "P-0001647-T01-IM3"
          ],
          [
           "P-0001662",
           "P-0001662-T01-IM3"
          ],
          [
           "P-0001670",
           "P-0001670-T01-IM3"
          ],
          [
           "P-0001690",
           "P-0001690-T01-IM3"
          ],
          [
           "P-0001769",
           "P-0001769-T01-IM3"
          ],
          [
           "P-0001807",
           "P-0001807-T01-IM3"
          ],
          [
           "P-0001808",
           "P-0001808-T01-IM3"
          ],
          [
           "P-0001864",
           "P-0001864-T01-IM3"
          ],
          [
           "P-0001909",
           "P-0001909-T01-IM3"
          ],
          [
           "P-0001923",
           "P-0001923-T01-IM3"
          ],
          [
           "P-0001949",
           "P-0001949-T01-IM3"
          ],
          [
           "P-0001964",
           "P-0001964-T01-IM3"
          ],
          [
           "P-0002042",
           "P-0002042-T01-IM3"
          ],
          [
           "P-0002057",
           "P-0002057-T01-IM3"
          ],
          [
           "P-0002070",
           "P-0002070-T01-IM3"
          ],
          [
           "P-0002078",
           "P-0002078-T01-IM3"
          ],
          [
           "P-0002102",
           "P-0002102-T01-IM3"
          ],
          [
           "P-0002164",
           "P-0002164-T01-IM3"
          ],
          [
           "P-0002413",
           "P-0002413-T01-IM3"
          ],
          [
           "P-0002442",
           "P-0002442-T01-IM3"
          ],
          [
           "P-0002488",
           "P-0002488-T01-IM3"
          ],
          [
           "P-0002512",
           "P-0002512-T02-IM5"
          ],
          [
           "P-0002542",
           "P-0002542-T01-IM3"
          ],
          [
           "P-0002673",
           "P-0002673-T01-IM3"
          ],
          [
           "P-0002678",
           "P-0002678-T01-IM3"
          ],
          [
           "P-0002721",
           "P-0002721-T01-IM3"
          ],
          [
           "P-0002724",
           "P-0002724-T01-IM3"
          ],
          [
           "P-0002728",
           "P-0002728-T01-IM3"
          ],
          [
           "P-0002730",
           "P-0002730-T01-IM3"
          ],
          [
           "P-0002770",
           "P-0002770-T01-IM3"
          ],
          [
           "P-0002778",
           "P-0002778-T01-IM3"
          ],
          [
           "P-0002788",
           "P-0002788-T01-IM3"
          ],
          [
           "P-0002792",
           "P-0002792-T01-IM3"
          ],
          [
           "P-0002804",
           "P-0002804-T01-IM3"
          ],
          [
           "P-0002835",
           "P-0002835-T01-IM3"
          ],
          [
           "P-0002884",
           "P-0002884-T01-IM3"
          ],
          [
           "P-0002951",
           "P-0002951-T01-IM3"
          ],
          [
           "P-0002994",
           "P-0002994-T01-IM3"
          ],
          [
           "P-0003011",
           "P-0003011-T01-IM3"
          ],
          [
           "P-0003046",
           "P-0003046-T01-IM3"
          ],
          [
           "P-0003077",
           "P-0003077-T01-IM5"
          ],
          [
           "P-0003130",
           "P-0003130-T01-IM5"
          ],
          [
           "P-0003183",
           "P-0003183-T01-IM5"
          ],
          [
           "P-0003184",
           "P-0003184-T01-IM5"
          ],
          [
           "P-0003254",
           "P-0003254-T01-IM5"
          ],
          [
           "P-0003284",
           "P-0003284-T01-IM5"
          ],
          [
           "P-0003301",
           "P-0003301-T01-IM5"
          ],
          [
           "P-0003365",
           "P-0003365-T01-IM5"
          ],
          [
           "P-0003437",
           "P-0003437-T01-IM5"
          ],
          [
           "P-0003499",
           "P-0003499-T01-IM5"
          ],
          [
           "P-0003501",
           "P-0003501-T01-IM5"
          ],
          [
           "P-0003575",
           "P-0003575-T01-IM5"
          ],
          [
           "P-0003582",
           "P-0003582-T01-IM5"
          ],
          [
           "P-0003662",
           "P-0003662-T01-IM5"
          ],
          [
           "P-0003710",
           "P-0003710-T01-IM5"
          ],
          [
           "P-0003755",
           "P-0003755-T01-IM5"
          ],
          [
           "P-0003756",
           "P-0003756-T01-IM5"
          ],
          [
           "P-0003789",
           "P-0003789-T01-IM5"
          ],
          [
           "P-0003793",
           "P-0003793-T01-IM5"
          ],
          [
           "P-0003807",
           "P-0003807-T01-IM5"
          ],
          [
           "P-0003839",
           "P-0003839-T01-IM5"
          ],
          [
           "P-0003990",
           "P-0003990-T01-IM3"
          ],
          [
           "P-0003999",
           "P-0003999-T01-IM5"
          ],
          [
           "P-0004007",
           "P-0004007-T01-IM3"
          ],
          [
           "P-0004007",
           "P-0004007-T02-IM3"
          ],
          [
           "P-0004018",
           "P-0004018-T01-IM3"
          ],
          [
           "P-0004140",
           "P-0004140-T01-IM5"
          ],
          [
           "P-0004140",
           "P-0004140-T02-IM5"
          ],
          [
           "P-0004140",
           "P-0004140-T03-IM5"
          ],
          [
           "P-0004322",
           "P-0004322-T01-IM5"
          ],
          [
           "P-0004350",
           "P-0004350-T01-IM5"
          ],
          [
           "P-0004369",
           "P-0004369-T01-IM5"
          ],
          [
           "P-0004401",
           "P-0004401-T01-IM5"
          ],
          [
           "P-0004441",
           "P-0004441-T01-IM5"
          ],
          [
           "P-0004486",
           "P-0004486-T01-IM5"
          ],
          [
           "P-0004566",
           "P-0004566-T01-IM5"
          ],
          [
           "P-0004626",
           "P-0004626-T01-IM5"
          ],
          [
           "P-0004679",
           "P-0004679-T01-IM5"
          ],
          [
           "P-0004690",
           "P-0004690-T01-IM5"
          ],
          [
           "P-0004697",
           "P-0004697-T01-IM5"
          ],
          [
           "P-0004698",
           "P-0004698-T01-IM5"
          ],
          [
           "P-0004775",
           "P-0004775-T01-IM5"
          ],
          [
           "P-0004781",
           "P-0004781-T01-IM5"
          ],
          [
           "P-0004792",
           "P-0004792-T01-IM5"
          ],
          [
           "P-0004798",
           "P-0004798-T01-IM5"
          ],
          [
           "P-0004845",
           "P-0004845-T01-IM5"
          ],
          [
           "P-0004865",
           "P-0004865-T01-IM5"
          ],
          [
           "P-0004928",
           "P-0004928-T01-IM5"
          ],
          [
           "P-0004957",
           "P-0004957-T01-IM5"
          ],
          [
           "P-0004960",
           "P-0004960-T01-IM5"
          ],
          [
           "P-0004967",
           "P-0004967-T01-IM5"
          ],
          [
           "P-0004968",
           "P-0004968-T01-IM5"
          ],
          [
           "P-0005003",
           "P-0005003-T01-IM5"
          ],
          [
           "P-0005102",
           "P-0005102-T01-IM5"
          ],
          [
           "P-0005103",
           "P-0005103-T01-IM5"
          ],
          [
           "P-0005163",
           "P-0005163-T01-IM5"
          ],
          [
           "P-0005172",
           "P-0005172-T01-IM5"
          ],
          [
           "P-0005189",
           "P-0005189-T01-IM5"
          ],
          [
           "P-0005200",
           "P-0005200-T01-IM5"
          ],
          [
           "P-0005207",
           "P-0005207-T01-IM5"
          ],
          [
           "P-0005210",
           "P-0005210-T01-IM5"
          ],
          [
           "P-0005298",
           "P-0005298-T01-IM5"
          ],
          [
           "P-0005343",
           "P-0005343-T01-IM5"
          ],
          [
           "P-0005381",
           "P-0005381-T01-IM5"
          ],
          [
           "P-0005439",
           "P-0005439-T01-IM5"
          ],
          [
           "P-0005487",
           "P-0005487-T01-IM5"
          ],
          [
           "P-0005502",
           "P-0005502-T01-IM5"
          ],
          [
           "P-0005569",
           "P-0005569-T01-IM5"
          ],
          [
           "P-0005589",
           "P-0005589-T01-IM5"
          ],
          [
           "P-0005634",
           "P-0005634-T01-IM5"
          ],
          [
           "P-0005715",
           "P-0005715-T01-IM5"
          ],
          [
           "P-0005776",
           "P-0005776-T02-IM5"
          ],
          [
           "P-0005788",
           "P-0005788-T01-IM5"
          ],
          [
           "P-0005801",
           "P-0005801-T01-IM5"
          ],
          [
           "P-0005824",
           "P-0005824-T01-IM5"
          ],
          [
           "P-0005833",
           "P-0005833-T01-IM5"
          ],
          [
           "P-0005908",
           "P-0005908-T01-IM5"
          ],
          [
           "P-0005938",
           "P-0005938-T01-IM5"
          ],
          [
           "P-0005949",
           "P-0005949-T01-IM5"
          ],
          [
           "P-0005961",
           "P-0005961-T01-IM5"
          ],
          [
           "P-0005998",
           "P-0005998-T01-IM5"
          ],
          [
           "P-0006023",
           "P-0006023-T02-IM5"
          ],
          [
           "P-0006110",
           "P-0006110-T01-IM5"
          ],
          [
           "P-0006118",
           "P-0006118-T02-IM5"
          ],
          [
           "P-0006138",
           "P-0006138-T01-IM5"
          ],
          [
           "P-0006181",
           "P-0006181-T01-IM5"
          ],
          [
           "P-0006183",
           "P-0006183-T01-IM5"
          ],
          [
           "P-0006202",
           "P-0006202-T01-IM5"
          ],
          [
           "P-0006213",
           "P-0006213-T01-IM5"
          ],
          [
           "P-0006271",
           "P-0006271-T01-IM5"
          ],
          [
           "P-0006272",
           "P-0006272-T01-IM5"
          ],
          [
           "P-0006275",
           "P-0006275-T01-IM5"
          ],
          [
           "P-0006329",
           "P-0006329-T01-IM5"
          ],
          [
           "P-0006460",
           "P-0006460-T01-IM5"
          ],
          [
           "P-0006469",
           "P-0006469-T01-IM5"
          ],
          [
           "P-0006564",
           "P-0006564-T01-IM5"
          ],
          [
           "P-0006587",
           "P-0006587-T01-IM5"
          ],
          [
           "P-0006592",
           "P-0006592-T01-IM5"
          ],
          [
           "P-0006616",
           "P-0006616-T01-IM5"
          ],
          [
           "P-0006646",
           "P-0006646-T01-IM5"
          ],
          [
           "P-0006647",
           "P-0006647-T01-IM5"
          ],
          [
           "P-0006669",
           "P-0006669-T01-IM5"
          ],
          [
           "P-0006686",
           "P-0006686-T01-IM5"
          ],
          [
           "P-0006693",
           "P-0006693-T01-IM5"
          ],
          [
           "P-0006701",
           "P-0006701-T01-IM5"
          ],
          [
           "P-0006715",
           "P-0006715-T01-IM5"
          ],
          [
           "P-0006735",
           "P-0006735-T01-IM5"
          ],
          [
           "P-0006737",
           "P-0006737-T01-IM5"
          ],
          [
           "P-0006744",
           "P-0006744-T01-IM5"
          ],
          [
           "P-0006750",
           "P-0006750-T01-IM5"
          ],
          [
           "P-0006758",
           "P-0006758-T01-IM5"
          ],
          [
           "P-0006770",
           "P-0006770-T01-IM5"
          ],
          [
           "P-0006825",
           "P-0006825-T01-IM5"
          ],
          [
           "P-0006865",
           "P-0006865-T01-IM5"
          ],
          [
           "P-0006872",
           "P-0006872-T01-IM5"
          ],
          [
           "P-0006909",
           "P-0006909-T01-IM5"
          ],
          [
           "P-0006981",
           "P-0006981-T01-IM5"
          ],
          [
           "P-0006983",
           "P-0006983-T01-IM5"
          ],
          [
           "P-0007066",
           "P-0007066-T01-IM5"
          ],
          [
           "P-0007079",
           "P-0007079-T01-IM5"
          ],
          [
           "P-0007090",
           "P-0007090-T02-IM5"
          ],
          [
           "P-0007092",
           "P-0007092-T01-IM5"
          ],
          [
           "P-0007112",
           "P-0007112-T01-IM5"
          ],
          [
           "P-0007120",
           "P-0007120-T01-IM5"
          ],
          [
           "P-0007120",
           "P-0007120-T02-IM5"
          ],
          [
           "P-0007126",
           "P-0007126-T01-IM5"
          ],
          [
           "P-0007126",
           "P-0007126-T02-IM5"
          ],
          [
           "P-0007135",
           "P-0007135-T01-IM5"
          ],
          [
           "P-0007140",
           "P-0007140-T01-IM5"
          ],
          [
           "P-0007144",
           "P-0007144-T01-IM5"
          ],
          [
           "P-0007162",
           "P-0007162-T01-IM5"
          ],
          [
           "P-0007180",
           "P-0007180-T01-IM5"
          ],
          [
           "P-0007214",
           "P-0007214-T01-IM5"
          ],
          [
           "P-0007216",
           "P-0007216-T01-IM5"
          ],
          [
           "P-0007226",
           "P-0007226-T01-IM5"
          ],
          [
           "P-0007272",
           "P-0007272-T01-IM5"
          ],
          [
           "P-0007279",
           "P-0007279-T01-IM5"
          ],
          [
           "P-0007294",
           "P-0007294-T01-IM5"
          ],
          [
           "P-0007303",
           "P-0007303-T01-IM5"
          ],
          [
           "P-0007305",
           "P-0007305-T01-IM5"
          ],
          [
           "P-0007334",
           "P-0007334-T01-IM5"
          ],
          [
           "P-0007373",
           "P-0007373-T01-IM5"
          ],
          [
           "P-0007377",
           "P-0007377-T02-IM5"
          ],
          [
           "P-0007391",
           "P-0007391-T01-IM5"
          ],
          [
           "P-0007410",
           "P-0007410-T01-IM5"
          ],
          [
           "P-0007419",
           "P-0007419-T01-IM5"
          ],
          [
           "P-0007495",
           "P-0007495-T01-IM5"
          ],
          [
           "P-0007541",
           "P-0007541-T01-IM5"
          ],
          [
           "P-0007548",
           "P-0007548-T01-IM5"
          ],
          [
           "P-0007581",
           "P-0007581-T01-IM5"
          ],
          [
           "P-0007586",
           "P-0007586-T01-IM5"
          ],
          [
           "P-0007592",
           "P-0007592-T01-IM5"
          ],
          [
           "P-0007637",
           "P-0007637-T01-IM5"
          ],
          [
           "P-0007645",
           "P-0007645-T01-IM5"
          ],
          [
           "P-0007654",
           "P-0007654-T01-IM5"
          ],
          [
           "P-0007664",
           "P-0007664-T01-IM5"
          ],
          [
           "P-0007683",
           "P-0007683-T01-IM5"
          ],
          [
           "P-0007686",
           "P-0007686-T01-IM5"
          ],
          [
           "P-0007804",
           "P-0007804-T01-IM5"
          ],
          [
           "P-0007863",
           "P-0007863-T01-IM5"
          ],
          [
           "P-0007866",
           "P-0007866-T01-IM5"
          ],
          [
           "P-0007887",
           "P-0007887-T01-IM5"
          ],
          [
           "P-0007975",
           "P-0007975-T01-IM5"
          ],
          [
           "P-0007979",
           "P-0007979-T01-IM5"
          ],
          [
           "P-0007998",
           "P-0007998-T01-IM5"
          ],
          [
           "P-0007998",
           "P-0007998-T02-IM5"
          ],
          [
           "P-0008019",
           "P-0008019-T01-IM5"
          ],
          [
           "P-0008022",
           "P-0008022-T02-IM5"
          ],
          [
           "P-0008031",
           "P-0008031-T01-IM5"
          ],
          [
           "P-0008042",
           "P-0008042-T01-IM5"
          ],
          [
           "P-0008063",
           "P-0008063-T01-IM5"
          ],
          [
           "P-0008079",
           "P-0008079-T01-IM5"
          ],
          [
           "P-0008094",
           "P-0008094-T01-IM5"
          ],
          [
           "P-0008128",
           "P-0008128-T01-IM5"
          ],
          [
           "P-0008173",
           "P-0008173-T01-IM5"
          ],
          [
           "P-0008283",
           "P-0008283-T01-IM5"
          ],
          [
           "P-0008288",
           "P-0008288-T01-IM5"
          ],
          [
           "P-0008321",
           "P-0008321-T01-IM5"
          ],
          [
           "P-0008377",
           "P-0008377-T01-IM5"
          ],
          [
           "P-0008429",
           "P-0008429-T01-IM5"
          ],
          [
           "P-0008429",
           "P-0008429-T02-IM5"
          ],
          [
           "P-0008534",
           "P-0008534-T01-IM5"
          ],
          [
           "P-0008541",
           "P-0008541-T01-IM5"
          ],
          [
           "P-0008551",
           "P-0008551-T01-IM5"
          ],
          [
           "P-0008690",
           "P-0008690-T01-IM5"
          ],
          [
           "P-0008753",
           "P-0008753-T01-IM5"
          ],
          [
           "P-0008819",
           "P-0008819-T01-IM5"
          ],
          [
           "P-0008853",
           "P-0008853-T01-IM5"
          ],
          [
           "P-0008913",
           "P-0008913-T01-IM5"
          ],
          [
           "P-0008941",
           "P-0008941-T01-IM5"
          ],
          [
           "P-0009062",
           "P-0009062-T01-IM5"
          ],
          [
           "P-0009114",
           "P-0009114-T01-IM5"
          ],
          [
           "P-0009121",
           "P-0009121-T01-IM5"
          ],
          [
           "P-0009139",
           "P-0009139-T01-IM5"
          ],
          [
           "P-0009142",
           "P-0009142-T01-IM5"
          ],
          [
           "P-0009163",
           "P-0009163-T01-IM5"
          ],
          [
           "P-0009167",
           "P-0009167-T01-IM5"
          ],
          [
           "P-0009169",
           "P-0009169-T01-IM5"
          ],
          [
           "P-0009185",
           "P-0009185-T01-IM5"
          ],
          [
           "P-0009224",
           "P-0009224-T02-IM5"
          ],
          [
           "P-0009252",
           "P-0009252-T01-IM5"
          ],
          [
           "P-0009302",
           "P-0009302-T01-IM5"
          ],
          [
           "P-0009303",
           "P-0009303-T01-IM5"
          ],
          [
           "P-0009362",
           "P-0009362-T01-IM5"
          ],
          [
           "P-0009445",
           "P-0009445-T01-IM5"
          ],
          [
           "P-0009561",
           "P-0009561-T01-IM5"
          ],
          [
           "P-0009650",
           "P-0009650-T01-IM5"
          ],
          [
           "P-0009690",
           "P-0009690-T01-IM5"
          ],
          [
           "P-0009707",
           "P-0009707-T01-IM5"
          ],
          [
           "P-0009712",
           "P-0009712-T01-IM5"
          ],
          [
           "P-0009798",
           "P-0009798-T01-IM5"
          ],
          [
           "P-0009871",
           "P-0009871-T01-IM5"
          ],
          [
           "P-0009972",
           "P-0009972-T01-IM5"
          ],
          [
           "P-0010009",
           "P-0010009-T01-IM5"
          ],
          [
           "P-0010118",
           "P-0010118-T01-IM5"
          ],
          [
           "P-0010139",
           "P-0010139-T01-IM5"
          ],
          [
           "P-0010160",
           "P-0010160-T01-IM5"
          ],
          [
           "P-0010207",
           "P-0010207-T01-IM5"
          ],
          [
           "P-0010243",
           "P-0010243-T01-IM5"
          ],
          [
           "P-0010268",
           "P-0010268-T01-IM5"
          ],
          [
           "P-0010367",
           "P-0010367-T01-IM5"
          ],
          [
           "P-0010425",
           "P-0010425-T01-IM5"
          ],
          [
           "P-0010432",
           "P-0010432-T01-IM5"
          ],
          [
           "P-0010506",
           "P-0010506-T01-IM5"
          ],
          [
           "P-0010535",
           "P-0010535-T01-IM5"
          ],
          [
           "P-0010599",
           "P-0010599-T01-IM5"
          ],
          [
           "P-0010673",
           "P-0010673-T01-IM5"
          ],
          [
           "P-0010710",
           "P-0010710-T01-IM5"
          ],
          [
           "P-0010734",
           "P-0010734-T01-IM5"
          ],
          [
           "P-0010781",
           "P-0010781-T01-IM5"
          ],
          [
           "P-0010898",
           "P-0010898-T01-IM5"
          ],
          [
           "P-0010965",
           "P-0010965-T01-IM5"
          ],
          [
           "P-0010966",
           "P-0010966-T01-IM5"
          ],
          [
           "P-0010968",
           "P-0010968-T01-IM5"
          ],
          [
           "P-0010985",
           "P-0010985-T01-IM5"
          ],
          [
           "P-0011014",
           "P-0011014-T01-IM5"
          ],
          [
           "P-0011027",
           "P-0011027-T01-IM5"
          ],
          [
           "P-0011110",
           "P-0011110-T01-IM5"
          ],
          [
           "P-0011158",
           "P-0011158-T01-IM5"
          ],
          [
           "P-0011258",
           "P-0011258-T01-IM5"
          ],
          [
           "P-0011259",
           "P-0011259-T01-IM5"
          ],
          [
           "P-0011283",
           "P-0011283-T01-IM5"
          ],
          [
           "P-0011296",
           "P-0011296-T01-IM5"
          ],
          [
           "P-0011300",
           "P-0011300-T01-IM5"
          ],
          [
           "P-0011306",
           "P-0011306-T01-IM5"
          ],
          [
           "P-0011347",
           "P-0011347-T01-IM5"
          ],
          [
           "P-0011357",
           "P-0011357-T01-IM5"
          ],
          [
           "P-0011366",
           "P-0011366-T01-IM5"
          ],
          [
           "P-0011396",
           "P-0011396-T01-IM5"
          ],
          [
           "P-0011468",
           "P-0011468-T01-IM5"
          ],
          [
           "P-0011512",
           "P-0011512-T01-IM5"
          ],
          [
           "P-0011563",
           "P-0011563-T01-IM5"
          ],
          [
           "P-0011603",
           "P-0011603-T03-IM5"
          ],
          [
           "P-0012032",
           "P-0012032-T01-IM5"
          ],
          [
           "P-0012074",
           "P-0012074-T01-IM5"
          ],
          [
           "P-0012133",
           "P-0012133-T01-IM5"
          ],
          [
           "P-0012268",
           "P-0012268-T01-IM5"
          ],
          [
           "P-0012281",
           "P-0012281-T01-IM5"
          ],
          [
           "P-0012340",
           "P-0012340-T01-IM5"
          ],
          [
           "P-0012384",
           "P-0012384-T01-IM5"
          ],
          [
           "P-0012389",
           "P-0012389-T01-IM5"
          ],
          [
           "P-0012402",
           "P-0012402-T01-IM5"
          ],
          [
           "P-0012419",
           "P-0012419-T01-IM5"
          ],
          [
           "P-0012447",
           "P-0012447-T01-IM5"
          ],
          [
           "P-0012623",
           "P-0012623-T01-IM5"
          ],
          [
           "P-0012653",
           "P-0012653-T01-IM5"
          ],
          [
           "P-0012653",
           "P-0012653-T02-IM5"
          ],
          [
           "P-0012683",
           "P-0012683-T01-IM5"
          ],
          [
           "P-0012685",
           "P-0012685-T01-IM5"
          ],
          [
           "P-0012738",
           "P-0012738-T01-IM5"
          ],
          [
           "P-0012781",
           "P-0012781-T01-IM5"
          ],
          [
           "P-0012823",
           "P-0012823-T01-IM5"
          ],
          [
           "P-0012823",
           "P-0012823-T02-IM5"
          ],
          [
           "P-0012878",
           "P-0012878-T01-IM5"
          ],
          [
           "P-0012900",
           "P-0012900-T01-IM5"
          ],
          [
           "P-0013062",
           "P-0013062-T01-IM5"
          ],
          [
           "P-0013087",
           "P-0013087-T01-IM5"
          ],
          [
           "P-0013088",
           "P-0013088-T01-IM5"
          ],
          [
           "P-0013096",
           "P-0013096-T01-IM5"
          ],
          [
           "P-0013103",
           "P-0013103-T01-IM5"
          ],
          [
           "P-0013144",
           "P-0013144-T01-IM5"
          ],
          [
           "P-0013156",
           "P-0013156-T01-IM5"
          ],
          [
           "P-0013201",
           "P-0013201-T01-IM5"
          ],
          [
           "P-0013258",
           "P-0013258-T01-IM5"
          ],
          [
           "P-0013263",
           "P-0013263-T01-IM5"
          ],
          [
           "P-0013277",
           "P-0013277-T01-IM5"
          ],
          [
           "P-0013285",
           "P-0013285-T01-IM5"
          ],
          [
           "P-0013395",
           "P-0013395-T01-IM5"
          ],
          [
           "P-0013397",
           "P-0013397-T01-IM5"
          ],
          [
           "P-0013407",
           "P-0013407-T01-IM5"
          ],
          [
           "P-0013594",
           "P-0013594-T01-IM5"
          ],
          [
           "P-0013648",
           "P-0013648-T01-IM5"
          ],
          [
           "P-0013758",
           "P-0013758-T01-IM5"
          ],
          [
           "P-0013786",
           "P-0013786-T01-IM5"
          ],
          [
           "P-0013788",
           "P-0013788-T01-IM5"
          ],
          [
           "P-0013799",
           "P-0013799-T01-IM5"
          ],
          [
           "P-0013828",
           "P-0013828-T01-IM5"
          ],
          [
           "P-0013894",
           "P-0013894-T01-IM5"
          ],
          [
           "P-0013907",
           "P-0013907-T01-IM5"
          ],
          [
           "P-0013955",
           "P-0013955-T01-IM5"
          ],
          [
           "P-0013963",
           "P-0013963-T01-IM5"
          ],
          [
           "P-0014020",
           "P-0014020-T01-IM5"
          ],
          [
           "P-0014042",
           "P-0014042-T01-IM5"
          ],
          [
           "P-0014182",
           "P-0014182-T01-IM6"
          ],
          [
           "P-0014190",
           "P-0014190-T01-IM6"
          ],
          [
           "P-0014195",
           "P-0014195-T01-IM6"
          ],
          [
           "P-0014252",
           "P-0014252-T01-IM6"
          ],
          [
           "P-0014415",
           "P-0014415-T01-IM6"
          ]
         ],
         "hovertemplate": "color=('Male', 'MSS')<br>AGE_AT_DIAGNOSIS=%{x}<br>OS_MONTHS=%{y}<br>PATIENT_ID=%{customdata[0]}<br>SAMPLE_ID=%{customdata[1]}<extra></extra>",
         "legendgroup": "('Male', 'MSS')",
         "marker": {
          "color": "#636efa",
          "symbol": "circle"
         },
         "mode": "markers",
         "name": "('Male', 'MSS')",
         "orientation": "v",
         "showlegend": true,
         "type": "scatter",
         "x": [
          64,
          65,
          54,
          41,
          49,
          43,
          63,
          50,
          56,
          49,
          58,
          78,
          78,
          46,
          63,
          45,
          45,
          49,
          27,
          44,
          65,
          35,
          61,
          40,
          46,
          55,
          55,
          40,
          63,
          72,
          44,
          77,
          60,
          54,
          63,
          53,
          63,
          39,
          47,
          44,
          60,
          60,
          20,
          51,
          69,
          51,
          59,
          64,
          55,
          65,
          53,
          37,
          64,
          50,
          52,
          49,
          31,
          54,
          58,
          57,
          47,
          60,
          46,
          62,
          29,
          49,
          55,
          33,
          31,
          72,
          44,
          30,
          26,
          49,
          45,
          46,
          51,
          59,
          38,
          34,
          53,
          42,
          42,
          61,
          71,
          49,
          53,
          59,
          34,
          63,
          48,
          48,
          59,
          59,
          59,
          59,
          42,
          34,
          48,
          48,
          59,
          43,
          56,
          64,
          64,
          68,
          65,
          37,
          49,
          50,
          59,
          47,
          48,
          55,
          50,
          60,
          50,
          53,
          46,
          56,
          35,
          69,
          48,
          59,
          41,
          71,
          72,
          64,
          57,
          62,
          36,
          45,
          54,
          58,
          54,
          41,
          31,
          38,
          57,
          52,
          48,
          24,
          52,
          48,
          67,
          48,
          45,
          43,
          76,
          70,
          67,
          42,
          61,
          60,
          25,
          47,
          46,
          71,
          45,
          56,
          60,
          65,
          58,
          50,
          51,
          50,
          67,
          52,
          42,
          58,
          35,
          55,
          43,
          69,
          39,
          50,
          48,
          47,
          45,
          78,
          37,
          50,
          83,
          38,
          63,
          41,
          67,
          47,
          48,
          45,
          54,
          54,
          46,
          46,
          37,
          67,
          34,
          69,
          48,
          53,
          48,
          43,
          47,
          37,
          52,
          52,
          36,
          63,
          65,
          45,
          47,
          33,
          40,
          78,
          69,
          67,
          57,
          45,
          51,
          49,
          84,
          49,
          48,
          54,
          32,
          48,
          34,
          69,
          58,
          71,
          56,
          67,
          67,
          32,
          50,
          43,
          42,
          40,
          59,
          57,
          59,
          60,
          39,
          53,
          53,
          51,
          61,
          61,
          37,
          39,
          59,
          67,
          60,
          64,
          63,
          66,
          69,
          41,
          49,
          46,
          30,
          58,
          65,
          54,
          32,
          69,
          41,
          26,
          44,
          64,
          69,
          53,
          58,
          29,
          33,
          52,
          48,
          39,
          63,
          36,
          35,
          48,
          37,
          65,
          41,
          31,
          32,
          44,
          65,
          48,
          66,
          49,
          56,
          51,
          26,
          55,
          35,
          80,
          64,
          45,
          64,
          81,
          65,
          53,
          71,
          49,
          57,
          50,
          42,
          51,
          52,
          49,
          43,
          50,
          63,
          54,
          72,
          69,
          39,
          59,
          45,
          62,
          37,
          49,
          35,
          68,
          59,
          40,
          47,
          47,
          46,
          54,
          61,
          61,
          48,
          60,
          38,
          39,
          48,
          48,
          37,
          62,
          45,
          53,
          45,
          33,
          58,
          55,
          44,
          59,
          28,
          45,
          48,
          39,
          73,
          56,
          53,
          51,
          36,
          62,
          60,
          42,
          62,
          58,
          49,
          65,
          52,
          61,
          50,
          78,
          62,
          53,
          35,
          59,
          49
         ],
         "xaxis": "x",
         "y": [
          41.5,
          29.17,
          null,
          57.5,
          54.17,
          54.63,
          65.5,
          125.53,
          45.1,
          30.57,
          29.83,
          31.5,
          31.5,
          42.83,
          28.4,
          45.37,
          31.6,
          40.47,
          35.07,
          42.97,
          41.33,
          17.27,
          48.4,
          35.93,
          36.9,
          36.5,
          36.5,
          32.7,
          16.07,
          null,
          35.2,
          35.4,
          87.87,
          56.47,
          24.7,
          115.3,
          36.6,
          91.77,
          41,
          24.57,
          56.93,
          18.23,
          8.43,
          18.73,
          null,
          35.3,
          35.47,
          65.27,
          20.67,
          31.77,
          49.87,
          2.53,
          63.83,
          32.17,
          33.6,
          29.63,
          58.13,
          38.17,
          9.8,
          34.6,
          33.97,
          68.13,
          14.53,
          33.5,
          30.77,
          null,
          51.2,
          39.77,
          12.9,
          31.87,
          30.37,
          25.07,
          26.4,
          11.7,
          41.27,
          40.93,
          1.9,
          27.17,
          null,
          21.13,
          20.7,
          56.9,
          24.33,
          18.1,
          33.4,
          30.73,
          11,
          38.5,
          35.77,
          30.8,
          8.33,
          8.33,
          25.87,
          45.73,
          45.73,
          45.73,
          42.73,
          41.87,
          null,
          8.03,
          null,
          39.43,
          33.9,
          18.73,
          13.63,
          29.6,
          34.8,
          29.2,
          46.7,
          56.5,
          0,
          12.03,
          11.53,
          null,
          43.27,
          38.87,
          28.83,
          27.7,
          null,
          18.2,
          13.77,
          12.13,
          28.83,
          4.47,
          18.63,
          null,
          23.37,
          32.9,
          null,
          18.53,
          6.7,
          34.23,
          19.03,
          46.23,
          14.43,
          38.47,
          31.3,
          28.37,
          59.93,
          12.07,
          33.6,
          null,
          48.93,
          12.43,
          98.37,
          50.77,
          3.83,
          31.57,
          null,
          12,
          21.87,
          23.6,
          4.03,
          25.7,
          3.43,
          51.6,
          34.73,
          11.37,
          25.7,
          32.07,
          3.17,
          21.83,
          26.7,
          25.87,
          45.5,
          14.23,
          38.37,
          25.53,
          8.3,
          48.1,
          23.2,
          31.1,
          42.1,
          39.93,
          54.73,
          35.37,
          38.8,
          52,
          25.17,
          26.47,
          null,
          5.13,
          null,
          24.1,
          45.57,
          28.53,
          31.07,
          56.43,
          31.63,
          19.03,
          19.83,
          19.83,
          65.57,
          65.57,
          64.43,
          35.83,
          null,
          38.37,
          55.13,
          15,
          82.17,
          40.63,
          31.13,
          60.73,
          44.67,
          51.1,
          30.63,
          39.17,
          39.6,
          31.4,
          35.27,
          64.23,
          24.07,
          null,
          6.33,
          23.73,
          52.5,
          69.83,
          49.47,
          null,
          9.1,
          35.97,
          68.23,
          24.07,
          25.7,
          8.3,
          33.4,
          41.77,
          124,
          31.03,
          6.3,
          22.37,
          22.37,
          null,
          31.07,
          21.87,
          47.5,
          70.5,
          75.97,
          105.87,
          1.27,
          23.73,
          17.77,
          93.73,
          22.87,
          21.67,
          19.23,
          19.23,
          22.43,
          49.4,
          21.8,
          21.97,
          null,
          17.83,
          null,
          null,
          null,
          26.07,
          null,
          12.73,
          8.27,
          23.67,
          24.93,
          20.17,
          23.03,
          37.23,
          21.07,
          8.17,
          27.03,
          5.4,
          24,
          17.53,
          29.17,
          25,
          42.27,
          57.63,
          1.87,
          19.17,
          24.37,
          15.77,
          85.4,
          14.9,
          12.6,
          null,
          20.67,
          null,
          16.97,
          35.03,
          27.6,
          12.7,
          18.1,
          27.3,
          44.2,
          18.77,
          15.5,
          34.33,
          15.8,
          1.3,
          null,
          42.27,
          16.73,
          null,
          19.53,
          null,
          18.57,
          47.57,
          24.97,
          17,
          63.47,
          107,
          18.57,
          20.73,
          null,
          25.33,
          19.77,
          null,
          15.57,
          28.57,
          16.87,
          null,
          21,
          20.27,
          18.2,
          15.43,
          56.7,
          25.07,
          28.97,
          9.07,
          14.13,
          9.97,
          15.73,
          19.3,
          9.77,
          9.77,
          16.37,
          null,
          11.27,
          6.07,
          15.5,
          15.5,
          15.33,
          34.57,
          9.33,
          78.67,
          2.8,
          46.03,
          5.73,
          9.47,
          42.57,
          28,
          17,
          16.23,
          37.87,
          31.7,
          23.6,
          15.37,
          13,
          18.1,
          1.1,
          16.97,
          14.17,
          12.97,
          24.7,
          12.67,
          16.13,
          null,
          10.3,
          7.8,
          14.8,
          7.87,
          44.63,
          13.97,
          7.37,
          55.37,
          24.1
         ],
         "yaxis": "y"
        }
       ],
       "layout": {
        "autosize": true,
        "legend": {
         "title": {
          "text": "color"
         },
         "tracegroupgap": 0
        },
        "margin": {
         "t": 60
        },
        "template": {
         "data": {
          "bar": [
           {
            "error_x": {
             "color": "#2a3f5f"
            },
            "error_y": {
             "color": "#2a3f5f"
            },
            "marker": {
             "line": {
              "color": "#E5ECF6",
              "width": 0.5
             },
             "pattern": {
              "fillmode": "overlay",
              "size": 10,
              "solidity": 0.2
             }
            },
            "type": "bar"
           }
          ],
          "barpolar": [
           {
            "marker": {
             "line": {
              "color": "#E5ECF6",
              "width": 0.5
             },
             "pattern": {
              "fillmode": "overlay",
              "size": 10,
              "solidity": 0.2
             }
            },
            "type": "barpolar"
           }
          ],
          "carpet": [
           {
            "aaxis": {
             "endlinecolor": "#2a3f5f",
             "gridcolor": "white",
             "linecolor": "white",
             "minorgridcolor": "white",
             "startlinecolor": "#2a3f5f"
            },
            "baxis": {
             "endlinecolor": "#2a3f5f",
             "gridcolor": "white",
             "linecolor": "white",
             "minorgridcolor": "white",
             "startlinecolor": "#2a3f5f"
            },
            "type": "carpet"
           }
          ],
          "choropleth": [
           {
            "colorbar": {
             "outlinewidth": 0,
             "ticks": ""
            },
            "type": "choropleth"
           }
          ],
          "contour": [
           {
            "colorbar": {
             "outlinewidth": 0,
             "ticks": ""
            },
            "colorscale": [
             [
              0,
              "#0d0887"
             ],
             [
              0.1111111111111111,
              "#46039f"
             ],
             [
              0.2222222222222222,
              "#7201a8"
             ],
             [
              0.3333333333333333,
              "#9c179e"
             ],
             [
              0.4444444444444444,
              "#bd3786"
             ],
             [
              0.5555555555555556,
              "#d8576b"
             ],
             [
              0.6666666666666666,
              "#ed7953"
             ],
             [
              0.7777777777777778,
              "#fb9f3a"
             ],
             [
              0.8888888888888888,
              "#fdca26"
             ],
             [
              1,
              "#f0f921"
             ]
            ],
            "type": "contour"
           }
          ],
          "contourcarpet": [
           {
            "colorbar": {
             "outlinewidth": 0,
             "ticks": ""
            },
            "type": "contourcarpet"
           }
          ],
          "heatmap": [
           {
            "colorbar": {
             "outlinewidth": 0,
             "ticks": ""
            },
            "colorscale": [
             [
              0,
              "#0d0887"
             ],
             [
              0.1111111111111111,
              "#46039f"
             ],
             [
              0.2222222222222222,
              "#7201a8"
             ],
             [
              0.3333333333333333,
              "#9c179e"
             ],
             [
              0.4444444444444444,
              "#bd3786"
             ],
             [
              0.5555555555555556,
              "#d8576b"
             ],
             [
              0.6666666666666666,
              "#ed7953"
             ],
             [
              0.7777777777777778,
              "#fb9f3a"
             ],
             [
              0.8888888888888888,
              "#fdca26"
             ],
             [
              1,
              "#f0f921"
             ]
            ],
            "type": "heatmap"
           }
          ],
          "heatmapgl": [
           {
            "colorbar": {
             "outlinewidth": 0,
             "ticks": ""
            },
            "colorscale": [
             [
              0,
              "#0d0887"
             ],
             [
              0.1111111111111111,
              "#46039f"
             ],
             [
              0.2222222222222222,
              "#7201a8"
             ],
             [
              0.3333333333333333,
              "#9c179e"
             ],
             [
              0.4444444444444444,
              "#bd3786"
             ],
             [
              0.5555555555555556,
              "#d8576b"
             ],
             [
              0.6666666666666666,
              "#ed7953"
             ],
             [
              0.7777777777777778,
              "#fb9f3a"
             ],
             [
              0.8888888888888888,
              "#fdca26"
             ],
             [
              1,
              "#f0f921"
             ]
            ],
            "type": "heatmapgl"
           }
          ],
          "histogram": [
           {
            "marker": {
             "pattern": {
              "fillmode": "overlay",
              "size": 10,
              "solidity": 0.2
             }
            },
            "type": "histogram"
           }
          ],
          "histogram2d": [
           {
            "colorbar": {
             "outlinewidth": 0,
             "ticks": ""
            },
            "colorscale": [
             [
              0,
              "#0d0887"
             ],
             [
              0.1111111111111111,
              "#46039f"
             ],
             [
              0.2222222222222222,
              "#7201a8"
             ],
             [
              0.3333333333333333,
              "#9c179e"
             ],
             [
              0.4444444444444444,
              "#bd3786"
             ],
             [
              0.5555555555555556,
              "#d8576b"
             ],
             [
              0.6666666666666666,
              "#ed7953"
             ],
             [
              0.7777777777777778,
              "#fb9f3a"
             ],
             [
              0.8888888888888888,
              "#fdca26"
             ],
             [
              1,
              "#f0f921"
             ]
            ],
            "type": "histogram2d"
           }
          ],
          "histogram2dcontour": [
           {
            "colorbar": {
             "outlinewidth": 0,
             "ticks": ""
            },
            "colorscale": [
             [
              0,
              "#0d0887"
             ],
             [
              0.1111111111111111,
              "#46039f"
             ],
             [
              0.2222222222222222,
              "#7201a8"
             ],
             [
              0.3333333333333333,
              "#9c179e"
             ],
             [
              0.4444444444444444,
              "#bd3786"
             ],
             [
              0.5555555555555556,
              "#d8576b"
             ],
             [
              0.6666666666666666,
              "#ed7953"
             ],
             [
              0.7777777777777778,
              "#fb9f3a"
             ],
             [
              0.8888888888888888,
              "#fdca26"
             ],
             [
              1,
              "#f0f921"
             ]
            ],
            "type": "histogram2dcontour"
           }
          ],
          "mesh3d": [
           {
            "colorbar": {
             "outlinewidth": 0,
             "ticks": ""
            },
            "type": "mesh3d"
           }
          ],
          "parcoords": [
           {
            "line": {
             "colorbar": {
              "outlinewidth": 0,
              "ticks": ""
             }
            },
            "type": "parcoords"
           }
          ],
          "pie": [
           {
            "automargin": true,
            "type": "pie"
           }
          ],
          "scatter": [
           {
            "fillpattern": {
             "fillmode": "overlay",
             "size": 10,
             "solidity": 0.2
            },
            "type": "scatter"
           }
          ],
          "scatter3d": [
           {
            "line": {
             "colorbar": {
              "outlinewidth": 0,
              "ticks": ""
             }
            },
            "marker": {
             "colorbar": {
              "outlinewidth": 0,
              "ticks": ""
             }
            },
            "type": "scatter3d"
           }
          ],
          "scattercarpet": [
           {
            "marker": {
             "colorbar": {
              "outlinewidth": 0,
              "ticks": ""
             }
            },
            "type": "scattercarpet"
           }
          ],
          "scattergeo": [
           {
            "marker": {
             "colorbar": {
              "outlinewidth": 0,
              "ticks": ""
             }
            },
            "type": "scattergeo"
           }
          ],
          "scattergl": [
           {
            "marker": {
             "colorbar": {
              "outlinewidth": 0,
              "ticks": ""
             }
            },
            "type": "scattergl"
           }
          ],
          "scattermapbox": [
           {
            "marker": {
             "colorbar": {
              "outlinewidth": 0,
              "ticks": ""
             }
            },
            "type": "scattermapbox"
           }
          ],
          "scatterpolar": [
           {
            "marker": {
             "colorbar": {
              "outlinewidth": 0,
              "ticks": ""
             }
            },
            "type": "scatterpolar"
           }
          ],
          "scatterpolargl": [
           {
            "marker": {
             "colorbar": {
              "outlinewidth": 0,
              "ticks": ""
             }
            },
            "type": "scatterpolargl"
           }
          ],
          "scatterternary": [
           {
            "marker": {
             "colorbar": {
              "outlinewidth": 0,
              "ticks": ""
             }
            },
            "type": "scatterternary"
           }
          ],
          "surface": [
           {
            "colorbar": {
             "outlinewidth": 0,
             "ticks": ""
            },
            "colorscale": [
             [
              0,
              "#0d0887"
             ],
             [
              0.1111111111111111,
              "#46039f"
             ],
             [
              0.2222222222222222,
              "#7201a8"
             ],
             [
              0.3333333333333333,
              "#9c179e"
             ],
             [
              0.4444444444444444,
              "#bd3786"
             ],
             [
              0.5555555555555556,
              "#d8576b"
             ],
             [
              0.6666666666666666,
              "#ed7953"
             ],
             [
              0.7777777777777778,
              "#fb9f3a"
             ],
             [
              0.8888888888888888,
              "#fdca26"
             ],
             [
              1,
              "#f0f921"
             ]
            ],
            "type": "surface"
           }
          ],
          "table": [
           {
            "cells": {
             "fill": {
              "color": "#EBF0F8"
             },
             "line": {
              "color": "white"
             }
            },
            "header": {
             "fill": {
              "color": "#C8D4E3"
             },
             "line": {
              "color": "white"
             }
            },
            "type": "table"
           }
          ]
         },
         "layout": {
          "annotationdefaults": {
           "arrowcolor": "#2a3f5f",
           "arrowhead": 0,
           "arrowwidth": 1
          },
          "autotypenumbers": "strict",
          "coloraxis": {
           "colorbar": {
            "outlinewidth": 0,
            "ticks": ""
           }
          },
          "colorscale": {
           "diverging": [
            [
             0,
             "#8e0152"
            ],
            [
             0.1,
             "#c51b7d"
            ],
            [
             0.2,
             "#de77ae"
            ],
            [
             0.3,
             "#f1b6da"
            ],
            [
             0.4,
             "#fde0ef"
            ],
            [
             0.5,
             "#f7f7f7"
            ],
            [
             0.6,
             "#e6f5d0"
            ],
            [
             0.7,
             "#b8e186"
            ],
            [
             0.8,
             "#7fbc41"
            ],
            [
             0.9,
             "#4d9221"
            ],
            [
             1,
             "#276419"
            ]
           ],
           "sequential": [
            [
             0,
             "#0d0887"
            ],
            [
             0.1111111111111111,
             "#46039f"
            ],
            [
             0.2222222222222222,
             "#7201a8"
            ],
            [
             0.3333333333333333,
             "#9c179e"
            ],
            [
             0.4444444444444444,
             "#bd3786"
            ],
            [
             0.5555555555555556,
             "#d8576b"
            ],
            [
             0.6666666666666666,
             "#ed7953"
            ],
            [
             0.7777777777777778,
             "#fb9f3a"
            ],
            [
             0.8888888888888888,
             "#fdca26"
            ],
            [
             1,
             "#f0f921"
            ]
           ],
           "sequentialminus": [
            [
             0,
             "#0d0887"
            ],
            [
             0.1111111111111111,
             "#46039f"
            ],
            [
             0.2222222222222222,
             "#7201a8"
            ],
            [
             0.3333333333333333,
             "#9c179e"
            ],
            [
             0.4444444444444444,
             "#bd3786"
            ],
            [
             0.5555555555555556,
             "#d8576b"
            ],
            [
             0.6666666666666666,
             "#ed7953"
            ],
            [
             0.7777777777777778,
             "#fb9f3a"
            ],
            [
             0.8888888888888888,
             "#fdca26"
            ],
            [
             1,
             "#f0f921"
            ]
           ]
          },
          "colorway": [
           "#636efa",
           "#EF553B",
           "#00cc96",
           "#ab63fa",
           "#FFA15A",
           "#19d3f3",
           "#FF6692",
           "#B6E880",
           "#FF97FF",
           "#FECB52"
          ],
          "font": {
           "color": "#2a3f5f"
          },
          "geo": {
           "bgcolor": "white",
           "lakecolor": "white",
           "landcolor": "#E5ECF6",
           "showlakes": true,
           "showland": true,
           "subunitcolor": "white"
          },
          "hoverlabel": {
           "align": "left"
          },
          "hovermode": "closest",
          "mapbox": {
           "style": "light"
          },
          "paper_bgcolor": "white",
          "plot_bgcolor": "#E5ECF6",
          "polar": {
           "angularaxis": {
            "gridcolor": "white",
            "linecolor": "white",
            "ticks": ""
           },
           "bgcolor": "#E5ECF6",
           "radialaxis": {
            "gridcolor": "white",
            "linecolor": "white",
            "ticks": ""
           }
          },
          "scene": {
           "xaxis": {
            "backgroundcolor": "#E5ECF6",
            "gridcolor": "white",
            "gridwidth": 2,
            "linecolor": "white",
            "showbackground": true,
            "ticks": "",
            "zerolinecolor": "white"
           },
           "yaxis": {
            "backgroundcolor": "#E5ECF6",
            "gridcolor": "white",
            "gridwidth": 2,
            "linecolor": "white",
            "showbackground": true,
            "ticks": "",
            "zerolinecolor": "white"
           },
           "zaxis": {
            "backgroundcolor": "#E5ECF6",
            "gridcolor": "white",
            "gridwidth": 2,
            "linecolor": "white",
            "showbackground": true,
            "ticks": "",
            "zerolinecolor": "white"
           }
          },
          "shapedefaults": {
           "line": {
            "color": "#2a3f5f"
           }
          },
          "ternary": {
           "aaxis": {
            "gridcolor": "white",
            "linecolor": "white",
            "ticks": ""
           },
           "baxis": {
            "gridcolor": "white",
            "linecolor": "white",
            "ticks": ""
           },
           "bgcolor": "#E5ECF6",
           "caxis": {
            "gridcolor": "white",
            "linecolor": "white",
            "ticks": ""
           }
          },
          "title": {
           "x": 0.05
          },
          "xaxis": {
           "automargin": true,
           "gridcolor": "white",
           "linecolor": "white",
           "ticks": "",
           "title": {
            "standoff": 15
           },
           "zerolinecolor": "white",
           "zerolinewidth": 2
          },
          "yaxis": {
           "automargin": true,
           "gridcolor": "white",
           "linecolor": "white",
           "ticks": "",
           "title": {
            "standoff": 15
           },
           "zerolinecolor": "white",
           "zerolinewidth": 2
          }
         }
        },
        "xaxis": {
         "anchor": "y",
         "autorange": true,
         "domain": [
          0,
          1
         ],
         "range": [
          16.091149973502915,
          87.90885002649709
         ],
         "title": {
          "text": "AGE_AT_DIAGNOSIS"
         },
         "type": "linear"
        },
        "yaxis": {
         "anchor": "x",
         "autorange": true,
         "domain": [
          0,
          1
         ],
         "range": [
          -9.719514435695539,
          135.24951443569554
         ],
         "title": {
          "text": "OS_MONTHS"
         },
         "type": "linear"
        }
       }
      },
      "image/png": "[encoded data removed]",
      "text/html": [
       "<div>                            <div id=\"8fbc3e5b-55c6-4cb3-af76-39115dc441bb\" class=\"plotly-graph-div\" style=\"height:525px; width:100%;\"></div>            <script type=\"text/javascript\">                require([\"plotly\"], function(Plotly) {                    window.PLOTLYENV=window.PLOTLYENV || {};                                    if (document.getElementById(\"8fbc3e5b-55c6-4cb3-af76-39115dc441bb\")) {                    Plotly.newPlot(                        \"8fbc3e5b-55c6-4cb3-af76-39115dc441bb\",                        [{\"customdata\":[[\"P-0000520\",\"P-0000520-T01-IM3\"],[\"P-0000635\",\"P-0000635-T01-IM3\"],[\"P-0000675\",\"P-0000675-T02-IM3\"],[\"P-0000699\",\"P-0000699-T01-IM3\"],[\"P-0000738\",\"P-0000738-T01-IM3\"],[\"P-0000742\",\"P-0000742-T01-IM3\"],[\"P-0000762\",\"P-0000762-T01-IM3\"],[\"P-0000769\",\"P-0000769-T01-IM3\"],[\"P-0000854\",\"P-0000854-T01-IM3\"],[\"P-0000911\",\"P-0000911-T01-IM3\"],[\"P-0000988\",\"P-0000988-T01-IM3\"],[\"P-0000997\",\"P-0000997-T01-IM3\"],[\"P-0000997\",\"P-0000997-T02-IM3\"],[\"P-0001017\",\"P-0001017-T01-IM3\"],[\"P-0001170\",\"P-0001170-T01-IM3\"],[\"P-0001200\",\"P-0001200-T01-IM3\"],[\"P-0001215\",\"P-0001215-T01-IM3\"],[\"P-0001316\",\"P-0001316-T01-IM3\"],[\"P-0001317\",\"P-0001317-T01-IM3\"],[\"P-0001347\",\"P-0001347-T02-IM5\"],[\"P-0001391\",\"P-0001391-T01-IM3\"],[\"P-0001499\",\"P-0001499-T01-IM3\"],[\"P-0001525\",\"P-0001525-T01-IM3\"],[\"P-0001531\",\"P-0001531-T01-IM3\"],[\"P-0001534\",\"P-0001534-T01-IM3\"],[\"P-0001640\",\"P-0001640-T01-IM3\"],[\"P-0001640\",\"P-0001640-T02-IM5\"],[\"P-0001647\",\"P-0001647-T01-IM3\"],[\"P-0001662\",\"P-0001662-T01-IM3\"],[\"P-0001670\",\"P-0001670-T01-IM3\"],[\"P-0001690\",\"P-0001690-T01-IM3\"],[\"P-0001769\",\"P-0001769-T01-IM3\"],[\"P-0001807\",\"P-0001807-T01-IM3\"],[\"P-0001808\",\"P-0001808-T01-IM3\"],[\"P-0001864\",\"P-0001864-T01-IM3\"],[\"P-0001909\",\"P-0001909-T01-IM3\"],[\"P-0001923\",\"P-0001923-T01-IM3\"],[\"P-0001949\",\"P-0001949-T01-IM3\"],[\"P-0001964\",\"P-0001964-T01-IM3\"],[\"P-0002042\",\"P-0002042-T01-IM3\"],[\"P-0002057\",\"P-0002057-T01-IM3\"],[\"P-0002070\",\"P-0002070-T01-IM3\"],[\"P-0002078\",\"P-0002078-T01-IM3\"],[\"P-0002102\",\"P-0002102-T01-IM3\"],[\"P-0002164\",\"P-0002164-T01-IM3\"],[\"P-0002413\",\"P-0002413-T01-IM3\"],[\"P-0002442\",\"P-0002442-T01-IM3\"],[\"P-0002488\",\"P-0002488-T01-IM3\"],[\"P-0002512\",\"P-0002512-T02-IM5\"],[\"P-0002542\",\"P-0002542-T01-IM3\"],[\"P-0002673\",\"P-0002673-T01-IM3\"],[\"P-0002678\",\"P-0002678-T01-IM3\"],[\"P-0002721\",\"P-0002721-T01-IM3\"],[\"P-0002724\",\"P-0002724-T01-IM3\"],[\"P-0002728\",\"P-0002728-T01-IM3\"],[\"P-0002730\",\"P-0002730-T01-IM3\"],[\"P-0002770\",\"P-0002770-T01-IM3\"],[\"P-0002778\",\"P-0002778-T01-IM3\"],[\"P-0002788\",\"P-0002788-T01-IM3\"],[\"P-0002792\",\"P-0002792-T01-IM3\"],[\"P-0002804\",\"P-0002804-T01-IM3\"],[\"P-0002835\",\"P-0002835-T01-IM3\"],[\"P-0002884\",\"P-0002884-T01-IM3\"],[\"P-0002951\",\"P-0002951-T01-IM3\"],[\"P-0002994\",\"P-0002994-T01-IM3\"],[\"P-0003011\",\"P-0003011-T01-IM3\"],[\"P-0003046\",\"P-0003046-T01-IM3\"],[\"P-0003077\",\"P-0003077-T01-IM5\"],[\"P-0003130\",\"P-0003130-T01-IM5\"],[\"P-0003183\",\"P-0003183-T01-IM5\"],[\"P-0003184\",\"P-0003184-T01-IM5\"],[\"P-0003254\",\"P-0003254-T01-IM5\"],[\"P-0003284\",\"P-0003284-T01-IM5\"],[\"P-0003301\",\"P-0003301-T01-IM5\"],[\"P-0003365\",\"P-0003365-T01-IM5\"],[\"P-0003437\",\"P-0003437-T01-IM5\"],[\"P-0003499\",\"P-0003499-T01-IM5\"],[\"P-0003501\",\"P-0003501-T01-IM5\"],[\"P-0003575\",\"P-0003575-T01-IM5\"],[\"P-0003582\",\"P-0003582-T01-IM5\"],[\"P-0003662\",\"P-0003662-T01-IM5\"],[\"P-0003710\",\"P-0003710-T01-IM5\"],[\"P-0003755\",\"P-0003755-T01-IM5\"],[\"P-0003756\",\"P-0003756-T01-IM5\"],[\"P-0003789\",\"P-0003789-T01-IM5\"],[\"P-0003793\",\"P-0003793-T01-IM5\"],[\"P-0003807\",\"P-0003807-T01-IM5\"],[\"P-0003839\",\"P-0003839-T01-IM5\"],[\"P-0003990\",\"P-0003990-T01-IM3\"],[\"P-0003999\",\"P-0003999-T01-IM5\"],[\"P-0004007\",\"P-0004007-T01-IM3\"],[\"P-0004007\",\"P-0004007-T02-IM3\"],[\"P-0004018\",\"P-0004018-T01-IM3\"],[\"P-0004140\",\"P-0004140-T01-IM5\"],[\"P-0004140\",\"P-0004140-T02-IM5\"],[\"P-0004140\",\"P-0004140-T03-IM5\"],[\"P-0004322\",\"P-0004322-T01-IM5\"],[\"P-0004350\",\"P-0004350-T01-IM5\"],[\"P-0004369\",\"P-0004369-T01-IM5\"],[\"P-0004401\",\"P-0004401-T01-IM5\"],[\"P-0004441\",\"P-0004441-T01-IM5\"],[\"P-0004486\",\"P-0004486-T01-IM5\"],[\"P-0004566\",\"P-0004566-T01-IM5\"],[\"P-0004626\",\"P-0004626-T01-IM5\"],[\"P-0004679\",\"P-0004679-T01-IM5\"],[\"P-0004690\",\"P-0004690-T01-IM5\"],[\"P-0004697\",\"P-0004697-T01-IM5\"],[\"P-0004698\",\"P-0004698-T01-IM5\"],[\"P-0004775\",\"P-0004775-T01-IM5\"],[\"P-0004781\",\"P-0004781-T01-IM5\"],[\"P-0004792\",\"P-0004792-T01-IM5\"],[\"P-0004798\",\"P-0004798-T01-IM5\"],[\"P-0004845\",\"P-0004845-T01-IM5\"],[\"P-0004865\",\"P-0004865-T01-IM5\"],[\"P-0004928\",\"P-0004928-T01-IM5\"],[\"P-0004957\",\"P-0004957-T01-IM5\"],[\"P-0004960\",\"P-0004960-T01-IM5\"],[\"P-0004967\",\"P-0004967-T01-IM5\"],[\"P-0004968\",\"P-0004968-T01-IM5\"],[\"P-0005003\",\"P-0005003-T01-IM5\"],[\"P-0005102\",\"P-0005102-T01-IM5\"],[\"P-0005103\",\"P-0005103-T01-IM5\"],[\"P-0005163\",\"P-0005163-T01-IM5\"],[\"P-0005172\",\"P-0005172-T01-IM5\"],[\"P-0005189\",\"P-0005189-T01-IM5\"],[\"P-0005200\",\"P-0005200-T01-IM5\"],[\"P-0005207\",\"P-0005207-T01-IM5\"],[\"P-0005210\",\"P-0005210-T01-IM5\"],[\"P-0005298\",\"P-0005298-T01-IM5\"],[\"P-0005343\",\"P-0005343-T01-IM5\"],[\"P-0005381\",\"P-0005381-T01-IM5\"],[\"P-0005439\",\"P-0005439-T01-IM5\"],[\"P-0005487\",\"P-0005487-T01-IM5\"],[\"P-0005502\",\"P-0005502-T01-IM5\"],[\"P-0005569\",\"P-0005569-T01-IM5\"],[\"P-0005589\",\"P-0005589-T01-IM5\"],[\"P-0005634\",\"P-0005634-T01-IM5\"],[\"P-0005715\",\"P-0005715-T01-IM5\"],[\"P-0005776\",\"P-0005776-T02-IM5\"],[\"P-0005788\",\"P-0005788-T01-IM5\"],[\"P-0005801\",\"P-0005801-T01-IM5\"],[\"P-0005824\",\"P-0005824-T01-IM5\"],[\"P-0005833\",\"P-0005833-T01-IM5\"],[\"P-0005908\",\"P-0005908-T01-IM5\"],[\"P-0005938\",\"P-0005938-T01-IM5\"],[\"P-0005949\",\"P-0005949-T01-IM5\"],[\"P-0005961\",\"P-0005961-T01-IM5\"],[\"P-0005998\",\"P-0005998-T01-IM5\"],[\"P-0006023\",\"P-0006023-T02-IM5\"],[\"P-0006110\",\"P-0006110-T01-IM5\"],[\"P-0006118\",\"P-0006118-T02-IM5\"],[\"P-0006138\",\"P-0006138-T01-IM5\"],[\"P-0006181\",\"P-0006181-T01-IM5\"],[\"P-0006183\",\"P-0006183-T01-IM5\"],[\"P-0006202\",\"P-0006202-T01-IM5\"],[\"P-0006213\",\"P-0006213-T01-IM5\"],[\"P-0006271\",\"P-0006271-T01-IM5\"],[\"P-0006272\",\"P-0006272-T01-IM5\"],[\"P-0006275\",\"P-0006275-T01-IM5\"],[\"P-0006329\",\"P-0006329-T01-IM5\"],[\"P-0006460\",\"P-0006460-T01-IM5\"],[\"P-0006469\",\"P-0006469-T01-IM5\"],[\"P-0006564\",\"P-0006564-T01-IM5\"],[\"P-0006587\",\"P-0006587-T01-IM5\"],[\"P-0006592\",\"P-0006592-T01-IM5\"],[\"P-0006616\",\"P-0006616-T01-IM5\"],[\"P-0006646\",\"P-0006646-T01-IM5\"],[\"P-0006647\",\"P-0006647-T01-IM5\"],[\"P-0006669\",\"P-0006669-T01-IM5\"],[\"P-0006686\",\"P-0006686-T01-IM5\"],[\"P-0006693\",\"P-0006693-T01-IM5\"],[\"P-0006701\",\"P-0006701-T01-IM5\"],[\"P-0006715\",\"P-0006715-T01-IM5\"],[\"P-0006735\",\"P-0006735-T01-IM5\"],[\"P-0006737\",\"P-0006737-T01-IM5\"],[\"P-0006744\",\"P-0006744-T01-IM5\"],[\"P-0006750\",\"P-0006750-T01-IM5\"],[\"P-0006758\",\"P-0006758-T01-IM5\"],[\"P-0006770\",\"P-0006770-T01-IM5\"],[\"P-0006825\",\"P-0006825-T01-IM5\"],[\"P-0006865\",\"P-0006865-T01-IM5\"],[\"P-0006872\",\"P-0006872-T01-IM5\"],[\"P-0006909\",\"P-0006909-T01-IM5\"],[\"P-0006981\",\"P-0006981-T01-IM5\"],[\"P-0006983\",\"P-0006983-T01-IM5\"],[\"P-0007066\",\"P-0007066-T01-IM5\"],[\"P-0007079\",\"P-0007079-T01-IM5\"],[\"P-0007090\",\"P-0007090-T02-IM5\"],[\"P-0007092\",\"P-0007092-T01-IM5\"],[\"P-0007112\",\"P-0007112-T01-IM5\"],[\"P-0007120\",\"P-0007120-T01-IM5\"],[\"P-0007120\",\"P-0007120-T02-IM5\"],[\"P-0007126\",\"P-0007126-T01-IM5\"],[\"P-0007126\",\"P-0007126-T02-IM5\"],[\"P-0007135\",\"P-0007135-T01-IM5\"],[\"P-0007140\",\"P-0007140-T01-IM5\"],[\"P-0007144\",\"P-0007144-T01-IM5\"],[\"P-0007162\",\"P-0007162-T01-IM5\"],[\"P-0007180\",\"P-0007180-T01-IM5\"],[\"P-0007214\",\"P-0007214-T01-IM5\"],[\"P-0007216\",\"P-0007216-T01-IM5\"],[\"P-0007226\",\"P-0007226-T01-IM5\"],[\"P-0007272\",\"P-0007272-T01-IM5\"],[\"P-0007279\",\"P-0007279-T01-IM5\"],[\"P-0007294\",\"P-0007294-T01-IM5\"],[\"P-0007303\",\"P-0007303-T01-IM5\"],[\"P-0007305\",\"P-0007305-T01-IM5\"],[\"P-0007334\",\"P-0007334-T01-IM5\"],[\"P-0007373\",\"P-0007373-T01-IM5\"],[\"P-0007377\",\"P-0007377-T02-IM5\"],[\"P-0007391\",\"P-0007391-T01-IM5\"],[\"P-0007410\",\"P-0007410-T01-IM5\"],[\"P-0007419\",\"P-0007419-T01-IM5\"],[\"P-0007495\",\"P-0007495-T01-IM5\"],[\"P-0007541\",\"P-0007541-T01-IM5\"],[\"P-0007548\",\"P-0007548-T01-IM5\"],[\"P-0007581\",\"P-0007581-T01-IM5\"],[\"P-0007586\",\"P-0007586-T01-IM5\"],[\"P-0007592\",\"P-0007592-T01-IM5\"],[\"P-0007637\",\"P-0007637-T01-IM5\"],[\"P-0007645\",\"P-0007645-T01-IM5\"],[\"P-0007654\",\"P-0007654-T01-IM5\"],[\"P-0007664\",\"P-0007664-T01-IM5\"],[\"P-0007683\",\"P-0007683-T01-IM5\"],[\"P-0007686\",\"P-0007686-T01-IM5\"],[\"P-0007804\",\"P-0007804-T01-IM5\"],[\"P-0007863\",\"P-0007863-T01-IM5\"],[\"P-0007866\",\"P-0007866-T01-IM5\"],[\"P-0007887\",\"P-0007887-T01-IM5\"],[\"P-0007975\",\"P-0007975-T01-IM5\"],[\"P-0007979\",\"P-0007979-T01-IM5\"],[\"P-0007998\",\"P-0007998-T01-IM5\"],[\"P-0007998\",\"P-0007998-T02-IM5\"],[\"P-0008019\",\"P-0008019-T01-IM5\"],[\"P-0008022\",\"P-0008022-T02-IM5\"],[\"P-0008031\",\"P-0008031-T01-IM5\"],[\"P-0008042\",\"P-0008042-T01-IM5\"],[\"P-0008063\",\"P-0008063-T01-IM5\"],[\"P-0008079\",\"P-0008079-T01-IM5\"],[\"P-0008094\",\"P-0008094-T01-IM5\"],[\"P-0008128\",\"P-0008128-T01-IM5\"],[\"P-0008173\",\"P-0008173-T01-IM5\"],[\"P-0008283\",\"P-0008283-T01-IM5\"],[\"P-0008288\",\"P-0008288-T01-IM5\"],[\"P-0008321\",\"P-0008321-T01-IM5\"],[\"P-0008377\",\"P-0008377-T01-IM5\"],[\"P-0008429\",\"P-0008429-T01-IM5\"],[\"P-0008429\",\"P-0008429-T02-IM5\"],[\"P-0008534\",\"P-0008534-T01-IM5\"],[\"P-0008541\",\"P-0008541-T01-IM5\"],[\"P-0008551\",\"P-0008551-T01-IM5\"],[\"P-0008690\",\"P-0008690-T01-IM5\"],[\"P-0008753\",\"P-0008753-T01-IM5\"],[\"P-0008819\",\"P-0008819-T01-IM5\"],[\"P-0008853\",\"P-0008853-T01-IM5\"],[\"P-0008913\",\"P-0008913-T01-IM5\"],[\"P-0008941\",\"P-0008941-T01-IM5\"],[\"P-0009062\",\"P-0009062-T01-IM5\"],[\"P-0009114\",\"P-0009114-T01-IM5\"],[\"P-0009121\",\"P-0009121-T01-IM5\"],[\"P-0009139\",\"P-0009139-T01-IM5\"],[\"P-0009142\",\"P-0009142-T01-IM5\"],[\"P-0009163\",\"P-0009163-T01-IM5\"],[\"P-0009167\",\"P-0009167-T01-IM5\"],[\"P-0009169\",\"P-0009169-T01-IM5\"],[\"P-0009185\",\"P-0009185-T01-IM5\"],[\"P-0009224\",\"P-0009224-T02-IM5\"],[\"P-0009252\",\"P-0009252-T01-IM5\"],[\"P-0009302\",\"P-0009302-T01-IM5\"],[\"P-0009303\",\"P-0009303-T01-IM5\"],[\"P-0009362\",\"P-0009362-T01-IM5\"],[\"P-0009445\",\"P-0009445-T01-IM5\"],[\"P-0009561\",\"P-0009561-T01-IM5\"],[\"P-0009650\",\"P-0009650-T01-IM5\"],[\"P-0009690\",\"P-0009690-T01-IM5\"],[\"P-0009707\",\"P-0009707-T01-IM5\"],[\"P-0009712\",\"P-0009712-T01-IM5\"],[\"P-0009798\",\"P-0009798-T01-IM5\"],[\"P-0009871\",\"P-0009871-T01-IM5\"],[\"P-0009972\",\"P-0009972-T01-IM5\"],[\"P-0010009\",\"P-0010009-T01-IM5\"],[\"P-0010118\",\"P-0010118-T01-IM5\"],[\"P-0010139\",\"P-0010139-T01-IM5\"],[\"P-0010160\",\"P-0010160-T01-IM5\"],[\"P-0010207\",\"P-0010207-T01-IM5\"],[\"P-0010243\",\"P-0010243-T01-IM5\"],[\"P-0010268\",\"P-0010268-T01-IM5\"],[\"P-0010367\",\"P-0010367-T01-IM5\"],[\"P-0010425\",\"P-0010425-T01-IM5\"],[\"P-0010432\",\"P-0010432-T01-IM5\"],[\"P-0010506\",\"P-0010506-T01-IM5\"],[\"P-0010535\",\"P-0010535-T01-IM5\"],[\"P-0010599\",\"P-0010599-T01-IM5\"],[\"P-0010673\",\"P-0010673-T01-IM5\"],[\"P-0010710\",\"P-0010710-T01-IM5\"],[\"P-0010734\",\"P-0010734-T01-IM5\"],[\"P-0010781\",\"P-0010781-T01-IM5\"],[\"P-0010898\",\"P-0010898-T01-IM5\"],[\"P-0010965\",\"P-0010965-T01-IM5\"],[\"P-0010966\",\"P-0010966-T01-IM5\"],[\"P-0010968\",\"P-0010968-T01-IM5\"],[\"P-0010985\",\"P-0010985-T01-IM5\"],[\"P-0011014\",\"P-0011014-T01-IM5\"],[\"P-0011027\",\"P-0011027-T01-IM5\"],[\"P-0011110\",\"P-0011110-T01-IM5\"],[\"P-0011158\",\"P-0011158-T01-IM5\"],[\"P-0011258\",\"P-0011258-T01-IM5\"],[\"P-0011259\",\"P-0011259-T01-IM5\"],[\"P-0011283\",\"P-0011283-T01-IM5\"],[\"P-0011296\",\"P-0011296-T01-IM5\"],[\"P-0011300\",\"P-0011300-T01-IM5\"],[\"P-0011306\",\"P-0011306-T01-IM5\"],[\"P-0011347\",\"P-0011347-T01-IM5\"],[\"P-0011357\",\"P-0011357-T01-IM5\"],[\"P-0011366\",\"P-0011366-T01-IM5\"],[\"P-0011396\",\"P-0011396-T01-IM5\"],[\"P-0011468\",\"P-0011468-T01-IM5\"],[\"P-0011512\",\"P-0011512-T01-IM5\"],[\"P-0011563\",\"P-0011563-T01-IM5\"],[\"P-0011603\",\"P-0011603-T03-IM5\"],[\"P-0012032\",\"P-0012032-T01-IM5\"],[\"P-0012074\",\"P-0012074-T01-IM5\"],[\"P-0012133\",\"P-0012133-T01-IM5\"],[\"P-0012268\",\"P-0012268-T01-IM5\"],[\"P-0012281\",\"P-0012281-T01-IM5\"],[\"P-0012340\",\"P-0012340-T01-IM5\"],[\"P-0012384\",\"P-0012384-T01-IM5\"],[\"P-0012389\",\"P-0012389-T01-IM5\"],[\"P-0012402\",\"P-0012402-T01-IM5\"],[\"P-0012419\",\"P-0012419-T01-IM5\"],[\"P-0012447\",\"P-0012447-T01-IM5\"],[\"P-0012623\",\"P-0012623-T01-IM5\"],[\"P-0012653\",\"P-0012653-T01-IM5\"],[\"P-0012653\",\"P-0012653-T02-IM5\"],[\"P-0012683\",\"P-0012683-T01-IM5\"],[\"P-0012685\",\"P-0012685-T01-IM5\"],[\"P-0012738\",\"P-0012738-T01-IM5\"],[\"P-0012781\",\"P-0012781-T01-IM5\"],[\"P-0012823\",\"P-0012823-T01-IM5\"],[\"P-0012823\",\"P-0012823-T02-IM5\"],[\"P-0012878\",\"P-0012878-T01-IM5\"],[\"P-0012900\",\"P-0012900-T01-IM5\"],[\"P-0013062\",\"P-0013062-T01-IM5\"],[\"P-0013087\",\"P-0013087-T01-IM5\"],[\"P-0013088\",\"P-0013088-T01-IM5\"],[\"P-0013096\",\"P-0013096-T01-IM5\"],[\"P-0013103\",\"P-0013103-T01-IM5\"],[\"P-0013144\",\"P-0013144-T01-IM5\"],[\"P-0013156\",\"P-0013156-T01-IM5\"],[\"P-0013201\",\"P-0013201-T01-IM5\"],[\"P-0013258\",\"P-0013258-T01-IM5\"],[\"P-0013263\",\"P-0013263-T01-IM5\"],[\"P-0013277\",\"P-0013277-T01-IM5\"],[\"P-0013285\",\"P-0013285-T01-IM5\"],[\"P-0013395\",\"P-0013395-T01-IM5\"],[\"P-0013397\",\"P-0013397-T01-IM5\"],[\"P-0013407\",\"P-0013407-T01-IM5\"],[\"P-0013594\",\"P-0013594-T01-IM5\"],[\"P-0013648\",\"P-0013648-T01-IM5\"],[\"P-0013758\",\"P-0013758-T01-IM5\"],[\"P-0013786\",\"P-0013786-T01-IM5\"],[\"P-0013788\",\"P-0013788-T01-IM5\"],[\"P-0013799\",\"P-0013799-T01-IM5\"],[\"P-0013828\",\"P-0013828-T01-IM5\"],[\"P-0013894\",\"P-0013894-T01-IM5\"],[\"P-0013907\",\"P-0013907-T01-IM5\"],[\"P-0013955\",\"P-0013955-T01-IM5\"],[\"P-0013963\",\"P-0013963-T01-IM5\"],[\"P-0014020\",\"P-0014020-T01-IM5\"],[\"P-0014042\",\"P-0014042-T01-IM5\"],[\"P-0014182\",\"P-0014182-T01-IM6\"],[\"P-0014190\",\"P-0014190-T01-IM6\"],[\"P-0014195\",\"P-0014195-T01-IM6\"],[\"P-0014252\",\"P-0014252-T01-IM6\"],[\"P-0014415\",\"P-0014415-T01-IM6\"]],\"hovertemplate\":\"color=('Male', 'MSS')<br>AGE_AT_DIAGNOSIS=%{x}<br>OS_MONTHS=%{y}<br>PATIENT_ID=%{customdata[0]}<br>SAMPLE_ID=%{customdata[1]}<extra></extra>\",\"legendgroup\":\"('Male', 'MSS')\",\"marker\":{\"color\":\"#636efa\",\"symbol\":\"circle\"},\"mode\":\"markers\",\"name\":\"('Male', 'MSS')\",\"orientation\":\"v\",\"showlegend\":true,\"x\":[64,65,54,41,49,43,63,50,56,49,58,78,78,46,63,45,45,49,27,44,65,35,61,40,46,55,55,40,63,72,44,77,60,54,63,53,63,39,47,44,60,60,20,51,69,51,59,64,55,65,53,37,64,50,52,49,31,54,58,57,47,60,46,62,29,49,55,33,31,72,44,30,26,49,45,46,51,59,38,34,53,42,42,61,71,49,53,59,34,63,48,48,59,59,59,59,42,34,48,48,59,43,56,64,64,68,65,37,49,50,59,47,48,55,50,60,50,53,46,56,35,69,48,59,41,71,72,64,57,62,36,45,54,58,54,41,31,38,57,52,48,24,52,48,67,48,45,43,76,70,67,42,61,60,25,47,46,71,45,56,60,65,58,50,51,50,67,52,42,58,35,55,43,69,39,50,48,47,45,78,37,50,83,38,63,41,67,47,48,45,54,54,46,46,37,67,34,69,48,53,48,43,47,37,52,52,36,63,65,45,47,33,40,78,69,67,57,45,51,49,84,49,48,54,32,48,34,69,58,71,56,67,67,32,50,43,42,40,59,57,59,60,39,53,53,51,61,61,37,39,59,67,60,64,63,66,69,41,49,46,30,58,65,54,32,69,41,26,44,64,69,53,58,29,33,52,48,39,63,36,35,48,37,65,41,31,32,44,65,48,66,49,56,51,26,55,35,80,64,45,64,81,65,53,71,49,57,50,42,51,52,49,43,50,63,54,72,69,39,59,45,62,37,49,35,68,59,40,47,47,46,54,61,61,48,60,38,39,48,48,37,62,45,53,45,33,58,55,44,59,28,45,48,39,73,56,53,51,36,62,60,42,62,58,49,65,52,61,50,78,62,53,35,59,49],\"xaxis\":\"x\",\"y\":[41.5,29.17,null,57.5,54.17,54.63,65.5,125.53,45.1,30.57,29.83,31.5,31.5,42.83,28.4,45.37,31.6,40.47,35.07,42.97,41.33,17.27,48.4,35.93,36.9,36.5,36.5,32.7,16.07,null,35.2,35.4,87.87,56.47,24.7,115.3,36.6,91.77,41.0,24.57,56.93,18.23,8.43,18.73,null,35.3,35.47,65.27,20.67,31.77,49.87,2.53,63.83,32.17,33.6,29.63,58.13,38.17,9.8,34.6,33.97,68.13,14.53,33.5,30.77,null,51.2,39.77,12.9,31.87,30.37,25.07,26.4,11.7,41.27,40.93,1.9,27.17,null,21.13,20.7,56.9,24.33,18.1,33.4,30.73,11.0,38.5,35.77,30.8,8.33,8.33,25.87,45.73,45.73,45.73,42.73,41.87,null,8.03,null,39.43,33.9,18.73,13.63,29.6,34.8,29.2,46.7,56.5,0.0,12.03,11.53,null,43.27,38.87,28.83,27.7,null,18.2,13.77,12.13,28.83,4.47,18.63,null,23.37,32.9,null,18.53,6.7,34.23,19.03,46.23,14.43,38.47,31.3,28.37,59.93,12.07,33.6,null,48.93,12.43,98.37,50.77,3.83,31.57,null,12.0,21.87,23.6,4.03,25.7,3.43,51.6,34.73,11.37,25.7,32.07,3.17,21.83,26.7,25.87,45.5,14.23,38.37,25.53,8.3,48.1,23.2,31.1,42.1,39.93,54.73,35.37,38.8,52.0,25.17,26.47,null,5.13,null,24.1,45.57,28.53,31.07,56.43,31.63,19.03,19.83,19.83,65.57,65.57,64.43,35.83,null,38.37,55.13,15.0,82.17,40.63,31.13,60.73,44.67,51.1,30.63,39.17,39.6,31.4,35.27,64.23,24.07,null,6.33,23.73,52.5,69.83,49.47,null,9.1,35.97,68.23,24.07,25.7,8.3,33.4,41.77,124.0,31.03,6.3,22.37,22.37,null,31.07,21.87,47.5,70.5,75.97,105.87,1.27,23.73,17.77,93.73,22.87,21.67,19.23,19.23,22.43,49.4,21.8,21.97,null,17.83,null,null,null,26.07,null,12.73,8.27,23.67,24.93,20.17,23.03,37.23,21.07,8.17,27.03,5.4,24.0,17.53,29.17,25.0,42.27,57.63,1.87,19.17,24.37,15.77,85.4,14.9,12.6,null,20.67,null,16.97,35.03,27.6,12.7,18.1,27.3,44.2,18.77,15.5,34.33,15.8,1.3,null,42.27,16.73,null,19.53,null,18.57,47.57,24.97,17.0,63.47,107.0,18.57,20.73,null,25.33,19.77,null,15.57,28.57,16.87,null,21.0,20.27,18.2,15.43,56.7,25.07,28.97,9.07,14.13,9.97,15.73,19.3,9.77,9.77,16.37,null,11.27,6.07,15.5,15.5,15.33,34.57,9.33,78.67,2.8,46.03,5.73,9.47,42.57,28.0,17.0,16.23,37.87,31.7,23.6,15.37,13.0,18.1,1.1,16.97,14.17,12.97,24.7,12.67,16.13,null,10.3,7.8,14.8,7.87,44.63,13.97,7.37,55.37,24.1],\"yaxis\":\"y\",\"type\":\"scatter\"}],                        {\"template\":{\"data\":{\"histogram2dcontour\":[{\"type\":\"histogram2dcontour\",\"colorbar\":{\"outlinewidth\":0,\"ticks\":\"\"},\"colorscale\":[[0.0,\"#0d0887\"],[0.1111111111111111,\"#46039f\"],[0.2222222222222222,\"#7201a8\"],[0.3333333333333333,\"#9c179e\"],[0.4444444444444444,\"#bd3786\"],[0.5555555555555556,\"#d8576b\"],[0.6666666666666666,\"#ed7953\"],[0.7777777777777778,\"#fb9f3a\"],[0.8888888888888888,\"#fdca26\"],[1.0,\"#f0f921\"]]}],\"choropleth\":[{\"type\":\"choropleth\",\"colorbar\":{\"outlinewidth\":0,\"ticks\":\"\"}}],\"histogram2d\":[{\"type\":\"histogram2d\",\"colorbar\":{\"outlinewidth\":0,\"ticks\":\"\"},\"colorscale\":[[0.0,\"#0d0887\"],[0.1111111111111111,\"#46039f\"],[0.2222222222222222,\"#7201a8\"],[0.3333333333333333,\"#9c179e\"],[0.4444444444444444,\"#bd3786\"],[0.5555555555555556,\"#d8576b\"],[0.6666666666666666,\"#ed7953\"],[0.7777777777777778,\"#fb9f3a\"],[0.8888888888888888,\"#fdca26\"],[1.0,\"#f0f921\"]]}],\"heatmap\":[{\"type\":\"heatmap\",\"colorbar\":{\"outlinewidth\":0,\"ticks\":\"\"},\"colorscale\":[[0.0,\"#0d0887\"],[0.1111111111111111,\"#46039f\"],[0.2222222222222222,\"#7201a8\"],[0.3333333333333333,\"#9c179e\"],[0.4444444444444444,\"#bd3786\"],[0.5555555555555556,\"#d8576b\"],[0.6666666666666666,\"#ed7953\"],[0.7777777777777778,\"#fb9f3a\"],[0.8888888888888888,\"#fdca26\"],[1.0,\"#f0f921\"]]}],\"heatmapgl\":[{\"type\":\"heatmapgl\",\"colorbar\":{\"outlinewidth\":0,\"ticks\":\"\"},\"colorscale\":[[0.0,\"#0d0887\"],[0.1111111111111111,\"#46039f\"],[0.2222222222222222,\"#7201a8\"],[0.3333333333333333,\"#9c179e\"],[0.4444444444444444,\"#bd3786\"],[0.5555555555555556,\"#d8576b\"],[0.6666666666666666,\"#ed7953\"],[0.7777777777777778,\"#fb9f3a\"],[0.8888888888888888,\"#fdca26\"],[1.0,\"#f0f921\"]]}],\"contourcarpet\":[{\"type\":\"contourcarpet\",\"colorbar\":{\"outlinewidth\":0,\"ticks\":\"\"}}],\"contour\":[{\"type\":\"contour\",\"colorbar\":{\"outlinewidth\":0,\"ticks\":\"\"},\"colorscale\":[[0.0,\"#0d0887\"],[0.1111111111111111,\"#46039f\"],[0.2222222222222222,\"#7201a8\"],[0.3333333333333333,\"#9c179e\"],[0.4444444444444444,\"#bd3786\"],[0.5555555555555556,\"#d8576b\"],[0.6666666666666666,\"#ed7953\"],[0.7777777777777778,\"#fb9f3a\"],[0.8888888888888888,\"#fdca26\"],[1.0,\"#f0f921\"]]}],\"surface\":[{\"type\":\"surface\",\"colorbar\":{\"outlinewidth\":0,\"ticks\":\"\"},\"colorscale\":[[0.0,\"#0d0887\"],[0.1111111111111111,\"#46039f\"],[0.2222222222222222,\"#7201a8\"],[0.3333333333333333,\"#9c179e\"],[0.4444444444444444,\"#bd3786\"],[0.5555555555555556,\"#d8576b\"],[0.6666666666666666,\"#ed7953\"],[0.7777777777777778,\"#fb9f3a\"],[0.8888888888888888,\"#fdca26\"],[1.0,\"#f0f921\"]]}],\"mesh3d\":[{\"type\":\"mesh3d\",\"colorbar\":{\"outlinewidth\":0,\"ticks\":\"\"}}],\"scatter\":[{\"fillpattern\":{\"fillmode\":\"overlay\",\"size\":10,\"solidity\":0.2},\"type\":\"scatter\"}],\"parcoords\":[{\"type\":\"parcoords\",\"line\":{\"colorbar\":{\"outlinewidth\":0,\"ticks\":\"\"}}}],\"scatterpolargl\":[{\"type\":\"scatterpolargl\",\"marker\":{\"colorbar\":{\"outlinewidth\":0,\"ticks\":\"\"}}}],\"bar\":[{\"error_x\":{\"color\":\"#2a3f5f\"},\"error_y\":{\"color\":\"#2a3f5f\"},\"marker\":{\"line\":{\"color\":\"#E5ECF6\",\"width\":0.5},\"pattern\":{\"fillmode\":\"overlay\",\"size\":10,\"solidity\":0.2}},\"type\":\"bar\"}],\"scattergeo\":[{\"type\":\"scattergeo\",\"marker\":{\"colorbar\":{\"outlinewidth\":0,\"ticks\":\"\"}}}],\"scatterpolar\":[{\"type\":\"scatterpolar\",\"marker\":{\"colorbar\":{\"outlinewidth\":0,\"ticks\":\"\"}}}],\"histogram\":[{\"marker\":{\"pattern\":{\"fillmode\":\"overlay\",\"size\":10,\"solidity\":0.2}},\"type\":\"histogram\"}],\"scattergl\":[{\"type\":\"scattergl\",\"marker\":{\"colorbar\":{\"outlinewidth\":0,\"ticks\":\"\"}}}],\"scatter3d\":[{\"type\":\"scatter3d\",\"line\":{\"colorbar\":{\"outlinewidth\":0,\"ticks\":\"\"}},\"marker\":{\"colorbar\":{\"outlinewidth\":0,\"ticks\":\"\"}}}],\"scattermapbox\":[{\"type\":\"scattermapbox\",\"marker\":{\"colorbar\":{\"outlinewidth\":0,\"ticks\":\"\"}}}],\"scatterternary\":[{\"type\":\"scatterternary\",\"marker\":{\"colorbar\":{\"outlinewidth\":0,\"ticks\":\"\"}}}],\"scattercarpet\":[{\"type\":\"scattercarpet\",\"marker\":{\"colorbar\":{\"outlinewidth\":0,\"ticks\":\"\"}}}],\"carpet\":[{\"aaxis\":{\"endlinecolor\":\"#2a3f5f\",\"gridcolor\":\"white\",\"linecolor\":\"white\",\"minorgridcolor\":\"white\",\"startlinecolor\":\"#2a3f5f\"},\"baxis\":{\"endlinecolor\":\"#2a3f5f\",\"gridcolor\":\"white\",\"linecolor\":\"white\",\"minorgridcolor\":\"white\",\"startlinecolor\":\"#2a3f5f\"},\"type\":\"carpet\"}],\"table\":[{\"cells\":{\"fill\":{\"color\":\"#EBF0F8\"},\"line\":{\"color\":\"white\"}},\"header\":{\"fill\":{\"color\":\"#C8D4E3\"},\"line\":{\"color\":\"white\"}},\"type\":\"table\"}],\"barpolar\":[{\"marker\":{\"line\":{\"color\":\"#E5ECF6\",\"width\":0.5},\"pattern\":{\"fillmode\":\"overlay\",\"size\":10,\"solidity\":0.2}},\"type\":\"barpolar\"}],\"pie\":[{\"automargin\":true,\"type\":\"pie\"}]},\"layout\":{\"autotypenumbers\":\"strict\",\"colorway\":[\"#636efa\",\"#EF553B\",\"#00cc96\",\"#ab63fa\",\"#FFA15A\",\"#19d3f3\",\"#FF6692\",\"#B6E880\",\"#FF97FF\",\"#FECB52\"],\"font\":{\"color\":\"#2a3f5f\"},\"hovermode\":\"closest\",\"hoverlabel\":{\"align\":\"left\"},\"paper_bgcolor\":\"white\",\"plot_bgcolor\":\"#E5ECF6\",\"polar\":{\"bgcolor\":\"#E5ECF6\",\"angularaxis\":{\"gridcolor\":\"white\",\"linecolor\":\"white\",\"ticks\":\"\"},\"radialaxis\":{\"gridcolor\":\"white\",\"linecolor\":\"white\",\"ticks\":\"\"}},\"ternary\":{\"bgcolor\":\"#E5ECF6\",\"aaxis\":{\"gridcolor\":\"white\",\"linecolor\":\"white\",\"ticks\":\"\"},\"baxis\":{\"gridcolor\":\"white\",\"linecolor\":\"white\",\"ticks\":\"\"},\"caxis\":{\"gridcolor\":\"white\",\"linecolor\":\"white\",\"ticks\":\"\"}},\"coloraxis\":{\"colorbar\":{\"outlinewidth\":0,\"ticks\":\"\"}},\"colorscale\":{\"sequential\":[[0.0,\"#0d0887\"],[0.1111111111111111,\"#46039f\"],[0.2222222222222222,\"#7201a8\"],[0.3333333333333333,\"#9c179e\"],[0.4444444444444444,\"#bd3786\"],[0.5555555555555556,\"#d8576b\"],[0.6666666666666666,\"#ed7953\"],[0.7777777777777778,\"#fb9f3a\"],[0.8888888888888888,\"#fdca26\"],[1.0,\"#f0f921\"]],\"sequentialminus\":[[0.0,\"#0d0887\"],[0.1111111111111111,\"#46039f\"],[0.2222222222222222,\"#7201a8\"],[0.3333333333333333,\"#9c179e\"],[0.4444444444444444,\"#bd3786\"],[0.5555555555555556,\"#d8576b\"],[0.6666666666666666,\"#ed7953\"],[0.7777777777777778,\"#fb9f3a\"],[0.8888888888888888,\"#fdca26\"],[1.0,\"#f0f921\"]],\"diverging\":[[0,\"#8e0152\"],[0.1,\"#c51b7d\"],[0.2,\"#de77ae\"],[0.3,\"#f1b6da\"],[0.4,\"#fde0ef\"],[0.5,\"#f7f7f7\"],[0.6,\"#e6f5d0\"],[0.7,\"#b8e186\"],[0.8,\"#7fbc41\"],[0.9,\"#4d9221\"],[1,\"#276419\"]]},\"xaxis\":{\"gridcolor\":\"white\",\"linecolor\":\"white\",\"ticks\":\"\",\"title\":{\"standoff\":15},\"zerolinecolor\":\"white\",\"automargin\":true,\"zerolinewidth\":2},\"yaxis\":{\"gridcolor\":\"white\",\"linecolor\":\"white\",\"ticks\":\"\",\"title\":{\"standoff\":15},\"zerolinecolor\":\"white\",\"automargin\":true,\"zerolinewidth\":2},\"scene\":{\"xaxis\":{\"backgroundcolor\":\"#E5ECF6\",\"gridcolor\":\"white\",\"linecolor\":\"white\",\"showbackground\":true,\"ticks\":\"\",\"zerolinecolor\":\"white\",\"gridwidth\":2},\"yaxis\":{\"backgroundcolor\":\"#E5ECF6\",\"gridcolor\":\"white\",\"linecolor\":\"white\",\"showbackground\":true,\"ticks\":\"\",\"zerolinecolor\":\"white\",\"gridwidth\":2},\"zaxis\":{\"backgroundcolor\":\"#E5ECF6\",\"gridcolor\":\"white\",\"linecolor\":\"white\",\"showbackground\":true,\"ticks\":\"\",\"zerolinecolor\":\"white\",\"gridwidth\":2}},\"shapedefaults\":{\"line\":{\"color\":\"#2a3f5f\"}},\"annotationdefaults\":{\"arrowcolor\":\"#2a3f5f\",\"arrowhead\":0,\"arrowwidth\":1},\"geo\":{\"bgcolor\":\"white\",\"landcolor\":\"#E5ECF6\",\"subunitcolor\":\"white\",\"showland\":true,\"showlakes\":true,\"lakecolor\":\"white\"},\"title\":{\"x\":0.05},\"mapbox\":{\"style\":\"light\"}}},\"xaxis\":{\"anchor\":\"y\",\"domain\":[0.0,1.0],\"title\":{\"text\":\"AGE_AT_DIAGNOSIS\"}},\"yaxis\":{\"anchor\":\"x\",\"domain\":[0.0,1.0],\"title\":{\"text\":\"OS_MONTHS\"}},\"legend\":{\"title\":{\"text\":\"color\"},\"tracegroupgap\":0},\"margin\":{\"t\":60}},                        {\"responsive\": true}                    ).then(function(){\n",
       "                            \n",
       "var gd = document.getElementById('8fbc3e5b-55c6-4cb3-af76-39115dc441bb');\n",
       "var x = new MutationObserver(function (mutations, observer) {{\n",
       "        var display = window.getComputedStyle(gd).display;\n",
       "        if (!display || display === 'none') {{\n",
       "            console.log([gd, 'removed!']);\n",
       "            Plotly.purge(gd);\n",
       "            observer.disconnect();\n",
       "        }}\n",
       "}});\n",
       "\n",
       "// Listen for the removal of the full notebook cells\n",
       "var notebookContainer = gd.closest('#notebook-container');\n",
       "if (notebookContainer) {{\n",
       "    x.observe(notebookContainer, {childList: true});\n",
       "}}\n",
       "\n",
       "// Listen for the clearing of the current output cell\n",
       "var outputEl = gd.closest('.output');\n",
       "if (outputEl) {{\n",
       "    x.observe(outputEl, {childList: true});\n",
       "}}\n",
       "\n",
       "                        })                };                });            </script>        </div>"
      ]
     },
     "metadata": {},
     "output_type": "display_data"
    },
    {
     "data": {
      "application/vnd.plotly.v1+json": {
       "config": {
        "plotlyServerURL": "https://plot.ly"
       },
       "data": [
        {
         "customdata": [
          [
           "P-0000493",
           "P-0000493-T01-IM3"
          ],
          [
           "P-0000552",
           "P-0000552-T01-IM3"
          ],
          [
           "P-0000678",
           "P-0000678-T01-IM3"
          ],
          [
           "P-0000682",
           "P-0000682-T01-IM3"
          ],
          [
           "P-0000695",
           "P-0000695-T01-IM3"
          ],
          [
           "P-0000703",
           "P-0000703-T01-IM3"
          ],
          [
           "P-0000739",
           "P-0000739-T01-IM3"
          ],
          [
           "P-0000739",
           "P-0000739-T02-IM5"
          ],
          [
           "P-0000869",
           "P-0000869-T01-IM3"
          ],
          [
           "P-0001079",
           "P-0001079-T01-IM3"
          ],
          [
           "P-0001190",
           "P-0001190-T01-IM3"
          ],
          [
           "P-0001192",
           "P-0001192-T01-IM3"
          ],
          [
           "P-0001227",
           "P-0001227-T01-IM3"
          ],
          [
           "P-0001428",
           "P-0001428-T01-IM3"
          ],
          [
           "P-0001658",
           "P-0001658-T01-IM3"
          ],
          [
           "P-0001729",
           "P-0001729-T01-IM3"
          ],
          [
           "P-0001742",
           "P-0001742-T01-IM3"
          ],
          [
           "P-0001746",
           "P-0001746-T01-IM3"
          ],
          [
           "P-0001778",
           "P-0001778-T01-IM3"
          ],
          [
           "P-0001867",
           "P-0001867-T01-IM3"
          ],
          [
           "P-0002032",
           "P-0002032-T01-IM3"
          ],
          [
           "P-0002080",
           "P-0002080-T01-IM3"
          ],
          [
           "P-0002155",
           "P-0002155-T01-IM3"
          ],
          [
           "P-0002251",
           "P-0002251-T01-IM3"
          ],
          [
           "P-0002323",
           "P-0002323-T01-IM3"
          ],
          [
           "P-0002395",
           "P-0002395-T01-IM3"
          ],
          [
           "P-0002438",
           "P-0002438-T01-IM3"
          ],
          [
           "P-0002529",
           "P-0002529-T01-IM3"
          ],
          [
           "P-0002540",
           "P-0002540-T01-IM3"
          ],
          [
           "P-0002547",
           "P-0002547-T01-IM3"
          ],
          [
           "P-0002563",
           "P-0002563-T01-IM3"
          ],
          [
           "P-0002665",
           "P-0002665-T01-IM3"
          ],
          [
           "P-0002670",
           "P-0002670-T01-IM3"
          ],
          [
           "P-0002795",
           "P-0002795-T01-IM3"
          ],
          [
           "P-0002902",
           "P-0002902-T01-IM3"
          ],
          [
           "P-0002960",
           "P-0002960-T01-IM3"
          ],
          [
           "P-0003124",
           "P-0003124-T01-IM5"
          ],
          [
           "P-0003136",
           "P-0003136-T01-IM5"
          ],
          [
           "P-0003514",
           "P-0003514-T01-IM5"
          ],
          [
           "P-0003720",
           "P-0003720-T01-IM5"
          ],
          [
           "P-0003725",
           "P-0003725-T01-IM5"
          ],
          [
           "P-0003753",
           "P-0003753-T01-IM5"
          ],
          [
           "P-0003791",
           "P-0003791-T01-IM5"
          ],
          [
           "P-0003890",
           "P-0003890-T01-IM5"
          ],
          [
           "P-0004072",
           "P-0004072-T01-IM5"
          ],
          [
           "P-0004081",
           "P-0004081-T01-IM5"
          ],
          [
           "P-0004220",
           "P-0004220-T01-IM5"
          ],
          [
           "P-0004502",
           "P-0004502-T01-IM5"
          ],
          [
           "P-0004624",
           "P-0004624-T01-IM5"
          ],
          [
           "P-0004652",
           "P-0004652-T01-IM5"
          ],
          [
           "P-0004666",
           "P-0004666-T01-IM5"
          ],
          [
           "P-0004803",
           "P-0004803-T01-IM5"
          ],
          [
           "P-0004834",
           "P-0004834-T01-IM5"
          ],
          [
           "P-0004844",
           "P-0004844-T01-IM5"
          ],
          [
           "P-0004904",
           "P-0004904-T01-IM5"
          ],
          [
           "P-0004977",
           "P-0004977-T01-IM5"
          ],
          [
           "P-0005011",
           "P-0005011-T01-IM5"
          ],
          [
           "P-0005091",
           "P-0005091-T01-IM5"
          ],
          [
           "P-0005132",
           "P-0005132-T01-IM5"
          ],
          [
           "P-0005240",
           "P-0005240-T01-IM5"
          ],
          [
           "P-0005247",
           "P-0005247-T01-IM5"
          ],
          [
           "P-0005311",
           "P-0005311-T01-IM5"
          ],
          [
           "P-0005311",
           "P-0005311-T02-IM5"
          ],
          [
           "P-0005430",
           "P-0005430-T01-IM5"
          ],
          [
           "P-0005755",
           "P-0005755-T01-IM5"
          ],
          [
           "P-0005762",
           "P-0005762-T01-IM5"
          ],
          [
           "P-0005829",
           "P-0005829-T01-IM5"
          ],
          [
           "P-0006184",
           "P-0006184-T01-IM5"
          ],
          [
           "P-0006225",
           "P-0006225-T01-IM5"
          ],
          [
           "P-0006306",
           "P-0006306-T01-IM5"
          ],
          [
           "P-0006317",
           "P-0006317-T01-IM5"
          ],
          [
           "P-0006468",
           "P-0006468-T01-IM5"
          ],
          [
           "P-0006468",
           "P-0006468-T02-IM5"
          ],
          [
           "P-0006581",
           "P-0006581-T01-IM5"
          ],
          [
           "P-0006589",
           "P-0006589-T01-IM5"
          ],
          [
           "P-0006657",
           "P-0006657-T01-IM5"
          ],
          [
           "P-0006658",
           "P-0006658-T01-IM5"
          ],
          [
           "P-0006659",
           "P-0006659-T01-IM5"
          ],
          [
           "P-0006681",
           "P-0006681-T01-IM5"
          ],
          [
           "P-0006683",
           "P-0006683-T01-IM5"
          ],
          [
           "P-0006685",
           "P-0006685-T01-IM5"
          ],
          [
           "P-0006706",
           "P-0006706-T01-IM5"
          ],
          [
           "P-0006707",
           "P-0006707-T01-IM5"
          ],
          [
           "P-0006759",
           "P-0006759-T01-IM5"
          ],
          [
           "P-0006763",
           "P-0006763-T01-IM5"
          ],
          [
           "P-0006819",
           "P-0006819-T01-IM5"
          ],
          [
           "P-0006819",
           "P-0006819-T02-IM5"
          ],
          [
           "P-0006821",
           "P-0006821-T01-IM5"
          ],
          [
           "P-0006822",
           "P-0006822-T01-IM5"
          ],
          [
           "P-0006936",
           "P-0006936-T01-IM5"
          ],
          [
           "P-0007012",
           "P-0007012-T01-IM5"
          ],
          [
           "P-0007070",
           "P-0007070-T01-IM5"
          ],
          [
           "P-0007081",
           "P-0007081-T02-IM5"
          ],
          [
           "P-0007132",
           "P-0007132-T01-IM5"
          ],
          [
           "P-0007169",
           "P-0007169-T01-IM5"
          ],
          [
           "P-0007181",
           "P-0007181-T01-IM5"
          ],
          [
           "P-0007185",
           "P-0007185-T01-IM5"
          ],
          [
           "P-0007185",
           "P-0007185-T02-IM5"
          ],
          [
           "P-0007357",
           "P-0007357-T01-IM5"
          ],
          [
           "P-0007368",
           "P-0007368-T01-IM5"
          ],
          [
           "P-0007380",
           "P-0007380-T01-IM5"
          ],
          [
           "P-0007405",
           "P-0007405-T01-IM5"
          ],
          [
           "P-0007483",
           "P-0007483-T01-IM5"
          ],
          [
           "P-0007555",
           "P-0007555-T01-IM5"
          ],
          [
           "P-0007560",
           "P-0007560-T01-IM5"
          ],
          [
           "P-0007567",
           "P-0007567-T01-IM5"
          ],
          [
           "P-0007590",
           "P-0007590-T01-IM5"
          ],
          [
           "P-0007602",
           "P-0007602-T01-IM5"
          ],
          [
           "P-0007774",
           "P-0007774-T01-IM5"
          ],
          [
           "P-0007781",
           "P-0007781-T01-IM5"
          ],
          [
           "P-0007793",
           "P-0007793-T01-IM5"
          ],
          [
           "P-0007809",
           "P-0007809-T01-IM5"
          ],
          [
           "P-0007860",
           "P-0007860-T01-IM5"
          ],
          [
           "P-0007868",
           "P-0007868-T01-IM5"
          ],
          [
           "P-0007889",
           "P-0007889-T01-IM5"
          ],
          [
           "P-0007893",
           "P-0007893-T01-IM5"
          ],
          [
           "P-0007909",
           "P-0007909-T01-IM5"
          ],
          [
           "P-0007929",
           "P-0007929-T01-IM5"
          ],
          [
           "P-0007990",
           "P-0007990-T01-IM5"
          ],
          [
           "P-0008059",
           "P-0008059-T01-IM5"
          ],
          [
           "P-0008083",
           "P-0008083-T01-IM5"
          ],
          [
           "P-0008133",
           "P-0008133-T01-IM5"
          ],
          [
           "P-0008167",
           "P-0008167-T01-IM5"
          ],
          [
           "P-0008308",
           "P-0008308-T01-IM5"
          ],
          [
           "P-0008357",
           "P-0008357-T01-IM5"
          ],
          [
           "P-0008396",
           "P-0008396-T01-IM5"
          ],
          [
           "P-0008584",
           "P-0008584-T01-IM5"
          ],
          [
           "P-0008671",
           "P-0008671-T01-IM5"
          ],
          [
           "P-0008724",
           "P-0008724-T01-IM5"
          ],
          [
           "P-0008875",
           "P-0008875-T01-IM5"
          ],
          [
           "P-0009000",
           "P-0009000-T01-IM5"
          ],
          [
           "P-0009012",
           "P-0009012-T01-IM5"
          ],
          [
           "P-0009013",
           "P-0009013-T02-IM5"
          ],
          [
           "P-0009149",
           "P-0009149-T01-IM5"
          ],
          [
           "P-0009377",
           "P-0009377-T01-IM5"
          ],
          [
           "P-0009418",
           "P-0009418-T01-IM5"
          ],
          [
           "P-0009645",
           "P-0009645-T01-IM5"
          ],
          [
           "P-0009741",
           "P-0009741-T01-IM5"
          ],
          [
           "P-0009903",
           "P-0009903-T01-IM5"
          ],
          [
           "P-0009971",
           "P-0009971-T01-IM5"
          ],
          [
           "P-0009993",
           "P-0009993-T01-IM3"
          ],
          [
           "P-0009993",
           "P-0009993-T01-IM5"
          ],
          [
           "P-0010014",
           "P-0010014-T01-IM5"
          ],
          [
           "P-0010098",
           "P-0010098-T01-IM5"
          ],
          [
           "P-0010098",
           "P-0010098-T02-IM5"
          ],
          [
           "P-0010159",
           "P-0010159-T01-IM5"
          ],
          [
           "P-0010180",
           "P-0010180-T01-IM5"
          ],
          [
           "P-0010219",
           "P-0010219-T01-IM5"
          ],
          [
           "P-0010330",
           "P-0010330-T01-IM5"
          ],
          [
           "P-0010342",
           "P-0010342-T01-IM5"
          ],
          [
           "P-0010343",
           "P-0010343-T01-IM5"
          ],
          [
           "P-0010360",
           "P-0010360-T01-IM5"
          ],
          [
           "P-0010393",
           "P-0010393-T01-IM5"
          ],
          [
           "P-0010407",
           "P-0010407-T01-IM5"
          ],
          [
           "P-0010422",
           "P-0010422-T01-IM5"
          ],
          [
           "P-0010509",
           "P-0010509-T01-IM5"
          ],
          [
           "P-0010959",
           "P-0010959-T01-IM5"
          ],
          [
           "P-0011074",
           "P-0011074-T01-IM5"
          ],
          [
           "P-0011184",
           "P-0011184-T01-IM5"
          ],
          [
           "P-0011255",
           "P-0011255-T01-IM5"
          ],
          [
           "P-0011282",
           "P-0011282-T01-IM5"
          ],
          [
           "P-0011384",
           "P-0011384-T01-IM5"
          ],
          [
           "P-0011511",
           "P-0011511-T01-IM5"
          ],
          [
           "P-0012100",
           "P-0012100-T01-IM5"
          ],
          [
           "P-0012277",
           "P-0012277-T01-IM5"
          ],
          [
           "P-0012554",
           "P-0012554-T01-IM5"
          ],
          [
           "P-0012566",
           "P-0012566-T01-IM5"
          ],
          [
           "P-0012680",
           "P-0012680-T01-IM5"
          ],
          [
           "P-0012965",
           "P-0012965-T01-IM5"
          ],
          [
           "P-0012974",
           "P-0012974-T01-IM5"
          ],
          [
           "P-0013020",
           "P-0013020-T01-IM5"
          ],
          [
           "P-0013159",
           "P-0013159-T01-IM5"
          ],
          [
           "P-0013404",
           "P-0013404-T01-IM5"
          ],
          [
           "P-0013488",
           "P-0013488-T01-IM5"
          ],
          [
           "P-0013495",
           "P-0013495-T01-IM5"
          ],
          [
           "P-0013760",
           "P-0013760-T01-IM5"
          ],
          [
           "P-0013785",
           "P-0013785-T01-IM5"
          ],
          [
           "P-0013929",
           "P-0013929-T01-IM5"
          ],
          [
           "P-0013947",
           "P-0013947-T01-IM5"
          ],
          [
           "P-0013975",
           "P-0013975-T01-IM5"
          ],
          [
           "P-0013982",
           "P-0013982-T01-IM5"
          ],
          [
           "P-0014258",
           "P-0014258-T01-IM6"
          ]
         ],
         "hovertemplate": "color=('Male', 'Unknown')<br>AGE_AT_DIAGNOSIS=%{x}<br>OS_MONTHS=%{y}<br>PATIENT_ID=%{customdata[0]}<br>SAMPLE_ID=%{customdata[1]}<extra></extra>",
         "legendgroup": "('Male', 'Unknown')",
         "marker": {
          "color": "#636efa",
          "symbol": "circle"
         },
         "mode": "markers",
         "name": "('Male', 'Unknown')",
         "orientation": "v",
         "showlegend": true,
         "type": "scatter",
         "x": [
          24,
          63,
          82,
          50,
          54,
          80,
          76,
          76,
          50,
          72,
          52,
          47,
          66,
          67,
          90,
          52,
          61,
          67,
          50,
          66,
          62,
          59,
          57,
          48,
          50,
          67,
          24,
          67,
          65,
          49,
          68,
          59,
          57,
          57,
          84,
          44,
          54,
          56,
          74,
          73,
          69,
          71,
          57,
          66,
          56,
          50,
          60,
          72,
          50,
          67,
          51,
          56,
          59,
          62,
          65,
          72,
          47,
          67,
          52,
          62,
          57,
          59,
          59,
          67,
          61,
          38,
          13,
          57,
          60,
          51,
          55,
          62,
          62,
          78,
          22,
          48,
          64,
          49,
          56,
          56,
          57,
          48,
          54,
          51,
          57,
          59,
          59,
          68,
          46,
          51,
          58,
          70,
          44,
          66,
          75,
          46,
          50,
          50,
          50,
          44,
          57,
          53,
          75,
          60,
          61,
          51,
          58,
          65,
          73,
          60,
          64,
          70,
          55,
          54,
          48,
          63,
          61,
          59,
          33,
          58,
          64,
          55,
          61,
          56,
          50,
          71,
          63,
          51,
          87,
          75,
          62,
          72,
          42,
          64,
          65,
          71,
          70,
          63,
          68,
          44,
          69,
          69,
          50,
          52,
          52,
          76,
          57,
          65,
          74,
          55,
          48,
          67,
          44,
          47,
          83,
          58,
          79,
          80,
          31,
          38,
          72,
          71,
          66,
          74,
          82,
          82,
          51,
          81,
          77,
          70,
          68,
          74,
          55,
          64,
          60,
          62,
          56,
          45,
          54,
          53,
          40,
          69
         ],
         "xaxis": "x",
         "y": [
          23.87,
          16,
          36.53,
          48.3,
          28.8,
          31.67,
          73.53,
          73.53,
          62.07,
          36.53,
          58.33,
          82.2,
          29.87,
          133.93,
          14.5,
          24.57,
          63.93,
          108.8,
          39.97,
          43.5,
          53.63,
          35.9,
          9.37,
          43.73,
          20.5,
          16.33,
          30.73,
          53.07,
          18.43,
          null,
          23.4,
          4.7,
          66.67,
          17.27,
          30.57,
          28.53,
          7.73,
          35.5,
          5.73,
          13.5,
          29.07,
          6.17,
          22.9,
          14.63,
          25.93,
          28.5,
          34.13,
          3.47,
          17.07,
          3.43,
          75.8,
          31.43,
          99.83,
          23.83,
          40.2,
          75.03,
          10.03,
          33.9,
          67.33,
          126,
          27.07,
          13.5,
          13.5,
          26.67,
          20.9,
          57.1,
          3.67,
          null,
          24.37,
          26.77,
          12.5,
          32.5,
          32.5,
          32.43,
          28.2,
          34.2,
          95.53,
          58.33,
          128.07,
          28.5,
          36.4,
          127.57,
          45.73,
          108.27,
          202.43,
          98.9,
          98.9,
          62.43,
          92.83,
          108.87,
          28.3,
          29.4,
          51.9,
          112.97,
          null,
          162.13,
          74.13,
          74.13,
          83.23,
          70.03,
          75.4,
          62.7,
          86.07,
          21.77,
          36.43,
          62,
          69.1,
          19.67,
          null,
          175.47,
          50.73,
          22.33,
          59.87,
          115.93,
          136.9,
          127.93,
          158.6,
          49.73,
          9.57,
          48.33,
          65.17,
          11.93,
          147.4,
          53.77,
          59.3,
          146.63,
          117.43,
          95.2,
          33.33,
          21.47,
          22.07,
          15.33,
          23.47,
          11.33,
          99.6,
          52.93,
          32.83,
          106.07,
          181.6,
          26.53,
          79.13,
          79.13,
          124.33,
          30.73,
          30.73,
          null,
          95.17,
          23.83,
          19.1,
          15.37,
          22.6,
          2.53,
          130,
          41.87,
          19.9,
          59.03,
          null,
          11.33,
          21.03,
          112.6,
          17.73,
          16.8,
          0.27,
          15.03,
          28.3,
          13.2,
          51.9,
          16.73,
          null,
          16.87,
          13.2,
          null,
          22.7,
          15.13,
          14.43,
          16.1,
          6.03,
          13.3,
          13.37,
          47.43,
          14.03,
          9.97
         ],
         "yaxis": "y"
        }
       ],
       "layout": {
        "autosize": true,
        "legend": {
         "title": {
          "text": "color"
         },
         "tracegroupgap": 0
        },
        "margin": {
         "t": 60
        },
        "template": {
         "data": {
          "bar": [
           {
            "error_x": {
             "color": "#2a3f5f"
            },
            "error_y": {
             "color": "#2a3f5f"
            },
            "marker": {
             "line": {
              "color": "#E5ECF6",
              "width": 0.5
             },
             "pattern": {
              "fillmode": "overlay",
              "size": 10,
              "solidity": 0.2
             }
            },
            "type": "bar"
           }
          ],
          "barpolar": [
           {
            "marker": {
             "line": {
              "color": "#E5ECF6",
              "width": 0.5
             },
             "pattern": {
              "fillmode": "overlay",
              "size": 10,
              "solidity": 0.2
             }
            },
            "type": "barpolar"
           }
          ],
          "carpet": [
           {
            "aaxis": {
             "endlinecolor": "#2a3f5f",
             "gridcolor": "white",
             "linecolor": "white",
             "minorgridcolor": "white",
             "startlinecolor": "#2a3f5f"
            },
            "baxis": {
             "endlinecolor": "#2a3f5f",
             "gridcolor": "white",
             "linecolor": "white",
             "minorgridcolor": "white",
             "startlinecolor": "#2a3f5f"
            },
            "type": "carpet"
           }
          ],
          "choropleth": [
           {
            "colorbar": {
             "outlinewidth": 0,
             "ticks": ""
            },
            "type": "choropleth"
           }
          ],
          "contour": [
           {
            "colorbar": {
             "outlinewidth": 0,
             "ticks": ""
            },
            "colorscale": [
             [
              0,
              "#0d0887"
             ],
             [
              0.1111111111111111,
              "#46039f"
             ],
             [
              0.2222222222222222,
              "#7201a8"
             ],
             [
              0.3333333333333333,
              "#9c179e"
             ],
             [
              0.4444444444444444,
              "#bd3786"
             ],
             [
              0.5555555555555556,
              "#d8576b"
             ],
             [
              0.6666666666666666,
              "#ed7953"
             ],
             [
              0.7777777777777778,
              "#fb9f3a"
             ],
             [
              0.8888888888888888,
              "#fdca26"
             ],
             [
              1,
              "#f0f921"
             ]
            ],
            "type": "contour"
           }
          ],
          "contourcarpet": [
           {
            "colorbar": {
             "outlinewidth": 0,
             "ticks": ""
            },
            "type": "contourcarpet"
           }
          ],
          "heatmap": [
           {
            "colorbar": {
             "outlinewidth": 0,
             "ticks": ""
            },
            "colorscale": [
             [
              0,
              "#0d0887"
             ],
             [
              0.1111111111111111,
              "#46039f"
             ],
             [
              0.2222222222222222,
              "#7201a8"
             ],
             [
              0.3333333333333333,
              "#9c179e"
             ],
             [
              0.4444444444444444,
              "#bd3786"
             ],
             [
              0.5555555555555556,
              "#d8576b"
             ],
             [
              0.6666666666666666,
              "#ed7953"
             ],
             [
              0.7777777777777778,
              "#fb9f3a"
             ],
             [
              0.8888888888888888,
              "#fdca26"
             ],
             [
              1,
              "#f0f921"
             ]
            ],
            "type": "heatmap"
           }
          ],
          "heatmapgl": [
           {
            "colorbar": {
             "outlinewidth": 0,
             "ticks": ""
            },
            "colorscale": [
             [
              0,
              "#0d0887"
             ],
             [
              0.1111111111111111,
              "#46039f"
             ],
             [
              0.2222222222222222,
              "#7201a8"
             ],
             [
              0.3333333333333333,
              "#9c179e"
             ],
             [
              0.4444444444444444,
              "#bd3786"
             ],
             [
              0.5555555555555556,
              "#d8576b"
             ],
             [
              0.6666666666666666,
              "#ed7953"
             ],
             [
              0.7777777777777778,
              "#fb9f3a"
             ],
             [
              0.8888888888888888,
              "#fdca26"
             ],
             [
              1,
              "#f0f921"
             ]
            ],
            "type": "heatmapgl"
           }
          ],
          "histogram": [
           {
            "marker": {
             "pattern": {
              "fillmode": "overlay",
              "size": 10,
              "solidity": 0.2
             }
            },
            "type": "histogram"
           }
          ],
          "histogram2d": [
           {
            "colorbar": {
             "outlinewidth": 0,
             "ticks": ""
            },
            "colorscale": [
             [
              0,
              "#0d0887"
             ],
             [
              0.1111111111111111,
              "#46039f"
             ],
             [
              0.2222222222222222,
              "#7201a8"
             ],
             [
              0.3333333333333333,
              "#9c179e"
             ],
             [
              0.4444444444444444,
              "#bd3786"
             ],
             [
              0.5555555555555556,
              "#d8576b"
             ],
             [
              0.6666666666666666,
              "#ed7953"
             ],
             [
              0.7777777777777778,
              "#fb9f3a"
             ],
             [
              0.8888888888888888,
              "#fdca26"
             ],
             [
              1,
              "#f0f921"
             ]
            ],
            "type": "histogram2d"
           }
          ],
          "histogram2dcontour": [
           {
            "colorbar": {
             "outlinewidth": 0,
             "ticks": ""
            },
            "colorscale": [
             [
              0,
              "#0d0887"
             ],
             [
              0.1111111111111111,
              "#46039f"
             ],
             [
              0.2222222222222222,
              "#7201a8"
             ],
             [
              0.3333333333333333,
              "#9c179e"
             ],
             [
              0.4444444444444444,
              "#bd3786"
             ],
             [
              0.5555555555555556,
              "#d8576b"
             ],
             [
              0.6666666666666666,
              "#ed7953"
             ],
             [
              0.7777777777777778,
              "#fb9f3a"
             ],
             [
              0.8888888888888888,
              "#fdca26"
             ],
             [
              1,
              "#f0f921"
             ]
            ],
            "type": "histogram2dcontour"
           }
          ],
          "mesh3d": [
           {
            "colorbar": {
             "outlinewidth": 0,
             "ticks": ""
            },
            "type": "mesh3d"
           }
          ],
          "parcoords": [
           {
            "line": {
             "colorbar": {
              "outlinewidth": 0,
              "ticks": ""
             }
            },
            "type": "parcoords"
           }
          ],
          "pie": [
           {
            "automargin": true,
            "type": "pie"
           }
          ],
          "scatter": [
           {
            "fillpattern": {
             "fillmode": "overlay",
             "size": 10,
             "solidity": 0.2
            },
            "type": "scatter"
           }
          ],
          "scatter3d": [
           {
            "line": {
             "colorbar": {
              "outlinewidth": 0,
              "ticks": ""
             }
            },
            "marker": {
             "colorbar": {
              "outlinewidth": 0,
              "ticks": ""
             }
            },
            "type": "scatter3d"
           }
          ],
          "scattercarpet": [
           {
            "marker": {
             "colorbar": {
              "outlinewidth": 0,
              "ticks": ""
             }
            },
            "type": "scattercarpet"
           }
          ],
          "scattergeo": [
           {
            "marker": {
             "colorbar": {
              "outlinewidth": 0,
              "ticks": ""
             }
            },
            "type": "scattergeo"
           }
          ],
          "scattergl": [
           {
            "marker": {
             "colorbar": {
              "outlinewidth": 0,
              "ticks": ""
             }
            },
            "type": "scattergl"
           }
          ],
          "scattermapbox": [
           {
            "marker": {
             "colorbar": {
              "outlinewidth": 0,
              "ticks": ""
             }
            },
            "type": "scattermapbox"
           }
          ],
          "scatterpolar": [
           {
            "marker": {
             "colorbar": {
              "outlinewidth": 0,
              "ticks": ""
             }
            },
            "type": "scatterpolar"
           }
          ],
          "scatterpolargl": [
           {
            "marker": {
             "colorbar": {
              "outlinewidth": 0,
              "ticks": ""
             }
            },
            "type": "scatterpolargl"
           }
          ],
          "scatterternary": [
           {
            "marker": {
             "colorbar": {
              "outlinewidth": 0,
              "ticks": ""
             }
            },
            "type": "scatterternary"
           }
          ],
          "surface": [
           {
            "colorbar": {
             "outlinewidth": 0,
             "ticks": ""
            },
            "colorscale": [
             [
              0,
              "#0d0887"
             ],
             [
              0.1111111111111111,
              "#46039f"
             ],
             [
              0.2222222222222222,
              "#7201a8"
             ],
             [
              0.3333333333333333,
              "#9c179e"
             ],
             [
              0.4444444444444444,
              "#bd3786"
             ],
             [
              0.5555555555555556,
              "#d8576b"
             ],
             [
              0.6666666666666666,
              "#ed7953"
             ],
             [
              0.7777777777777778,
              "#fb9f3a"
             ],
             [
              0.8888888888888888,
              "#fdca26"
             ],
             [
              1,
              "#f0f921"
             ]
            ],
            "type": "surface"
           }
          ],
          "table": [
           {
            "cells": {
             "fill": {
              "color": "#EBF0F8"
             },
             "line": {
              "color": "white"
             }
            },
            "header": {
             "fill": {
              "color": "#C8D4E3"
             },
             "line": {
              "color": "white"
             }
            },
            "type": "table"
           }
          ]
         },
         "layout": {
          "annotationdefaults": {
           "arrowcolor": "#2a3f5f",
           "arrowhead": 0,
           "arrowwidth": 1
          },
          "autotypenumbers": "strict",
          "coloraxis": {
           "colorbar": {
            "outlinewidth": 0,
            "ticks": ""
           }
          },
          "colorscale": {
           "diverging": [
            [
             0,
             "#8e0152"
            ],
            [
             0.1,
             "#c51b7d"
            ],
            [
             0.2,
             "#de77ae"
            ],
            [
             0.3,
             "#f1b6da"
            ],
            [
             0.4,
             "#fde0ef"
            ],
            [
             0.5,
             "#f7f7f7"
            ],
            [
             0.6,
             "#e6f5d0"
            ],
            [
             0.7,
             "#b8e186"
            ],
            [
             0.8,
             "#7fbc41"
            ],
            [
             0.9,
             "#4d9221"
            ],
            [
             1,
             "#276419"
            ]
           ],
           "sequential": [
            [
             0,
             "#0d0887"
            ],
            [
             0.1111111111111111,
             "#46039f"
            ],
            [
             0.2222222222222222,
             "#7201a8"
            ],
            [
             0.3333333333333333,
             "#9c179e"
            ],
            [
             0.4444444444444444,
             "#bd3786"
            ],
            [
             0.5555555555555556,
             "#d8576b"
            ],
            [
             0.6666666666666666,
             "#ed7953"
            ],
            [
             0.7777777777777778,
             "#fb9f3a"
            ],
            [
             0.8888888888888888,
             "#fdca26"
            ],
            [
             1,
             "#f0f921"
            ]
           ],
           "sequentialminus": [
            [
             0,
             "#0d0887"
            ],
            [
             0.1111111111111111,
             "#46039f"
            ],
            [
             0.2222222222222222,
             "#7201a8"
            ],
            [
             0.3333333333333333,
             "#9c179e"
            ],
            [
             0.4444444444444444,
             "#bd3786"
            ],
            [
             0.5555555555555556,
             "#d8576b"
            ],
            [
             0.6666666666666666,
             "#ed7953"
            ],
            [
             0.7777777777777778,
             "#fb9f3a"
            ],
            [
             0.8888888888888888,
             "#fdca26"
            ],
            [
             1,
             "#f0f921"
            ]
           ]
          },
          "colorway": [
           "#636efa",
           "#EF553B",
           "#00cc96",
           "#ab63fa",
           "#FFA15A",
           "#19d3f3",
           "#FF6692",
           "#B6E880",
           "#FF97FF",
           "#FECB52"
          ],
          "font": {
           "color": "#2a3f5f"
          },
          "geo": {
           "bgcolor": "white",
           "lakecolor": "white",
           "landcolor": "#E5ECF6",
           "showlakes": true,
           "showland": true,
           "subunitcolor": "white"
          },
          "hoverlabel": {
           "align": "left"
          },
          "hovermode": "closest",
          "mapbox": {
           "style": "light"
          },
          "paper_bgcolor": "white",
          "plot_bgcolor": "#E5ECF6",
          "polar": {
           "angularaxis": {
            "gridcolor": "white",
            "linecolor": "white",
            "ticks": ""
           },
           "bgcolor": "#E5ECF6",
           "radialaxis": {
            "gridcolor": "white",
            "linecolor": "white",
            "ticks": ""
           }
          },
          "scene": {
           "xaxis": {
            "backgroundcolor": "#E5ECF6",
            "gridcolor": "white",
            "gridwidth": 2,
            "linecolor": "white",
            "showbackground": true,
            "ticks": "",
            "zerolinecolor": "white"
           },
           "yaxis": {
            "backgroundcolor": "#E5ECF6",
            "gridcolor": "white",
            "gridwidth": 2,
            "linecolor": "white",
            "showbackground": true,
            "ticks": "",
            "zerolinecolor": "white"
           },
           "zaxis": {
            "backgroundcolor": "#E5ECF6",
            "gridcolor": "white",
            "gridwidth": 2,
            "linecolor": "white",
            "showbackground": true,
            "ticks": "",
            "zerolinecolor": "white"
           }
          },
          "shapedefaults": {
           "line": {
            "color": "#2a3f5f"
           }
          },
          "ternary": {
           "aaxis": {
            "gridcolor": "white",
            "linecolor": "white",
            "ticks": ""
           },
           "baxis": {
            "gridcolor": "white",
            "linecolor": "white",
            "ticks": ""
           },
           "bgcolor": "#E5ECF6",
           "caxis": {
            "gridcolor": "white",
            "linecolor": "white",
            "ticks": ""
           }
          },
          "title": {
           "x": 0.05
          },
          "xaxis": {
           "automargin": true,
           "gridcolor": "white",
           "linecolor": "white",
           "ticks": "",
           "title": {
            "standoff": 15
           },
           "zerolinecolor": "white",
           "zerolinewidth": 2
          },
          "yaxis": {
           "automargin": true,
           "gridcolor": "white",
           "linecolor": "white",
           "ticks": "",
           "title": {
            "standoff": 15
           },
           "zerolinecolor": "white",
           "zerolinewidth": 2
          }
         }
        },
        "xaxis": {
         "anchor": "y",
         "autorange": true,
         "domain": [
          0,
          1
         ],
         "range": [
          8.282483552631579,
          94.71751644736842
         ],
         "title": {
          "text": "AGE_AT_DIAGNOSIS"
         },
         "type": "linear"
        },
        "yaxis": {
         "anchor": "x",
         "autorange": true,
         "domain": [
          0,
          1
         ],
         "range": [
          -15.38280839895013,
          218.08280839895014
         ],
         "title": {
          "text": "OS_MONTHS"
         },
         "type": "linear"
        }
       }
      },
      "image/png": "[encoded data removed]",
      "text/html": [
       "<div>                            <div id=\"c563d221-325c-43c4-a160-fc98ff475679\" class=\"plotly-graph-div\" style=\"height:525px; width:100%;\"></div>            <script type=\"text/javascript\">                require([\"plotly\"], function(Plotly) {                    window.PLOTLYENV=window.PLOTLYENV || {};                                    if (document.getElementById(\"c563d221-325c-43c4-a160-fc98ff475679\")) {                    Plotly.newPlot(                        \"c563d221-325c-43c4-a160-fc98ff475679\",                        [{\"customdata\":[[\"P-0000493\",\"P-0000493-T01-IM3\"],[\"P-0000552\",\"P-0000552-T01-IM3\"],[\"P-0000678\",\"P-0000678-T01-IM3\"],[\"P-0000682\",\"P-0000682-T01-IM3\"],[\"P-0000695\",\"P-0000695-T01-IM3\"],[\"P-0000703\",\"P-0000703-T01-IM3\"],[\"P-0000739\",\"P-0000739-T01-IM3\"],[\"P-0000739\",\"P-0000739-T02-IM5\"],[\"P-0000869\",\"P-0000869-T01-IM3\"],[\"P-0001079\",\"P-0001079-T01-IM3\"],[\"P-0001190\",\"P-0001190-T01-IM3\"],[\"P-0001192\",\"P-0001192-T01-IM3\"],[\"P-0001227\",\"P-0001227-T01-IM3\"],[\"P-0001428\",\"P-0001428-T01-IM3\"],[\"P-0001658\",\"P-0001658-T01-IM3\"],[\"P-0001729\",\"P-0001729-T01-IM3\"],[\"P-0001742\",\"P-0001742-T01-IM3\"],[\"P-0001746\",\"P-0001746-T01-IM3\"],[\"P-0001778\",\"P-0001778-T01-IM3\"],[\"P-0001867\",\"P-0001867-T01-IM3\"],[\"P-0002032\",\"P-0002032-T01-IM3\"],[\"P-0002080\",\"P-0002080-T01-IM3\"],[\"P-0002155\",\"P-0002155-T01-IM3\"],[\"P-0002251\",\"P-0002251-T01-IM3\"],[\"P-0002323\",\"P-0002323-T01-IM3\"],[\"P-0002395\",\"P-0002395-T01-IM3\"],[\"P-0002438\",\"P-0002438-T01-IM3\"],[\"P-0002529\",\"P-0002529-T01-IM3\"],[\"P-0002540\",\"P-0002540-T01-IM3\"],[\"P-0002547\",\"P-0002547-T01-IM3\"],[\"P-0002563\",\"P-0002563-T01-IM3\"],[\"P-0002665\",\"P-0002665-T01-IM3\"],[\"P-0002670\",\"P-0002670-T01-IM3\"],[\"P-0002795\",\"P-0002795-T01-IM3\"],[\"P-0002902\",\"P-0002902-T01-IM3\"],[\"P-0002960\",\"P-0002960-T01-IM3\"],[\"P-0003124\",\"P-0003124-T01-IM5\"],[\"P-0003136\",\"P-0003136-T01-IM5\"],[\"P-0003514\",\"P-0003514-T01-IM5\"],[\"P-0003720\",\"P-0003720-T01-IM5\"],[\"P-0003725\",\"P-0003725-T01-IM5\"],[\"P-0003753\",\"P-0003753-T01-IM5\"],[\"P-0003791\",\"P-0003791-T01-IM5\"],[\"P-0003890\",\"P-0003890-T01-IM5\"],[\"P-0004072\",\"P-0004072-T01-IM5\"],[\"P-0004081\",\"P-0004081-T01-IM5\"],[\"P-0004220\",\"P-0004220-T01-IM5\"],[\"P-0004502\",\"P-0004502-T01-IM5\"],[\"P-0004624\",\"P-0004624-T01-IM5\"],[\"P-0004652\",\"P-0004652-T01-IM5\"],[\"P-0004666\",\"P-0004666-T01-IM5\"],[\"P-0004803\",\"P-0004803-T01-IM5\"],[\"P-0004834\",\"P-0004834-T01-IM5\"],[\"P-0004844\",\"P-0004844-T01-IM5\"],[\"P-0004904\",\"P-0004904-T01-IM5\"],[\"P-0004977\",\"P-0004977-T01-IM5\"],[\"P-0005011\",\"P-0005011-T01-IM5\"],[\"P-0005091\",\"P-0005091-T01-IM5\"],[\"P-0005132\",\"P-0005132-T01-IM5\"],[\"P-0005240\",\"P-0005240-T01-IM5\"],[\"P-0005247\",\"P-0005247-T01-IM5\"],[\"P-0005311\",\"P-0005311-T01-IM5\"],[\"P-0005311\",\"P-0005311-T02-IM5\"],[\"P-0005430\",\"P-0005430-T01-IM5\"],[\"P-0005755\",\"P-0005755-T01-IM5\"],[\"P-0005762\",\"P-0005762-T01-IM5\"],[\"P-0005829\",\"P-0005829-T01-IM5\"],[\"P-0006184\",\"P-0006184-T01-IM5\"],[\"P-0006225\",\"P-0006225-T01-IM5\"],[\"P-0006306\",\"P-0006306-T01-IM5\"],[\"P-0006317\",\"P-0006317-T01-IM5\"],[\"P-0006468\",\"P-0006468-T01-IM5\"],[\"P-0006468\",\"P-0006468-T02-IM5\"],[\"P-0006581\",\"P-0006581-T01-IM5\"],[\"P-0006589\",\"P-0006589-T01-IM5\"],[\"P-0006657\",\"P-0006657-T01-IM5\"],[\"P-0006658\",\"P-0006658-T01-IM5\"],[\"P-0006659\",\"P-0006659-T01-IM5\"],[\"P-0006681\",\"P-0006681-T01-IM5\"],[\"P-0006683\",\"P-0006683-T01-IM5\"],[\"P-0006685\",\"P-0006685-T01-IM5\"],[\"P-0006706\",\"P-0006706-T01-IM5\"],[\"P-0006707\",\"P-0006707-T01-IM5\"],[\"P-0006759\",\"P-0006759-T01-IM5\"],[\"P-0006763\",\"P-0006763-T01-IM5\"],[\"P-0006819\",\"P-0006819-T01-IM5\"],[\"P-0006819\",\"P-0006819-T02-IM5\"],[\"P-0006821\",\"P-0006821-T01-IM5\"],[\"P-0006822\",\"P-0006822-T01-IM5\"],[\"P-0006936\",\"P-0006936-T01-IM5\"],[\"P-0007012\",\"P-0007012-T01-IM5\"],[\"P-0007070\",\"P-0007070-T01-IM5\"],[\"P-0007081\",\"P-0007081-T02-IM5\"],[\"P-0007132\",\"P-0007132-T01-IM5\"],[\"P-0007169\",\"P-0007169-T01-IM5\"],[\"P-0007181\",\"P-0007181-T01-IM5\"],[\"P-0007185\",\"P-0007185-T01-IM5\"],[\"P-0007185\",\"P-0007185-T02-IM5\"],[\"P-0007357\",\"P-0007357-T01-IM5\"],[\"P-0007368\",\"P-0007368-T01-IM5\"],[\"P-0007380\",\"P-0007380-T01-IM5\"],[\"P-0007405\",\"P-0007405-T01-IM5\"],[\"P-0007483\",\"P-0007483-T01-IM5\"],[\"P-0007555\",\"P-0007555-T01-IM5\"],[\"P-0007560\",\"P-0007560-T01-IM5\"],[\"P-0007567\",\"P-0007567-T01-IM5\"],[\"P-0007590\",\"P-0007590-T01-IM5\"],[\"P-0007602\",\"P-0007602-T01-IM5\"],[\"P-0007774\",\"P-0007774-T01-IM5\"],[\"P-0007781\",\"P-0007781-T01-IM5\"],[\"P-0007793\",\"P-0007793-T01-IM5\"],[\"P-0007809\",\"P-0007809-T01-IM5\"],[\"P-0007860\",\"P-0007860-T01-IM5\"],[\"P-0007868\",\"P-0007868-T01-IM5\"],[\"P-0007889\",\"P-0007889-T01-IM5\"],[\"P-0007893\",\"P-0007893-T01-IM5\"],[\"P-0007909\",\"P-0007909-T01-IM5\"],[\"P-0007929\",\"P-0007929-T01-IM5\"],[\"P-0007990\",\"P-0007990-T01-IM5\"],[\"P-0008059\",\"P-0008059-T01-IM5\"],[\"P-0008083\",\"P-0008083-T01-IM5\"],[\"P-0008133\",\"P-0008133-T01-IM5\"],[\"P-0008167\",\"P-0008167-T01-IM5\"],[\"P-0008308\",\"P-0008308-T01-IM5\"],[\"P-0008357\",\"P-0008357-T01-IM5\"],[\"P-0008396\",\"P-0008396-T01-IM5\"],[\"P-0008584\",\"P-0008584-T01-IM5\"],[\"P-0008671\",\"P-0008671-T01-IM5\"],[\"P-0008724\",\"P-0008724-T01-IM5\"],[\"P-0008875\",\"P-0008875-T01-IM5\"],[\"P-0009000\",\"P-0009000-T01-IM5\"],[\"P-0009012\",\"P-0009012-T01-IM5\"],[\"P-0009013\",\"P-0009013-T02-IM5\"],[\"P-0009149\",\"P-0009149-T01-IM5\"],[\"P-0009377\",\"P-0009377-T01-IM5\"],[\"P-0009418\",\"P-0009418-T01-IM5\"],[\"P-0009645\",\"P-0009645-T01-IM5\"],[\"P-0009741\",\"P-0009741-T01-IM5\"],[\"P-0009903\",\"P-0009903-T01-IM5\"],[\"P-0009971\",\"P-0009971-T01-IM5\"],[\"P-0009993\",\"P-0009993-T01-IM3\"],[\"P-0009993\",\"P-0009993-T01-IM5\"],[\"P-0010014\",\"P-0010014-T01-IM5\"],[\"P-0010098\",\"P-0010098-T01-IM5\"],[\"P-0010098\",\"P-0010098-T02-IM5\"],[\"P-0010159\",\"P-0010159-T01-IM5\"],[\"P-0010180\",\"P-0010180-T01-IM5\"],[\"P-0010219\",\"P-0010219-T01-IM5\"],[\"P-0010330\",\"P-0010330-T01-IM5\"],[\"P-0010342\",\"P-0010342-T01-IM5\"],[\"P-0010343\",\"P-0010343-T01-IM5\"],[\"P-0010360\",\"P-0010360-T01-IM5\"],[\"P-0010393\",\"P-0010393-T01-IM5\"],[\"P-0010407\",\"P-0010407-T01-IM5\"],[\"P-0010422\",\"P-0010422-T01-IM5\"],[\"P-0010509\",\"P-0010509-T01-IM5\"],[\"P-0010959\",\"P-0010959-T01-IM5\"],[\"P-0011074\",\"P-0011074-T01-IM5\"],[\"P-0011184\",\"P-0011184-T01-IM5\"],[\"P-0011255\",\"P-0011255-T01-IM5\"],[\"P-0011282\",\"P-0011282-T01-IM5\"],[\"P-0011384\",\"P-0011384-T01-IM5\"],[\"P-0011511\",\"P-0011511-T01-IM5\"],[\"P-0012100\",\"P-0012100-T01-IM5\"],[\"P-0012277\",\"P-0012277-T01-IM5\"],[\"P-0012554\",\"P-0012554-T01-IM5\"],[\"P-0012566\",\"P-0012566-T01-IM5\"],[\"P-0012680\",\"P-0012680-T01-IM5\"],[\"P-0012965\",\"P-0012965-T01-IM5\"],[\"P-0012974\",\"P-0012974-T01-IM5\"],[\"P-0013020\",\"P-0013020-T01-IM5\"],[\"P-0013159\",\"P-0013159-T01-IM5\"],[\"P-0013404\",\"P-0013404-T01-IM5\"],[\"P-0013488\",\"P-0013488-T01-IM5\"],[\"P-0013495\",\"P-0013495-T01-IM5\"],[\"P-0013760\",\"P-0013760-T01-IM5\"],[\"P-0013785\",\"P-0013785-T01-IM5\"],[\"P-0013929\",\"P-0013929-T01-IM5\"],[\"P-0013947\",\"P-0013947-T01-IM5\"],[\"P-0013975\",\"P-0013975-T01-IM5\"],[\"P-0013982\",\"P-0013982-T01-IM5\"],[\"P-0014258\",\"P-0014258-T01-IM6\"]],\"hovertemplate\":\"color=('Male', 'Unknown')<br>AGE_AT_DIAGNOSIS=%{x}<br>OS_MONTHS=%{y}<br>PATIENT_ID=%{customdata[0]}<br>SAMPLE_ID=%{customdata[1]}<extra></extra>\",\"legendgroup\":\"('Male', 'Unknown')\",\"marker\":{\"color\":\"#636efa\",\"symbol\":\"circle\"},\"mode\":\"markers\",\"name\":\"('Male', 'Unknown')\",\"orientation\":\"v\",\"showlegend\":true,\"x\":[24,63,82,50,54,80,76,76,50,72,52,47,66,67,90,52,61,67,50,66,62,59,57,48,50,67,24,67,65,49,68,59,57,57,84,44,54,56,74,73,69,71,57,66,56,50,60,72,50,67,51,56,59,62,65,72,47,67,52,62,57,59,59,67,61,38,13,57,60,51,55,62,62,78,22,48,64,49,56,56,57,48,54,51,57,59,59,68,46,51,58,70,44,66,75,46,50,50,50,44,57,53,75,60,61,51,58,65,73,60,64,70,55,54,48,63,61,59,33,58,64,55,61,56,50,71,63,51,87,75,62,72,42,64,65,71,70,63,68,44,69,69,50,52,52,76,57,65,74,55,48,67,44,47,83,58,79,80,31,38,72,71,66,74,82,82,51,81,77,70,68,74,55,64,60,62,56,45,54,53,40,69],\"xaxis\":\"x\",\"y\":[23.87,16.0,36.53,48.3,28.8,31.67,73.53,73.53,62.07,36.53,58.33,82.2,29.87,133.93,14.5,24.57,63.93,108.8,39.97,43.5,53.63,35.9,9.37,43.73,20.5,16.33,30.73,53.07,18.43,null,23.4,4.7,66.67,17.27,30.57,28.53,7.73,35.5,5.73,13.5,29.07,6.17,22.9,14.63,25.93,28.5,34.13,3.47,17.07,3.43,75.8,31.43,99.83,23.83,40.2,75.03,10.03,33.9,67.33,126.0,27.07,13.5,13.5,26.67,20.9,57.1,3.67,null,24.37,26.77,12.5,32.5,32.5,32.43,28.2,34.2,95.53,58.33,128.07,28.5,36.4,127.57,45.73,108.27,202.43,98.9,98.9,62.43,92.83,108.87,28.3,29.4,51.9,112.97,null,162.13,74.13,74.13,83.23,70.03,75.4,62.7,86.07,21.77,36.43,62.0,69.1,19.67,null,175.47,50.73,22.33,59.87,115.93,136.9,127.93,158.6,49.73,9.57,48.33,65.17,11.93,147.4,53.77,59.3,146.63,117.43,95.2,33.33,21.47,22.07,15.33,23.47,11.33,99.6,52.93,32.83,106.07,181.6,26.53,79.13,79.13,124.33,30.73,30.73,null,95.17,23.83,19.1,15.37,22.6,2.53,130.0,41.87,19.9,59.03,null,11.33,21.03,112.6,17.73,16.8,0.27,15.03,28.3,13.2,51.9,16.73,null,16.87,13.2,null,22.7,15.13,14.43,16.1,6.03,13.3,13.37,47.43,14.03,9.97],\"yaxis\":\"y\",\"type\":\"scatter\"}],                        {\"template\":{\"data\":{\"histogram2dcontour\":[{\"type\":\"histogram2dcontour\",\"colorbar\":{\"outlinewidth\":0,\"ticks\":\"\"},\"colorscale\":[[0.0,\"#0d0887\"],[0.1111111111111111,\"#46039f\"],[0.2222222222222222,\"#7201a8\"],[0.3333333333333333,\"#9c179e\"],[0.4444444444444444,\"#bd3786\"],[0.5555555555555556,\"#d8576b\"],[0.6666666666666666,\"#ed7953\"],[0.7777777777777778,\"#fb9f3a\"],[0.8888888888888888,\"#fdca26\"],[1.0,\"#f0f921\"]]}],\"choropleth\":[{\"type\":\"choropleth\",\"colorbar\":{\"outlinewidth\":0,\"ticks\":\"\"}}],\"histogram2d\":[{\"type\":\"histogram2d\",\"colorbar\":{\"outlinewidth\":0,\"ticks\":\"\"},\"colorscale\":[[0.0,\"#0d0887\"],[0.1111111111111111,\"#46039f\"],[0.2222222222222222,\"#7201a8\"],[0.3333333333333333,\"#9c179e\"],[0.4444444444444444,\"#bd3786\"],[0.5555555555555556,\"#d8576b\"],[0.6666666666666666,\"#ed7953\"],[0.7777777777777778,\"#fb9f3a\"],[0.8888888888888888,\"#fdca26\"],[1.0,\"#f0f921\"]]}],\"heatmap\":[{\"type\":\"heatmap\",\"colorbar\":{\"outlinewidth\":0,\"ticks\":\"\"},\"colorscale\":[[0.0,\"#0d0887\"],[0.1111111111111111,\"#46039f\"],[0.2222222222222222,\"#7201a8\"],[0.3333333333333333,\"#9c179e\"],[0.4444444444444444,\"#bd3786\"],[0.5555555555555556,\"#d8576b\"],[0.6666666666666666,\"#ed7953\"],[0.7777777777777778,\"#fb9f3a\"],[0.8888888888888888,\"#fdca26\"],[1.0,\"#f0f921\"]]}],\"heatmapgl\":[{\"type\":\"heatmapgl\",\"colorbar\":{\"outlinewidth\":0,\"ticks\":\"\"},\"colorscale\":[[0.0,\"#0d0887\"],[0.1111111111111111,\"#46039f\"],[0.2222222222222222,\"#7201a8\"],[0.3333333333333333,\"#9c179e\"],[0.4444444444444444,\"#bd3786\"],[0.5555555555555556,\"#d8576b\"],[0.6666666666666666,\"#ed7953\"],[0.7777777777777778,\"#fb9f3a\"],[0.8888888888888888,\"#fdca26\"],[1.0,\"#f0f921\"]]}],\"contourcarpet\":[{\"type\":\"contourcarpet\",\"colorbar\":{\"outlinewidth\":0,\"ticks\":\"\"}}],\"contour\":[{\"type\":\"contour\",\"colorbar\":{\"outlinewidth\":0,\"ticks\":\"\"},\"colorscale\":[[0.0,\"#0d0887\"],[0.1111111111111111,\"#46039f\"],[0.2222222222222222,\"#7201a8\"],[0.3333333333333333,\"#9c179e\"],[0.4444444444444444,\"#bd3786\"],[0.5555555555555556,\"#d8576b\"],[0.6666666666666666,\"#ed7953\"],[0.7777777777777778,\"#fb9f3a\"],[0.8888888888888888,\"#fdca26\"],[1.0,\"#f0f921\"]]}],\"surface\":[{\"type\":\"surface\",\"colorbar\":{\"outlinewidth\":0,\"ticks\":\"\"},\"colorscale\":[[0.0,\"#0d0887\"],[0.1111111111111111,\"#46039f\"],[0.2222222222222222,\"#7201a8\"],[0.3333333333333333,\"#9c179e\"],[0.4444444444444444,\"#bd3786\"],[0.5555555555555556,\"#d8576b\"],[0.6666666666666666,\"#ed7953\"],[0.7777777777777778,\"#fb9f3a\"],[0.8888888888888888,\"#fdca26\"],[1.0,\"#f0f921\"]]}],\"mesh3d\":[{\"type\":\"mesh3d\",\"colorbar\":{\"outlinewidth\":0,\"ticks\":\"\"}}],\"scatter\":[{\"fillpattern\":{\"fillmode\":\"overlay\",\"size\":10,\"solidity\":0.2},\"type\":\"scatter\"}],\"parcoords\":[{\"type\":\"parcoords\",\"line\":{\"colorbar\":{\"outlinewidth\":0,\"ticks\":\"\"}}}],\"scatterpolargl\":[{\"type\":\"scatterpolargl\",\"marker\":{\"colorbar\":{\"outlinewidth\":0,\"ticks\":\"\"}}}],\"bar\":[{\"error_x\":{\"color\":\"#2a3f5f\"},\"error_y\":{\"color\":\"#2a3f5f\"},\"marker\":{\"line\":{\"color\":\"#E5ECF6\",\"width\":0.5},\"pattern\":{\"fillmode\":\"overlay\",\"size\":10,\"solidity\":0.2}},\"type\":\"bar\"}],\"scattergeo\":[{\"type\":\"scattergeo\",\"marker\":{\"colorbar\":{\"outlinewidth\":0,\"ticks\":\"\"}}}],\"scatterpolar\":[{\"type\":\"scatterpolar\",\"marker\":{\"colorbar\":{\"outlinewidth\":0,\"ticks\":\"\"}}}],\"histogram\":[{\"marker\":{\"pattern\":{\"fillmode\":\"overlay\",\"size\":10,\"solidity\":0.2}},\"type\":\"histogram\"}],\"scattergl\":[{\"type\":\"scattergl\",\"marker\":{\"colorbar\":{\"outlinewidth\":0,\"ticks\":\"\"}}}],\"scatter3d\":[{\"type\":\"scatter3d\",\"line\":{\"colorbar\":{\"outlinewidth\":0,\"ticks\":\"\"}},\"marker\":{\"colorbar\":{\"outlinewidth\":0,\"ticks\":\"\"}}}],\"scattermapbox\":[{\"type\":\"scattermapbox\",\"marker\":{\"colorbar\":{\"outlinewidth\":0,\"ticks\":\"\"}}}],\"scatterternary\":[{\"type\":\"scatterternary\",\"marker\":{\"colorbar\":{\"outlinewidth\":0,\"ticks\":\"\"}}}],\"scattercarpet\":[{\"type\":\"scattercarpet\",\"marker\":{\"colorbar\":{\"outlinewidth\":0,\"ticks\":\"\"}}}],\"carpet\":[{\"aaxis\":{\"endlinecolor\":\"#2a3f5f\",\"gridcolor\":\"white\",\"linecolor\":\"white\",\"minorgridcolor\":\"white\",\"startlinecolor\":\"#2a3f5f\"},\"baxis\":{\"endlinecolor\":\"#2a3f5f\",\"gridcolor\":\"white\",\"linecolor\":\"white\",\"minorgridcolor\":\"white\",\"startlinecolor\":\"#2a3f5f\"},\"type\":\"carpet\"}],\"table\":[{\"cells\":{\"fill\":{\"color\":\"#EBF0F8\"},\"line\":{\"color\":\"white\"}},\"header\":{\"fill\":{\"color\":\"#C8D4E3\"},\"line\":{\"color\":\"white\"}},\"type\":\"table\"}],\"barpolar\":[{\"marker\":{\"line\":{\"color\":\"#E5ECF6\",\"width\":0.5},\"pattern\":{\"fillmode\":\"overlay\",\"size\":10,\"solidity\":0.2}},\"type\":\"barpolar\"}],\"pie\":[{\"automargin\":true,\"type\":\"pie\"}]},\"layout\":{\"autotypenumbers\":\"strict\",\"colorway\":[\"#636efa\",\"#EF553B\",\"#00cc96\",\"#ab63fa\",\"#FFA15A\",\"#19d3f3\",\"#FF6692\",\"#B6E880\",\"#FF97FF\",\"#FECB52\"],\"font\":{\"color\":\"#2a3f5f\"},\"hovermode\":\"closest\",\"hoverlabel\":{\"align\":\"left\"},\"paper_bgcolor\":\"white\",\"plot_bgcolor\":\"#E5ECF6\",\"polar\":{\"bgcolor\":\"#E5ECF6\",\"angularaxis\":{\"gridcolor\":\"white\",\"linecolor\":\"white\",\"ticks\":\"\"},\"radialaxis\":{\"gridcolor\":\"white\",\"linecolor\":\"white\",\"ticks\":\"\"}},\"ternary\":{\"bgcolor\":\"#E5ECF6\",\"aaxis\":{\"gridcolor\":\"white\",\"linecolor\":\"white\",\"ticks\":\"\"},\"baxis\":{\"gridcolor\":\"white\",\"linecolor\":\"white\",\"ticks\":\"\"},\"caxis\":{\"gridcolor\":\"white\",\"linecolor\":\"white\",\"ticks\":\"\"}},\"coloraxis\":{\"colorbar\":{\"outlinewidth\":0,\"ticks\":\"\"}},\"colorscale\":{\"sequential\":[[0.0,\"#0d0887\"],[0.1111111111111111,\"#46039f\"],[0.2222222222222222,\"#7201a8\"],[0.3333333333333333,\"#9c179e\"],[0.4444444444444444,\"#bd3786\"],[0.5555555555555556,\"#d8576b\"],[0.6666666666666666,\"#ed7953\"],[0.7777777777777778,\"#fb9f3a\"],[0.8888888888888888,\"#fdca26\"],[1.0,\"#f0f921\"]],\"sequentialminus\":[[0.0,\"#0d0887\"],[0.1111111111111111,\"#46039f\"],[0.2222222222222222,\"#7201a8\"],[0.3333333333333333,\"#9c179e\"],[0.4444444444444444,\"#bd3786\"],[0.5555555555555556,\"#d8576b\"],[0.6666666666666666,\"#ed7953\"],[0.7777777777777778,\"#fb9f3a\"],[0.8888888888888888,\"#fdca26\"],[1.0,\"#f0f921\"]],\"diverging\":[[0,\"#8e0152\"],[0.1,\"#c51b7d\"],[0.2,\"#de77ae\"],[0.3,\"#f1b6da\"],[0.4,\"#fde0ef\"],[0.5,\"#f7f7f7\"],[0.6,\"#e6f5d0\"],[0.7,\"#b8e186\"],[0.8,\"#7fbc41\"],[0.9,\"#4d9221\"],[1,\"#276419\"]]},\"xaxis\":{\"gridcolor\":\"white\",\"linecolor\":\"white\",\"ticks\":\"\",\"title\":{\"standoff\":15},\"zerolinecolor\":\"white\",\"automargin\":true,\"zerolinewidth\":2},\"yaxis\":{\"gridcolor\":\"white\",\"linecolor\":\"white\",\"ticks\":\"\",\"title\":{\"standoff\":15},\"zerolinecolor\":\"white\",\"automargin\":true,\"zerolinewidth\":2},\"scene\":{\"xaxis\":{\"backgroundcolor\":\"#E5ECF6\",\"gridcolor\":\"white\",\"linecolor\":\"white\",\"showbackground\":true,\"ticks\":\"\",\"zerolinecolor\":\"white\",\"gridwidth\":2},\"yaxis\":{\"backgroundcolor\":\"#E5ECF6\",\"gridcolor\":\"white\",\"linecolor\":\"white\",\"showbackground\":true,\"ticks\":\"\",\"zerolinecolor\":\"white\",\"gridwidth\":2},\"zaxis\":{\"backgroundcolor\":\"#E5ECF6\",\"gridcolor\":\"white\",\"linecolor\":\"white\",\"showbackground\":true,\"ticks\":\"\",\"zerolinecolor\":\"white\",\"gridwidth\":2}},\"shapedefaults\":{\"line\":{\"color\":\"#2a3f5f\"}},\"annotationdefaults\":{\"arrowcolor\":\"#2a3f5f\",\"arrowhead\":0,\"arrowwidth\":1},\"geo\":{\"bgcolor\":\"white\",\"landcolor\":\"#E5ECF6\",\"subunitcolor\":\"white\",\"showland\":true,\"showlakes\":true,\"lakecolor\":\"white\"},\"title\":{\"x\":0.05},\"mapbox\":{\"style\":\"light\"}}},\"xaxis\":{\"anchor\":\"y\",\"domain\":[0.0,1.0],\"title\":{\"text\":\"AGE_AT_DIAGNOSIS\"}},\"yaxis\":{\"anchor\":\"x\",\"domain\":[0.0,1.0],\"title\":{\"text\":\"OS_MONTHS\"}},\"legend\":{\"title\":{\"text\":\"color\"},\"tracegroupgap\":0},\"margin\":{\"t\":60}},                        {\"responsive\": true}                    ).then(function(){\n",
       "                            \n",
       "var gd = document.getElementById('c563d221-325c-43c4-a160-fc98ff475679');\n",
       "var x = new MutationObserver(function (mutations, observer) {{\n",
       "        var display = window.getComputedStyle(gd).display;\n",
       "        if (!display || display === 'none') {{\n",
       "            console.log([gd, 'removed!']);\n",
       "            Plotly.purge(gd);\n",
       "            observer.disconnect();\n",
       "        }}\n",
       "}});\n",
       "\n",
       "// Listen for the removal of the full notebook cells\n",
       "var notebookContainer = gd.closest('#notebook-container');\n",
       "if (notebookContainer) {{\n",
       "    x.observe(notebookContainer, {childList: true});\n",
       "}}\n",
       "\n",
       "// Listen for the clearing of the current output cell\n",
       "var outputEl = gd.closest('.output');\n",
       "if (outputEl) {{\n",
       "    x.observe(outputEl, {childList: true});\n",
       "}}\n",
       "\n",
       "                        })                };                });            </script>        </div>"
      ]
     },
     "metadata": {},
     "output_type": "display_data"
    }
   ],
   "source": [
    "valuesToInsert = ['SEX', \"MSI_STATUS\"]\n",
    "group_and_visualize_plots(valuesToInsert)"
   ]
  },
  {
   "cell_type": "markdown",
   "id": "2195a128-5d0a-43b8-9c6b-4427d7920656",
   "metadata": {},
   "source": [
    "#### KMeans Clustering Visualization + Analysis"
   ]
  },
  {
   "cell_type": "code",
   "execution_count": 37,
   "id": "a080f52a-edcc-4d2f-a86a-824ceb398e83",
   "metadata": {},
   "outputs": [],
   "source": [
    "xPandas = resultUnchanged[['AGE_AT_DIAGNOSIS','OS_MONTHS']]\n",
    "xPandas = xPandas.dropna()\n",
    "X = xPandas.to_numpy()\n",
    "#display(X)\n",
    "#print(X.shape)"
   ]
  },
  {
   "cell_type": "code",
   "execution_count": 38,
   "id": "1e7a1d40-42e6-4c9b-a5a3-523678a132f8",
   "metadata": {},
   "outputs": [
    {
     "data": {
      "text/plain": [
       "<matplotlib.collections.PathCollection at 0x1a420311ee0>"
      ]
     },
     "execution_count": 38,
     "metadata": {},
     "output_type": "execute_result"
    },
    {
     "data": {
      "image/png": "[encoded data removed]",
      "text/plain": [
       "<Figure size 1440x1080 with 1 Axes>"
      ]
     },
     "metadata": {
      "needs_background": "light"
     },
     "output_type": "display_data"
    }
   ],
   "source": [
    "xValues = np.array(resultUnchanged['AGE_AT_DIAGNOSIS'])\n",
    "yValues = np.array(resultUnchanged['OS_MONTHS'])\n",
    "plt.figure(figsize=(20, 15))\n",
    "plt.scatter(xValues, yValues)"
   ]
  },
  {
   "cell_type": "code",
   "execution_count": null,
   "id": "16d099d0-f8d7-4707-8513-9e03651f2ebd",
   "metadata": {},
   "outputs": [],
   "source": []
  },
  {
   "cell_type": "code",
   "execution_count": 42,
   "id": "1a2668e7-ecda-41f2-aff3-c583df1e525d",
   "metadata": {},
   "outputs": [
    {
     "data": {
      "image/png": "[encoded data removed]",
      "text/plain": [
       "<Figure size 432x288 with 1 Axes>"
      ]
     },
     "metadata": {
      "needs_background": "light"
     },
     "output_type": "display_data"
    }
   ],
   "source": [
    "# Function returns a Pandas Dataframe that merges the information from the existing UnchangedData frame and adds the corresponding cluster from the graph \n",
    "four_clusters = display_and_visualize_cluster(4)"
   ]
  },
  {
   "cell_type": "code",
   "execution_count": 41,
   "id": "f8dd9d93-76b2-4f9d-b83a-befbc2762dd0",
   "metadata": {},
   "outputs": [
    {
     "data": {
      "image/png": "[encoded data removed]",
      "text/plain": [
       "<Figure size 432x288 with 1 Axes>"
      ]
     },
     "metadata": {
      "needs_background": "light"
     },
     "output_type": "display_data"
    }
   ],
   "source": [
    "five_clusters = display_and_visualize_cluster(5)"
   ]
  },
  {
   "cell_type": "code",
   "execution_count": null,
   "id": "161177ee-6456-4c4d-94be-c88797d4f956",
   "metadata": {},
   "outputs": [],
   "source": []
  }
 ],
 "metadata": {
  "kernelspec": {
   "display_name": "Python 3 (ipykernel)",
   "language": "python",
   "name": "python3"
  },
  "language_info": {
   "codemirror_mode": {
    "name": "ipython",
    "version": 3
   },
   "file_extension": ".py",
   "mimetype": "text/x-python",
   "name": "python",
   "nbconvert_exporter": "python",
   "pygments_lexer": "ipython3",
   "version": "3.9.7"
  }
 },
 "nbformat": 4,
 "nbformat_minor": 5
}
